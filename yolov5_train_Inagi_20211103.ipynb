{
  "nbformat": 4,
  "nbformat_minor": 0,
  "metadata": {
    "colab": {
      "name": "yolov5_train_Inagi_20211103.ipynb",
      "provenance": [],
      "collapsed_sections": [],
      "authorship_tag": "ABX9TyMHIYXdC/uCmVlpEqTmcvLO",
      "include_colab_link": true
    },
    "kernelspec": {
      "name": "python3",
      "display_name": "Python 3"
    },
    "language_info": {
      "name": "python"
    },
    "accelerator": "GPU"
  },
  "cells": [
    {
      "cell_type": "markdown",
      "metadata": {
        "id": "view-in-github",
        "colab_type": "text"
      },
      "source": [
        "<a href=\"https://colab.research.google.com/github/DiNOV-Tokyo/yolov5/blob/main/yolov5_train_Inagi_20211103.ipynb\" target=\"_parent\"><img src=\"https://colab.research.google.com/assets/colab-badge.svg\" alt=\"Open In Colab\"/></a>"
      ]
    },
    {
      "cell_type": "markdown",
      "metadata": {
        "id": "iwenB7-RhoCQ"
      },
      "source": [
        "# 1. 準備"
      ]
    },
    {
      "cell_type": "markdown",
      "metadata": {
        "id": "wKZWAeRLlM5b"
      },
      "source": [
        "参考にしたサイト https://www.koi.mashykom.com/pytorch_3.html\n"
      ]
    },
    {
      "cell_type": "code",
      "metadata": {
        "colab": {
          "base_uri": "https://localhost:8080/"
        },
        "id": "y7Y7OSEWgYze",
        "outputId": "ae7c3798-809f-46bc-acba-ee0e2695d3f8"
      },
      "source": [
        "from google.colab import drive\n",
        "drive.mount('/content/drive')"
      ],
      "execution_count": 1,
      "outputs": [
        {
          "output_type": "stream",
          "name": "stdout",
          "text": [
            "Mounted at /content/drive\n"
          ]
        }
      ]
    },
    {
      "cell_type": "code",
      "metadata": {
        "colab": {
          "base_uri": "https://localhost:8080/"
        },
        "id": "57-xQXjlghOq",
        "outputId": "d6cb284f-3048-4dd4-8c48-e59a900adf53"
      },
      "source": [
        "%cd /content/drive/My\\ Drive/Colab\\ Notebooks\n",
        "#%mkdir yolo_train\n",
        "%cd yolo_train"
      ],
      "execution_count": 2,
      "outputs": [
        {
          "output_type": "stream",
          "name": "stdout",
          "text": [
            "/content/drive/My Drive/Colab Notebooks\n",
            "/content/drive/My Drive/Colab Notebooks/yolo_train\n"
          ]
        }
      ]
    },
    {
      "cell_type": "code",
      "metadata": {
        "colab": {
          "base_uri": "https://localhost:8080/"
        },
        "id": "BqgmrReNgy6T",
        "outputId": "3b504d51-83c9-4214-8de8-2b599c41c563"
      },
      "source": [
        "%cd yolov5"
      ],
      "execution_count": 3,
      "outputs": [
        {
          "output_type": "stream",
          "name": "stdout",
          "text": [
            "/content/drive/My Drive/Colab Notebooks/yolo_train/yolov5\n"
          ]
        }
      ]
    },
    {
      "cell_type": "code",
      "metadata": {
        "colab": {
          "base_uri": "https://localhost:8080/"
        },
        "id": "mrGGFTovH3KL",
        "outputId": "bb88d81c-9ca7-411f-d9e8-8422740f843e"
      },
      "source": [
        "!pwd\n"
      ],
      "execution_count": null,
      "outputs": [
        {
          "output_type": "stream",
          "name": "stdout",
          "text": [
            "/content\n"
          ]
        }
      ]
    },
    {
      "cell_type": "code",
      "metadata": {
        "id": "KlOZlrmgg3aI"
      },
      "source": [
        "import torch\n",
        "from IPython.display import Image, clear_output  # to display images\n",
        "from utils.google_utils import gdrive_download  # to download models/datasets\n",
        " \n",
        "clear_output()\n",
        "print('Setup complete. Using torch %s %s' % (torch.__version__, torch.cuda.get_device_properties(0) if torch.cuda.is_available() else 'CPU'))"
      ],
      "execution_count": null,
      "outputs": []
    },
    {
      "cell_type": "code",
      "metadata": {
        "id": "ZQNbMf50hFPQ"
      },
      "source": [
        " # Start tensorboard\n",
        "%load_ext tensorboard\n",
        "%tensorboard --logdir \"runs\""
      ],
      "execution_count": null,
      "outputs": []
    },
    {
      "cell_type": "code",
      "metadata": {
        "colab": {
          "base_uri": "https://localhost:8080/"
        },
        "id": "9MwbkYuSePOJ",
        "outputId": "62326678-21fe-4a3c-d2c6-9f3701fdbcff"
      },
      "source": [
        "!pwd"
      ],
      "execution_count": null,
      "outputs": [
        {
          "output_type": "stream",
          "text": [
            "/content/drive/MyDrive/Colab Notebooks/yolo_train/yolov5\n"
          ],
          "name": "stdout"
        }
      ]
    },
    {
      "cell_type": "code",
      "metadata": {
        "id": "kxLXa2HDV7zW"
      },
      "source": [
        ""
      ],
      "execution_count": null,
      "outputs": []
    },
    {
      "cell_type": "markdown",
      "metadata": {
        "id": "69X_aKItDH46"
      },
      "source": [
        "# 2. Inagi datasetで学習してみる"
      ]
    },
    {
      "cell_type": "markdown",
      "metadata": {
        "id": "gNeBVh7PPdP-"
      },
      "source": [
        "・データ数が少ない（500）の時は、エポック数を多く300程度とする。\n",
        "この学習では、1時間ぐらいかかった。下記の、稲城のデータでは、20エポックでも動作できる学習ができた。\n",
        "\n",
        "---\n",
        "\n"
      ]
    },
    {
      "cell_type": "code",
      "metadata": {
        "colab": {
          "base_uri": "https://localhost:8080/"
        },
        "id": "A3uq3xZ0BnG8",
        "outputId": "06878ed2-9ef6-426b-8c2e-678a39511bf4"
      },
      "source": [
        "# Train YOLOv5s on Inagi Dataset for 20 epochs\n",
        "!python train.py --img 480 --batch 16 --epochs 20 --data ../inagi/data.yaml --cfg ./models/yolov5s.yaml --weights \"\" --name inagi --nosave --cache"
      ],
      "execution_count": 5,
      "outputs": [
        {
          "output_type": "stream",
          "name": "stdout",
          "text": [
            "error: refs/heads/master does not point to a valid object!\n",
            "error: refs/remotes/origin/365 does not point to a valid object!\n",
            "error: refs/remotes/origin/9_target does not point to a valid object!\n",
            "error: refs/remotes/origin/C5 does not point to a valid object!\n",
            "error: refs/remotes/origin/C5_breakout does not point to a valid object!\n",
            "error: refs/remotes/origin/C5_breakout_p5 does not point to a valid object!\n",
            "error: refs/remotes/origin/C5_divergent does not point to a valid object!\n",
            "error: refs/remotes/origin/C5_linear_slope does not point to a valid object!\n",
            "error: refs/remotes/origin/C5_scale25 does not point to a valid object!\n",
            "error: refs/remotes/origin/C6 does not point to a valid object!\n",
            "error: refs/remotes/origin/C6_class_weights does not point to a valid object!\n",
            "error: refs/remotes/origin/C6_padded_training does not point to a valid object!\n",
            "error: refs/remotes/origin/IR does not point to a valid object!\n",
            "error: refs/remotes/origin/KalenMike-readme-update does not point to a valid object!\n",
            "error: refs/remotes/origin/argo does not point to a valid object!\n",
            "error: refs/remotes/origin/class_weights does not point to a valid object!\n",
            "error: refs/remotes/origin/classifier does not point to a valid object!\n",
            "error: refs/remotes/origin/cudnn does not point to a valid object!\n",
            "error: refs/remotes/origin/decay_schedule does not point to a valid object!\n",
            "error: refs/remotes/origin/develop does not point to a valid object!\n",
            "error: refs/remotes/origin/evolve_yolov5m6 does not point to a valid object!\n",
            "error: refs/remotes/origin/feature/restructuring_yolov5_codebase_to_prepare_for_pip_package_creation does not point to a valid object!\n",
            "error: refs/remotes/origin/feature/stats_json does not point to a valid object!\n",
            "error: refs/remotes/origin/ghost does not point to a valid object!\n",
            "error: refs/remotes/origin/glenn-jocher-patch-1 does not point to a valid object!\n",
            "error: refs/remotes/origin/glenn-jocher-patch-2 does not point to a valid object!\n",
            "error: refs/remotes/origin/glenn-jocher-patch-3 does not point to a valid object!\n",
            "error: refs/remotes/origin/hydra does not point to a valid object!\n",
            "error: refs/remotes/origin/involution does not point to a valid object!\n",
            "error: refs/remotes/origin/mosaic9 does not point to a valid object!\n",
            "error: refs/remotes/origin/multi-cache does not point to a valid object!\n",
            "error: refs/remotes/origin/multigpu_test does not point to a valid object!\n",
            "error: refs/remotes/origin/patch does not point to a valid object!\n",
            "error: refs/remotes/origin/single_target does not point to a valid object!\n",
            "error: refs/remotes/origin/study_activations does not point to a valid object!\n",
            "error: refs/remotes/origin/targets does not point to a valid object!\n",
            "error: refs/remotes/origin/voc does not point to a valid object!\n",
            "error: refs/remotes/origin/wer does not point to a valid object!\n",
            "error: refs/tags/v1.0 does not point to a valid object!\n",
            "error: refs/tags/v2.0 does not point to a valid object!\n",
            "error: refs/tags/v3.0 does not point to a valid object!\n",
            "error: refs/tags/v3.1 does not point to a valid object!\n",
            "error: refs/tags/v4.0 does not point to a valid object!\n",
            "error: refs/tags/v5.0 does not point to a valid object!\n",
            "error: refs/heads/master does not point to a valid object!\n",
            "error: refs/remotes/origin/365 does not point to a valid object!\n",
            "error: refs/remotes/origin/9_target does not point to a valid object!\n",
            "error: refs/remotes/origin/C5 does not point to a valid object!\n",
            "error: refs/remotes/origin/C5_breakout does not point to a valid object!\n",
            "error: refs/remotes/origin/C5_breakout_p5 does not point to a valid object!\n",
            "error: refs/remotes/origin/C5_divergent does not point to a valid object!\n",
            "error: refs/remotes/origin/C5_linear_slope does not point to a valid object!\n",
            "error: refs/remotes/origin/C5_scale25 does not point to a valid object!\n",
            "error: refs/remotes/origin/C6 does not point to a valid object!\n",
            "error: refs/remotes/origin/C6_class_weights does not point to a valid object!\n",
            "error: refs/remotes/origin/C6_padded_training does not point to a valid object!\n",
            "error: refs/remotes/origin/IR does not point to a valid object!\n",
            "error: refs/remotes/origin/KalenMike-readme-update does not point to a valid object!\n",
            "error: refs/remotes/origin/argo does not point to a valid object!\n",
            "error: refs/remotes/origin/class_weights does not point to a valid object!\n",
            "error: refs/remotes/origin/classifier does not point to a valid object!\n",
            "error: refs/remotes/origin/cudnn does not point to a valid object!\n",
            "error: refs/remotes/origin/decay_schedule does not point to a valid object!\n",
            "error: refs/remotes/origin/develop does not point to a valid object!\n",
            "error: refs/remotes/origin/evolve_yolov5m6 does not point to a valid object!\n",
            "error: refs/remotes/origin/feature/restructuring_yolov5_codebase_to_prepare_for_pip_package_creation does not point to a valid object!\n",
            "error: refs/remotes/origin/feature/stats_json does not point to a valid object!\n",
            "error: refs/remotes/origin/ghost does not point to a valid object!\n",
            "error: refs/remotes/origin/glenn-jocher-patch-1 does not point to a valid object!\n",
            "error: refs/remotes/origin/glenn-jocher-patch-2 does not point to a valid object!\n",
            "error: refs/remotes/origin/glenn-jocher-patch-3 does not point to a valid object!\n",
            "error: refs/remotes/origin/hydra does not point to a valid object!\n",
            "error: refs/remotes/origin/involution does not point to a valid object!\n",
            "error: refs/remotes/origin/mosaic9 does not point to a valid object!\n",
            "error: refs/remotes/origin/multi-cache does not point to a valid object!\n",
            "error: refs/remotes/origin/multigpu_test does not point to a valid object!\n",
            "error: refs/remotes/origin/patch does not point to a valid object!\n",
            "error: refs/remotes/origin/single_target does not point to a valid object!\n",
            "error: refs/remotes/origin/study_activations does not point to a valid object!\n",
            "error: refs/remotes/origin/targets does not point to a valid object!\n",
            "error: refs/remotes/origin/voc does not point to a valid object!\n",
            "error: refs/remotes/origin/wer does not point to a valid object!\n",
            "error: refs/tags/v1.0 does not point to a valid object!\n",
            "error: refs/tags/v2.0 does not point to a valid object!\n",
            "error: refs/tags/v3.0 does not point to a valid object!\n",
            "error: refs/tags/v3.1 does not point to a valid object!\n",
            "error: refs/tags/v4.0 does not point to a valid object!\n",
            "error: refs/tags/v5.0 does not point to a valid object!\n",
            "error: refs/heads/master does not point to a valid object!\n",
            "error: refs/remotes/origin/365 does not point to a valid object!\n",
            "error: refs/remotes/origin/9_target does not point to a valid object!\n",
            "error: refs/remotes/origin/C5 does not point to a valid object!\n",
            "error: refs/remotes/origin/C5_breakout does not point to a valid object!\n",
            "error: refs/remotes/origin/C5_breakout_p5 does not point to a valid object!\n",
            "error: refs/remotes/origin/C5_divergent does not point to a valid object!\n",
            "error: refs/remotes/origin/C5_linear_slope does not point to a valid object!\n",
            "error: refs/remotes/origin/C5_scale25 does not point to a valid object!\n",
            "error: refs/remotes/origin/C6 does not point to a valid object!\n",
            "error: refs/remotes/origin/C6_class_weights does not point to a valid object!\n",
            "error: refs/remotes/origin/C6_padded_training does not point to a valid object!\n",
            "error: refs/remotes/origin/IR does not point to a valid object!\n",
            "error: refs/remotes/origin/KalenMike-readme-update does not point to a valid object!\n",
            "error: refs/remotes/origin/argo does not point to a valid object!\n",
            "error: refs/remotes/origin/class_weights does not point to a valid object!\n",
            "error: refs/remotes/origin/classifier does not point to a valid object!\n",
            "error: refs/remotes/origin/cudnn does not point to a valid object!\n",
            "error: refs/remotes/origin/decay_schedule does not point to a valid object!\n",
            "error: refs/remotes/origin/develop does not point to a valid object!\n",
            "error: refs/remotes/origin/evolve_yolov5m6 does not point to a valid object!\n",
            "error: refs/remotes/origin/feature/restructuring_yolov5_codebase_to_prepare_for_pip_package_creation does not point to a valid object!\n",
            "error: refs/remotes/origin/feature/stats_json does not point to a valid object!\n",
            "error: refs/remotes/origin/ghost does not point to a valid object!\n",
            "error: refs/remotes/origin/glenn-jocher-patch-1 does not point to a valid object!\n",
            "error: refs/remotes/origin/glenn-jocher-patch-2 does not point to a valid object!\n",
            "error: refs/remotes/origin/glenn-jocher-patch-3 does not point to a valid object!\n",
            "error: refs/remotes/origin/hydra does not point to a valid object!\n",
            "error: refs/remotes/origin/involution does not point to a valid object!\n",
            "error: refs/remotes/origin/mosaic9 does not point to a valid object!\n",
            "error: refs/remotes/origin/multi-cache does not point to a valid object!\n",
            "error: refs/remotes/origin/multigpu_test does not point to a valid object!\n",
            "error: refs/remotes/origin/patch does not point to a valid object!\n",
            "error: refs/remotes/origin/single_target does not point to a valid object!\n",
            "error: refs/remotes/origin/study_activations does not point to a valid object!\n",
            "error: refs/remotes/origin/targets does not point to a valid object!\n",
            "error: refs/remotes/origin/voc does not point to a valid object!\n",
            "error: refs/remotes/origin/wer does not point to a valid object!\n",
            "error: refs/tags/v1.0 does not point to a valid object!\n",
            "error: refs/tags/v2.0 does not point to a valid object!\n",
            "error: refs/tags/v3.0 does not point to a valid object!\n",
            "error: refs/tags/v3.1 does not point to a valid object!\n",
            "error: refs/tags/v4.0 does not point to a valid object!\n",
            "error: refs/tags/v5.0 does not point to a valid object!\n",
            "error: refs/heads/master does not point to a valid object!\n",
            "error: refs/remotes/origin/365 does not point to a valid object!\n",
            "error: refs/remotes/origin/9_target does not point to a valid object!\n",
            "error: refs/remotes/origin/C5 does not point to a valid object!\n",
            "error: refs/remotes/origin/C5_breakout does not point to a valid object!\n",
            "error: refs/remotes/origin/C5_breakout_p5 does not point to a valid object!\n",
            "error: refs/remotes/origin/C5_divergent does not point to a valid object!\n",
            "error: refs/remotes/origin/C5_linear_slope does not point to a valid object!\n",
            "error: refs/remotes/origin/C5_scale25 does not point to a valid object!\n",
            "error: refs/remotes/origin/C6 does not point to a valid object!\n",
            "error: refs/remotes/origin/C6_class_weights does not point to a valid object!\n",
            "error: refs/remotes/origin/C6_padded_training does not point to a valid object!\n",
            "error: refs/remotes/origin/IR does not point to a valid object!\n",
            "error: refs/remotes/origin/KalenMike-readme-update does not point to a valid object!\n",
            "error: refs/remotes/origin/argo does not point to a valid object!\n",
            "error: refs/remotes/origin/class_weights does not point to a valid object!\n",
            "error: refs/remotes/origin/classifier does not point to a valid object!\n",
            "error: refs/remotes/origin/cudnn does not point to a valid object!\n",
            "error: refs/remotes/origin/decay_schedule does not point to a valid object!\n",
            "error: refs/remotes/origin/develop does not point to a valid object!\n",
            "error: refs/remotes/origin/evolve_yolov5m6 does not point to a valid object!\n",
            "error: refs/remotes/origin/feature/restructuring_yolov5_codebase_to_prepare_for_pip_package_creation does not point to a valid object!\n",
            "error: refs/remotes/origin/feature/stats_json does not point to a valid object!\n",
            "error: refs/remotes/origin/ghost does not point to a valid object!\n",
            "error: refs/remotes/origin/glenn-jocher-patch-1 does not point to a valid object!\n",
            "error: refs/remotes/origin/glenn-jocher-patch-2 does not point to a valid object!\n",
            "error: refs/remotes/origin/glenn-jocher-patch-3 does not point to a valid object!\n",
            "error: refs/remotes/origin/hydra does not point to a valid object!\n",
            "error: refs/remotes/origin/involution does not point to a valid object!\n",
            "error: refs/remotes/origin/mosaic9 does not point to a valid object!\n",
            "error: refs/remotes/origin/multi-cache does not point to a valid object!\n",
            "error: refs/remotes/origin/multigpu_test does not point to a valid object!\n",
            "error: refs/remotes/origin/patch does not point to a valid object!\n",
            "error: refs/remotes/origin/single_target does not point to a valid object!\n",
            "error: refs/remotes/origin/study_activations does not point to a valid object!\n",
            "error: refs/remotes/origin/targets does not point to a valid object!\n",
            "error: refs/remotes/origin/voc does not point to a valid object!\n",
            "error: refs/remotes/origin/wer does not point to a valid object!\n",
            "error: refs/tags/v1.0 does not point to a valid object!\n",
            "error: refs/tags/v2.0 does not point to a valid object!\n",
            "error: refs/tags/v3.0 does not point to a valid object!\n",
            "error: refs/tags/v3.1 does not point to a valid object!\n",
            "error: refs/tags/v4.0 does not point to a valid object!\n",
            "error: refs/tags/v5.0 does not point to a valid object!\n",
            "remote: Enumerating objects: 3156, done.\u001b[K\n",
            "remote: Counting objects: 100% (1094/1094), done.\u001b[K\n",
            "remote: Compressing objects: 100% (5/5), done.\u001b[K\n",
            "remote: Total 3156 (delta 1089), reused 1090 (delta 1089), pack-reused 2062\u001b[K\n",
            "Receiving objects: 100% (3156/3156), 1.26 MiB | 4.54 MiB/s, done.\n",
            "Resolving deltas:  70% (1579/2247), completed with 79 local objects.\n",
            "fatal: pack has 668 unresolved deltas\n",
            "fatal: index-pack failed\n",
            "\u001b[34m\u001b[1mgithub: \u001b[0mCommand 'git fetch && git config --get remote.origin.url' returned non-zero exit status 128., for updates see https://github.com/ultralytics/yolov5\n",
            "YOLOv5 🚀 2021-6-12 torch 1.9.0+cu111 CUDA:0 (Tesla K80, 11441.1875MB)\n",
            "\n",
            "Namespace(adam=False, artifact_alias='latest', batch_size=16, bbox_interval=-1, bucket='', cache_images=True, cfg='./models/yolov5s.yaml', data='../inagi/data.yaml', device='', entity=None, epochs=20, evolve=False, exist_ok=False, global_rank=-1, hyp='data/hyp.scratch.yaml', image_weights=False, img_size=[480, 480], label_smoothing=0.0, linear_lr=False, local_rank=-1, multi_scale=False, name='inagi', noautoanchor=False, nosave=True, notest=False, project='runs/train', quad=False, rect=False, resume=False, save_dir='runs/train/inagi2', save_period=-1, single_cls=False, sync_bn=False, total_batch_size=16, upload_dataset=False, weights='', workers=8, world_size=1)\n",
            "\u001b[34m\u001b[1mtensorboard: \u001b[0mStart with 'tensorboard --logdir runs/train', view at http://localhost:6006/\n",
            "\u001b[34m\u001b[1mhyperparameters: \u001b[0mlr0=0.01, lrf=0.2, momentum=0.937, weight_decay=0.0005, warmup_epochs=3.0, warmup_momentum=0.8, warmup_bias_lr=0.1, box=0.05, cls=0.5, cls_pw=1.0, obj=1.0, obj_pw=1.0, iou_t=0.2, anchor_t=4.0, fl_gamma=0.0, hsv_h=0.015, hsv_s=0.7, hsv_v=0.4, degrees=0.0, translate=0.1, scale=0.5, shear=0.0, perspective=0.0, flipud=0.0, fliplr=0.5, mosaic=1.0, mixup=0.0\n",
            "\u001b[34m\u001b[1mwandb: \u001b[0mInstall Weights & Biases for YOLOv5 logging with 'pip install wandb' (recommended)\n",
            "Overriding model.yaml nc=80 with nc=31\n",
            "\n",
            "                 from  n    params  module                                  arguments                     \n",
            "  0                -1  1      3520  models.common.Focus                     [3, 32, 3]                    \n",
            "  1                -1  1     18560  models.common.Conv                      [32, 64, 3, 2]                \n",
            "  2                -1  1     18816  models.common.C3                        [64, 64, 1]                   \n",
            "  3                -1  1     73984  models.common.Conv                      [64, 128, 3, 2]               \n",
            "  4                -1  1    156928  models.common.C3                        [128, 128, 3]                 \n",
            "  5                -1  1    295424  models.common.Conv                      [128, 256, 3, 2]              \n",
            "  6                -1  1    625152  models.common.C3                        [256, 256, 3]                 \n",
            "  7                -1  1   1180672  models.common.Conv                      [256, 512, 3, 2]              \n",
            "  8                -1  1    656896  models.common.SPP                       [512, 512, [5, 9, 13]]        \n",
            "  9                -1  1   1182720  models.common.C3                        [512, 512, 1, False]          \n",
            " 10                -1  1    131584  models.common.Conv                      [512, 256, 1, 1]              \n",
            " 11                -1  1         0  torch.nn.modules.upsampling.Upsample    [None, 2, 'nearest']          \n",
            " 12           [-1, 6]  1         0  models.common.Concat                    [1]                           \n",
            " 13                -1  1    361984  models.common.C3                        [512, 256, 1, False]          \n",
            " 14                -1  1     33024  models.common.Conv                      [256, 128, 1, 1]              \n",
            " 15                -1  1         0  torch.nn.modules.upsampling.Upsample    [None, 2, 'nearest']          \n",
            " 16           [-1, 4]  1         0  models.common.Concat                    [1]                           \n",
            " 17                -1  1     90880  models.common.C3                        [256, 128, 1, False]          \n",
            " 18                -1  1    147712  models.common.Conv                      [128, 128, 3, 2]              \n",
            " 19          [-1, 14]  1         0  models.common.Concat                    [1]                           \n",
            " 20                -1  1    296448  models.common.C3                        [256, 256, 1, False]          \n",
            " 21                -1  1    590336  models.common.Conv                      [256, 256, 3, 2]              \n",
            " 22          [-1, 10]  1         0  models.common.Concat                    [1]                           \n",
            " 23                -1  1   1182720  models.common.C3                        [512, 512, 1, False]          \n",
            " 24      [17, 20, 23]  1     97092  models.yolo.Detect                      [31, [[10, 13, 16, 30, 33, 23], [30, 61, 62, 45, 59, 119], [116, 90, 156, 198, 373, 326]], [128, 256, 512]]\n",
            "/usr/local/lib/python3.7/dist-packages/torch/nn/functional.py:718: UserWarning: Named tensors and all their associated APIs are an experimental feature and subject to change. Please do not use them for anything important until they are released as stable. (Triggered internally at  /pytorch/c10/core/TensorImpl.h:1156.)\n",
            "  return torch.max_pool2d(input, kernel_size, stride, padding, dilation, ceil_mode)\n",
            "Model Summary: 283 layers, 7144452 parameters, 7144452 gradients\n",
            "\n",
            "freezing model.0.conv.conv.weight\n",
            "freezing model.0.conv.bn.weight\n",
            "freezing model.0.conv.bn.bias\n",
            "freezing model.1.conv.weight\n",
            "freezing model.1.bn.weight\n",
            "freezing model.1.bn.bias\n",
            "freezing model.2.cv1.conv.weight\n",
            "freezing model.2.cv1.bn.weight\n",
            "freezing model.2.cv1.bn.bias\n",
            "freezing model.2.cv2.conv.weight\n",
            "freezing model.2.cv2.bn.weight\n",
            "freezing model.2.cv2.bn.bias\n",
            "freezing model.2.cv3.conv.weight\n",
            "freezing model.2.cv3.bn.weight\n",
            "freezing model.2.cv3.bn.bias\n",
            "freezing model.2.m.0.cv1.conv.weight\n",
            "freezing model.2.m.0.cv1.bn.weight\n",
            "freezing model.2.m.0.cv1.bn.bias\n",
            "freezing model.2.m.0.cv2.conv.weight\n",
            "freezing model.2.m.0.cv2.bn.weight\n",
            "freezing model.2.m.0.cv2.bn.bias\n",
            "freezing model.3.conv.weight\n",
            "freezing model.3.bn.weight\n",
            "freezing model.3.bn.bias\n",
            "freezing model.4.cv1.conv.weight\n",
            "freezing model.4.cv1.bn.weight\n",
            "freezing model.4.cv1.bn.bias\n",
            "freezing model.4.cv2.conv.weight\n",
            "freezing model.4.cv2.bn.weight\n",
            "freezing model.4.cv2.bn.bias\n",
            "freezing model.4.cv3.conv.weight\n",
            "freezing model.4.cv3.bn.weight\n",
            "freezing model.4.cv3.bn.bias\n",
            "freezing model.4.m.0.cv1.conv.weight\n",
            "freezing model.4.m.0.cv1.bn.weight\n",
            "freezing model.4.m.0.cv1.bn.bias\n",
            "freezing model.4.m.0.cv2.conv.weight\n",
            "freezing model.4.m.0.cv2.bn.weight\n",
            "freezing model.4.m.0.cv2.bn.bias\n",
            "freezing model.4.m.1.cv1.conv.weight\n",
            "freezing model.4.m.1.cv1.bn.weight\n",
            "freezing model.4.m.1.cv1.bn.bias\n",
            "freezing model.4.m.1.cv2.conv.weight\n",
            "freezing model.4.m.1.cv2.bn.weight\n",
            "freezing model.4.m.1.cv2.bn.bias\n",
            "freezing model.4.m.2.cv1.conv.weight\n",
            "freezing model.4.m.2.cv1.bn.weight\n",
            "freezing model.4.m.2.cv1.bn.bias\n",
            "freezing model.4.m.2.cv2.conv.weight\n",
            "freezing model.4.m.2.cv2.bn.weight\n",
            "freezing model.4.m.2.cv2.bn.bias\n",
            "freezing model.5.conv.weight\n",
            "freezing model.5.bn.weight\n",
            "freezing model.5.bn.bias\n",
            "freezing model.6.cv1.conv.weight\n",
            "freezing model.6.cv1.bn.weight\n",
            "freezing model.6.cv1.bn.bias\n",
            "freezing model.6.cv2.conv.weight\n",
            "freezing model.6.cv2.bn.weight\n",
            "freezing model.6.cv2.bn.bias\n",
            "freezing model.6.cv3.conv.weight\n",
            "freezing model.6.cv3.bn.weight\n",
            "freezing model.6.cv3.bn.bias\n",
            "freezing model.6.m.0.cv1.conv.weight\n",
            "freezing model.6.m.0.cv1.bn.weight\n",
            "freezing model.6.m.0.cv1.bn.bias\n",
            "freezing model.6.m.0.cv2.conv.weight\n",
            "freezing model.6.m.0.cv2.bn.weight\n",
            "freezing model.6.m.0.cv2.bn.bias\n",
            "freezing model.6.m.1.cv1.conv.weight\n",
            "freezing model.6.m.1.cv1.bn.weight\n",
            "freezing model.6.m.1.cv1.bn.bias\n",
            "freezing model.6.m.1.cv2.conv.weight\n",
            "freezing model.6.m.1.cv2.bn.weight\n",
            "freezing model.6.m.1.cv2.bn.bias\n",
            "freezing model.6.m.2.cv1.conv.weight\n",
            "freezing model.6.m.2.cv1.bn.weight\n",
            "freezing model.6.m.2.cv1.bn.bias\n",
            "freezing model.6.m.2.cv2.conv.weight\n",
            "freezing model.6.m.2.cv2.bn.weight\n",
            "freezing model.6.m.2.cv2.bn.bias\n",
            "freezing model.7.conv.weight\n",
            "freezing model.7.bn.weight\n",
            "freezing model.7.bn.bias\n",
            "freezing model.8.cv1.conv.weight\n",
            "freezing model.8.cv1.bn.weight\n",
            "freezing model.8.cv1.bn.bias\n",
            "freezing model.8.cv2.conv.weight\n",
            "freezing model.8.cv2.bn.weight\n",
            "freezing model.8.cv2.bn.bias\n",
            "freezing model.9.cv1.conv.weight\n",
            "freezing model.9.cv1.bn.weight\n",
            "freezing model.9.cv1.bn.bias\n",
            "freezing model.9.cv2.conv.weight\n",
            "freezing model.9.cv2.bn.weight\n",
            "freezing model.9.cv2.bn.bias\n",
            "freezing model.9.cv3.conv.weight\n",
            "freezing model.9.cv3.bn.weight\n",
            "freezing model.9.cv3.bn.bias\n",
            "freezing model.9.m.0.cv1.conv.weight\n",
            "freezing model.9.m.0.cv1.bn.weight\n",
            "freezing model.9.m.0.cv1.bn.bias\n",
            "freezing model.9.m.0.cv2.conv.weight\n",
            "freezing model.9.m.0.cv2.bn.weight\n",
            "freezing model.9.m.0.cv2.bn.bias\n",
            "Scaled weight_decay = 0.0005\n",
            "Optimizer groups: 62 .bias, 62 conv.weight, 59 other\n",
            "\u001b[34m\u001b[1mtrain: \u001b[0mScanning '../inagi/labels' images and labels...1901 found, 0 missing, 0 empty, 0 corrupted: 100% 1901/1901 [15:22<00:00,  2.06it/s]\n",
            "\u001b[34m\u001b[1mtrain: \u001b[0mNew cache created: ../inagi/labels.cache\n",
            "\u001b[34m\u001b[1mtrain: \u001b[0mCaching images (1.0GB): 100% 1901/1901 [00:17<00:00, 107.49it/s]\n",
            "\u001b[34m\u001b[1mval: \u001b[0mScanning '../inagi/labels.cache' images and labels... 1901 found, 0 missing, 0 empty, 0 corrupted: 100% 1901/1901 [00:00<?, ?it/s]\n",
            "\u001b[34m\u001b[1mval: \u001b[0mCaching images (1.0GB): 100% 1901/1901 [00:20<00:00, 93.52it/s]\n",
            "[W pthreadpool-cpp.cc:90] Warning: Leaking Caffe2 thread-pool after fork. (function pthreadpool)\n",
            "[W pthreadpool-cpp.cc:90] Warning: Leaking Caffe2 thread-pool after fork. (function pthreadpool)\n",
            "Plotting labels... \n",
            "\n",
            "\u001b[34m\u001b[1mautoanchor: \u001b[0mAnalyzing anchors... anchors/target = 4.19, Best Possible Recall (BPR) = 0.9995\n",
            "Image sizes 480 train, 480 test\n",
            "Using 2 dataloader workers\n",
            "Logging results to runs/train/inagi2\n",
            "Starting training for 20 epochs...\n",
            "\n",
            "     Epoch   gpu_mem       box       obj       cls     total    labels  img_size\n",
            "      0/19     1.41G   0.08839   0.02371   0.08597    0.1981        31       480: 100% 119/119 [00:44<00:00,  2.67it/s]\n",
            "               Class     Images     Labels          P          R     mAP@.5 mAP@.5:.95: 100% 60/60 [00:19<00:00,  3.00it/s]\n",
            "                 all       1901          0          0          0          0          0\n",
            "\n",
            "     Epoch   gpu_mem       box       obj       cls     total    labels  img_size\n",
            "      1/19    0.828G   0.07996    0.0237    0.0818    0.1855        32       480: 100% 119/119 [00:36<00:00,  3.30it/s]\n",
            "               Class     Images     Labels          P          R     mAP@.5 mAP@.5:.95: 100% 60/60 [00:19<00:00,  3.13it/s]\n",
            "                 all       1901       1902      0.192    0.00432   0.000671   0.000115\n",
            "\n",
            "     Epoch   gpu_mem       box       obj       cls     total    labels  img_size\n",
            "      2/19    0.828G   0.07863   0.02405   0.07854    0.1812        31       480: 100% 119/119 [00:35<00:00,  3.32it/s]\n",
            "               Class     Images     Labels          P          R     mAP@.5 mAP@.5:.95: 100% 60/60 [00:20<00:00,  2.92it/s]\n",
            "                 all       1901       1902      0.318    0.00598    0.00165   0.000236\n",
            "\n",
            "     Epoch   gpu_mem       box       obj       cls     total    labels  img_size\n",
            "      3/19    0.828G   0.07802    0.0239   0.07597    0.1779        32       480: 100% 119/119 [00:35<00:00,  3.32it/s]\n",
            "               Class     Images     Labels          P          R     mAP@.5 mAP@.5:.95: 100% 60/60 [00:21<00:00,  2.77it/s]\n",
            "                 all       1901       1902      0.636    0.00331    0.00226   0.000391\n",
            "\n",
            "     Epoch   gpu_mem       box       obj       cls     total    labels  img_size\n",
            "      4/19    0.828G   0.07537   0.02462   0.07304     0.173        28       480: 100% 119/119 [00:35<00:00,  3.34it/s]\n",
            "               Class     Images     Labels          P          R     mAP@.5 mAP@.5:.95: 100% 60/60 [00:22<00:00,  2.67it/s]\n",
            "                 all       1901       1902      0.253     0.0518    0.00286   0.000517\n",
            "\n",
            "     Epoch   gpu_mem       box       obj       cls     total    labels  img_size\n",
            "      5/19    0.828G   0.07421   0.02457   0.06954    0.1683        30       480: 100% 119/119 [00:35<00:00,  3.33it/s]\n",
            "               Class     Images     Labels          P          R     mAP@.5 mAP@.5:.95: 100% 60/60 [00:23<00:00,  2.52it/s]\n",
            "                 all       1901       1902      0.702     0.0182     0.0163    0.00351\n",
            "\n",
            "     Epoch   gpu_mem       box       obj       cls     total    labels  img_size\n",
            "      6/19    0.828G   0.07113   0.02462   0.06572    0.1615        29       480: 100% 119/119 [00:35<00:00,  3.34it/s]\n",
            "               Class     Images     Labels          P          R     mAP@.5 mAP@.5:.95: 100% 60/60 [00:25<00:00,  2.37it/s]\n",
            "                 all       1901       1902      0.356      0.118     0.0548     0.0127\n",
            "\n",
            "     Epoch   gpu_mem       box       obj       cls     total    labels  img_size\n",
            "      7/19    0.828G     0.069   0.02462   0.06146    0.1551        25       480: 100% 119/119 [00:35<00:00,  3.39it/s]\n",
            "               Class     Images     Labels          P          R     mAP@.5 mAP@.5:.95: 100% 60/60 [00:26<00:00,  2.27it/s]\n",
            "                 all       1901       1902      0.311      0.247     0.0746     0.0202\n",
            "\n",
            "     Epoch   gpu_mem       box       obj       cls     total    labels  img_size\n",
            "      8/19    0.828G    0.0672   0.02426   0.05782    0.1493        32       480: 100% 119/119 [00:35<00:00,  3.37it/s]\n",
            "               Class     Images     Labels          P          R     mAP@.5 mAP@.5:.95: 100% 60/60 [00:24<00:00,  2.43it/s]\n",
            "                 all       1901       1902      0.592      0.183      0.109      0.028\n",
            "\n",
            "     Epoch   gpu_mem       box       obj       cls     total    labels  img_size\n",
            "      9/19    0.828G   0.06633   0.02453   0.05386    0.1447        29       480: 100% 119/119 [00:35<00:00,  3.38it/s]\n",
            "               Class     Images     Labels          P          R     mAP@.5 mAP@.5:.95: 100% 60/60 [00:24<00:00,  2.40it/s]\n",
            "                 all       1901       1902      0.689      0.272      0.229     0.0699\n",
            "\n",
            "     Epoch   gpu_mem       box       obj       cls     total    labels  img_size\n",
            "     10/19    0.828G    0.0639   0.02422   0.05141    0.1395        24       480: 100% 119/119 [00:35<00:00,  3.37it/s]\n",
            "               Class     Images     Labels          P          R     mAP@.5 mAP@.5:.95: 100% 60/60 [00:23<00:00,  2.50it/s]\n",
            "                 all       1901       1902      0.381      0.423      0.322      0.106\n",
            "\n",
            "     Epoch   gpu_mem       box       obj       cls     total    labels  img_size\n",
            "     11/19    0.828G   0.06233   0.02427   0.04739     0.134        27       480: 100% 119/119 [00:35<00:00,  3.38it/s]\n",
            "               Class     Images     Labels          P          R     mAP@.5 mAP@.5:.95: 100% 60/60 [00:24<00:00,  2.49it/s]\n",
            "                 all       1901       1902        0.4      0.405      0.337     0.0929\n",
            "\n",
            "     Epoch   gpu_mem       box       obj       cls     total    labels  img_size\n",
            "     12/19    0.828G   0.06107   0.02408   0.04431    0.1295        27       480: 100% 119/119 [00:35<00:00,  3.37it/s]\n",
            "               Class     Images     Labels          P          R     mAP@.5 mAP@.5:.95: 100% 60/60 [00:24<00:00,  2.49it/s]\n",
            "                 all       1901       1902      0.588      0.434      0.484       0.16\n",
            "\n",
            "     Epoch   gpu_mem       box       obj       cls     total    labels  img_size\n",
            "     13/19    0.828G   0.06047   0.02374   0.04206    0.1263        27       480: 100% 119/119 [00:35<00:00,  3.37it/s]\n",
            "               Class     Images     Labels          P          R     mAP@.5 mAP@.5:.95: 100% 60/60 [00:23<00:00,  2.51it/s]\n",
            "                 all       1901       1902      0.423      0.572      0.501      0.163\n",
            "\n",
            "     Epoch   gpu_mem       box       obj       cls     total    labels  img_size\n",
            "     14/19    0.828G   0.05951   0.02288   0.04006    0.1225        33       480: 100% 119/119 [00:35<00:00,  3.37it/s]\n",
            "               Class     Images     Labels          P          R     mAP@.5 mAP@.5:.95: 100% 60/60 [00:23<00:00,  2.53it/s]\n",
            "                 all       1901       1902      0.477      0.599      0.557      0.182\n",
            "\n",
            "     Epoch   gpu_mem       box       obj       cls     total    labels  img_size\n",
            "     15/19    0.828G   0.05783   0.02293   0.03807    0.1188        32       480: 100% 119/119 [00:35<00:00,  3.36it/s]\n",
            "               Class     Images     Labels          P          R     mAP@.5 mAP@.5:.95: 100% 60/60 [00:23<00:00,  2.53it/s]\n",
            "                 all       1901       1902      0.555      0.665      0.626      0.232\n",
            "\n",
            "     Epoch   gpu_mem       box       obj       cls     total    labels  img_size\n",
            "     16/19    0.828G   0.05753   0.02285   0.03684    0.1172        23       480: 100% 119/119 [00:35<00:00,  3.35it/s]\n",
            "               Class     Images     Labels          P          R     mAP@.5 mAP@.5:.95: 100% 60/60 [00:23<00:00,  2.54it/s]\n",
            "                 all       1901       1902      0.599      0.632      0.639      0.244\n",
            "\n",
            "     Epoch   gpu_mem       box       obj       cls     total    labels  img_size\n",
            "     17/19    0.828G   0.05649   0.02255   0.03531    0.1143        29       480: 100% 119/119 [00:35<00:00,  3.35it/s]\n",
            "               Class     Images     Labels          P          R     mAP@.5 mAP@.5:.95: 100% 60/60 [00:23<00:00,  2.54it/s]\n",
            "                 all       1901       1902       0.63      0.684      0.705      0.277\n",
            "\n",
            "     Epoch   gpu_mem       box       obj       cls     total    labels  img_size\n",
            "     18/19    0.828G   0.05546   0.02302   0.03502    0.1135        33       480: 100% 119/119 [00:35<00:00,  3.34it/s]\n",
            "               Class     Images     Labels          P          R     mAP@.5 mAP@.5:.95: 100% 60/60 [00:23<00:00,  2.53it/s]\n",
            "                 all       1901       1902      0.668      0.742      0.731      0.295\n",
            "\n",
            "     Epoch   gpu_mem       box       obj       cls     total    labels  img_size\n",
            "     19/19    0.828G    0.0554   0.02259   0.03414    0.1121        30       480: 100% 119/119 [00:35<00:00,  3.34it/s]\n",
            "               Class     Images     Labels          P          R     mAP@.5 mAP@.5:.95: 100% 60/60 [00:27<00:00,  2.22it/s]\n",
            "                 all       1901       1902      0.684      0.721      0.752      0.315\n",
            "         naganuna-hi       1901        138       0.69      0.826      0.849      0.381\n",
            "           joraku-ji       1901        126      0.772       0.59      0.681       0.29\n",
            "        awayuki-park       1901         67      0.793      0.515      0.673      0.254\n",
            "          keigi-park       1901         73      0.792       0.52      0.625      0.211\n",
            "           aoi-injya       1901        110      0.866      0.588      0.824      0.339\n",
            "                pump       1901        111       0.88      0.883      0.896      0.375\n",
            "        hitsuji-park       1901        187      0.863      0.417      0.707      0.251\n",
            "      shiroyama-pond       1901        161      0.469      0.466       0.47      0.147\n",
            "         tate-jinjya       1901        189      0.814      0.937      0.938      0.465\n",
            "        torisan-park       1901        156      0.529      0.917      0.824      0.272\n",
            "    higashikata-park       1901         68      0.539      0.882       0.84      0.276\n",
            "            heiwa-hi       1901         63      0.517      0.667      0.481      0.235\n",
            "            heiwa-hi       1901         50       0.49       0.56      0.495      0.147\n",
            "          inagi-poll       1901        110      0.723      0.809      0.817      0.364\n",
            "           short-cut       1901        118      0.365      0.992      0.944      0.589\n",
            "       excavator-car       1901        175      0.836      0.966      0.968      0.445\n",
            "20 epochs completed in 0.335 hours.\n",
            "\n",
            "Optimizer stripped from runs/train/inagi2/weights/last.pt, 14.5MB\n",
            "Optimizer stripped from runs/train/inagi2/weights/best.pt, 14.5MB\n"
          ]
        }
      ]
    },
    {
      "cell_type": "code",
      "metadata": {
        "id": "H5VicRS9-nbW"
      },
      "source": [
        "Image(filename='runs/train/dice3/train_batch0.jpg', width=800)  # train batch 0 mosaics and labels"
      ],
      "execution_count": null,
      "outputs": []
    },
    {
      "cell_type": "code",
      "metadata": {
        "id": "uITbJVIXAHIg"
      },
      "source": [
        "!python detect.py --weights runs/train/inagi/weights/last.pt --source ../inagi/***.jpg"
      ],
      "execution_count": null,
      "outputs": []
    },
    {
      "cell_type": "markdown",
      "metadata": {
        "id": "BcC3IxStVlEo"
      },
      "source": [
        "できた！！！"
      ]
    }
  ]
}