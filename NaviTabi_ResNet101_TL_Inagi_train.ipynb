{
  "nbformat": 4,
  "nbformat_minor": 0,
  "metadata": {
    "colab": {
      "name": "NaviTabi_ResNet101_TL_Inagi_train.ipynb",
      "provenance": [],
      "collapsed_sections": [],
      "authorship_tag": "ABX9TyOQ2Dz9PMcYE3lKKHLBFPPO",
      "include_colab_link": true
    },
    "kernelspec": {
      "name": "python3",
      "display_name": "Python 3"
    },
    "language_info": {
      "name": "python"
    },
    "accelerator": "GPU",
    "widgets": {
      "application/vnd.jupyter.widget-state+json": {
        "5b4a3db5045946118470254ae9b9d8d1": {
          "model_module": "@jupyter-widgets/controls",
          "model_name": "HBoxModel",
          "model_module_version": "1.5.0",
          "state": {
            "_view_name": "HBoxView",
            "_dom_classes": [],
            "_model_name": "HBoxModel",
            "_view_module": "@jupyter-widgets/controls",
            "_model_module_version": "1.5.0",
            "_view_count": null,
            "_view_module_version": "1.5.0",
            "box_style": "",
            "layout": "IPY_MODEL_43cffddda4a94cc3aa13bfe8063ca387",
            "_model_module": "@jupyter-widgets/controls",
            "children": [
              "IPY_MODEL_21dd0267b9634b9c9e2dfa671de6d619",
              "IPY_MODEL_f40b2f1d950749b296dbd56272f2f08b",
              "IPY_MODEL_eab688b23aa64b34b4b2b0eab6ff451a"
            ]
          }
        },
        "43cffddda4a94cc3aa13bfe8063ca387": {
          "model_module": "@jupyter-widgets/base",
          "model_name": "LayoutModel",
          "model_module_version": "1.2.0",
          "state": {
            "_view_name": "LayoutView",
            "grid_template_rows": null,
            "right": null,
            "justify_content": null,
            "_view_module": "@jupyter-widgets/base",
            "overflow": null,
            "_model_module_version": "1.2.0",
            "_view_count": null,
            "flex_flow": null,
            "width": null,
            "min_width": null,
            "border": null,
            "align_items": null,
            "bottom": null,
            "_model_module": "@jupyter-widgets/base",
            "top": null,
            "grid_column": null,
            "overflow_y": null,
            "overflow_x": null,
            "grid_auto_flow": null,
            "grid_area": null,
            "grid_template_columns": null,
            "flex": null,
            "_model_name": "LayoutModel",
            "justify_items": null,
            "grid_row": null,
            "max_height": null,
            "align_content": null,
            "visibility": null,
            "align_self": null,
            "height": null,
            "min_height": null,
            "padding": null,
            "grid_auto_rows": null,
            "grid_gap": null,
            "max_width": null,
            "order": null,
            "_view_module_version": "1.2.0",
            "grid_template_areas": null,
            "object_position": null,
            "object_fit": null,
            "grid_auto_columns": null,
            "margin": null,
            "display": null,
            "left": null
          }
        },
        "21dd0267b9634b9c9e2dfa671de6d619": {
          "model_module": "@jupyter-widgets/controls",
          "model_name": "HTMLModel",
          "model_module_version": "1.5.0",
          "state": {
            "_view_name": "HTMLView",
            "style": "IPY_MODEL_651073501ba24c84a42fac72742572fa",
            "_dom_classes": [],
            "description": "",
            "_model_name": "HTMLModel",
            "placeholder": "​",
            "_view_module": "@jupyter-widgets/controls",
            "_model_module_version": "1.5.0",
            "value": "100%",
            "_view_count": null,
            "_view_module_version": "1.5.0",
            "description_tooltip": null,
            "_model_module": "@jupyter-widgets/controls",
            "layout": "IPY_MODEL_ca8660f24c5748f698c065c5f68a98b9"
          }
        },
        "f40b2f1d950749b296dbd56272f2f08b": {
          "model_module": "@jupyter-widgets/controls",
          "model_name": "FloatProgressModel",
          "model_module_version": "1.5.0",
          "state": {
            "_view_name": "ProgressView",
            "style": "IPY_MODEL_e818e58972d54453acdaea5189b62011",
            "_dom_classes": [],
            "description": "",
            "_model_name": "FloatProgressModel",
            "bar_style": "success",
            "max": 178793939,
            "_view_module": "@jupyter-widgets/controls",
            "_model_module_version": "1.5.0",
            "value": 178793939,
            "_view_count": null,
            "_view_module_version": "1.5.0",
            "orientation": "horizontal",
            "min": 0,
            "description_tooltip": null,
            "_model_module": "@jupyter-widgets/controls",
            "layout": "IPY_MODEL_8b85913bd7df46be90dbe0167f5d4291"
          }
        },
        "eab688b23aa64b34b4b2b0eab6ff451a": {
          "model_module": "@jupyter-widgets/controls",
          "model_name": "HTMLModel",
          "model_module_version": "1.5.0",
          "state": {
            "_view_name": "HTMLView",
            "style": "IPY_MODEL_7ea19feb0a974c138f5fd52c21b02077",
            "_dom_classes": [],
            "description": "",
            "_model_name": "HTMLModel",
            "placeholder": "​",
            "_view_module": "@jupyter-widgets/controls",
            "_model_module_version": "1.5.0",
            "value": " 171M/171M [00:01&lt;00:00, 130MB/s]",
            "_view_count": null,
            "_view_module_version": "1.5.0",
            "description_tooltip": null,
            "_model_module": "@jupyter-widgets/controls",
            "layout": "IPY_MODEL_d39479a66c454a10be40487314519d11"
          }
        },
        "651073501ba24c84a42fac72742572fa": {
          "model_module": "@jupyter-widgets/controls",
          "model_name": "DescriptionStyleModel",
          "model_module_version": "1.5.0",
          "state": {
            "_view_name": "StyleView",
            "_model_name": "DescriptionStyleModel",
            "description_width": "",
            "_view_module": "@jupyter-widgets/base",
            "_model_module_version": "1.5.0",
            "_view_count": null,
            "_view_module_version": "1.2.0",
            "_model_module": "@jupyter-widgets/controls"
          }
        },
        "ca8660f24c5748f698c065c5f68a98b9": {
          "model_module": "@jupyter-widgets/base",
          "model_name": "LayoutModel",
          "model_module_version": "1.2.0",
          "state": {
            "_view_name": "LayoutView",
            "grid_template_rows": null,
            "right": null,
            "justify_content": null,
            "_view_module": "@jupyter-widgets/base",
            "overflow": null,
            "_model_module_version": "1.2.0",
            "_view_count": null,
            "flex_flow": null,
            "width": null,
            "min_width": null,
            "border": null,
            "align_items": null,
            "bottom": null,
            "_model_module": "@jupyter-widgets/base",
            "top": null,
            "grid_column": null,
            "overflow_y": null,
            "overflow_x": null,
            "grid_auto_flow": null,
            "grid_area": null,
            "grid_template_columns": null,
            "flex": null,
            "_model_name": "LayoutModel",
            "justify_items": null,
            "grid_row": null,
            "max_height": null,
            "align_content": null,
            "visibility": null,
            "align_self": null,
            "height": null,
            "min_height": null,
            "padding": null,
            "grid_auto_rows": null,
            "grid_gap": null,
            "max_width": null,
            "order": null,
            "_view_module_version": "1.2.0",
            "grid_template_areas": null,
            "object_position": null,
            "object_fit": null,
            "grid_auto_columns": null,
            "margin": null,
            "display": null,
            "left": null
          }
        },
        "e818e58972d54453acdaea5189b62011": {
          "model_module": "@jupyter-widgets/controls",
          "model_name": "ProgressStyleModel",
          "model_module_version": "1.5.0",
          "state": {
            "_view_name": "StyleView",
            "_model_name": "ProgressStyleModel",
            "description_width": "",
            "_view_module": "@jupyter-widgets/base",
            "_model_module_version": "1.5.0",
            "_view_count": null,
            "_view_module_version": "1.2.0",
            "bar_color": null,
            "_model_module": "@jupyter-widgets/controls"
          }
        },
        "8b85913bd7df46be90dbe0167f5d4291": {
          "model_module": "@jupyter-widgets/base",
          "model_name": "LayoutModel",
          "model_module_version": "1.2.0",
          "state": {
            "_view_name": "LayoutView",
            "grid_template_rows": null,
            "right": null,
            "justify_content": null,
            "_view_module": "@jupyter-widgets/base",
            "overflow": null,
            "_model_module_version": "1.2.0",
            "_view_count": null,
            "flex_flow": null,
            "width": null,
            "min_width": null,
            "border": null,
            "align_items": null,
            "bottom": null,
            "_model_module": "@jupyter-widgets/base",
            "top": null,
            "grid_column": null,
            "overflow_y": null,
            "overflow_x": null,
            "grid_auto_flow": null,
            "grid_area": null,
            "grid_template_columns": null,
            "flex": null,
            "_model_name": "LayoutModel",
            "justify_items": null,
            "grid_row": null,
            "max_height": null,
            "align_content": null,
            "visibility": null,
            "align_self": null,
            "height": null,
            "min_height": null,
            "padding": null,
            "grid_auto_rows": null,
            "grid_gap": null,
            "max_width": null,
            "order": null,
            "_view_module_version": "1.2.0",
            "grid_template_areas": null,
            "object_position": null,
            "object_fit": null,
            "grid_auto_columns": null,
            "margin": null,
            "display": null,
            "left": null
          }
        },
        "7ea19feb0a974c138f5fd52c21b02077": {
          "model_module": "@jupyter-widgets/controls",
          "model_name": "DescriptionStyleModel",
          "model_module_version": "1.5.0",
          "state": {
            "_view_name": "StyleView",
            "_model_name": "DescriptionStyleModel",
            "description_width": "",
            "_view_module": "@jupyter-widgets/base",
            "_model_module_version": "1.5.0",
            "_view_count": null,
            "_view_module_version": "1.2.0",
            "_model_module": "@jupyter-widgets/controls"
          }
        },
        "d39479a66c454a10be40487314519d11": {
          "model_module": "@jupyter-widgets/base",
          "model_name": "LayoutModel",
          "model_module_version": "1.2.0",
          "state": {
            "_view_name": "LayoutView",
            "grid_template_rows": null,
            "right": null,
            "justify_content": null,
            "_view_module": "@jupyter-widgets/base",
            "overflow": null,
            "_model_module_version": "1.2.0",
            "_view_count": null,
            "flex_flow": null,
            "width": null,
            "min_width": null,
            "border": null,
            "align_items": null,
            "bottom": null,
            "_model_module": "@jupyter-widgets/base",
            "top": null,
            "grid_column": null,
            "overflow_y": null,
            "overflow_x": null,
            "grid_auto_flow": null,
            "grid_area": null,
            "grid_template_columns": null,
            "flex": null,
            "_model_name": "LayoutModel",
            "justify_items": null,
            "grid_row": null,
            "max_height": null,
            "align_content": null,
            "visibility": null,
            "align_self": null,
            "height": null,
            "min_height": null,
            "padding": null,
            "grid_auto_rows": null,
            "grid_gap": null,
            "max_width": null,
            "order": null,
            "_view_module_version": "1.2.0",
            "grid_template_areas": null,
            "object_position": null,
            "object_fit": null,
            "grid_auto_columns": null,
            "margin": null,
            "display": null,
            "left": null
          }
        }
      }
    }
  },
  "cells": [
    {
      "cell_type": "markdown",
      "metadata": {
        "id": "view-in-github",
        "colab_type": "text"
      },
      "source": [
        "<a href=\"https://colab.research.google.com/github/DiNOV-Tokyo/yolov5/blob/main/NaviTabi_ResNet101_TL_Inagi_train.ipynb\" target=\"_parent\"><img src=\"https://colab.research.google.com/assets/colab-badge.svg\" alt=\"Open In Colab\"/></a>"
      ]
    },
    {
      "cell_type": "markdown",
      "metadata": {
        "id": "iwenB7-RhoCQ"
      },
      "source": [
        "# 1.ResNet101で転移学習・推論"
      ]
    },
    {
      "cell_type": "markdown",
      "metadata": {
        "id": "wKZWAeRLlM5b"
      },
      "source": [
        "参考にしたサイト# https://tetsumag.com/2021/01/11/ml7/\n",
        "\n"
      ]
    },
    {
      "cell_type": "markdown",
      "metadata": {
        "id": "N9zG3qfX5prR"
      },
      "source": [
        "## 1.1 Google Drive をマウント"
      ]
    },
    {
      "cell_type": "code",
      "metadata": {
        "id": "UWdKx_tgdpeB"
      },
      "source": [
        "!cd /home/developer/dev"
      ],
      "execution_count": null,
      "outputs": []
    },
    {
      "cell_type": "code",
      "metadata": {
        "id": "cza98P1Ed-1a"
      },
      "source": [
        "!mkdir test_dir"
      ],
      "execution_count": null,
      "outputs": []
    },
    {
      "cell_type": "code",
      "metadata": {
        "colab": {
          "base_uri": "https://localhost:8080/"
        },
        "id": "y7Y7OSEWgYze",
        "outputId": "b7e25f93-309e-46bd-a092-d2b69621e475"
      },
      "source": [
        "from google.colab import drive\n",
        "drive.mount('/content/drive')"
      ],
      "execution_count": 1,
      "outputs": [
        {
          "output_type": "stream",
          "name": "stdout",
          "text": [
            "Mounted at /content/drive\n"
          ]
        }
      ]
    },
    {
      "cell_type": "code",
      "metadata": {
        "colab": {
          "base_uri": "https://localhost:8080/"
        },
        "id": "57-xQXjlghOq",
        "outputId": "f8f48f54-58ce-4ba9-b36c-1de1ce541294"
      },
      "source": [
        "%cd /content/drive/My\\ Drive/Colab\\ Notebooks\n",
        "#%mkdir yolo_train\n",
        "%cd yolo_train"
      ],
      "execution_count": 2,
      "outputs": [
        {
          "output_type": "stream",
          "name": "stdout",
          "text": [
            "/content/drive/My Drive/Colab Notebooks\n",
            "/content/drive/My Drive/Colab Notebooks/yolo_train\n"
          ]
        }
      ]
    },
    {
      "cell_type": "markdown",
      "metadata": {
        "id": "ORQPyRiV5xCd"
      },
      "source": [
        "## 1.2 モジュール読み込み"
      ]
    },
    {
      "cell_type": "code",
      "metadata": {
        "id": "KlOZlrmgg3aI",
        "colab": {
          "base_uri": "https://localhost:8080/"
        },
        "outputId": "fab20bef-1a84-4ef7-b58c-5a0e119b2779"
      },
      "source": [
        "import torch\n",
        "import torch.nn as nn\n",
        "import torch.optim as optim\n",
        "import torchvision\n",
        "from torchvision import datasets, models, transforms\n",
        "\n",
        "import numpy as np\n",
        "from tqdm import tqdm\n",
        "from PIL import Image\n",
        "\n",
        "print('Setup complete. Using torch %s %s' % (torch.__version__, torch.cuda.get_device_properties(0) if torch.cuda.is_available() else 'CPU'))"
      ],
      "execution_count": 3,
      "outputs": [
        {
          "output_type": "stream",
          "name": "stdout",
          "text": [
            "Setup complete. Using torch 1.10.0+cu111 CPU\n"
          ]
        }
      ]
    },
    {
      "cell_type": "markdown",
      "metadata": {
        "id": "pZgwEfy-56mW"
      },
      "source": [
        "## 1.3 各種準備"
      ]
    },
    {
      "cell_type": "code",
      "metadata": {
        "id": "duqhLTNhg71w"
      },
      "source": [
        "# transformsを定義\n",
        "size = (224, 224)\n",
        "data_transforms = {\n",
        "    'train': transforms.Compose([\n",
        "        transforms.Resize(size),\n",
        "        transforms.ToTensor(),\n",
        "        transforms.Normalize([0.485, 0.456, 0.406], [0.229, 0.224, 0.225])\n",
        "    ]),\n",
        "    'val': transforms.Compose([\n",
        "        transforms.Resize(size),\n",
        "        transforms.ToTensor(),\n",
        "        transforms.Normalize([0.485, 0.456, 0.406], [0.229, 0.224, 0.225])\n",
        "    ]),\n",
        "}\n"
      ],
      "execution_count": 4,
      "outputs": []
    },
    {
      "cell_type": "code",
      "metadata": {
        "id": "ii-2J78LHWjz",
        "colab": {
          "base_uri": "https://localhost:8080/"
        },
        "outputId": "b144bcba-b173-4e06-b510-a79df641ec6d"
      },
      "source": [
        "!ls -al ./dev/dataset"
      ],
      "execution_count": null,
      "outputs": [
        {
          "output_type": "stream",
          "name": "stdout",
          "text": [
            "total 12\r\n",
            "drwxr-xr-x  3 root   root 4096 Aug 25 08:03 .\r\n",
            "drwxr-xr-x 14 jovyan 1000 4096 Sep 11 20:52 ..\r\n",
            "drwxr-xr-x  3 root   root 4096 Aug 25 08:09 CIFAR10\r\n"
          ]
        }
      ]
    },
    {
      "cell_type": "code",
      "metadata": {
        "colab": {
          "base_uri": "https://localhost:8080/"
        },
        "id": "olz_gFYVk_Hz",
        "outputId": "1b8075c9-725a-48f7-a924-95d80f2f6876"
      },
      "source": [
        "# datasetsを定義\n",
        "train_data_dir = 'inagi_dataset/train'\n",
        "val_data_dir = 'inagi_dataset/val'\n",
        "\n",
        "image_datasets = {\n",
        "    'train': torchvision.datasets.ImageFolder(train_data_dir, transform=data_transforms['train']),\n",
        "    'val': torchvision.datasets.ImageFolder(val_data_dir, transform=data_transforms['val'])\n",
        "}\n",
        "\n",
        "dataloaders = {\n",
        "    'train': torch.utils.data.DataLoader(image_datasets['train'], batch_size=10, shuffle=True),\n",
        "    'val': torch.utils.data.DataLoader(image_datasets['val'], batch_size=5)\n",
        "}\n",
        "\n",
        "dataset_sizes = {\n",
        "    'train': len(image_datasets['train']),\n",
        "    'val': len(image_datasets['val'])\n",
        "}\n",
        "\n",
        "class_names = image_datasets['train'].classes\n",
        "print('分類種類:', class_names)\n"
      ],
      "execution_count": 5,
      "outputs": [
        {
          "output_type": "stream",
          "name": "stdout",
          "text": [
            "分類種類: ['aoi-jinjya', 'hi', 'higasikata-park', 'monument', 'poll', 'pump', 'stone', 'tate-jinjya', 'temple', 'torisan']\n"
          ]
        }
      ]
    },
    {
      "cell_type": "markdown",
      "metadata": {
        "id": "OLyyrXVG6U71"
      },
      "source": [
        "#### 1.4 モデルの調整"
      ]
    },
    {
      "cell_type": "code",
      "metadata": {
        "id": "HZmpyShVg_XJ",
        "colab": {
          "base_uri": "https://localhost:8080/",
          "height": 67,
          "referenced_widgets": [
            "5b4a3db5045946118470254ae9b9d8d1",
            "43cffddda4a94cc3aa13bfe8063ca387",
            "21dd0267b9634b9c9e2dfa671de6d619",
            "f40b2f1d950749b296dbd56272f2f08b",
            "eab688b23aa64b34b4b2b0eab6ff451a",
            "651073501ba24c84a42fac72742572fa",
            "ca8660f24c5748f698c065c5f68a98b9",
            "e818e58972d54453acdaea5189b62011",
            "8b85913bd7df46be90dbe0167f5d4291",
            "7ea19feb0a974c138f5fd52c21b02077",
            "d39479a66c454a10be40487314519d11"
          ]
        },
        "outputId": "f3584ec0-974f-4ebd-8dbe-c1940a824efe"
      },
      "source": [
        "# モデルの調整\n",
        "\n",
        "# GPU/CPUが使えるかどうか確認\n",
        "device = torch.device(\"cuda:0\" if torch.cuda.is_available() else \"cpu\")\n",
        "\n",
        "# ResNet101の読み込み\n",
        "model = models.resnet101(pretrained=True)\n",
        "\n",
        "# パラメータの固定\n",
        "for param in model.parameters():\n",
        "    param.requires_grad = False\n",
        "\n",
        "# 最後の全結合層を固定しない＞ここだけ学習する\n",
        "last_layer = list(model.children())[-1]\n",
        "for param in last_layer.parameters():\n",
        "    param.requires_grad = True\n",
        "\n",
        "# 分類数を1000から2つに変更\n",
        "#num_ftrs = model.classifier[6].in_features\n",
        "num_ftrs = model.fc.in_features\n",
        "model.fc = torch.nn.Linear(num_ftrs, len(class_names))\n",
        "model = model.to(device)\n",
        "\n",
        "# loss関数、最適化関数の設定\n",
        "# lossを定義\n",
        "criterion = nn.CrossEntropyLoss()\n",
        "\n",
        "# 色々な最適化関数 lrが学習率 0.001 0.0001などで調整\n",
        "optimizer = optim.Adam(model.parameters(), lr=0.0001,)\n",
        "# optimizer = optim.SGD(model.parameters(), lr=0.001,)\n"
      ],
      "execution_count": 6,
      "outputs": [
        {
          "output_type": "stream",
          "name": "stderr",
          "text": [
            "Downloading: \"https://download.pytorch.org/models/resnet101-63fe2227.pth\" to /root/.cache/torch/hub/checkpoints/resnet101-63fe2227.pth\n"
          ]
        },
        {
          "output_type": "display_data",
          "data": {
            "application/vnd.jupyter.widget-view+json": {
              "model_id": "5b4a3db5045946118470254ae9b9d8d1",
              "version_minor": 0,
              "version_major": 2
            },
            "text/plain": [
              "  0%|          | 0.00/171M [00:00<?, ?B/s]"
            ]
          },
          "metadata": {}
        }
      ]
    },
    {
      "cell_type": "markdown",
      "metadata": {
        "id": "ZYFO5rdP6hwY"
      },
      "source": [
        "## 1.5 学習処理関数"
      ]
    },
    {
      "cell_type": "code",
      "metadata": {
        "id": "Zxb9fEPq6gaV"
      },
      "source": [
        "# 学習処理\n",
        "def train(model, dataloader, otpimizer, criterion, num_epochs, device):\n",
        "    \"\"\"\n",
        "    model:学習モデル\n",
        "    dataloader:学習、評価データのdataloader\n",
        "    optimizer:最適化関数\n",
        "    crierion:ロス関数\n",
        "    num_epochs:学習回数\n",
        "    device:CPUかGPUか\n",
        "    \"\"\"\n",
        "    best_acc = 0.0\n",
        "    # 学習を繰り返す\n",
        "    for epoch in range(num_epochs):\n",
        "        # trainとvalを繰り返す\n",
        "        for phase in ['train', 'val']:\n",
        "            # モデルを学習モードか評価モードに切り替える\n",
        "            if phase == 'train':\n",
        "                model.train()\n",
        "            else:\n",
        "                model.eval()\n",
        "            \n",
        "            # 精度計算用\n",
        "            loss_sum = 0.0\n",
        "            acc_sum = 0.0\n",
        "            total = 0\n",
        "\n",
        "            # 進捗の表示\n",
        "            with tqdm(total=len(dataloaders[phase]),unit=\"batch\") as pbar:\n",
        "                pbar.set_description(f\"Epoch[{epoch}/{num_epochs}]({phase})\")\n",
        "                \n",
        "                # dataloadersからバッチサイズに応じてデータを取得\n",
        "                for inputs, labels in dataloaders[phase]:\n",
        "                    # 画像とラベルをGPU/CPUか切り替え\n",
        "                    inputs = inputs.to(device)\n",
        "                    labels = labels.to(device)\n",
        "\n",
        "                    # 予測\n",
        "                    outputs = model(inputs)\n",
        "                    _, preds = torch.max(outputs, 1)\n",
        "                    \n",
        "                    # ロス算出\n",
        "                    loss = criterion(outputs, labels)\n",
        "                    \n",
        "                    # 予測とラベルの差を使って学習 \n",
        "                    if phase == 'train':\n",
        "                        # ここは決まり文句\n",
        "                        optimizer.zero_grad()\n",
        "                        loss.backward()\n",
        "                        optimizer.step()\n",
        "\n",
        "                    # ロス、精度を算出\n",
        "                    total += inputs.size(0)\n",
        "                    loss_sum += loss.item() * inputs.size(0)\n",
        "                    acc_sum += torch.sum(preds == labels.data).item()\n",
        "                    \n",
        "                    # 進捗の表示\n",
        "                    pbar.set_postfix({\"loss\":loss_sum/float(total),\"accuracy\":float(acc_sum)/float(total)})\n",
        "                    pbar.update(1)\n",
        "\n",
        "            # 1エポックでのロス、精度を算出\n",
        "            epoch_loss = loss_sum / dataset_sizes[phase]\n",
        "            epoch_acc = acc_sum / dataset_sizes[phase]\n",
        "            \n",
        "            # 一番良い制度の時にモデルデータを保存\n",
        "            if phase == 'val' and epoch_acc > best_acc:\n",
        "                print(f\"save model epoch:{epoch} loss:{epoch_loss} acc:{epoch_acc}\")\n",
        "                torch.save(model, 'best_model_resnet101_inagi_tl20211124.pth')\n",
        "\n"
      ],
      "execution_count": 7,
      "outputs": []
    },
    {
      "cell_type": "markdown",
      "metadata": {
        "id": "sMfKokA06qdn"
      },
      "source": [
        "## 1.6 学習実行"
      ]
    },
    {
      "cell_type": "code",
      "metadata": {
        "colab": {
          "base_uri": "https://localhost:8080/"
        },
        "id": "ZZagbNFw6tuH",
        "outputId": "06bc165a-f784-4242-9ed9-af1f0b1dcf61"
      },
      "source": [
        "# 関数を実行\n",
        "##num_epochs = 10\n",
        "num_epochs = 15\n",
        "train(model, dataloaders, optimizer, criterion, num_epochs, device)\n"
      ],
      "execution_count": 8,
      "outputs": [
        {
          "output_type": "stream",
          "name": "stderr",
          "text": [
            "Epoch[0/15](train): 100%|██████████| 10/10 [01:13<00:00,  7.32s/batch, loss=2.31, accuracy=0.11]\n",
            "Epoch[0/15](val): 100%|██████████| 20/20 [00:48<00:00,  2.42s/batch, loss=2.16, accuracy=0.2]\n"
          ]
        },
        {
          "output_type": "stream",
          "name": "stdout",
          "text": [
            "save model epoch:0 loss:2.1599096834659575 acc:0.2\n"
          ]
        },
        {
          "output_type": "stream",
          "name": "stderr",
          "text": [
            "Epoch[1/15](train): 100%|██████████| 10/10 [00:38<00:00,  3.87s/batch, loss=2.13, accuracy=0.3]\n",
            "Epoch[1/15](val): 100%|██████████| 20/20 [00:33<00:00,  1.66s/batch, loss=2, accuracy=0.51]\n"
          ]
        },
        {
          "output_type": "stream",
          "name": "stdout",
          "text": [
            "save model epoch:1 loss:1.998707365989685 acc:0.51\n"
          ]
        },
        {
          "output_type": "stream",
          "name": "stderr",
          "text": [
            "Epoch[2/15](train): 100%|██████████| 10/10 [00:39<00:00,  3.98s/batch, loss=1.98, accuracy=0.61]\n",
            "Epoch[2/15](val): 100%|██████████| 20/20 [00:33<00:00,  1.66s/batch, loss=1.86, accuracy=0.81]\n"
          ]
        },
        {
          "output_type": "stream",
          "name": "stdout",
          "text": [
            "save model epoch:2 loss:1.8601006388664245 acc:0.81\n"
          ]
        },
        {
          "output_type": "stream",
          "name": "stderr",
          "text": [
            "Epoch[3/15](train): 100%|██████████| 10/10 [00:38<00:00,  3.88s/batch, loss=1.89, accuracy=0.79]\n",
            "Epoch[3/15](val): 100%|██████████| 20/20 [00:33<00:00,  1.65s/batch, loss=1.74, accuracy=0.94]\n"
          ]
        },
        {
          "output_type": "stream",
          "name": "stdout",
          "text": [
            "save model epoch:3 loss:1.7367568731307983 acc:0.94\n"
          ]
        },
        {
          "output_type": "stream",
          "name": "stderr",
          "text": [
            "Epoch[4/15](train): 100%|██████████| 10/10 [00:38<00:00,  3.86s/batch, loss=1.78, accuracy=0.9]\n",
            "Epoch[4/15](val): 100%|██████████| 20/20 [00:33<00:00,  1.66s/batch, loss=1.62, accuracy=0.97]\n"
          ]
        },
        {
          "output_type": "stream",
          "name": "stdout",
          "text": [
            "save model epoch:4 loss:1.6194072306156158 acc:0.97\n"
          ]
        },
        {
          "output_type": "stream",
          "name": "stderr",
          "text": [
            "Epoch[5/15](train): 100%|██████████| 10/10 [00:38<00:00,  3.87s/batch, loss=1.66, accuracy=0.98]\n",
            "Epoch[5/15](val): 100%|██████████| 20/20 [00:33<00:00,  1.66s/batch, loss=1.5, accuracy=0.99]\n"
          ]
        },
        {
          "output_type": "stream",
          "name": "stdout",
          "text": [
            "save model epoch:5 loss:1.5046619415283202 acc:0.99\n"
          ]
        },
        {
          "output_type": "stream",
          "name": "stderr",
          "text": [
            "Epoch[6/15](train): 100%|██████████| 10/10 [00:38<00:00,  3.87s/batch, loss=1.56, accuracy=0.98]\n",
            "Epoch[6/15](val): 100%|██████████| 20/20 [00:33<00:00,  1.66s/batch, loss=1.4, accuracy=0.99]\n"
          ]
        },
        {
          "output_type": "stream",
          "name": "stdout",
          "text": [
            "save model epoch:6 loss:1.3998847961425782 acc:0.99\n"
          ]
        },
        {
          "output_type": "stream",
          "name": "stderr",
          "text": [
            "Epoch[7/15](train): 100%|██████████| 10/10 [00:38<00:00,  3.87s/batch, loss=1.48, accuracy=0.99]\n",
            "Epoch[7/15](val): 100%|██████████| 20/20 [00:33<00:00,  1.67s/batch, loss=1.3, accuracy=1]\n"
          ]
        },
        {
          "output_type": "stream",
          "name": "stdout",
          "text": [
            "save model epoch:7 loss:1.297160530090332 acc:1.0\n"
          ]
        },
        {
          "output_type": "stream",
          "name": "stderr",
          "text": [
            "Epoch[8/15](train): 100%|██████████| 10/10 [00:39<00:00,  3.93s/batch, loss=1.38, accuracy=1]\n",
            "Epoch[8/15](val): 100%|██████████| 20/20 [00:33<00:00,  1.66s/batch, loss=1.2, accuracy=1]\n"
          ]
        },
        {
          "output_type": "stream",
          "name": "stdout",
          "text": [
            "save model epoch:8 loss:1.200728076696396 acc:1.0\n"
          ]
        },
        {
          "output_type": "stream",
          "name": "stderr",
          "text": [
            "Epoch[9/15](train): 100%|██████████| 10/10 [00:38<00:00,  3.87s/batch, loss=1.29, accuracy=0.99]\n",
            "Epoch[9/15](val): 100%|██████████| 20/20 [00:33<00:00,  1.66s/batch, loss=1.11, accuracy=1]\n"
          ]
        },
        {
          "output_type": "stream",
          "name": "stdout",
          "text": [
            "save model epoch:9 loss:1.11074341237545 acc:1.0\n"
          ]
        },
        {
          "output_type": "stream",
          "name": "stderr",
          "text": [
            "Epoch[10/15](train): 100%|██████████| 10/10 [00:38<00:00,  3.87s/batch, loss=1.23, accuracy=0.99]\n",
            "Epoch[10/15](val): 100%|██████████| 20/20 [00:34<00:00,  1.74s/batch, loss=1.02, accuracy=1]\n"
          ]
        },
        {
          "output_type": "stream",
          "name": "stdout",
          "text": [
            "save model epoch:10 loss:1.0247832119464875 acc:1.0\n"
          ]
        },
        {
          "output_type": "stream",
          "name": "stderr",
          "text": [
            "Epoch[11/15](train): 100%|██████████| 10/10 [00:38<00:00,  3.88s/batch, loss=1.15, accuracy=1]\n",
            "Epoch[11/15](val): 100%|██████████| 20/20 [00:33<00:00,  1.68s/batch, loss=0.951, accuracy=1]\n"
          ]
        },
        {
          "output_type": "stream",
          "name": "stdout",
          "text": [
            "save model epoch:11 loss:0.9514564901590348 acc:1.0\n"
          ]
        },
        {
          "output_type": "stream",
          "name": "stderr",
          "text": [
            "Epoch[12/15](train): 100%|██████████| 10/10 [00:39<00:00,  3.90s/batch, loss=1.1, accuracy=1]\n",
            "Epoch[12/15](val): 100%|██████████| 20/20 [00:33<00:00,  1.68s/batch, loss=0.884, accuracy=1]\n"
          ]
        },
        {
          "output_type": "stream",
          "name": "stdout",
          "text": [
            "save model epoch:12 loss:0.8835032165050507 acc:1.0\n"
          ]
        },
        {
          "output_type": "stream",
          "name": "stderr",
          "text": [
            "Epoch[13/15](train): 100%|██████████| 10/10 [00:38<00:00,  3.90s/batch, loss=0.973, accuracy=1]\n",
            "Epoch[13/15](val): 100%|██████████| 20/20 [00:33<00:00,  1.67s/batch, loss=0.822, accuracy=1]\n"
          ]
        },
        {
          "output_type": "stream",
          "name": "stdout",
          "text": [
            "save model epoch:13 loss:0.8223015457391739 acc:1.0\n"
          ]
        },
        {
          "output_type": "stream",
          "name": "stderr",
          "text": [
            "Epoch[14/15](train): 100%|██████████| 10/10 [00:38<00:00,  3.88s/batch, loss=0.973, accuracy=1]\n",
            "Epoch[14/15](val): 100%|██████████| 20/20 [00:33<00:00,  1.67s/batch, loss=0.764, accuracy=1]\n"
          ]
        },
        {
          "output_type": "stream",
          "name": "stdout",
          "text": [
            "save model epoch:14 loss:0.7643058001995087 acc:1.0\n"
          ]
        }
      ]
    },
    {
      "cell_type": "markdown",
      "metadata": {
        "id": "3dlcZynr62FA"
      },
      "source": [
        "## 1.7 推論"
      ]
    },
    {
      "cell_type": "code",
      "metadata": {
        "colab": {
          "base_uri": "https://localhost:8080/"
        },
        "id": "plFT7l-EBUi1",
        "outputId": "edb615c3-316f-40a0-e876-af28cbed0606"
      },
      "source": [
        "import torch\n",
        "import torch.nn as nn\n",
        "import torch.optim as optim\n",
        "import torchvision\n",
        "from torchvision import datasets, models, transforms\n",
        "\n",
        "import numpy as np\n",
        "from tqdm import tqdm\n",
        "from PIL import Image\n",
        "\n",
        "print('Setup complete. Using torch %s %s' % (torch.__version__, torch.cuda.get_device_properties(0) if torch.cuda.is_available() else 'CPU'))"
      ],
      "execution_count": null,
      "outputs": [
        {
          "output_type": "stream",
          "name": "stdout",
          "text": [
            "Setup complete. Using torch 1.9.0+cu102 _CudaDeviceProperties(name='Tesla K80', major=3, minor=7, total_memory=11441MB, multi_processor_count=13)\n"
          ]
        }
      ]
    },
    {
      "cell_type": "code",
      "metadata": {
        "colab": {
          "base_uri": "https://localhost:8080/",
          "height": 358
        },
        "id": "la1hsICI61bV",
        "outputId": "cd714cad-27dc-4aa3-a15c-64717dbb25e7"
      },
      "source": [
        "# テストデータで確認\n",
        "# 今回学習したモデルでテスト\n",
        "# モデルはGPUで学習。GPUを使って推論するときはこれでOK\n",
        "#best_model = torch.load('best_model_resnet101_tl20210906.pth')\n",
        "# CPUで推論するときはmap_location=\"CPU\"を指定\n",
        "best_model = torch.load('best_model_resnet101_inagi_tl20211124.pth', map_location=\"cpu\")\n",
        "\n",
        "\n",
        "# 対象画像\n",
        "filename = 'inagi_dataset/P1150408.JPG'\n",
        "filename = 'inagi_dataset/P1150892.JPG'\n",
        "\n",
        "#filename = 'dataset/monument.JPG'\n",
        "#filename = 'dataset/pump.JPG'\n",
        "#filename = 'dataset/stone.JPG'\n",
        "#filename = 'dataset/aoi-shrine.JPG'\n",
        "#filename = 'dataset/Lion.jpeg'\n",
        "\n",
        "\n",
        "# 読み込み画像をリサイズやtensorなどの方に変換\n",
        "input_image = Image.open(filename)\n",
        "\n",
        "preprocess = transforms.Compose([\n",
        "    transforms.Resize(224),\n",
        "    transforms.ToTensor(),\n",
        "    transforms.Normalize(mean=[0.485, 0.456, 0.406], std=[0.229, 0.224, 0.225]),\n",
        "])\n",
        "input_tensor = preprocess(input_image)\n",
        "input_batch = input_tensor.unsqueeze(0)\n",
        "\n",
        "# GPU使える場合はGPUを使う\n",
        "# CPUを使うときは、コメントアウト\n",
        "#if torch.cuda.is_available():\n",
        "    #input_batch = input_batch.to('cuda')\n",
        "    #best_model.to('cuda')\n",
        "\n",
        "# AIの判定\n",
        "with torch.no_grad():\n",
        "    output = best_model(input_batch)\n",
        "output = torch.nn.functional.softmax(output[0], dim=0)\n",
        "print(output.shape)\n",
        "\n",
        "# 出力結果から2種類のうちどれかを数値で取得\n",
        "output = output.to('cpu').detach().numpy().copy()\n",
        "ind = np.argmax(output)\n",
        "print(output)\n",
        "print(class_names[ind])\n",
        "\n",
        "%matplotlib inline\n",
        " \n",
        "import matplotlib.pyplot as plt\n",
        "import matplotlib.image as mpimg\n",
        "plt.imshow(mpimg.imread(filename),cmap=\"gray\")"
      ],
      "execution_count": 10,
      "outputs": [
        {
          "output_type": "stream",
          "name": "stdout",
          "text": [
            "torch.Size([10])\n",
            "[0.11002254 0.06442515 0.06462713 0.06259629 0.08824939 0.06766137\n",
            " 0.05864834 0.30644014 0.10947599 0.06785363]\n",
            "tate-jinjya\n"
          ]
        },
        {
          "output_type": "execute_result",
          "data": {
            "text/plain": [
              "<matplotlib.image.AxesImage at 0x7f9b9882ca10>"
            ]
          },
          "metadata": {},
          "execution_count": 10
        },
        {
          "output_type": "display_data",
          "data": {
            "image/png": "[encoded data removed]",
            "text/plain": [
              "<Figure size 432x288 with 1 Axes>"
            ]
          },
          "metadata": {
            "needs_background": "light"
          }
        }
      ]
    }
  ]
}