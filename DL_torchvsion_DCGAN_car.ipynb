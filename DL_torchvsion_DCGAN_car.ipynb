{
  "nbformat": 4,
  "nbformat_minor": 0,
  "metadata": {
    "colab": {
      "name": "DL_torchvsion_DCGAN-car.ipynb",
      "provenance": [],
      "collapsed_sections": [],
      "authorship_tag": "ABX9TyNxfhEY7B4xgDGL/z7rUVuN",
      "include_colab_link": true
    },
    "kernelspec": {
      "name": "python3",
      "display_name": "Python 3"
    },
    "language_info": {
      "name": "python"
    },
    "accelerator": "GPU"
  },
  "cells": [
    {
      "cell_type": "markdown",
      "metadata": {
        "id": "view-in-github",
        "colab_type": "text"
      },
      "source": [
        "<a href=\"https://colab.research.google.com/github/DiNOV-Tokyo/yolov5/blob/main/DL_torchvsion_DCGAN_car.ipynb\" target=\"_parent\"><img src=\"https://colab.research.google.com/assets/colab-badge.svg\" alt=\"Open In Colab\"/></a>"
      ]
    },
    {
      "cell_type": "markdown",
      "metadata": {
        "id": "wKZWAeRLlM5b"
      },
      "source": [
        "# 現場で使える！　PyTorchPyTorch開発入門\n"
      ]
    },
    {
      "cell_type": "markdown",
      "metadata": {
        "id": "S2B6jhvTt-9I"
      },
      "source": [
        "##翔泳社"
      ]
    },
    {
      "cell_type": "markdown",
      "metadata": {
        "id": "N9zG3qfX5prR"
      },
      "source": [
        "## 1.1 Google Drive をマウント"
      ]
    },
    {
      "cell_type": "code",
      "metadata": {
        "colab": {
          "base_uri": "https://localhost:8080/"
        },
        "id": "y7Y7OSEWgYze",
        "outputId": "c05d3125-c180-4803-f3a5-3585967a44fd"
      },
      "source": [
        "from google.colab import drive\n",
        "drive.mount('/content/drive')"
      ],
      "execution_count": 1,
      "outputs": [
        {
          "output_type": "stream",
          "name": "stdout",
          "text": [
            "Mounted at /content/drive\n"
          ]
        }
      ]
    },
    {
      "cell_type": "code",
      "metadata": {
        "colab": {
          "base_uri": "https://localhost:8080/"
        },
        "id": "57-xQXjlghOq",
        "outputId": "d82dc237-e5cb-46f5-c816-ddf02cfd67a7"
      },
      "source": [
        "%cd /content/drive/My\\ Drive/Colab\\ Notebooks\n",
        "#%mkdir yolo_train\n",
        "%cd yolo_train"
      ],
      "execution_count": 2,
      "outputs": [
        {
          "output_type": "stream",
          "name": "stdout",
          "text": [
            "/content/drive/My Drive/Colab Notebooks\n",
            "/content/drive/My Drive/Colab Notebooks/yolo_train\n"
          ]
        }
      ]
    },
    {
      "cell_type": "markdown",
      "metadata": {
        "id": "ORQPyRiV5xCd"
      },
      "source": [
        "## 1.2 モジュール読み込み"
      ]
    },
    {
      "cell_type": "code",
      "metadata": {
        "colab": {
          "base_uri": "https://localhost:8080/"
        },
        "id": "TvNlFt_fdBje",
        "outputId": "b3663abe-fb23-4adb-c7ec-1294ac48e89d"
      },
      "source": [
        "!pip install pytorch"
      ],
      "execution_count": null,
      "outputs": [
        {
          "output_type": "stream",
          "text": [
            "Collecting pytorch\n",
            "  Using cached pytorch-1.0.2.tar.gz (689 bytes)\n",
            "Building wheels for collected packages: pytorch\n",
            "  Building wheel for pytorch (setup.py) ... \u001b[?25lerror\n",
            "\u001b[31m  ERROR: Failed building wheel for pytorch\u001b[0m\n",
            "\u001b[?25h  Running setup.py clean for pytorch\n",
            "Failed to build pytorch\n",
            "Installing collected packages: pytorch\n",
            "    Running setup.py install for pytorch ... \u001b[?25l\u001b[?25herror\n",
            "\u001b[31mERROR: Command errored out with exit status 1: /usr/bin/python3 -u -c 'import io, os, sys, setuptools, tokenize; sys.argv[0] = '\"'\"'/tmp/pip-install-_ll0socw/pytorch_1d6f13c2ca1f4e309c9aa291eefb437e/setup.py'\"'\"'; __file__='\"'\"'/tmp/pip-install-_ll0socw/pytorch_1d6f13c2ca1f4e309c9aa291eefb437e/setup.py'\"'\"';f = getattr(tokenize, '\"'\"'open'\"'\"', open)(__file__) if os.path.exists(__file__) else io.StringIO('\"'\"'from setuptools import setup; setup()'\"'\"');code = f.read().replace('\"'\"'\\r\\n'\"'\"', '\"'\"'\\n'\"'\"');f.close();exec(compile(code, __file__, '\"'\"'exec'\"'\"'))' install --record /tmp/pip-record-16i90gxh/install-record.txt --single-version-externally-managed --compile --install-headers /usr/local/include/python3.7/pytorch Check the logs for full command output.\u001b[0m\n"
          ],
          "name": "stdout"
        }
      ]
    },
    {
      "cell_type": "code",
      "metadata": {
        "colab": {
          "base_uri": "https://localhost:8080/"
        },
        "id": "r9DpFd38ZRk4",
        "outputId": "2f7c7dbd-35e7-42ca-ef94-26dca241c235"
      },
      "source": [
        "!pwd"
      ],
      "execution_count": null,
      "outputs": [
        {
          "output_type": "stream",
          "text": [
            "/content\n"
          ],
          "name": "stdout"
        }
      ]
    },
    {
      "cell_type": "code",
      "metadata": {
        "id": "59KLpqqeXs9S",
        "colab": {
          "base_uri": "https://localhost:8080/"
        },
        "outputId": "a912ce25-20e9-40d3-8204-1f951fef9a8b"
      },
      "source": [
        "import torch\n",
        "import torch.nn as nn\n",
        "import torch.optim as optim\n",
        "import torchvision\n",
        "from torchvision import datasets, models, transforms\n",
        "from torchvision.datasets import ImageFolder\n",
        "import time\n",
        "\n",
        "import numpy as np\n",
        "from tqdm import tqdm\n",
        "from PIL import Image\n",
        "import os\n",
        "import copy\n",
        "\n",
        "#from torch.utils.tensorboard import SummaryWriter\n",
        "from torch.utils.data import TensorDataset, DataLoader\n",
        "from torchvision.utils import save_image\n",
        "\n",
        "print(\"PyTorch Version: \",torch.__version__)\n",
        "print(\"Torchvision Version: \",torchvision.__version__)\n",
        "print('Setup complete. Using torch %s %s' % (torch.__version__, torch.cuda.get_device_properties(0) if torch.cuda.is_available() else 'CPU'))\n",
        "\n",
        "# GPU/CPUが使えるかどうか確認\n",
        "device = torch.device(\"cuda:0\" if torch.cuda.is_available() else \"cpu\")\n",
        "device"
      ],
      "execution_count": 3,
      "outputs": [
        {
          "output_type": "stream",
          "name": "stdout",
          "text": [
            "PyTorch Version:  1.9.0+cu102\n",
            "Torchvision Version:  0.10.0+cu102\n",
            "Setup complete. Using torch 1.9.0+cu102 _CudaDeviceProperties(name='Tesla K80', major=3, minor=7, total_memory=11441MB, multi_processor_count=13)\n"
          ]
        },
        {
          "output_type": "execute_result",
          "data": {
            "text/plain": [
              "device(type='cuda', index=0)"
            ]
          },
          "metadata": {},
          "execution_count": 3
        }
      ]
    },
    {
      "cell_type": "markdown",
      "metadata": {
        "id": "NJn3EnwA009g"
      },
      "source": [
        "##DCGANによる画像生成"
      ]
    },
    {
      "cell_type": "code",
      "metadata": {
        "id": "LKS6Oo8QxgP6"
      },
      "source": [
        ""
      ],
      "execution_count": null,
      "outputs": []
    },
    {
      "cell_type": "markdown",
      "metadata": {
        "id": "5uU-TTYRsVQf"
      },
      "source": [
        "Stanfrod Cars Dataset"
      ]
    },
    {
      "cell_type": "code",
      "metadata": {
        "id": "wokqhqVF9OMA"
      },
      "source": [
        "# http://ai.stanford.edu/~jkrause/cars/car_dataset.html\n",
        "#!wget http://ai.stanford.edu/~jkrause/car196/cars_train.tgz\n",
        "#!tar xf cars_train.tgz\n",
        "#!mkdir stanford-car\n",
        "#!mkdir stanford-car/jpg\n",
        "!mv cars_train/*.jpg stanford-car/jpg"
      ],
      "execution_count": 29,
      "outputs": []
    },
    {
      "cell_type": "code",
      "metadata": {
        "id": "bdKrcsyoMZdh"
      },
      "source": [
        "img_data = ImageFolder(\"./stanford-car/\",\n",
        "    transform=transforms.Compose([\n",
        "        transforms.Resize(80),\n",
        "        transforms.CenterCrop(64),\n",
        "        transforms.ToTensor()\n",
        "]))\n",
        "\n",
        "batch_size = 64\n",
        "img_loader = DataLoader(img_data, batch_size=batch_size,\n",
        "                        shuffle=True)"
      ],
      "execution_count": 30,
      "outputs": []
    },
    {
      "cell_type": "code",
      "metadata": {
        "id": "gKPGsRt4wYRB"
      },
      "source": [
        "!ls ./jpg"
      ],
      "execution_count": 23,
      "outputs": []
    },
    {
      "cell_type": "markdown",
      "metadata": {
        "id": "mLoxW_v41BTo"
      },
      "source": [
        "画像生成モデル"
      ]
    },
    {
      "cell_type": "code",
      "metadata": {
        "id": "CKmGpCSbN2XY"
      },
      "source": [
        "nz = 100\n",
        "ngf = 32\n",
        "\n",
        "class GNet(nn.Module):\n",
        "    def __init__(self):\n",
        "        super().__init__()\n",
        "        self.main = nn.Sequential(\n",
        "            nn.ConvTranspose2d(nz, ngf * 8, \n",
        "                               4, 1, 0, bias=False),\n",
        "            nn.BatchNorm2d(ngf * 8),\n",
        "            nn.ReLU(inplace=True),\n",
        "            nn.ConvTranspose2d(ngf * 8, ngf * 4,\n",
        "                               4, 2, 1, bias=False),\n",
        "            nn.BatchNorm2d(ngf * 4),\n",
        "            nn.ReLU(inplace=True),\n",
        "            nn.ConvTranspose2d(ngf * 4, ngf * 2,\n",
        "                               4, 2, 1, bias=False),\n",
        "            nn.BatchNorm2d(ngf * 2),\n",
        "            nn.ReLU(inplace=True),\n",
        "            nn.ConvTranspose2d(ngf * 2, ngf,\n",
        "                               4, 2, 1, bias=False),\n",
        "            nn.BatchNorm2d(ngf),\n",
        "            nn.ReLU(inplace=True),\n",
        "            nn.ConvTranspose2d(ngf, 3,\n",
        "                               4, 2, 1, bias=False),\n",
        "            nn.Tanh()\n",
        "        )\n",
        "\n",
        "    def forward(self, x):\n",
        "        out = self.main(x)\n",
        "        return out"
      ],
      "execution_count": 31,
      "outputs": []
    },
    {
      "cell_type": "markdown",
      "metadata": {
        "id": "g-kcq8ep1P1S"
      },
      "source": [
        "識別モデル"
      ]
    },
    {
      "cell_type": "code",
      "metadata": {
        "id": "NA0fWeFDOuDn"
      },
      "source": [
        "ndf = 32\n",
        "\n",
        "class DNet(nn.Module):\n",
        "    def __init__(self):\n",
        "        super().__init__()\n",
        "        self.main = nn.Sequential(\n",
        "            nn.Conv2d(3, ndf, 4, 2, 1, bias=False),\n",
        "            nn.LeakyReLU(0.2, inplace=True),\n",
        "            nn.Conv2d(ndf, ndf * 2, 4, 2, 1, bias=False),\n",
        "            nn.BatchNorm2d(ndf * 2),\n",
        "            nn.LeakyReLU(0.2, inplace=True),\n",
        "            nn.Conv2d(ndf * 2, ndf * 4, 4, 2, 1, bias=False),\n",
        "            nn.BatchNorm2d(ndf * 4),\n",
        "            nn.LeakyReLU(0.2, inplace=True),\n",
        "            nn.Conv2d(ndf * 4, ndf * 8, 4, 2, 1, bias=False),\n",
        "            nn.BatchNorm2d(ndf * 8),\n",
        "            nn.LeakyReLU(0.2, inplace=True),\n",
        "            nn.Conv2d(ndf * 8, 1, 4, 1, 0, bias=False),\n",
        "        )\n",
        "\n",
        "    def forward(self, x):\n",
        "        out = self.main(x)\n",
        "        return out.squeeze()"
      ],
      "execution_count": 32,
      "outputs": []
    },
    {
      "cell_type": "markdown",
      "metadata": {
        "id": "pZgwEfy-56mW"
      },
      "source": [
        "訓練関数の作成"
      ]
    },
    {
      "cell_type": "code",
      "metadata": {
        "id": "JSRwX-mNBq52"
      },
      "source": [
        "d = DNet().to(\"cuda:0\")\n",
        "g = GNet().to(\"cuda:0\")\n",
        "\n",
        "# Adamのパラメータは元論文の提案値\n",
        "opt_d = optim.Adam(d.parameters(),\n",
        "    lr=0.0002, betas=(0.5, 0.999))\n",
        "opt_g = optim.Adam(g.parameters(),\n",
        "    lr=0.0002, betas=(0.5, 0.999))\n",
        "\n",
        "# クロスエントロピーを計算するための補助変数など\n",
        "ones = torch.ones(batch_size).to(\"cuda:0\")\n",
        "zeros = torch.zeros(batch_size).to(\"cuda:0\")\n",
        "loss_f = nn.BCEWithLogitsLoss()\n",
        "\n",
        "# モニタリング用のz\n",
        "fixed_z = torch.randn(batch_size, nz, 1, 1).to(\"cuda:0\")"
      ],
      "execution_count": 33,
      "outputs": []
    },
    {
      "cell_type": "code",
      "metadata": {
        "id": "Y863SNPPSQyd"
      },
      "source": [
        "from statistics import mean\n",
        "\n",
        "def train_dcgan(g, d, opt_g, opt_d, loader):\n",
        "    # 生成モデル、識別モデルの目的関数の追跡用の配列\n",
        "    log_loss_g = []\n",
        "    log_loss_d = []\n",
        "    for real_img, _ in tqdm(loader):\n",
        "        batch_len = len(real_img)\n",
        "        \n",
        "         # 実際の画像をGPUにコピー\n",
        "        real_img = real_img.to(\"cuda:0\")\n",
        "        \n",
        "         # 偽画像を乱数と生成モデルから作る\n",
        "        z = torch.randn(batch_len, nz, 1, 1).to(\"cuda:0\")\n",
        "        fake_img = g(z)\n",
        "        \n",
        "        # 後で使用するので偽画像の値のみ取り出しておく\n",
        "        fake_img_tensor = fake_img.detach()\n",
        "        \n",
        "        # 偽画像に対する生成モデルの評価関数を計算する\n",
        "        out = d(fake_img)\n",
        "        loss_g = loss_f(out, ones[: batch_len])\n",
        "        log_loss_g.append(loss_g.item())\n",
        "        \n",
        "        # 計算グラフが生成モデルと識別モデルの両方に\n",
        "        # 依存しているので両者とも勾配をクリアしてから\n",
        "        # 微分の計算とパラメータ更新を行う\n",
        "        d.zero_grad(), g.zero_grad()\n",
        "        loss_g.backward()\n",
        "        opt_g.step()\n",
        "\n",
        "        # 実際の画像に対する識別モデルの評価関数を計算\n",
        "        real_out = d(real_img)\n",
        "        loss_d_real = loss_f(real_out, ones[: batch_len])\n",
        "        \n",
        "        # PyTorchでは同じTensorを含んだ計算グラフに対して\n",
        "        # 2回backwardを行うことができないので保存してあった\n",
        "        # Tensorを使用して無駄な計算を省く\n",
        "        fake_img = fake_img_tensor\n",
        "        \n",
        "        # 偽画像に対する識別モデルの評価関数の計算\n",
        "        fake_out = d(fake_img_tensor)\n",
        "        loss_d_fake = loss_f(fake_out, zeros[: batch_len])\n",
        "        \n",
        "        # 実偽の評価関数の合計値\n",
        "        loss_d = loss_d_real + loss_d_fake\n",
        "        log_loss_d.append(loss_d.item())\n",
        "        \n",
        "        # 識別モデルの微分計算とパラメータ更新\n",
        "        d.zero_grad(), g.zero_grad()\n",
        "        loss_d.backward()\n",
        "        opt_d.step()\n",
        "        \n",
        "    return mean(log_loss_g), mean(log_loss_d)"
      ],
      "execution_count": 34,
      "outputs": []
    },
    {
      "cell_type": "markdown",
      "metadata": {
        "id": "vJblCcOpT1i2"
      },
      "source": [
        "訓練開始"
      ]
    },
    {
      "cell_type": "code",
      "metadata": {
        "id": "duqhLTNhg71w",
        "colab": {
          "base_uri": "https://localhost:8080/"
        },
        "outputId": "e4b47f1a-5f8c-49e2-e7db-78f7a0459d7d"
      },
      "source": [
        "\n",
        "import datetime\n",
        "\n",
        "for epoch in range(100):\n",
        "    train_dcgan(g, d, opt_g, opt_d, img_loader)\n",
        "    print(\"{} Epoch {}: \".format(datetime.datetime.now(), epoch))\n",
        "    # 10回の繰り返しごとに学習結果を保存する\n",
        "    if epoch % 10 == 0:\n",
        "        # パラメータの保存\n",
        "        torch.save(\n",
        "            g.state_dict(),\n",
        "            \"stanford-car/g_{:03d}.prm\".format(epoch),\n",
        "            pickle_protocol=4)\n",
        "        torch.save(\n",
        "            d.state_dict(),\n",
        "            \"stanford-car/d_{:03d}.prm\".format(epoch),\n",
        "            pickle_protocol=4)\n",
        "        # モニタリング用のzから生成した画像を保存\n",
        "        generated_img = g(fixed_z)\n",
        "        save_image(generated_img,\n",
        "                   \"stanford-car/{:03d}.jpg\".format(epoch))"
      ],
      "execution_count": 35,
      "outputs": [
        {
          "output_type": "stream",
          "name": "stderr",
          "text": [
            "100%|██████████| 128/128 [01:59<00:00,  1.07it/s]\n"
          ]
        },
        {
          "output_type": "stream",
          "name": "stdout",
          "text": [
            "2021-09-15 23:26:42.260188 Epoch 0: \n"
          ]
        },
        {
          "output_type": "stream",
          "name": "stderr",
          "text": [
            "100%|██████████| 128/128 [01:59<00:00,  1.07it/s]\n"
          ]
        },
        {
          "output_type": "stream",
          "name": "stdout",
          "text": [
            "2021-09-15 23:28:41.722759 Epoch 1: \n"
          ]
        },
        {
          "output_type": "stream",
          "name": "stderr",
          "text": [
            "100%|██████████| 128/128 [02:00<00:00,  1.06it/s]\n"
          ]
        },
        {
          "output_type": "stream",
          "name": "stdout",
          "text": [
            "2021-09-15 23:30:42.303177 Epoch 2: \n"
          ]
        },
        {
          "output_type": "stream",
          "name": "stderr",
          "text": [
            "100%|██████████| 128/128 [01:55<00:00,  1.11it/s]\n"
          ]
        },
        {
          "output_type": "stream",
          "name": "stdout",
          "text": [
            "2021-09-15 23:32:38.108485 Epoch 3: \n"
          ]
        },
        {
          "output_type": "stream",
          "name": "stderr",
          "text": [
            "100%|██████████| 128/128 [01:54<00:00,  1.12it/s]\n"
          ]
        },
        {
          "output_type": "stream",
          "name": "stdout",
          "text": [
            "2021-09-15 23:34:32.422999 Epoch 4: \n"
          ]
        },
        {
          "output_type": "stream",
          "name": "stderr",
          "text": [
            "100%|██████████| 128/128 [01:55<00:00,  1.11it/s]\n"
          ]
        },
        {
          "output_type": "stream",
          "name": "stdout",
          "text": [
            "2021-09-15 23:36:27.566144 Epoch 5: \n"
          ]
        },
        {
          "output_type": "stream",
          "name": "stderr",
          "text": [
            "100%|██████████| 128/128 [01:54<00:00,  1.11it/s]\n"
          ]
        },
        {
          "output_type": "stream",
          "name": "stdout",
          "text": [
            "2021-09-15 23:38:22.423413 Epoch 6: \n"
          ]
        },
        {
          "output_type": "stream",
          "name": "stderr",
          "text": [
            "100%|██████████| 128/128 [01:52<00:00,  1.14it/s]\n"
          ]
        },
        {
          "output_type": "stream",
          "name": "stdout",
          "text": [
            "2021-09-15 23:40:15.118052 Epoch 7: \n"
          ]
        },
        {
          "output_type": "stream",
          "name": "stderr",
          "text": [
            "100%|██████████| 128/128 [01:52<00:00,  1.14it/s]\n"
          ]
        },
        {
          "output_type": "stream",
          "name": "stdout",
          "text": [
            "2021-09-15 23:42:07.482397 Epoch 8: \n"
          ]
        },
        {
          "output_type": "stream",
          "name": "stderr",
          "text": [
            "100%|██████████| 128/128 [01:50<00:00,  1.16it/s]\n"
          ]
        },
        {
          "output_type": "stream",
          "name": "stdout",
          "text": [
            "2021-09-15 23:43:58.275737 Epoch 9: \n"
          ]
        },
        {
          "output_type": "stream",
          "name": "stderr",
          "text": [
            "100%|██████████| 128/128 [01:49<00:00,  1.17it/s]\n"
          ]
        },
        {
          "output_type": "stream",
          "name": "stdout",
          "text": [
            "2021-09-15 23:45:48.149982 Epoch 10: \n"
          ]
        },
        {
          "output_type": "stream",
          "name": "stderr",
          "text": [
            "100%|██████████| 128/128 [01:56<00:00,  1.10it/s]\n"
          ]
        },
        {
          "output_type": "stream",
          "name": "stdout",
          "text": [
            "2021-09-15 23:47:44.675178 Epoch 11: \n"
          ]
        },
        {
          "output_type": "stream",
          "name": "stderr",
          "text": [
            "100%|██████████| 128/128 [01:50<00:00,  1.16it/s]\n"
          ]
        },
        {
          "output_type": "stream",
          "name": "stdout",
          "text": [
            "2021-09-15 23:49:35.195884 Epoch 12: \n"
          ]
        },
        {
          "output_type": "stream",
          "name": "stderr",
          "text": [
            "100%|██████████| 128/128 [01:52<00:00,  1.13it/s]\n"
          ]
        },
        {
          "output_type": "stream",
          "name": "stdout",
          "text": [
            "2021-09-15 23:51:28.067385 Epoch 13: \n"
          ]
        },
        {
          "output_type": "stream",
          "name": "stderr",
          "text": [
            "100%|██████████| 128/128 [01:53<00:00,  1.13it/s]\n"
          ]
        },
        {
          "output_type": "stream",
          "name": "stdout",
          "text": [
            "2021-09-15 23:53:21.594552 Epoch 14: \n"
          ]
        },
        {
          "output_type": "stream",
          "name": "stderr",
          "text": [
            "100%|██████████| 128/128 [01:48<00:00,  1.18it/s]\n"
          ]
        },
        {
          "output_type": "stream",
          "name": "stdout",
          "text": [
            "2021-09-15 23:55:10.220319 Epoch 15: \n"
          ]
        },
        {
          "output_type": "stream",
          "name": "stderr",
          "text": [
            "100%|██████████| 128/128 [01:49<00:00,  1.17it/s]\n"
          ]
        },
        {
          "output_type": "stream",
          "name": "stdout",
          "text": [
            "2021-09-15 23:56:59.612518 Epoch 16: \n"
          ]
        },
        {
          "output_type": "stream",
          "name": "stderr",
          "text": [
            "100%|██████████| 128/128 [01:49<00:00,  1.17it/s]\n"
          ]
        },
        {
          "output_type": "stream",
          "name": "stdout",
          "text": [
            "2021-09-15 23:58:49.210177 Epoch 17: \n"
          ]
        },
        {
          "output_type": "stream",
          "name": "stderr",
          "text": [
            "100%|██████████| 128/128 [01:49<00:00,  1.17it/s]\n"
          ]
        },
        {
          "output_type": "stream",
          "name": "stdout",
          "text": [
            "2021-09-16 00:00:38.739785 Epoch 18: \n"
          ]
        },
        {
          "output_type": "stream",
          "name": "stderr",
          "text": [
            "100%|██████████| 128/128 [01:50<00:00,  1.16it/s]\n"
          ]
        },
        {
          "output_type": "stream",
          "name": "stdout",
          "text": [
            "2021-09-16 00:02:29.078258 Epoch 19: \n"
          ]
        },
        {
          "output_type": "stream",
          "name": "stderr",
          "text": [
            "100%|██████████| 128/128 [01:50<00:00,  1.16it/s]\n"
          ]
        },
        {
          "output_type": "stream",
          "name": "stdout",
          "text": [
            "2021-09-16 00:04:19.527694 Epoch 20: \n"
          ]
        },
        {
          "output_type": "stream",
          "name": "stderr",
          "text": [
            "100%|██████████| 128/128 [01:50<00:00,  1.16it/s]\n"
          ]
        },
        {
          "output_type": "stream",
          "name": "stdout",
          "text": [
            "2021-09-16 00:06:10.175482 Epoch 21: \n"
          ]
        },
        {
          "output_type": "stream",
          "name": "stderr",
          "text": [
            "100%|██████████| 128/128 [01:50<00:00,  1.16it/s]\n"
          ]
        },
        {
          "output_type": "stream",
          "name": "stdout",
          "text": [
            "2021-09-16 00:08:00.978259 Epoch 22: \n"
          ]
        },
        {
          "output_type": "stream",
          "name": "stderr",
          "text": [
            "100%|██████████| 128/128 [01:53<00:00,  1.12it/s]\n"
          ]
        },
        {
          "output_type": "stream",
          "name": "stdout",
          "text": [
            "2021-09-16 00:09:54.899036 Epoch 23: \n"
          ]
        },
        {
          "output_type": "stream",
          "name": "stderr",
          "text": [
            "100%|██████████| 128/128 [01:52<00:00,  1.13it/s]\n"
          ]
        },
        {
          "output_type": "stream",
          "name": "stdout",
          "text": [
            "2021-09-16 00:11:47.823243 Epoch 24: \n"
          ]
        },
        {
          "output_type": "stream",
          "name": "stderr",
          "text": [
            "100%|██████████| 128/128 [01:52<00:00,  1.14it/s]\n"
          ]
        },
        {
          "output_type": "stream",
          "name": "stdout",
          "text": [
            "2021-09-16 00:13:40.468468 Epoch 25: \n"
          ]
        },
        {
          "output_type": "stream",
          "name": "stderr",
          "text": [
            "100%|██████████| 128/128 [01:51<00:00,  1.15it/s]\n"
          ]
        },
        {
          "output_type": "stream",
          "name": "stdout",
          "text": [
            "2021-09-16 00:15:31.846869 Epoch 26: \n"
          ]
        },
        {
          "output_type": "stream",
          "name": "stderr",
          "text": [
            "100%|██████████| 128/128 [01:50<00:00,  1.16it/s]\n"
          ]
        },
        {
          "output_type": "stream",
          "name": "stdout",
          "text": [
            "2021-09-16 00:17:21.948518 Epoch 27: \n"
          ]
        },
        {
          "output_type": "stream",
          "name": "stderr",
          "text": [
            "100%|██████████| 128/128 [01:50<00:00,  1.16it/s]\n"
          ]
        },
        {
          "output_type": "stream",
          "name": "stdout",
          "text": [
            "2021-09-16 00:19:12.145001 Epoch 28: \n"
          ]
        },
        {
          "output_type": "stream",
          "name": "stderr",
          "text": [
            "100%|██████████| 128/128 [01:50<00:00,  1.16it/s]\n"
          ]
        },
        {
          "output_type": "stream",
          "name": "stdout",
          "text": [
            "2021-09-16 00:21:02.652312 Epoch 29: \n"
          ]
        },
        {
          "output_type": "stream",
          "name": "stderr",
          "text": [
            "100%|██████████| 128/128 [01:51<00:00,  1.15it/s]\n"
          ]
        },
        {
          "output_type": "stream",
          "name": "stdout",
          "text": [
            "2021-09-16 00:22:54.224959 Epoch 30: \n"
          ]
        },
        {
          "output_type": "stream",
          "name": "stderr",
          "text": [
            "100%|██████████| 128/128 [01:53<00:00,  1.12it/s]\n"
          ]
        },
        {
          "output_type": "stream",
          "name": "stdout",
          "text": [
            "2021-09-16 00:24:48.229746 Epoch 31: \n"
          ]
        },
        {
          "output_type": "stream",
          "name": "stderr",
          "text": [
            "100%|██████████| 128/128 [01:50<00:00,  1.16it/s]\n"
          ]
        },
        {
          "output_type": "stream",
          "name": "stdout",
          "text": [
            "2021-09-16 00:26:38.506749 Epoch 32: \n"
          ]
        },
        {
          "output_type": "stream",
          "name": "stderr",
          "text": [
            "100%|██████████| 128/128 [01:51<00:00,  1.15it/s]\n"
          ]
        },
        {
          "output_type": "stream",
          "name": "stdout",
          "text": [
            "2021-09-16 00:28:29.635277 Epoch 33: \n"
          ]
        },
        {
          "output_type": "stream",
          "name": "stderr",
          "text": [
            "100%|██████████| 128/128 [01:51<00:00,  1.15it/s]\n"
          ]
        },
        {
          "output_type": "stream",
          "name": "stdout",
          "text": [
            "2021-09-16 00:30:20.879033 Epoch 34: \n"
          ]
        },
        {
          "output_type": "stream",
          "name": "stderr",
          "text": [
            "100%|██████████| 128/128 [01:50<00:00,  1.15it/s]\n"
          ]
        },
        {
          "output_type": "stream",
          "name": "stdout",
          "text": [
            "2021-09-16 00:32:11.837246 Epoch 35: \n"
          ]
        },
        {
          "output_type": "stream",
          "name": "stderr",
          "text": [
            "100%|██████████| 128/128 [01:51<00:00,  1.15it/s]\n"
          ]
        },
        {
          "output_type": "stream",
          "name": "stdout",
          "text": [
            "2021-09-16 00:34:02.901243 Epoch 36: \n"
          ]
        },
        {
          "output_type": "stream",
          "name": "stderr",
          "text": [
            "100%|██████████| 128/128 [01:48<00:00,  1.18it/s]\n"
          ]
        },
        {
          "output_type": "stream",
          "name": "stdout",
          "text": [
            "2021-09-16 00:35:51.766287 Epoch 37: \n"
          ]
        },
        {
          "output_type": "stream",
          "name": "stderr",
          "text": [
            "100%|██████████| 128/128 [01:53<00:00,  1.13it/s]\n"
          ]
        },
        {
          "output_type": "stream",
          "name": "stdout",
          "text": [
            "2021-09-16 00:37:45.302046 Epoch 38: \n"
          ]
        },
        {
          "output_type": "stream",
          "name": "stderr",
          "text": [
            "100%|██████████| 128/128 [01:50<00:00,  1.16it/s]\n"
          ]
        },
        {
          "output_type": "stream",
          "name": "stdout",
          "text": [
            "2021-09-16 00:39:35.591168 Epoch 39: \n"
          ]
        },
        {
          "output_type": "stream",
          "name": "stderr",
          "text": [
            "100%|██████████| 128/128 [01:50<00:00,  1.16it/s]\n"
          ]
        },
        {
          "output_type": "stream",
          "name": "stdout",
          "text": [
            "2021-09-16 00:41:26.382377 Epoch 40: \n"
          ]
        },
        {
          "output_type": "stream",
          "name": "stderr",
          "text": [
            "100%|██████████| 128/128 [01:52<00:00,  1.14it/s]\n"
          ]
        },
        {
          "output_type": "stream",
          "name": "stdout",
          "text": [
            "2021-09-16 00:43:18.945345 Epoch 41: \n"
          ]
        },
        {
          "output_type": "stream",
          "name": "stderr",
          "text": [
            "100%|██████████| 128/128 [01:50<00:00,  1.15it/s]\n"
          ]
        },
        {
          "output_type": "stream",
          "name": "stdout",
          "text": [
            "2021-09-16 00:45:09.934907 Epoch 42: \n"
          ]
        },
        {
          "output_type": "stream",
          "name": "stderr",
          "text": [
            "100%|██████████| 128/128 [01:50<00:00,  1.15it/s]\n"
          ]
        },
        {
          "output_type": "stream",
          "name": "stdout",
          "text": [
            "2021-09-16 00:47:00.799204 Epoch 43: \n"
          ]
        },
        {
          "output_type": "stream",
          "name": "stderr",
          "text": [
            "100%|██████████| 128/128 [01:50<00:00,  1.15it/s]\n"
          ]
        },
        {
          "output_type": "stream",
          "name": "stdout",
          "text": [
            "2021-09-16 00:48:51.706211 Epoch 44: \n"
          ]
        },
        {
          "output_type": "stream",
          "name": "stderr",
          "text": [
            "100%|██████████| 128/128 [01:50<00:00,  1.16it/s]\n"
          ]
        },
        {
          "output_type": "stream",
          "name": "stdout",
          "text": [
            "2021-09-16 00:50:42.464923 Epoch 45: \n"
          ]
        },
        {
          "output_type": "stream",
          "name": "stderr",
          "text": [
            "100%|██████████| 128/128 [01:50<00:00,  1.15it/s]\n"
          ]
        },
        {
          "output_type": "stream",
          "name": "stdout",
          "text": [
            "2021-09-16 00:52:33.332687 Epoch 46: \n"
          ]
        },
        {
          "output_type": "stream",
          "name": "stderr",
          "text": [
            "100%|██████████| 128/128 [01:50<00:00,  1.15it/s]\n"
          ]
        },
        {
          "output_type": "stream",
          "name": "stdout",
          "text": [
            "2021-09-16 00:54:24.340082 Epoch 47: \n"
          ]
        },
        {
          "output_type": "stream",
          "name": "stderr",
          "text": [
            "100%|██████████| 128/128 [01:50<00:00,  1.16it/s]\n"
          ]
        },
        {
          "output_type": "stream",
          "name": "stdout",
          "text": [
            "2021-09-16 00:56:14.850814 Epoch 48: \n"
          ]
        },
        {
          "output_type": "stream",
          "name": "stderr",
          "text": [
            "100%|██████████| 128/128 [01:50<00:00,  1.16it/s]\n"
          ]
        },
        {
          "output_type": "stream",
          "name": "stdout",
          "text": [
            "2021-09-16 00:58:05.569776 Epoch 49: \n"
          ]
        },
        {
          "output_type": "stream",
          "name": "stderr",
          "text": [
            "100%|██████████| 128/128 [01:50<00:00,  1.16it/s]\n"
          ]
        },
        {
          "output_type": "stream",
          "name": "stdout",
          "text": [
            "2021-09-16 00:59:55.795007 Epoch 50: \n"
          ]
        },
        {
          "output_type": "stream",
          "name": "stderr",
          "text": [
            "100%|██████████| 128/128 [01:51<00:00,  1.15it/s]\n"
          ]
        },
        {
          "output_type": "stream",
          "name": "stdout",
          "text": [
            "2021-09-16 01:01:47.479719 Epoch 51: \n"
          ]
        },
        {
          "output_type": "stream",
          "name": "stderr",
          "text": [
            "100%|██████████| 128/128 [01:53<00:00,  1.13it/s]\n"
          ]
        },
        {
          "output_type": "stream",
          "name": "stdout",
          "text": [
            "2021-09-16 01:03:40.745218 Epoch 52: \n"
          ]
        },
        {
          "output_type": "stream",
          "name": "stderr",
          "text": [
            "100%|██████████| 128/128 [01:53<00:00,  1.12it/s]\n"
          ]
        },
        {
          "output_type": "stream",
          "name": "stdout",
          "text": [
            "2021-09-16 01:05:34.574537 Epoch 53: \n"
          ]
        },
        {
          "output_type": "stream",
          "name": "stderr",
          "text": [
            "100%|██████████| 128/128 [01:54<00:00,  1.11it/s]\n"
          ]
        },
        {
          "output_type": "stream",
          "name": "stdout",
          "text": [
            "2021-09-16 01:07:29.395819 Epoch 54: \n"
          ]
        },
        {
          "output_type": "stream",
          "name": "stderr",
          "text": [
            "100%|██████████| 128/128 [01:52<00:00,  1.14it/s]\n"
          ]
        },
        {
          "output_type": "stream",
          "name": "stdout",
          "text": [
            "2021-09-16 01:09:21.861434 Epoch 55: \n"
          ]
        },
        {
          "output_type": "stream",
          "name": "stderr",
          "text": [
            "100%|██████████| 128/128 [01:56<00:00,  1.10it/s]\n"
          ]
        },
        {
          "output_type": "stream",
          "name": "stdout",
          "text": [
            "2021-09-16 01:11:17.995283 Epoch 56: \n"
          ]
        },
        {
          "output_type": "stream",
          "name": "stderr",
          "text": [
            "100%|██████████| 128/128 [01:54<00:00,  1.11it/s]\n"
          ]
        },
        {
          "output_type": "stream",
          "name": "stdout",
          "text": [
            "2021-09-16 01:13:12.927972 Epoch 57: \n"
          ]
        },
        {
          "output_type": "stream",
          "name": "stderr",
          "text": [
            "100%|██████████| 128/128 [01:55<00:00,  1.11it/s]\n"
          ]
        },
        {
          "output_type": "stream",
          "name": "stdout",
          "text": [
            "2021-09-16 01:15:08.352733 Epoch 58: \n"
          ]
        },
        {
          "output_type": "stream",
          "name": "stderr",
          "text": [
            "100%|██████████| 128/128 [01:55<00:00,  1.11it/s]\n"
          ]
        },
        {
          "output_type": "stream",
          "name": "stdout",
          "text": [
            "2021-09-16 01:17:03.747105 Epoch 59: \n"
          ]
        },
        {
          "output_type": "stream",
          "name": "stderr",
          "text": [
            "100%|██████████| 128/128 [01:54<00:00,  1.11it/s]\n"
          ]
        },
        {
          "output_type": "stream",
          "name": "stdout",
          "text": [
            "2021-09-16 01:18:58.649153 Epoch 60: \n"
          ]
        },
        {
          "output_type": "stream",
          "name": "stderr",
          "text": [
            "100%|██████████| 128/128 [01:54<00:00,  1.12it/s]\n"
          ]
        },
        {
          "output_type": "stream",
          "name": "stdout",
          "text": [
            "2021-09-16 01:20:53.515525 Epoch 61: \n"
          ]
        },
        {
          "output_type": "stream",
          "name": "stderr",
          "text": [
            "100%|██████████| 128/128 [01:54<00:00,  1.12it/s]\n"
          ]
        },
        {
          "output_type": "stream",
          "name": "stdout",
          "text": [
            "2021-09-16 01:22:47.902772 Epoch 62: \n"
          ]
        },
        {
          "output_type": "stream",
          "name": "stderr",
          "text": [
            "100%|██████████| 128/128 [01:54<00:00,  1.12it/s]\n"
          ]
        },
        {
          "output_type": "stream",
          "name": "stdout",
          "text": [
            "2021-09-16 01:24:42.343227 Epoch 63: \n"
          ]
        },
        {
          "output_type": "stream",
          "name": "stderr",
          "text": [
            "100%|██████████| 128/128 [01:54<00:00,  1.11it/s]\n"
          ]
        },
        {
          "output_type": "stream",
          "name": "stdout",
          "text": [
            "2021-09-16 01:26:37.279838 Epoch 64: \n"
          ]
        },
        {
          "output_type": "stream",
          "name": "stderr",
          "text": [
            "100%|██████████| 128/128 [01:54<00:00,  1.12it/s]\n"
          ]
        },
        {
          "output_type": "stream",
          "name": "stdout",
          "text": [
            "2021-09-16 01:28:31.564301 Epoch 65: \n"
          ]
        },
        {
          "output_type": "stream",
          "name": "stderr",
          "text": [
            "100%|██████████| 128/128 [01:52<00:00,  1.14it/s]\n"
          ]
        },
        {
          "output_type": "stream",
          "name": "stdout",
          "text": [
            "2021-09-16 01:30:23.993466 Epoch 66: \n"
          ]
        },
        {
          "output_type": "stream",
          "name": "stderr",
          "text": [
            "100%|██████████| 128/128 [01:53<00:00,  1.13it/s]\n"
          ]
        },
        {
          "output_type": "stream",
          "name": "stdout",
          "text": [
            "2021-09-16 01:32:17.451904 Epoch 67: \n"
          ]
        },
        {
          "output_type": "stream",
          "name": "stderr",
          "text": [
            "100%|██████████| 128/128 [01:52<00:00,  1.14it/s]\n"
          ]
        },
        {
          "output_type": "stream",
          "name": "stdout",
          "text": [
            "2021-09-16 01:34:09.916138 Epoch 68: \n"
          ]
        },
        {
          "output_type": "stream",
          "name": "stderr",
          "text": [
            "100%|██████████| 128/128 [01:52<00:00,  1.14it/s]\n"
          ]
        },
        {
          "output_type": "stream",
          "name": "stdout",
          "text": [
            "2021-09-16 01:36:02.524567 Epoch 69: \n"
          ]
        },
        {
          "output_type": "stream",
          "name": "stderr",
          "text": [
            "100%|██████████| 128/128 [01:51<00:00,  1.15it/s]\n"
          ]
        },
        {
          "output_type": "stream",
          "name": "stdout",
          "text": [
            "2021-09-16 01:37:53.992183 Epoch 70: \n"
          ]
        },
        {
          "output_type": "stream",
          "name": "stderr",
          "text": [
            "100%|██████████| 128/128 [01:53<00:00,  1.12it/s]\n"
          ]
        },
        {
          "output_type": "stream",
          "name": "stdout",
          "text": [
            "2021-09-16 01:39:48.004205 Epoch 71: \n"
          ]
        },
        {
          "output_type": "stream",
          "name": "stderr",
          "text": [
            "100%|██████████| 128/128 [01:54<00:00,  1.12it/s]\n"
          ]
        },
        {
          "output_type": "stream",
          "name": "stdout",
          "text": [
            "2021-09-16 01:41:42.796360 Epoch 72: \n"
          ]
        },
        {
          "output_type": "stream",
          "name": "stderr",
          "text": [
            "100%|██████████| 128/128 [01:55<00:00,  1.10it/s]\n"
          ]
        },
        {
          "output_type": "stream",
          "name": "stdout",
          "text": [
            "2021-09-16 01:43:38.789866 Epoch 73: \n"
          ]
        },
        {
          "output_type": "stream",
          "name": "stderr",
          "text": [
            "100%|██████████| 128/128 [01:56<00:00,  1.10it/s]\n"
          ]
        },
        {
          "output_type": "stream",
          "name": "stdout",
          "text": [
            "2021-09-16 01:45:35.356611 Epoch 74: \n"
          ]
        },
        {
          "output_type": "stream",
          "name": "stderr",
          "text": [
            "100%|██████████| 128/128 [01:54<00:00,  1.12it/s]\n"
          ]
        },
        {
          "output_type": "stream",
          "name": "stdout",
          "text": [
            "2021-09-16 01:47:29.952861 Epoch 75: \n"
          ]
        },
        {
          "output_type": "stream",
          "name": "stderr",
          "text": [
            "100%|██████████| 128/128 [01:53<00:00,  1.13it/s]\n"
          ]
        },
        {
          "output_type": "stream",
          "name": "stdout",
          "text": [
            "2021-09-16 01:49:23.206304 Epoch 76: \n"
          ]
        },
        {
          "output_type": "stream",
          "name": "stderr",
          "text": [
            "100%|██████████| 128/128 [01:52<00:00,  1.14it/s]\n"
          ]
        },
        {
          "output_type": "stream",
          "name": "stdout",
          "text": [
            "2021-09-16 01:51:15.768671 Epoch 77: \n"
          ]
        },
        {
          "output_type": "stream",
          "name": "stderr",
          "text": [
            "100%|██████████| 128/128 [01:53<00:00,  1.13it/s]\n"
          ]
        },
        {
          "output_type": "stream",
          "name": "stdout",
          "text": [
            "2021-09-16 01:53:08.885986 Epoch 78: \n"
          ]
        },
        {
          "output_type": "stream",
          "name": "stderr",
          "text": [
            "100%|██████████| 128/128 [01:52<00:00,  1.13it/s]\n"
          ]
        },
        {
          "output_type": "stream",
          "name": "stdout",
          "text": [
            "2021-09-16 01:55:01.867123 Epoch 79: \n"
          ]
        },
        {
          "output_type": "stream",
          "name": "stderr",
          "text": [
            "100%|██████████| 128/128 [01:52<00:00,  1.13it/s]\n"
          ]
        },
        {
          "output_type": "stream",
          "name": "stdout",
          "text": [
            "2021-09-16 01:56:54.818424 Epoch 80: \n"
          ]
        },
        {
          "output_type": "stream",
          "name": "stderr",
          "text": [
            "100%|██████████| 128/128 [01:53<00:00,  1.12it/s]\n"
          ]
        },
        {
          "output_type": "stream",
          "name": "stdout",
          "text": [
            "2021-09-16 01:58:48.863510 Epoch 81: \n"
          ]
        },
        {
          "output_type": "stream",
          "name": "stderr",
          "text": [
            "100%|██████████| 128/128 [01:53<00:00,  1.13it/s]\n"
          ]
        },
        {
          "output_type": "stream",
          "name": "stdout",
          "text": [
            "2021-09-16 02:00:42.352884 Epoch 82: \n"
          ]
        },
        {
          "output_type": "stream",
          "name": "stderr",
          "text": [
            "100%|██████████| 128/128 [01:52<00:00,  1.14it/s]\n"
          ]
        },
        {
          "output_type": "stream",
          "name": "stdout",
          "text": [
            "2021-09-16 02:02:35.002749 Epoch 83: \n"
          ]
        },
        {
          "output_type": "stream",
          "name": "stderr",
          "text": [
            "100%|██████████| 128/128 [01:55<00:00,  1.11it/s]\n"
          ]
        },
        {
          "output_type": "stream",
          "name": "stdout",
          "text": [
            "2021-09-16 02:04:30.426192 Epoch 84: \n"
          ]
        },
        {
          "output_type": "stream",
          "name": "stderr",
          "text": [
            "100%|██████████| 128/128 [01:53<00:00,  1.13it/s]\n"
          ]
        },
        {
          "output_type": "stream",
          "name": "stdout",
          "text": [
            "2021-09-16 02:06:23.653152 Epoch 85: \n"
          ]
        },
        {
          "output_type": "stream",
          "name": "stderr",
          "text": [
            "100%|██████████| 128/128 [01:53<00:00,  1.13it/s]\n"
          ]
        },
        {
          "output_type": "stream",
          "name": "stdout",
          "text": [
            "2021-09-16 02:08:17.393060 Epoch 86: \n"
          ]
        },
        {
          "output_type": "stream",
          "name": "stderr",
          "text": [
            "100%|██████████| 128/128 [01:55<00:00,  1.11it/s]\n"
          ]
        },
        {
          "output_type": "stream",
          "name": "stdout",
          "text": [
            "2021-09-16 02:10:12.888642 Epoch 87: \n"
          ]
        },
        {
          "output_type": "stream",
          "name": "stderr",
          "text": [
            "100%|██████████| 128/128 [01:55<00:00,  1.11it/s]\n"
          ]
        },
        {
          "output_type": "stream",
          "name": "stdout",
          "text": [
            "2021-09-16 02:12:08.194986 Epoch 88: \n"
          ]
        },
        {
          "output_type": "stream",
          "name": "stderr",
          "text": [
            "100%|██████████| 128/128 [01:56<00:00,  1.10it/s]\n"
          ]
        },
        {
          "output_type": "stream",
          "name": "stdout",
          "text": [
            "2021-09-16 02:14:04.254435 Epoch 89: \n"
          ]
        },
        {
          "output_type": "stream",
          "name": "stderr",
          "text": [
            "100%|██████████| 128/128 [01:54<00:00,  1.12it/s]\n"
          ]
        },
        {
          "output_type": "stream",
          "name": "stdout",
          "text": [
            "2021-09-16 02:15:58.733176 Epoch 90: \n"
          ]
        },
        {
          "output_type": "stream",
          "name": "stderr",
          "text": [
            "100%|██████████| 128/128 [01:55<00:00,  1.11it/s]\n"
          ]
        },
        {
          "output_type": "stream",
          "name": "stdout",
          "text": [
            "2021-09-16 02:17:54.611108 Epoch 91: \n"
          ]
        },
        {
          "output_type": "stream",
          "name": "stderr",
          "text": [
            "100%|██████████| 128/128 [01:54<00:00,  1.12it/s]\n"
          ]
        },
        {
          "output_type": "stream",
          "name": "stdout",
          "text": [
            "2021-09-16 02:19:49.044084 Epoch 92: \n"
          ]
        },
        {
          "output_type": "stream",
          "name": "stderr",
          "text": [
            "100%|██████████| 128/128 [01:55<00:00,  1.11it/s]\n"
          ]
        },
        {
          "output_type": "stream",
          "name": "stdout",
          "text": [
            "2021-09-16 02:21:44.302658 Epoch 93: \n"
          ]
        },
        {
          "output_type": "stream",
          "name": "stderr",
          "text": [
            "100%|██████████| 128/128 [01:52<00:00,  1.14it/s]\n"
          ]
        },
        {
          "output_type": "stream",
          "name": "stdout",
          "text": [
            "2021-09-16 02:23:36.729390 Epoch 94: \n"
          ]
        },
        {
          "output_type": "stream",
          "name": "stderr",
          "text": [
            "100%|██████████| 128/128 [01:53<00:00,  1.13it/s]\n"
          ]
        },
        {
          "output_type": "stream",
          "name": "stdout",
          "text": [
            "2021-09-16 02:25:30.099079 Epoch 95: \n"
          ]
        },
        {
          "output_type": "stream",
          "name": "stderr",
          "text": [
            "100%|██████████| 128/128 [01:56<00:00,  1.09it/s]\n"
          ]
        },
        {
          "output_type": "stream",
          "name": "stdout",
          "text": [
            "2021-09-16 02:27:27.103276 Epoch 96: \n"
          ]
        },
        {
          "output_type": "stream",
          "name": "stderr",
          "text": [
            "100%|██████████| 128/128 [01:55<00:00,  1.11it/s]\n"
          ]
        },
        {
          "output_type": "stream",
          "name": "stdout",
          "text": [
            "2021-09-16 02:29:22.621995 Epoch 97: \n"
          ]
        },
        {
          "output_type": "stream",
          "name": "stderr",
          "text": [
            "100%|██████████| 128/128 [01:53<00:00,  1.13it/s]\n"
          ]
        },
        {
          "output_type": "stream",
          "name": "stdout",
          "text": [
            "2021-09-16 02:31:16.206138 Epoch 98: \n"
          ]
        },
        {
          "output_type": "stream",
          "name": "stderr",
          "text": [
            "100%|██████████| 128/128 [01:52<00:00,  1.13it/s]"
          ]
        },
        {
          "output_type": "stream",
          "name": "stdout",
          "text": [
            "2021-09-16 02:33:09.197677 Epoch 99: \n"
          ]
        },
        {
          "output_type": "stream",
          "name": "stderr",
          "text": [
            "\n"
          ]
        }
      ]
    },
    {
      "cell_type": "markdown",
      "metadata": {
        "id": "oa1VV_4s1TvP"
      },
      "source": [
        "結果の表示"
      ]
    },
    {
      "cell_type": "markdown",
      "metadata": {
        "id": "BfNbeXCZeK0t"
      },
      "source": [
        ""
      ]
    },
    {
      "cell_type": "code",
      "metadata": {
        "id": "ZZabf9c7K-lt"
      },
      "source": [
        "from IPython.display import Image,display_jpeg\n",
        "#display_jpeg(Image('cars_train/080.jpg'))\n",
        "display_jpeg(Image('stanford-car/*.jpg'))"
      ],
      "execution_count": 22,
      "outputs": []
    },
    {
      "cell_type": "code",
      "metadata": {
        "colab": {
          "base_uri": "https://localhost:8080/"
        },
        "id": "9V3TBoqeQugS",
        "outputId": "128d7fbe-7f82-4390-97df-c9a1ad0d31ff"
      },
      "source": [
        "!ls -all"
      ],
      "execution_count": null,
      "outputs": [
        {
          "output_type": "stream",
          "name": "stdout",
          "text": [
            "total 337172\r\n",
            "drwsrwsr-x 1 jovyan users      4096 Sep  4 21:50 .\r\n",
            "drwxr-xr-x 1 root   root       4096 Sep  3 12:01 ..\r\n",
            "-rw-r--r-- 1 jovyan users 344862509 Feb 20  2009 102flowers.tgz\r\n",
            "-rw-rw-r-- 1 jovyan users       220 Feb 25  2020 .bash_logout\r\n",
            "-rw-rw-r-- 1 jovyan users      3823 Sep  3 12:01 .bashrc\r\n",
            "drwsrwsr-x 1 jovyan users      4096 Sep  5 00:01 .cache\r\n",
            "drwsrwsr-x 1 jovyan users      4096 Sep  3 12:02 .conda\r\n",
            "drwxr-sr-x 1 jovyan users      4096 Sep  4 01:04 FashionMNIST\r\n",
            "drwxr-sr-x 1 jovyan users      4096 Sep  4 00:53 .ipynb_checkpoints\r\n",
            "drwxr-sr-x 1 jovyan users      4096 Sep  4 00:53 .ipython\r\n",
            "drwxr-sr-x 2 jovyan users    274432 Sep  4 21:50 jpg\r\n",
            "drwsrws--- 1 jovyan users      4096 Sep  4 01:38 .jupyter\r\n",
            "drwxr-sr-x 1 jovyan users      4096 Sep  4 00:53 .local\r\n",
            "drwsrwsr-x 2 jovyan users      4096 Sep  3 12:02 .npm\r\n",
            "drwx--S--- 3 jovyan users      4096 Sep  4 01:11 .nv\r\n",
            "drwxr-sr-x 3 jovyan users      4096 Sep  4 23:47 oxford-102\r\n",
            "-rw-rw-r-- 1 jovyan users       807 Feb 25  2020 .profile\r\n",
            "-rw-r--r-- 1 jovyan users     33696 Sep  4 01:30 Untitled.ipynb\r\n",
            "-rw-rw-r-- 1 jovyan users       227 Sep  3 12:01 .wget-hsts\r\n",
            "drwsrwsr-x 2 jovyan users      4096 Sep  3 12:01 work\r\n"
          ]
        }
      ]
    }
  ]
}