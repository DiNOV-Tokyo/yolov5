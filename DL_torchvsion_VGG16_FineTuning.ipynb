{
  "nbformat": 4,
  "nbformat_minor": 0,
  "metadata": {
    "colab": {
      "name": "DL_torchvsion_VGG16_FineTuning.ipynb",
      "provenance": [],
      "collapsed_sections": [],
      "authorship_tag": "ABX9TyNCsOLKG2+Cki3R/552Qc18",
      "include_colab_link": true
    },
    "kernelspec": {
      "name": "python3",
      "display_name": "Python 3"
    },
    "language_info": {
      "name": "python"
    },
    "accelerator": "GPU",
    "widgets": {
      "application/vnd.jupyter.widget-state+json": {
        "d223b6b98e2145de968da10d77ded5fe": {
          "model_module": "@jupyter-widgets/controls",
          "model_name": "HBoxModel",
          "state": {
            "_view_name": "HBoxView",
            "_dom_classes": [],
            "_model_name": "HBoxModel",
            "_view_module": "@jupyter-widgets/controls",
            "_model_module_version": "1.5.0",
            "_view_count": null,
            "_view_module_version": "1.5.0",
            "box_style": "",
            "layout": "IPY_MODEL_f4d8d59920524bf98821040cc043fb67",
            "_model_module": "@jupyter-widgets/controls",
            "children": [
              "IPY_MODEL_3de9b50b119c41f0a551be5084218d26",
              "IPY_MODEL_7ee61c405d984101b52e132844687866"
            ]
          }
        },
        "f4d8d59920524bf98821040cc043fb67": {
          "model_module": "@jupyter-widgets/base",
          "model_name": "LayoutModel",
          "state": {
            "_view_name": "LayoutView",
            "grid_template_rows": null,
            "right": null,
            "justify_content": null,
            "_view_module": "@jupyter-widgets/base",
            "overflow": null,
            "_model_module_version": "1.2.0",
            "_view_count": null,
            "flex_flow": null,
            "width": null,
            "min_width": null,
            "border": null,
            "align_items": null,
            "bottom": null,
            "_model_module": "@jupyter-widgets/base",
            "top": null,
            "grid_column": null,
            "overflow_y": null,
            "overflow_x": null,
            "grid_auto_flow": null,
            "grid_area": null,
            "grid_template_columns": null,
            "flex": null,
            "_model_name": "LayoutModel",
            "justify_items": null,
            "grid_row": null,
            "max_height": null,
            "align_content": null,
            "visibility": null,
            "align_self": null,
            "height": null,
            "min_height": null,
            "padding": null,
            "grid_auto_rows": null,
            "grid_gap": null,
            "max_width": null,
            "order": null,
            "_view_module_version": "1.2.0",
            "grid_template_areas": null,
            "object_position": null,
            "object_fit": null,
            "grid_auto_columns": null,
            "margin": null,
            "display": null,
            "left": null
          }
        },
        "3de9b50b119c41f0a551be5084218d26": {
          "model_module": "@jupyter-widgets/controls",
          "model_name": "FloatProgressModel",
          "state": {
            "_view_name": "ProgressView",
            "style": "IPY_MODEL_b3420429e0464953bc70b34e9c103d5a",
            "_dom_classes": [],
            "description": "100%",
            "_model_name": "FloatProgressModel",
            "bar_style": "success",
            "max": 553433881,
            "_view_module": "@jupyter-widgets/controls",
            "_model_module_version": "1.5.0",
            "value": 553433881,
            "_view_count": null,
            "_view_module_version": "1.5.0",
            "orientation": "horizontal",
            "min": 0,
            "description_tooltip": null,
            "_model_module": "@jupyter-widgets/controls",
            "layout": "IPY_MODEL_ae00a1d1b31d4391832fec73e75566b2"
          }
        },
        "7ee61c405d984101b52e132844687866": {
          "model_module": "@jupyter-widgets/controls",
          "model_name": "HTMLModel",
          "state": {
            "_view_name": "HTMLView",
            "style": "IPY_MODEL_35d94a282f854f52a8a98b0d4d19c515",
            "_dom_classes": [],
            "description": "",
            "_model_name": "HTMLModel",
            "placeholder": "​",
            "_view_module": "@jupyter-widgets/controls",
            "_model_module_version": "1.5.0",
            "value": " 528M/528M [01:22&lt;00:00, 6.70MB/s]",
            "_view_count": null,
            "_view_module_version": "1.5.0",
            "description_tooltip": null,
            "_model_module": "@jupyter-widgets/controls",
            "layout": "IPY_MODEL_329efdf0e8ff4864ac73d44d84df421b"
          }
        },
        "b3420429e0464953bc70b34e9c103d5a": {
          "model_module": "@jupyter-widgets/controls",
          "model_name": "ProgressStyleModel",
          "state": {
            "_view_name": "StyleView",
            "_model_name": "ProgressStyleModel",
            "description_width": "initial",
            "_view_module": "@jupyter-widgets/base",
            "_model_module_version": "1.5.0",
            "_view_count": null,
            "_view_module_version": "1.2.0",
            "bar_color": null,
            "_model_module": "@jupyter-widgets/controls"
          }
        },
        "ae00a1d1b31d4391832fec73e75566b2": {
          "model_module": "@jupyter-widgets/base",
          "model_name": "LayoutModel",
          "state": {
            "_view_name": "LayoutView",
            "grid_template_rows": null,
            "right": null,
            "justify_content": null,
            "_view_module": "@jupyter-widgets/base",
            "overflow": null,
            "_model_module_version": "1.2.0",
            "_view_count": null,
            "flex_flow": null,
            "width": null,
            "min_width": null,
            "border": null,
            "align_items": null,
            "bottom": null,
            "_model_module": "@jupyter-widgets/base",
            "top": null,
            "grid_column": null,
            "overflow_y": null,
            "overflow_x": null,
            "grid_auto_flow": null,
            "grid_area": null,
            "grid_template_columns": null,
            "flex": null,
            "_model_name": "LayoutModel",
            "justify_items": null,
            "grid_row": null,
            "max_height": null,
            "align_content": null,
            "visibility": null,
            "align_self": null,
            "height": null,
            "min_height": null,
            "padding": null,
            "grid_auto_rows": null,
            "grid_gap": null,
            "max_width": null,
            "order": null,
            "_view_module_version": "1.2.0",
            "grid_template_areas": null,
            "object_position": null,
            "object_fit": null,
            "grid_auto_columns": null,
            "margin": null,
            "display": null,
            "left": null
          }
        },
        "35d94a282f854f52a8a98b0d4d19c515": {
          "model_module": "@jupyter-widgets/controls",
          "model_name": "DescriptionStyleModel",
          "state": {
            "_view_name": "StyleView",
            "_model_name": "DescriptionStyleModel",
            "description_width": "",
            "_view_module": "@jupyter-widgets/base",
            "_model_module_version": "1.5.0",
            "_view_count": null,
            "_view_module_version": "1.2.0",
            "_model_module": "@jupyter-widgets/controls"
          }
        },
        "329efdf0e8ff4864ac73d44d84df421b": {
          "model_module": "@jupyter-widgets/base",
          "model_name": "LayoutModel",
          "state": {
            "_view_name": "LayoutView",
            "grid_template_rows": null,
            "right": null,
            "justify_content": null,
            "_view_module": "@jupyter-widgets/base",
            "overflow": null,
            "_model_module_version": "1.2.0",
            "_view_count": null,
            "flex_flow": null,
            "width": null,
            "min_width": null,
            "border": null,
            "align_items": null,
            "bottom": null,
            "_model_module": "@jupyter-widgets/base",
            "top": null,
            "grid_column": null,
            "overflow_y": null,
            "overflow_x": null,
            "grid_auto_flow": null,
            "grid_area": null,
            "grid_template_columns": null,
            "flex": null,
            "_model_name": "LayoutModel",
            "justify_items": null,
            "grid_row": null,
            "max_height": null,
            "align_content": null,
            "visibility": null,
            "align_self": null,
            "height": null,
            "min_height": null,
            "padding": null,
            "grid_auto_rows": null,
            "grid_gap": null,
            "max_width": null,
            "order": null,
            "_view_module_version": "1.2.0",
            "grid_template_areas": null,
            "object_position": null,
            "object_fit": null,
            "grid_auto_columns": null,
            "margin": null,
            "display": null,
            "left": null
          }
        }
      }
    }
  },
  "cells": [
    {
      "cell_type": "markdown",
      "metadata": {
        "id": "view-in-github",
        "colab_type": "text"
      },
      "source": [
        "<a href=\"https://colab.research.google.com/github/DiNOV-Tokyo/yolov5/blob/main/DL_torchvsion_VGG16_FineTuning.ipynb\" target=\"_parent\"><img src=\"https://colab.research.google.com/assets/colab-badge.svg\" alt=\"Open In Colab\"/></a>"
      ]
    },
    {
      "cell_type": "markdown",
      "metadata": {
        "id": "wKZWAeRLlM5b"
      },
      "source": [
        "参考にしたサイト# https://github.com/YutaroOgawa/pytorch_advanced/tree/master/1_image_classification\n",
        "\n"
      ]
    },
    {
      "cell_type": "markdown",
      "metadata": {
        "id": "N9zG3qfX5prR"
      },
      "source": [
        "## 1.1 Google Drive をマウント"
      ]
    },
    {
      "cell_type": "code",
      "metadata": {
        "colab": {
          "base_uri": "https://localhost:8080/"
        },
        "id": "y7Y7OSEWgYze",
        "outputId": "146ad2db-3c67-49c9-ad80-32ea696decd7"
      },
      "source": [
        "from google.colab import drive\n",
        "drive.mount('/content/drive')"
      ],
      "execution_count": null,
      "outputs": [
        {
          "output_type": "stream",
          "text": [
            "Mounted at /content/drive\n"
          ],
          "name": "stdout"
        }
      ]
    },
    {
      "cell_type": "code",
      "metadata": {
        "colab": {
          "base_uri": "https://localhost:8080/"
        },
        "id": "57-xQXjlghOq",
        "outputId": "c91e15c1-aa0e-429d-8ee3-3dbf499e10f8"
      },
      "source": [
        "%cd /content/drive/My\\ Drive/Colab\\ Notebooks\n",
        "#%mkdir yolo_train\n",
        "%cd yolo_train"
      ],
      "execution_count": null,
      "outputs": [
        {
          "output_type": "stream",
          "text": [
            "/content/drive/My Drive/Colab Notebooks\n",
            "/content/drive/My Drive/Colab Notebooks/yolo_train\n"
          ],
          "name": "stdout"
        }
      ]
    },
    {
      "cell_type": "markdown",
      "metadata": {
        "id": "ORQPyRiV5xCd"
      },
      "source": [
        "## 1.2 モジュール読み込み"
      ]
    },
    {
      "cell_type": "code",
      "metadata": {
        "id": "59KLpqqeXs9S"
      },
      "source": [
        "import torch\n",
        "import torch.nn as nn\n",
        "import torch.optim as optim\n",
        "import torchvision\n",
        "from torchvision import datasets, models, transforms\n",
        "\n",
        "import numpy as np\n",
        "from tqdm import tqdm\n",
        "from PIL import Image"
      ],
      "execution_count": null,
      "outputs": []
    },
    {
      "cell_type": "code",
      "metadata": {
        "id": "JSRwX-mNBq52"
      },
      "source": [
        "# transformsを定義\n",
        "size = (224, 224)\n",
        "data_transforms = {\n",
        "    'train': transforms.Compose([\n",
        "        transforms.Resize(size),\n",
        "        transforms.ToTensor(),\n",
        "        transforms.Normalize([0.485, 0.456, 0.406], [0.229, 0.224, 0.225])\n",
        "    ]),\n",
        "    'val': transforms.Compose([\n",
        "        transforms.Resize(size),\n",
        "        transforms.ToTensor(),\n",
        "        transforms.Normalize([0.485, 0.456, 0.406], [0.229, 0.224, 0.225])\n",
        "    ]),\n",
        "}"
      ],
      "execution_count": null,
      "outputs": []
    },
    {
      "cell_type": "code",
      "metadata": {
        "id": "wokqhqVF9OMA"
      },
      "source": [
        "# 乱数のシードを設定\n",
        "torch.manual_seed(1234)\n",
        "np.random.seed(1234)\n"
      ],
      "execution_count": null,
      "outputs": []
    },
    {
      "cell_type": "markdown",
      "metadata": {
        "id": "pZgwEfy-56mW"
      },
      "source": [
        "## 1.3 データパス設定"
      ]
    },
    {
      "cell_type": "code",
      "metadata": {
        "id": "duqhLTNhg71w",
        "colab": {
          "base_uri": "https://localhost:8080/"
        },
        "outputId": "a465fce5-5dc4-4af3-e29d-d744a4780e6d"
      },
      "source": [
        "# datasetsを定義\n",
        "train_data_dir = 'dataset/train'\n",
        "val_data_dir = 'dataset/val'\n",
        "\n",
        "image_datasets = {\n",
        "    'train': torchvision.datasets.ImageFolder(train_data_dir, transform=data_transforms['train']),\n",
        "    'val': torchvision.datasets.ImageFolder(val_data_dir, transform=data_transforms['val'])\n",
        "}\n",
        "\n",
        "dataloaders = {\n",
        "    'train': torch.utils.data.DataLoader(image_datasets['train'], batch_size=10, shuffle=True),\n",
        "    'val': torch.utils.data.DataLoader(image_datasets['val'], batch_size=5)\n",
        "}\n",
        "\n",
        "dataset_sizes = {\n",
        "    'train': len(image_datasets['train']),\n",
        "    'val': len(image_datasets['val'])\n",
        "}\n",
        "\n",
        "class_names = image_datasets['train'].classes\n",
        "print('分類種類:', class_names)"
      ],
      "execution_count": null,
      "outputs": [
        {
          "output_type": "stream",
          "text": [
            "分類種類: ['gym', 'temple']\n"
          ],
          "name": "stdout"
        }
      ]
    },
    {
      "cell_type": "markdown",
      "metadata": {
        "id": "hybx7SBrHMic"
      },
      "source": [
        "## 1.4 モデル作成・設定　VGG16"
      ]
    },
    {
      "cell_type": "code",
      "metadata": {
        "colab": {
          "base_uri": "https://localhost:8080/",
          "height": 85,
          "referenced_widgets": [
            "d223b6b98e2145de968da10d77ded5fe",
            "f4d8d59920524bf98821040cc043fb67",
            "3de9b50b119c41f0a551be5084218d26",
            "7ee61c405d984101b52e132844687866",
            "b3420429e0464953bc70b34e9c103d5a",
            "ae00a1d1b31d4391832fec73e75566b2",
            "35d94a282f854f52a8a98b0d4d19c515",
            "329efdf0e8ff4864ac73d44d84df421b"
          ]
        },
        "id": "umDk09LVCQVl",
        "outputId": "c1c94cf8-4fa3-4de1-d144-6143a4bbb845"
      },
      "source": [
        "# モデルの調整\n",
        "\n",
        "# GPU/CPUが使えるかどうか確認\n",
        "device = torch.device(\"cuda:0\" if torch.cuda.is_available() else \"cpu\")\n",
        "\n",
        "# VGG16の読み込み 学習済みのパラメータを使用\n",
        "model = models.vgg16(pretrained=True)\n",
        "\n",
        "# 以下は、転移学習の時\n",
        "# パラメータの固定\n",
        "##for param in model.parameters():\n",
        " #   param.requires_grad = False\n",
        "\n",
        "# 最後の全結合層を固定しない＞ここだけ学習する\n",
        "#last_layer = list(model.children())[-1]\n",
        "#for param in last_layer.parameters():\n",
        "   # param.requires_grad = True\n",
        "\n",
        "# 分類数を1000から2つに変更\n",
        "num_ftrs = model.classifier[6].in_features\n",
        "model.classifier[6] = torch.nn.Linear(in_features=num_ftrs, out_features=len(class_names))\n",
        "model = model.to(device)\n",
        "\n",
        "# loss関数、最適化関数の設定\n",
        "criterion = nn.CrossEntropyLoss()\n",
        "\n",
        "# 色々な最適化関数 lrが学習率 0.001 0.0001などで調整\n",
        "optimizer = optim.Adam(model.parameters(), lr=0.0001,)\n",
        "# optimizer = optim.SGD(model.parameters(), lr=0.001,)\n"
      ],
      "execution_count": null,
      "outputs": [
        {
          "output_type": "stream",
          "text": [
            "Downloading: \"https://download.pytorch.org/models/vgg16-397923af.pth\" to /root/.cache/torch/hub/checkpoints/vgg16-397923af.pth\n"
          ],
          "name": "stderr"
        },
        {
          "output_type": "display_data",
          "data": {
            "application/vnd.jupyter.widget-view+json": {
              "model_id": "d223b6b98e2145de968da10d77ded5fe",
              "version_minor": 0,
              "version_major": 2
            },
            "text/plain": [
              "HBox(children=(FloatProgress(value=0.0, max=553433881.0), HTML(value='')))"
            ]
          },
          "metadata": {
            "tags": []
          }
        },
        {
          "output_type": "stream",
          "text": [
            "\n"
          ],
          "name": "stdout"
        }
      ]
    },
    {
      "cell_type": "markdown",
      "metadata": {
        "id": "ZYFO5rdP6hwY"
      },
      "source": [
        "## 1.5 最適化手法を設定（ファインチューニングの時）"
      ]
    },
    {
      "cell_type": "code",
      "metadata": {
        "id": "Zxb9fEPq6gaV",
        "colab": {
          "base_uri": "https://localhost:8080/"
        },
        "outputId": "a6de9ec4-6d53-417b-8eaf-30eb07abaff3"
      },
      "source": [
        "# ファインチューニングで学習させるパラメータを、変数params_to_updateの1～3に格納する\n",
        "\n",
        "params_to_update_1 = []\n",
        "params_to_update_2 = []\n",
        "params_to_update_3 = []\n",
        "\n",
        "# 学習させる層のパラメータ名を指定\n",
        "update_param_names_1 = [\"features\"]\n",
        "update_param_names_2 = [\"classifier.0.weight\",\n",
        "                        \"classifier.0.bias\", \"classifier.3.weight\", \"classifier.3.bias\"]\n",
        "update_param_names_3 = [\"classifier.6.weight\", \"classifier.6.bias\"]\n",
        "\n",
        "# パラメータごとに各リストに格納する\n",
        "for name, param in model.named_parameters():\n",
        "    if update_param_names_1[0] in name:\n",
        "        param.requires_grad = True\n",
        "        params_to_update_1.append(param)\n",
        "        print(\"params_to_update_1に格納：\", name)\n",
        "\n",
        "    elif name in update_param_names_2:\n",
        "        param.requires_grad = True\n",
        "        params_to_update_2.append(param)\n",
        "        print(\"params_to_update_2に格納：\", name)\n",
        "\n",
        "    elif name in update_param_names_3:\n",
        "        param.requires_grad = True\n",
        "        params_to_update_3.append(param)\n",
        "        print(\"params_to_update_3に格納：\", name)\n",
        "\n",
        "    else:\n",
        "        param.requires_grad = False\n",
        "        print(\"勾配計算なし。学習しない：\", name)\n"
      ],
      "execution_count": null,
      "outputs": [
        {
          "output_type": "stream",
          "text": [
            "params_to_update_1に格納： features.0.weight\n",
            "params_to_update_1に格納： features.0.bias\n",
            "params_to_update_1に格納： features.2.weight\n",
            "params_to_update_1に格納： features.2.bias\n",
            "params_to_update_1に格納： features.5.weight\n",
            "params_to_update_1に格納： features.5.bias\n",
            "params_to_update_1に格納： features.7.weight\n",
            "params_to_update_1に格納： features.7.bias\n",
            "params_to_update_1に格納： features.10.weight\n",
            "params_to_update_1に格納： features.10.bias\n",
            "params_to_update_1に格納： features.12.weight\n",
            "params_to_update_1に格納： features.12.bias\n",
            "params_to_update_1に格納： features.14.weight\n",
            "params_to_update_1に格納： features.14.bias\n",
            "params_to_update_1に格納： features.17.weight\n",
            "params_to_update_1に格納： features.17.bias\n",
            "params_to_update_1に格納： features.19.weight\n",
            "params_to_update_1に格納： features.19.bias\n",
            "params_to_update_1に格納： features.21.weight\n",
            "params_to_update_1に格納： features.21.bias\n",
            "params_to_update_1に格納： features.24.weight\n",
            "params_to_update_1に格納： features.24.bias\n",
            "params_to_update_1に格納： features.26.weight\n",
            "params_to_update_1に格納： features.26.bias\n",
            "params_to_update_1に格納： features.28.weight\n",
            "params_to_update_1に格納： features.28.bias\n",
            "params_to_update_2に格納： classifier.0.weight\n",
            "params_to_update_2に格納： classifier.0.bias\n",
            "params_to_update_2に格納： classifier.3.weight\n",
            "params_to_update_2に格納： classifier.3.bias\n",
            "params_to_update_3に格納： classifier.6.weight\n",
            "params_to_update_3に格納： classifier.6.bias\n"
          ],
          "name": "stdout"
        }
      ]
    },
    {
      "cell_type": "code",
      "metadata": {
        "id": "3gBqwIy9bMyt"
      },
      "source": [
        "# 最適化手法の設定\n",
        "optimizer = optim.SGD([\n",
        "    {'params': params_to_update_1, 'lr': 1e-4},\n",
        "    {'params': params_to_update_2, 'lr': 5e-4},\n",
        "    {'params': params_to_update_3, 'lr': 1e-3}\n",
        "], momentum=0.9)"
      ],
      "execution_count": null,
      "outputs": []
    },
    {
      "cell_type": "markdown",
      "metadata": {
        "id": "sMfKokA06qdn"
      },
      "source": [
        "## 1.6 学習関数設定"
      ]
    },
    {
      "cell_type": "code",
      "metadata": {
        "id": "h0jiWrAqDFNc"
      },
      "source": [
        "# 学習処理\n",
        "def train(model, dataloader, otpimizer, criterion, num_epochs, device):\n",
        "    \"\"\"\n",
        "    model:学習モデル\n",
        "    dataloader:学習、評価データのdataloader\n",
        "    optimizer:最適化関数\n",
        "    crierion:ロス関数\n",
        "    num_epochs:学習回数\n",
        "    device:CPUかGPUか\n",
        "    \"\"\"\n",
        "    best_acc = 0.0\n",
        "    # 学習を繰り返す\n",
        "    for epoch in range(num_epochs):\n",
        "        # trainとvalを繰り返す\n",
        "        for phase in ['train', 'val']:\n",
        "            # モデルを学習モードか評価モードに切り替える\n",
        "            if phase == 'train':\n",
        "                model.train()\n",
        "            else:\n",
        "                model.eval()\n",
        "            \n",
        "            # 精度計算用\n",
        "            loss_sum = 0.0\n",
        "            acc_sum = 0.0\n",
        "            total = 0\n",
        "\n",
        "            # 進捗の表示\n",
        "            with tqdm(total=len(dataloaders[phase]),unit=\"batch\") as pbar:\n",
        "                pbar.set_description(f\"Epoch[{epoch}/{num_epochs}]({phase})\")\n",
        "                \n",
        "                # dataloadersからバッチサイズに応じてデータを取得\n",
        "                for inputs, labels in dataloaders[phase]:\n",
        "                    # 画像とラベルをGPU/CPUか切り替え\n",
        "                    inputs = inputs.to(device)\n",
        "                    labels = labels.to(device)\n",
        "\n",
        "                    # 予測\n",
        "                    outputs = model(inputs)\n",
        "                    _, preds = torch.max(outputs, 1)\n",
        "                    \n",
        "                    # ロス算出\n",
        "                    loss = criterion(outputs, labels)\n",
        "                    \n",
        "                    # 予測とラベルの差を使って学習 \n",
        "                    if phase == 'train':\n",
        "                        # ここは決まり文句\n",
        "                        optimizer.zero_grad()\n",
        "                        loss.backward()\n",
        "                        optimizer.step()\n",
        "\n",
        "                    # ロス、精度を算出\n",
        "                    total += inputs.size(0)\n",
        "                    loss_sum += loss.item() * inputs.size(0)\n",
        "                    acc_sum += torch.sum(preds == labels.data).item()\n",
        "                    \n",
        "                    # 進捗の表示\n",
        "                    pbar.set_postfix({\"loss\":loss_sum/float(total),\"accuracy\":float(acc_sum)/float(total)})\n",
        "                    pbar.update(1)\n",
        "\n",
        "            # 1エポックでのロス、精度を算出\n",
        "            epoch_loss = loss_sum / dataset_sizes[phase]\n",
        "            epoch_acc = acc_sum / dataset_sizes[phase]\n",
        "            \n",
        "            # 一番良い制度の時にモデルデータを保存\n",
        "            if phase == 'val' and epoch_acc > best_acc:\n",
        "                print(f\"save model epoch:{epoch} loss:{epoch_loss} acc:{epoch_acc}\")\n",
        "                torch.save(model, 'best_model.pth')\n",
        "\n"
      ],
      "execution_count": null,
      "outputs": []
    },
    {
      "cell_type": "markdown",
      "metadata": {
        "id": "3dlcZynr62FA"
      },
      "source": [
        "## 1.7 学習"
      ]
    },
    {
      "cell_type": "code",
      "metadata": {
        "colab": {
          "base_uri": "https://localhost:8080/"
        },
        "id": "H8fWcSwaDkoy",
        "outputId": "f13ae197-854a-49ac-9314-4e047aa2fc6c"
      },
      "source": [
        "# 関数を実行\n",
        "##num_epochs = 10\n",
        "num_epochs = 5\n",
        "train(model, dataloaders, optimizer, criterion, num_epochs, device)"
      ],
      "execution_count": null,
      "outputs": [
        {
          "output_type": "stream",
          "text": [
            "Epoch[0/5](train):   0%|          | 0/16 [00:00<?, ?batch/s]/usr/local/lib/python3.7/dist-packages/torch/nn/functional.py:718: UserWarning: Named tensors and all their associated APIs are an experimental feature and subject to change. Please do not use them for anything important until they are released as stable. (Triggered internally at  /pytorch/c10/core/TensorImpl.h:1156.)\n",
            "  return torch.max_pool2d(input, kernel_size, stride, padding, dilation, ceil_mode)\n",
            "Epoch[0/5](train): 100%|██████████| 16/16 [01:05<00:00,  4.10s/batch, loss=0.175, accuracy=0.938]\n",
            "Epoch[0/5](val): 100%|██████████| 8/8 [00:15<00:00,  1.96s/batch, loss=0.00788, accuracy=1]\n"
          ],
          "name": "stderr"
        },
        {
          "output_type": "stream",
          "text": [
            "save model epoch:0 loss:0.007879930966737447 acc:1.0\n"
          ],
          "name": "stdout"
        },
        {
          "output_type": "stream",
          "text": [
            "Epoch[1/5](train): 100%|██████████| 16/16 [00:04<00:00,  3.26batch/s, loss=0.00262, accuracy=1]\n",
            "Epoch[1/5](val): 100%|██████████| 8/8 [00:00<00:00, 11.17batch/s, loss=0.00163, accuracy=1]\n"
          ],
          "name": "stderr"
        },
        {
          "output_type": "stream",
          "text": [
            "save model epoch:1 loss:0.0016271826933689226 acc:1.0\n"
          ],
          "name": "stdout"
        },
        {
          "output_type": "stream",
          "text": [
            "Epoch[2/5](train): 100%|██████████| 16/16 [00:05<00:00,  3.19batch/s, loss=0.000769, accuracy=1]\n",
            "Epoch[2/5](val): 100%|██████████| 8/8 [00:00<00:00, 11.41batch/s, loss=0.000938, accuracy=1]\n"
          ],
          "name": "stderr"
        },
        {
          "output_type": "stream",
          "text": [
            "save model epoch:2 loss:0.000938387252801931 acc:1.0\n"
          ],
          "name": "stdout"
        },
        {
          "output_type": "stream",
          "text": [
            "Epoch[3/5](train): 100%|██████████| 16/16 [00:05<00:00,  3.16batch/s, loss=0.000868, accuracy=1]\n",
            "Epoch[3/5](val): 100%|██████████| 8/8 [00:00<00:00, 11.17batch/s, loss=0.000737, accuracy=1]\n"
          ],
          "name": "stderr"
        },
        {
          "output_type": "stream",
          "text": [
            "save model epoch:3 loss:0.0007373806989221521 acc:1.0\n"
          ],
          "name": "stdout"
        },
        {
          "output_type": "stream",
          "text": [
            "Epoch[4/5](train): 100%|██████████| 16/16 [00:04<00:00,  3.24batch/s, loss=0.000566, accuracy=1]\n",
            "Epoch[4/5](val): 100%|██████████| 8/8 [00:00<00:00, 11.57batch/s, loss=0.000618, accuracy=1]\n"
          ],
          "name": "stderr"
        },
        {
          "output_type": "stream",
          "text": [
            "save model epoch:4 loss:0.0006180872828167594 acc:1.0\n"
          ],
          "name": "stdout"
        }
      ]
    },
    {
      "cell_type": "markdown",
      "metadata": {
        "id": "6t-8ypQfd6Hl"
      },
      "source": [
        "## 1.8 推論"
      ]
    },
    {
      "cell_type": "code",
      "metadata": {
        "colab": {
          "base_uri": "https://localhost:8080/"
        },
        "id": "nFw2ImKcGc_i",
        "outputId": "965329cd-3d74-4a05-8988-3b993d442e48"
      },
      "source": [
        "# テストデータで確認\n",
        "# 今回学習したモデルでテスト\n",
        "best_model = torch.load('best_model.pth')\n",
        "\n",
        "# 対象画像\n",
        "#filename = 'dataset/test.jpg'\n",
        "filename = 'dataset/test2.JPG'\n",
        "\n",
        "# 読み込み画像をリサイズやtensorなどの方に変換\n",
        "input_image = Image.open(filename)\n",
        "preprocess = transforms.Compose([\n",
        "    transforms.Resize(224),\n",
        "    transforms.ToTensor(),\n",
        "    transforms.Normalize(mean=[0.485, 0.456, 0.406], std=[0.229, 0.224, 0.225]),\n",
        "])\n",
        "input_tensor = preprocess(input_image)\n",
        "input_batch = input_tensor.unsqueeze(0)\n",
        "\n",
        "# GPU使える場合はGPUを使う\n",
        "if torch.cuda.is_available():\n",
        "    input_batch = input_batch.to('cuda')\n",
        "    best_model.to('cuda')\n",
        "\n",
        "# AIの判定\n",
        "with torch.no_grad():\n",
        "    output = best_model(input_batch)\n",
        "output = torch.nn.functional.softmax(output[0], dim=0)\n",
        "print(output.shape)\n",
        "\n",
        "# 出力結果から2種類のうちどれかを数値で取得\n",
        "output = output.to('cpu').detach().numpy().copy()\n",
        "ind = np.argmax(output)\n",
        "print(class_names[ind])\n",
        "print(output)"
      ],
      "execution_count": null,
      "outputs": [
        {
          "output_type": "stream",
          "text": [
            "torch.Size([2])\n",
            "temple\n",
            "[2.1520081e-04 9.9978477e-01]\n"
          ],
          "name": "stdout"
        }
      ]
    }
  ]
}