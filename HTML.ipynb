{
  "nbformat": 4,
  "nbformat_minor": 0,
  "metadata": {
    "kernelspec": {
      "display_name": "Python 3",
      "language": "python",
      "name": "python3"
    },
    "language_info": {
      "codemirror_mode": {
        "name": "ipython",
        "version": 3
      },
      "file_extension": ".py",
      "mimetype": "text/x-python",
      "name": "python",
      "nbconvert_exporter": "python",
      "pygments_lexer": "ipython3",
      "version": "3.8.10"
    },
    "colab": {
      "name": "HTML.ipynb",
      "provenance": [],
      "collapsed_sections": [],
      "include_colab_link": true
    }
  },
  "cells": [
    {
      "cell_type": "markdown",
      "metadata": {
        "id": "view-in-github",
        "colab_type": "text"
      },
      "source": [
        "<a href=\"https://colab.research.google.com/github/DiNOV-Tokyo/yolov5/blob/main/HTML.ipynb\" target=\"_parent\"><img src=\"https://colab.research.google.com/assets/colab-badge.svg\" alt=\"Open In Colab\"/></a>"
      ]
    },
    {
      "cell_type": "markdown",
      "metadata": {
        "id": "11OiJJMdafJt"
      },
      "source": [
        "Screenshot-to-code"
      ]
    },
    {
      "cell_type": "code",
      "metadata": {
        "colab": {
          "base_uri": "https://localhost:8080/"
        },
        "id": "yUUT-dZmEpX0",
        "outputId": "a2ef9b2b-b397-4e64-9457-fe3121bb2609"
      },
      "source": [
        "!pip install keras tensorflow pillow h5py "
      ],
      "execution_count": null,
      "outputs": [
        {
          "output_type": "stream",
          "name": "stdout",
          "text": [
            "Requirement already satisfied: keras in /usr/local/lib/python3.7/dist-packages (2.7.0)\n",
            "Requirement already satisfied: tensorflow in /usr/local/lib/python3.7/dist-packages (2.7.0)\n",
            "Requirement already satisfied: pillow in /usr/local/lib/python3.7/dist-packages (7.1.2)\n",
            "Requirement already satisfied: h5py in /usr/local/lib/python3.7/dist-packages (3.1.0)\n",
            "Requirement already satisfied: astunparse>=1.6.0 in /usr/local/lib/python3.7/dist-packages (from tensorflow) (1.6.3)\n",
            "Requirement already satisfied: grpcio<2.0,>=1.24.3 in /usr/local/lib/python3.7/dist-packages (from tensorflow) (1.42.0)\n",
            "Requirement already satisfied: keras-preprocessing>=1.1.1 in /usr/local/lib/python3.7/dist-packages (from tensorflow) (1.1.2)\n",
            "Requirement already satisfied: typing-extensions>=3.6.6 in /usr/local/lib/python3.7/dist-packages (from tensorflow) (3.10.0.2)\n",
            "Requirement already satisfied: six>=1.12.0 in /usr/local/lib/python3.7/dist-packages (from tensorflow) (1.15.0)\n",
            "Requirement already satisfied: tensorflow-io-gcs-filesystem>=0.21.0 in /usr/local/lib/python3.7/dist-packages (from tensorflow) (0.22.0)\n",
            "Requirement already satisfied: wheel<1.0,>=0.32.0 in /usr/local/lib/python3.7/dist-packages (from tensorflow) (0.37.0)\n",
            "Requirement already satisfied: termcolor>=1.1.0 in /usr/local/lib/python3.7/dist-packages (from tensorflow) (1.1.0)\n",
            "Requirement already satisfied: absl-py>=0.4.0 in /usr/local/lib/python3.7/dist-packages (from tensorflow) (0.12.0)\n",
            "Requirement already satisfied: numpy>=1.14.5 in /usr/local/lib/python3.7/dist-packages (from tensorflow) (1.19.5)\n",
            "Requirement already satisfied: flatbuffers<3.0,>=1.12 in /usr/local/lib/python3.7/dist-packages (from tensorflow) (2.0)\n",
            "Requirement already satisfied: protobuf>=3.9.2 in /usr/local/lib/python3.7/dist-packages (from tensorflow) (3.17.3)\n",
            "Requirement already satisfied: tensorboard~=2.6 in /usr/local/lib/python3.7/dist-packages (from tensorflow) (2.7.0)\n",
            "Requirement already satisfied: google-pasta>=0.1.1 in /usr/local/lib/python3.7/dist-packages (from tensorflow) (0.2.0)\n",
            "Requirement already satisfied: tensorflow-estimator<2.8,~=2.7.0rc0 in /usr/local/lib/python3.7/dist-packages (from tensorflow) (2.7.0)\n",
            "Requirement already satisfied: opt-einsum>=2.3.2 in /usr/local/lib/python3.7/dist-packages (from tensorflow) (3.3.0)\n",
            "Requirement already satisfied: gast<0.5.0,>=0.2.1 in /usr/local/lib/python3.7/dist-packages (from tensorflow) (0.4.0)\n",
            "Requirement already satisfied: wrapt>=1.11.0 in /usr/local/lib/python3.7/dist-packages (from tensorflow) (1.13.3)\n",
            "Requirement already satisfied: libclang>=9.0.1 in /usr/local/lib/python3.7/dist-packages (from tensorflow) (12.0.0)\n",
            "Requirement already satisfied: cached-property in /usr/local/lib/python3.7/dist-packages (from h5py) (1.5.2)\n",
            "Requirement already satisfied: tensorboard-plugin-wit>=1.6.0 in /usr/local/lib/python3.7/dist-packages (from tensorboard~=2.6->tensorflow) (1.8.0)\n",
            "Requirement already satisfied: tensorboard-data-server<0.7.0,>=0.6.0 in /usr/local/lib/python3.7/dist-packages (from tensorboard~=2.6->tensorflow) (0.6.1)\n",
            "Requirement already satisfied: setuptools>=41.0.0 in /usr/local/lib/python3.7/dist-packages (from tensorboard~=2.6->tensorflow) (57.4.0)\n",
            "Requirement already satisfied: requests<3,>=2.21.0 in /usr/local/lib/python3.7/dist-packages (from tensorboard~=2.6->tensorflow) (2.23.0)\n",
            "Requirement already satisfied: google-auth-oauthlib<0.5,>=0.4.1 in /usr/local/lib/python3.7/dist-packages (from tensorboard~=2.6->tensorflow) (0.4.6)\n",
            "Requirement already satisfied: markdown>=2.6.8 in /usr/local/lib/python3.7/dist-packages (from tensorboard~=2.6->tensorflow) (3.3.6)\n",
            "Requirement already satisfied: werkzeug>=0.11.15 in /usr/local/lib/python3.7/dist-packages (from tensorboard~=2.6->tensorflow) (1.0.1)\n",
            "Requirement already satisfied: google-auth<3,>=1.6.3 in /usr/local/lib/python3.7/dist-packages (from tensorboard~=2.6->tensorflow) (1.35.0)\n",
            "Requirement already satisfied: pyasn1-modules>=0.2.1 in /usr/local/lib/python3.7/dist-packages (from google-auth<3,>=1.6.3->tensorboard~=2.6->tensorflow) (0.2.8)\n",
            "Requirement already satisfied: rsa<5,>=3.1.4 in /usr/local/lib/python3.7/dist-packages (from google-auth<3,>=1.6.3->tensorboard~=2.6->tensorflow) (4.7.2)\n",
            "Requirement already satisfied: cachetools<5.0,>=2.0.0 in /usr/local/lib/python3.7/dist-packages (from google-auth<3,>=1.6.3->tensorboard~=2.6->tensorflow) (4.2.4)\n",
            "Requirement already satisfied: requests-oauthlib>=0.7.0 in /usr/local/lib/python3.7/dist-packages (from google-auth-oauthlib<0.5,>=0.4.1->tensorboard~=2.6->tensorflow) (1.3.0)\n",
            "Requirement already satisfied: importlib-metadata>=4.4 in /usr/local/lib/python3.7/dist-packages (from markdown>=2.6.8->tensorboard~=2.6->tensorflow) (4.8.2)\n",
            "Requirement already satisfied: zipp>=0.5 in /usr/local/lib/python3.7/dist-packages (from importlib-metadata>=4.4->markdown>=2.6.8->tensorboard~=2.6->tensorflow) (3.6.0)\n",
            "Requirement already satisfied: pyasn1<0.5.0,>=0.4.6 in /usr/local/lib/python3.7/dist-packages (from pyasn1-modules>=0.2.1->google-auth<3,>=1.6.3->tensorboard~=2.6->tensorflow) (0.4.8)\n",
            "Requirement already satisfied: urllib3!=1.25.0,!=1.25.1,<1.26,>=1.21.1 in /usr/local/lib/python3.7/dist-packages (from requests<3,>=2.21.0->tensorboard~=2.6->tensorflow) (1.24.3)\n",
            "Requirement already satisfied: chardet<4,>=3.0.2 in /usr/local/lib/python3.7/dist-packages (from requests<3,>=2.21.0->tensorboard~=2.6->tensorflow) (3.0.4)\n",
            "Requirement already satisfied: idna<3,>=2.5 in /usr/local/lib/python3.7/dist-packages (from requests<3,>=2.21.0->tensorboard~=2.6->tensorflow) (2.10)\n",
            "Requirement already satisfied: certifi>=2017.4.17 in /usr/local/lib/python3.7/dist-packages (from requests<3,>=2.21.0->tensorboard~=2.6->tensorflow) (2021.10.8)\n",
            "Requirement already satisfied: oauthlib>=3.0.0 in /usr/local/lib/python3.7/dist-packages (from requests-oauthlib>=0.7.0->google-auth-oauthlib<0.5,>=0.4.1->tensorboard~=2.6->tensorflow) (3.1.1)\n"
          ]
        }
      ]
    },
    {
      "cell_type": "code",
      "metadata": {
        "colab": {
          "base_uri": "https://localhost:8080/"
        },
        "id": "sBSoNkbkE3WQ",
        "outputId": "9b758b5f-dd7f-42d9-f660-c4f7869b798c"
      },
      "source": [
        "from google.colab import drive\n",
        "drive.mount('/content/drive')"
      ],
      "execution_count": 1,
      "outputs": [
        {
          "output_type": "stream",
          "name": "stdout",
          "text": [
            "Mounted at /content/drive\n"
          ]
        }
      ]
    },
    {
      "cell_type": "code",
      "metadata": {
        "colab": {
          "base_uri": "https://localhost:8080/"
        },
        "id": "RYbZzAsZE4CA",
        "outputId": "4b72d20a-b7b4-44ac-c586-53b05b98fea5"
      },
      "source": [
        "%cd /content/drive/My\\ Drive/Colab\\ Notebooks/HTML"
      ],
      "execution_count": 2,
      "outputs": [
        {
          "output_type": "stream",
          "name": "stdout",
          "text": [
            "/content/drive/My Drive/Colab Notebooks/HTML\n"
          ]
        }
      ]
    },
    {
      "cell_type": "code",
      "metadata": {
        "id": "W4Xg0jqDEbOQ"
      },
      "source": [
        "from os import listdir\n",
        "from numpy import array\n",
        "from keras.preprocessing.text import Tokenizer, one_hot\n",
        "from keras.preprocessing.sequence import pad_sequences\n",
        "from keras.models import Model\n",
        "from tensorflow.keras.utils import to_categorical\n",
        "from keras.layers import Embedding, TimeDistributed, RepeatVector, LSTM, concatenate , Input, Reshape, Dense, Flatten\n",
        "from keras.preprocessing.image import array_to_img, img_to_array, load_img\n",
        "from keras.applications.inception_resnet_v2 import InceptionResNetV2, preprocess_input\n",
        "#from tensorflow.keras.preprocessing.text import Tokenizer, one_hot\n",
        "#from tensorflow.keras.preprocessing.sequence import pad_sequences\n",
        "#from tensorflow.keras.models import Model\n",
        "#from tensorflow.keras.utils import to_categorical\n",
        "#from tensorflow.keras.layers import Embedding, TimeDistributed, RepeatVector, LSTM, concatenate , Input, Reshape, Dense, Flatten\n",
        "#from tensorflow.keras.preprocessing.image import array_to_img, img_to_array, load_img\n",
        "#from tensorflow.keras.applications.inception_resnet_v2 import InceptionResNetV2, preprocess_input\n",
        "import numpy as np"
      ],
      "execution_count": 3,
      "outputs": []
    },
    {
      "cell_type": "code",
      "metadata": {
        "colab": {
          "base_uri": "https://localhost:8080/"
        },
        "id": "TZoZZwpKEbOW",
        "outputId": "d6521d14-1c0b-4bb8-dc6a-d0a97e3a0ce8"
      },
      "source": [
        "# Load the images and preprocess them for inception-resnet\n",
        "images = []\n",
        "all_filenames = listdir('images/')\n",
        "all_filenames.sort()\n",
        "for filename in all_filenames:\n",
        "    images.append(img_to_array(load_img('images/'+filename, target_size=(299, 299))))\n",
        "images = np.array(images, dtype=float)\n",
        "images = preprocess_input(images)\n",
        "\n",
        "# Run the images through inception-resnet and extract the features without the classification layer\n",
        "IR2 = InceptionResNetV2(weights='imagenet', include_top=False)\n",
        "features = IR2.predict(images)"
      ],
      "execution_count": 4,
      "outputs": [
        {
          "output_type": "stream",
          "name": "stdout",
          "text": [
            "Downloading data from https://storage.googleapis.com/tensorflow/keras-applications/inception_resnet_v2/inception_resnet_v2_weights_tf_dim_ordering_tf_kernels_notop.h5\n",
            "219062272/219055592 [==============================] - 2s 0us/step\n",
            "219070464/219055592 [==============================] - 2s 0us/step\n"
          ]
        }
      ]
    },
    {
      "cell_type": "code",
      "metadata": {
        "id": "jhi1vI2WEbOY"
      },
      "source": [
        "# We will cap each input sequence to 100 tokens\n",
        "max_caption_len = 100\n",
        "# Initialize the function that will create our vocabulary \n",
        "tokenizer = Tokenizer(filters='', split=\" \", lower=False)\n",
        "\n",
        "# Read a document and return a string\n",
        "def load_doc(filename):\n",
        "    file = open(filename, 'r')\n",
        "    text = file.read()\n",
        "    file.close()\n",
        "    return text\n",
        "\n",
        "# Load all the HTML files\n",
        "X = []\n",
        "all_filenames = listdir('html/')\n",
        "all_filenames.sort()\n",
        "for filename in all_filenames:\n",
        "    X.append(load_doc('html/'+filename))\n",
        "\n",
        "# Create the vocabulary from the html files\n",
        "tokenizer.fit_on_texts(X)\n",
        "\n",
        "# Add +1 to leave space for empty words\n",
        "vocab_size = len(tokenizer.word_index) + 1\n",
        "# Translate each word in text file to the matching vocabulary index\n",
        "sequences = tokenizer.texts_to_sequences(X)\n",
        "# The longest HTML file\n",
        "max_length = max(len(s) for s in sequences)\n",
        "\n",
        "# Intialize our final input to the model\n",
        "X, y, image_data = list(), list(), list()\n",
        "for img_no, seq in enumerate(sequences):\n",
        "    for i in range(1, len(seq)):\n",
        "        # Add the entire sequence to the input and only keep the next word for the output\n",
        "        in_seq, out_seq = seq[:i], seq[i]\n",
        "        # If the sentence is shorter than max_length, fill it up with empty words\n",
        "        in_seq = pad_sequences([in_seq], maxlen=max_length)[0]\n",
        "        # Map the output to one-hot encoding\n",
        "        out_seq = to_categorical([out_seq], num_classes=vocab_size)[0]\n",
        "        # Add and image corresponding to the HTML file\n",
        "        image_data.append(features[img_no])\n",
        "        # Cut the input sentence to 100 tokens, and add it to the input data\n",
        "        X.append(in_seq[-100:])\n",
        "        y.append(out_seq)\n",
        "\n",
        "X, y, image_data = np.array(X), np.array(y), np.array(image_data)"
      ],
      "execution_count": 5,
      "outputs": []
    },
    {
      "cell_type": "code",
      "metadata": {
        "id": "HLioVoSkEbOZ"
      },
      "source": [
        "# Create the encoder\n",
        "image_features = Input(shape=(8, 8, 1536,))\n",
        "image_flat = Flatten()(image_features)\n",
        "image_flat = Dense(128, activation='relu')(image_flat)\n",
        "ir2_out = RepeatVector(max_caption_len)(image_flat)\n",
        "\n",
        "language_input = Input(shape=(max_caption_len,))\n",
        "language_model = Embedding(vocab_size, 200, input_length=max_caption_len)(language_input)\n",
        "language_model = LSTM(256, return_sequences=True)(language_model)\n",
        "language_model = LSTM(256, return_sequences=True)(language_model)\n",
        "language_model = TimeDistributed(Dense(128, activation='relu'))(language_model)\n",
        "\n",
        "# Create the decoder\n",
        "decoder = concatenate([ir2_out, language_model])\n",
        "decoder = LSTM(512, return_sequences=False)(decoder)\n",
        "decoder_output = Dense(vocab_size, activation='softmax')(decoder)\n",
        "\n",
        "# Compile the model\n",
        "model = Model(inputs=[image_features, language_input], outputs=decoder_output)\n",
        "model.compile(loss='categorical_crossentropy', optimizer='rmsprop')"
      ],
      "execution_count": 6,
      "outputs": []
    },
    {
      "cell_type": "code",
      "metadata": {
        "colab": {
          "base_uri": "https://localhost:8080/"
        },
        "id": "l8Phug7QEbOa",
        "outputId": "a65e9524-1829-4237-e34c-7caa3f8d4d10"
      },
      "source": [
        "# Train the neural network\n",
        "model.fit([image_data, X], y, batch_size=64, shuffle=False, epochs=70)"
      ],
      "execution_count": 8,
      "outputs": [
        {
          "output_type": "stream",
          "name": "stdout",
          "text": [
            "Epoch 1/70\n",
            "37/37 [==============================] - 111s 3s/step - loss: 5.5794\n",
            "Epoch 2/70\n",
            "37/37 [==============================] - 111s 3s/step - loss: 5.5676\n",
            "Epoch 3/70\n",
            "37/37 [==============================] - 111s 3s/step - loss: 5.5537\n",
            "Epoch 4/70\n",
            "37/37 [==============================] - 110s 3s/step - loss: 5.5305\n",
            "Epoch 5/70\n",
            "37/37 [==============================] - 110s 3s/step - loss: 5.4436\n",
            "Epoch 6/70\n",
            "37/37 [==============================] - 111s 3s/step - loss: 5.3912\n",
            "Epoch 7/70\n",
            "37/37 [==============================] - 112s 3s/step - loss: 5.3484\n",
            "Epoch 8/70\n",
            "37/37 [==============================] - 111s 3s/step - loss: 5.4042\n",
            "Epoch 9/70\n",
            "37/37 [==============================] - 112s 3s/step - loss: 5.3279\n",
            "Epoch 10/70\n",
            "37/37 [==============================] - 110s 3s/step - loss: 5.2627\n",
            "Epoch 11/70\n",
            "37/37 [==============================] - 110s 3s/step - loss: 5.2134\n",
            "Epoch 12/70\n",
            "37/37 [==============================] - 112s 3s/step - loss: 5.1765\n",
            "Epoch 13/70\n",
            "37/37 [==============================] - 110s 3s/step - loss: 5.1518\n",
            "Epoch 14/70\n",
            "37/37 [==============================] - 110s 3s/step - loss: 5.1434\n",
            "Epoch 15/70\n",
            "37/37 [==============================] - 110s 3s/step - loss: 5.1059\n",
            "Epoch 16/70\n",
            "37/37 [==============================] - 109s 3s/step - loss: 5.0629\n",
            "Epoch 17/70\n",
            "37/37 [==============================] - 110s 3s/step - loss: 5.0803\n",
            "Epoch 18/70\n",
            "37/37 [==============================] - 109s 3s/step - loss: 5.0636\n",
            "Epoch 19/70\n",
            "37/37 [==============================] - 110s 3s/step - loss: 5.1057\n",
            "Epoch 20/70\n",
            "37/37 [==============================] - 110s 3s/step - loss: 5.0633\n",
            "Epoch 21/70\n",
            "37/37 [==============================] - 111s 3s/step - loss: 5.0858\n",
            "Epoch 22/70\n",
            "37/37 [==============================] - 110s 3s/step - loss: 5.0942\n",
            "Epoch 23/70\n",
            "37/37 [==============================] - 111s 3s/step - loss: 5.0514\n",
            "Epoch 24/70\n",
            "37/37 [==============================] - 111s 3s/step - loss: 5.0723\n",
            "Epoch 25/70\n",
            "37/37 [==============================] - 109s 3s/step - loss: 5.0209\n",
            "Epoch 26/70\n",
            "37/37 [==============================] - 109s 3s/step - loss: 5.0388\n",
            "Epoch 27/70\n",
            "37/37 [==============================] - 108s 3s/step - loss: 5.0439\n",
            "Epoch 28/70\n",
            "37/37 [==============================] - 110s 3s/step - loss: 5.0403\n",
            "Epoch 29/70\n",
            "37/37 [==============================] - 109s 3s/step - loss: 5.0314\n",
            "Epoch 30/70\n",
            "37/37 [==============================] - 110s 3s/step - loss: 5.0024\n",
            "Epoch 31/70\n",
            "37/37 [==============================] - 110s 3s/step - loss: 4.9944\n",
            "Epoch 32/70\n",
            "37/37 [==============================] - 109s 3s/step - loss: 4.9392\n",
            "Epoch 33/70\n",
            "37/37 [==============================] - 109s 3s/step - loss: 4.9323\n",
            "Epoch 34/70\n",
            "37/37 [==============================] - 111s 3s/step - loss: 4.9505\n",
            "Epoch 35/70\n",
            "37/37 [==============================] - 110s 3s/step - loss: 4.9440\n",
            "Epoch 36/70\n",
            "37/37 [==============================] - 109s 3s/step - loss: 4.9374\n",
            "Epoch 37/70\n",
            "37/37 [==============================] - 110s 3s/step - loss: 4.9051\n",
            "Epoch 38/70\n",
            "37/37 [==============================] - 113s 3s/step - loss: 4.8849\n",
            "Epoch 39/70\n",
            "37/37 [==============================] - 113s 3s/step - loss: 4.8505\n",
            "Epoch 40/70\n",
            "37/37 [==============================] - 112s 3s/step - loss: 4.8519\n",
            "Epoch 41/70\n",
            "37/37 [==============================] - 111s 3s/step - loss: 4.8343\n",
            "Epoch 42/70\n",
            "37/37 [==============================] - 111s 3s/step - loss: 4.7840\n",
            "Epoch 43/70\n",
            "37/37 [==============================] - 111s 3s/step - loss: 4.7460\n",
            "Epoch 44/70\n",
            "37/37 [==============================] - 112s 3s/step - loss: 4.7313\n",
            "Epoch 45/70\n",
            "37/37 [==============================] - 115s 3s/step - loss: 4.7098\n",
            "Epoch 46/70\n",
            "37/37 [==============================] - 115s 3s/step - loss: 4.7251\n",
            "Epoch 47/70\n",
            "37/37 [==============================] - 114s 3s/step - loss: 4.6880\n",
            "Epoch 48/70\n",
            "37/37 [==============================] - 112s 3s/step - loss: 4.6546\n",
            "Epoch 49/70\n",
            "37/37 [==============================] - 111s 3s/step - loss: 4.6474\n",
            "Epoch 50/70\n",
            "37/37 [==============================] - 110s 3s/step - loss: 4.5894\n",
            "Epoch 51/70\n",
            "37/37 [==============================] - 110s 3s/step - loss: 4.6201\n",
            "Epoch 52/70\n",
            "37/37 [==============================] - 109s 3s/step - loss: 4.5830\n",
            "Epoch 53/70\n",
            "37/37 [==============================] - 109s 3s/step - loss: 4.5868\n",
            "Epoch 54/70\n",
            "37/37 [==============================] - 109s 3s/step - loss: 4.5121\n",
            "Epoch 55/70\n",
            "37/37 [==============================] - 110s 3s/step - loss: 4.4793\n",
            "Epoch 56/70\n",
            "37/37 [==============================] - 111s 3s/step - loss: 4.4449\n",
            "Epoch 57/70\n",
            "37/37 [==============================] - 110s 3s/step - loss: 4.4238\n",
            "Epoch 58/70\n",
            "37/37 [==============================] - 110s 3s/step - loss: 4.3785\n",
            "Epoch 59/70\n",
            "37/37 [==============================] - 110s 3s/step - loss: 4.3817\n",
            "Epoch 60/70\n",
            "37/37 [==============================] - 109s 3s/step - loss: 4.3123\n",
            "Epoch 61/70\n",
            "37/37 [==============================] - 111s 3s/step - loss: 4.3321\n",
            "Epoch 62/70\n",
            "37/37 [==============================] - 111s 3s/step - loss: 4.3327\n",
            "Epoch 63/70\n",
            "37/37 [==============================] - 109s 3s/step - loss: 4.2976\n",
            "Epoch 64/70\n",
            "37/37 [==============================] - 110s 3s/step - loss: 4.1991\n",
            "Epoch 65/70\n",
            "37/37 [==============================] - 109s 3s/step - loss: 4.1634\n",
            "Epoch 66/70\n",
            "37/37 [==============================] - 109s 3s/step - loss: 4.1454\n",
            "Epoch 67/70\n",
            "37/37 [==============================] - 109s 3s/step - loss: 4.1052\n",
            "Epoch 68/70\n",
            "37/37 [==============================] - 110s 3s/step - loss: 4.0643\n",
            "Epoch 69/70\n",
            "37/37 [==============================] - 109s 3s/step - loss: 4.0535\n",
            "Epoch 70/70\n",
            "37/37 [==============================] - 110s 3s/step - loss: 4.0332\n"
          ]
        },
        {
          "output_type": "execute_result",
          "data": {
            "text/plain": [
              "<keras.callbacks.History at 0x7fd474f59710>"
            ]
          },
          "metadata": {},
          "execution_count": 8
        }
      ]
    },
    {
      "cell_type": "code",
      "metadata": {
        "colab": {
          "base_uri": "https://localhost:8080/"
        },
        "id": "jWacDeVyoA0H",
        "outputId": "d312282b-79bc-43a9-f8d1-51f87ee1ff0b"
      },
      "source": [
        "# save the fitted model\n",
        "model.save(\"my_model_20211130\")"
      ],
      "execution_count": 9,
      "outputs": [
        {
          "output_type": "stream",
          "name": "stderr",
          "text": [
            "WARNING:absl:Found untraced functions such as lstm_cell_layer_call_fn, lstm_cell_layer_call_and_return_conditional_losses, lstm_cell_1_layer_call_fn, lstm_cell_1_layer_call_and_return_conditional_losses, lstm_cell_2_layer_call_fn while saving (showing 5 of 15). These functions will not be directly callable after loading.\n"
          ]
        },
        {
          "output_type": "stream",
          "name": "stdout",
          "text": [
            "INFO:tensorflow:Assets written to: my_model_20211130/assets\n"
          ]
        },
        {
          "output_type": "stream",
          "name": "stderr",
          "text": [
            "INFO:tensorflow:Assets written to: my_model_20211130/assets\n",
            "WARNING:absl:<keras.layers.recurrent.LSTMCell object at 0x7fd47f95f350> has the same name 'LSTMCell' as a built-in Keras object. Consider renaming <class 'keras.layers.recurrent.LSTMCell'> to avoid naming conflicts when loading with `tf.keras.models.load_model`. If renaming is not possible, pass the object in the `custom_objects` parameter of the load function.\n",
            "WARNING:absl:<keras.layers.recurrent.LSTMCell object at 0x7fd478a97d10> has the same name 'LSTMCell' as a built-in Keras object. Consider renaming <class 'keras.layers.recurrent.LSTMCell'> to avoid naming conflicts when loading with `tf.keras.models.load_model`. If renaming is not possible, pass the object in the `custom_objects` parameter of the load function.\n",
            "WARNING:absl:<keras.layers.recurrent.LSTMCell object at 0x7fd47a18e5d0> has the same name 'LSTMCell' as a built-in Keras object. Consider renaming <class 'keras.layers.recurrent.LSTMCell'> to avoid naming conflicts when loading with `tf.keras.models.load_model`. If renaming is not possible, pass the object in the `custom_objects` parameter of the load function.\n"
          ]
        }
      ]
    },
    {
      "cell_type": "code",
      "metadata": {
        "id": "U3Hh_bAlEbOb"
      },
      "source": [
        "# map an integer to a word\n",
        "def word_for_id(integer, tokenizer):\n",
        "    for word, index in tokenizer.word_index.items():\n",
        "        if index == integer:\n",
        "            return word\n",
        "    return None"
      ],
      "execution_count": 10,
      "outputs": []
    },
    {
      "cell_type": "code",
      "metadata": {
        "id": "27QUo7EuEbOc"
      },
      "source": [
        "# generate a description for an image\n",
        "def generate_desc(model, tokenizer, photo, max_length):\n",
        "    # seed the generation process\n",
        "    in_text = 'START'\n",
        "    # iterate over the whole length of the sequence\n",
        "    for i in range(900):\n",
        "        # integer encode input sequence\n",
        "        sequence = tokenizer.texts_to_sequences([in_text])[0][-100:]\n",
        "        # pad input\n",
        "        sequence = pad_sequences([sequence], maxlen=max_length)\n",
        "        # predict next word\n",
        "        yhat = model.predict([photo,sequence], verbose=0)\n",
        "        # convert probability to integer\n",
        "        yhat = np.argmax(yhat)\n",
        "        # map integer to word\n",
        "        word = word_for_id(yhat, tokenizer)\n",
        "        # stop if we cannot map the word\n",
        "        if word is None:\n",
        "            break\n",
        "        # append as input for generating the next word\n",
        "        in_text += ' ' + word\n",
        "        # Print the prediction\n",
        "        print(' ' + word, end='')\n",
        "        # stop if we predict the end of the sequence\n",
        "        if word == 'END':\n",
        "            break\n",
        "    return"
      ],
      "execution_count": 11,
      "outputs": []
    },
    {
      "cell_type": "code",
      "metadata": {
        "colab": {
          "base_uri": "https://localhost:8080/"
        },
        "id": "9ZknP962s9u2",
        "outputId": "bd0d3ad1-e19c-4443-b3ce-e5e5a0d7697d"
      },
      "source": [
        "!pwd\n",
        "%cd ..\n"
      ],
      "execution_count": null,
      "outputs": [
        {
          "output_type": "stream",
          "name": "stdout",
          "text": [
            "/content/drive/My Drive/Colab Notebooks/HTML/Screenshot-to-code-in-Keras\n",
            "/content/drive/My Drive/Colab Notebooks/HTML\n"
          ]
        }
      ]
    },
    {
      "cell_type": "code",
      "metadata": {
        "colab": {
          "base_uri": "https://localhost:8080/",
          "height": 1000
        },
        "id": "O2PhO7XyEbOc",
        "outputId": "23b7d994-9615-4df6-b9f5-3b4279149185"
      },
      "source": [
        "# Load and image, preprocess it for IR2, extract features and generate the HTML\n",
        "test_image = img_to_array(load_img('images/87.jpg', target_size=(299, 299)))\n",
        "test_image = np.array(test_image, dtype=float)\n",
        "test_image = preprocess_input(test_image)\n",
        "test_features = IR2.predict(np.array([test_image]))\n",
        "#print(test_features)\n",
        "ret = generate_desc(model, tokenizer, np.array(test_features), 100)\n",
        "\n",
        "with open(\"result.txt\", mode='w') as f:\n",
        "    f.write(ret)"
      ],
      "execution_count": 12,
      "outputs": [
        {
          "output_type": "stream",
          "name": "stdout",
          "text": [
            " Link</a></li>\n",
            " <li><a Link</a></li>\n",
            " <li><a Link</a></li>\n",
            " <li><a Link</a></li>\n",
            " <li><a Link</a></li>\n",
            " <li><a Link</a></li>\n",
            " <li><a Link</a></li>\n",
            " <li><a Link</a></li>\n",
            " <li><a Link</a></li>\n",
            " <li><a Link</a></li>\n",
            " <li><a Link</a></li>\n",
            " <li><a Link</a></li>\n",
            " <li><a Link</a></li>\n",
            " <li><a href=\"#\">Text Link</a></li>\n",
            " <li><a Link</a></li>\n",
            " <li><a href=\"#\">Text Link</a></li>\n",
            " <li><a Link</a></li>\n",
            " <li><a href=\"#\">Text Link</a></li>\n",
            " <li><a href=\"#\">Text Link</a></li>\n",
            " <li><a Link</a></li>\n",
            " <li><a href=\"#\">Text Link</a></li>\n",
            " <li><a href=\"#\">Text Link</a></li>\n",
            " <li><a href=\"#\">Text Link</a></li>\n",
            " <li><a href=\"#\">Text Link</a></li>\n",
            " <li><a href=\"#\">Text Link</a></li>\n",
            " <li><a href=\"#\">Text Link</a></li>\n",
            " <li><a href=\"#\">Text Link</a></li>\n",
            " <li><a href=\"#\">Text Link</a></li>\n",
            " <li><a href=\"#\">Text Link</a></li>\n",
            " <li><a href=\"#\">Text Link</a></li>\n",
            " <li><a Link</a></li>\n",
            " <li><a href=\"#\">Text Link</a></li>\n",
            " <li><a href=\"#\">Text Link</a></li>\n",
            " <li><a href=\"#\">Text Link</a></li>\n",
            " <li><a href=\"#\">Text Link</a></li>\n",
            " <li><a href=\"#\">Text Link</a></li>\n",
            " <li><a href=\"#\">Text Link</a></li>\n",
            " <li><a href=\"#\">Text Link</a></li>\n",
            " <li><a href=\"#\">Text Link</a></li>\n",
            " template urna nibh</h2>\n",
            " urna nibh</h2>\n",
            " urna nibh</h2>\n",
            " urna nibh</h2>\n",
            " urna nibh</h2>\n",
            " urna nibh</h2>\n",
            " urna nibh</h2>\n",
            " urna nibh</h2>\n",
            " urna nibh</h2>\n",
            " urna nibh</h2>\n",
            " urna nibh</h2>\n",
            " urna nibh</h2>\n",
            " urna nibh</h2>\n",
            " template urna nibh</h2>\n",
            " urna nibh</h2>\n",
            " template urna nibh</h2>\n",
            " urna nibh</h2>\n",
            " template urna nibh</h2>\n",
            " template urna nibh</h2>\n",
            " urna nibh</h2>\n",
            " template urna nibh</h2>\n",
            " template urna nibh</h2>\n",
            " template urna nibh</h2>\n",
            " template urna nibh</h2>\n",
            " template urna nibh</h2>\n",
            " template urna nibh</h2>\n",
            " template urna nibh</h2>\n",
            " template urna nibh</h2>\n",
            " template urna nibh</h2>\n",
            " template urna nibh</h2>\n",
            " urna nibh</h2>\n",
            " template urna nibh</h2>\n",
            " template urna nibh</h2>\n",
            " template urna nibh</h2>\n",
            " template urna nibh</h2>\n",
            " template urna nibh</h2>\n",
            " template urna nibh</h2>\n",
            " template urna nibh</h2>\n",
            " template urna Templates</a></li>\n",
            " <ul>\n",
            " <!-- <!-- Caption <!-- Caption <!-- Caption -->\n",
            " <!-- width=\"215\" Caption -->\n",
            " <!-- Caption Caption width=\"215\" Caption width=\"215\" Caption width=\"215\" Caption width=\"215\" Caption width=\"215\" Caption Caption Caption Caption width=\"215\" href=\"#\">Free </figure>\n",
            " </figure>\n",
            " </figure>\n",
            " </figure>\n",
            " </figure>\n",
            " </figure>\n",
            " </figure>\n",
            " </figure>\n",
            " </figure>\n",
            " </figure>\n",
            " </figure>\n",
            " </figure>\n",
            " </figure>\n",
            " </figure>\n",
            " </figure>\n",
            " </figure>\n",
            " </figure>\n",
            " </figure>\n",
            " </figure>\n",
            " </figure>\n",
            " </figure>\n",
            " </figure>\n",
            " </figure>\n",
            " </figure>\n",
            " </figure>\n",
            " </figure>\n",
            " </figure>\n",
            " </figure>\n",
            " </article>\n",
            " href=\"#\">Free href=\"#\">Free </article>\n",
            " href=\"#\">Free href=\"#\">Free href=\"#\">Free href=\"#\">Free href=\"#\">Free Templates</a></li>\n",
            " <li><a href=\"#\">Free href=\"#\">Free href=\"#\">Free Templates</a></li>\n",
            " <li><a href=\"#\">Free href=\"#\">Free Templates</a></li>\n",
            " <li><a href=\"#\">Free href=\"#\">Free Templates</a></li>\n",
            " <li><a href=\"#\">Free href=\"#\">Free Templates</a></li>\n",
            " <li><a href=\"#\">Free href=\"#\">Free Templates</a></li>\n",
            " <li><a href=\"#\">Free href=\"#\">Free Templates</a></li>\n",
            " <li><a href=\"#\">Free href=\"#\">Free Templates</a></li>\n",
            " <li><a href=\"#\">Free href=\"#\">Free Templates</a></li>\n",
            " <li><a href=\"#\">Free href=\"#\">Free Templates</a></li>\n",
            " <li><a href=\"#\">Free href=\"#\">Free Templates</a></li>\n",
            " <li><a href=\"#\">Free href=\"#\">Free Templates</a></li>\n",
            " <li><a href=\"#\">Free Templates</a></li>\n",
            " <li><a href=\"#\">Free href=\"#\">Free Templates</a></li>\n",
            " <li><a href=\"#\">Free href=\"#\">Free Templates</a></li>\n",
            " <li><a href=\"#\">Free href=\"#\">Free Templates</a></li>\n",
            " <!-- href=\"#\">Free Templates</a></li>\n",
            " <!-- href=\"#\">Free Templates</a></li>\n",
            " <!-- href=\"#\">Free Templates</a></li>\n",
            " <!-- href=\"#\">Free Templates</a></li>\n",
            " <!-- href=\"#\">Free Templates</a></li>\n",
            " <!-- href=\"#\">Free Templates</a></li>\n",
            " <!-- href=\"#\">Free Templates</a></li>\n",
            " <!-- href=\"#\">Free Templates</a></li>\n",
            " <!-- href=\"#\">Free Templates</a></li>\n",
            " <!-- href=\"#\">Free Templates</a></li>\n",
            " <li><a href=\"#\">Free Templates</a></li>\n",
            " <li><a href=\"#\">Free Templates</a></li>\n",
            " <!-- href=\"#\">Free Templates</a></li>\n",
            " <li><a urna Templates</a></li>\n",
            " <!-- href=\"#\">Free href=\"#\">Free Templates</a></li>\n",
            " <!-- href=\"#\">Free href=\"#\">Free Templates</a></li>\n",
            " <!-- href=\"#\">Free href=\"#\">Free Templates</a></li>\n",
            " <!-- href=\"#\">Free href=\"#\">Free Templates</a></li>\n",
            " <!-- href=\"#\">Free href=\"#\">Free Templates</a></li>\n",
            " <!-- href=\"#\">Free href=\"#\">Free Templates</a></li>\n",
            " <!-- href=\"#\">Free href=\"#\">Free Templates</a></li>\n",
            " <!-- href=\"#\">Free href=\"#\">Free Templates</a></li>\n",
            " <!-- href=\"#\">Free href=\"#\">Free Templates</a></li>\n",
            " <!-- href=\"#\">Free href=\"#\">Free Templates</a></li>\n",
            " <!-- href=\"#\">Free href=\"#\">Free Templates</a></li>\n",
            " <!-- href=\"#\">Free Templates</a></li>\n",
            " <!-- href=\"#\">Free href=\"#\">Free Templates</a></li>\n",
            " <!-- href=\"#\">Free href=\"#\">Free Templates</a></li>\n",
            " <!-- href=\"#\">Free href=\"#\">Free Templates</a></li>\n",
            " <!-- href=\"#\">Free href=\"#\">Free Templates</a></li>\n",
            " <li><a href=\"#\">Free Templates</a></li>\n",
            " <li><a href=\"#\">Free Templates</a></li>\n",
            " <li><a href=\"#\">Free Templates</a></li>\n",
            " <li><a href=\"#\">Free Templates</a></li>\n",
            " <li><a href=\"#\">Free Templates</a></li>\n",
            " <li><a href=\"#\">Free Templates</a></li>\n",
            " <li><a href=\"#\">Free Templates</a></li>\n",
            " <li><a href=\"#\">Free Templates</a></li>\n",
            " <li><a href=\"#\">Free Templates</a></li>\n",
            " <li><a href=\"#\">Free Templates</a></li>\n",
            " <li><a href=\"#\">Free Templates</a></li>\n",
            " <li><a href=\"#\">Free href=\"#\">Free Templates</a></li>\n",
            " <!-- href=\"#\">Free Templates</a></li>\n",
            " <li><a href=\"#\">Free Templates</a></li>\n",
            " <!-- href=\"#\">Free Templates</a></li>\n",
            " <!-- href=\"#\">Free href=\"#\">Free Templates</a></li>\n",
            " <!-- href=\"#\">Free href=\"#\">Free Templates</a></li>\n",
            " <!-- href=\"#\">Free href=\"#\">Free Templates</a></li>\n",
            " <!-- href=\"#\">Free href=\"#\">Free Templates</a></li>\n",
            " <!-- href=\"#\">Free href=\"#\">Free Templates</a></li>\n",
            " <!-- href=\"#\">Free href=\"#\">Free Templates</a></li>\n",
            " <!-- href=\"#\">Free href=\"#\">Free Templates</a></li>\n",
            " <!-- href=\"#\">Free href=\"#\">Free Templates</a></li>\n",
            " <!-- href=\"#\">Free href=\"#\">Free Templates</a></li>\n",
            " <!-- href=\"#\">Free Templates</a></li>\n",
            " <!-- href=\"#\">Free href=\"#\">Free Templates</a></li>\n",
            " <!-- href=\"#\">Free href=\"#\">Free Templates</a></li>\n",
            " <!-- href=\"#\">Free href=\"#\">Free Templates</a></li>\n",
            " <!-- href=\"#\">Free href=\"#\">Free Templates</a></li>\n",
            " <!-- href=\"#\">Free Templates</a></li>\n",
            " <!-- href=\"#\">Free Templates</a></li>\n",
            " <!-- href=\"#\">Free Templates</a></li>\n",
            " <!-- href=\"#\">Free Templates</a></li>\n",
            " <!-- href=\"#\">Free Templates</a></li>\n",
            " <!-- href=\"#\">Free Templates</a></li>\n",
            " <!-- href=\"#\">Free Templates</a></li>\n",
            " <!-- href=\"#\">Free Templates</a></li>\n",
            " <!-- href=\"#\">Free Templates</a></li>\n",
            " <!-- href=\"#\">Free Templates</a></li>\n",
            " <!-- href=\"#\">Free Templates</a></li>\n",
            " <!-- href=\"#\">Free href=\"#\">Free Templates</a></li>\n",
            " <!-- href=\"#\">Free Templates</a></li>\n",
            " <!-- href=\"#\">Free Templates</a></li>\n",
            " <!-- href=\"#\">Free Templates</a></li>\n",
            " <!-- href=\"#\">Free href=\"#\">Free Templates</a></li>\n",
            " <!-- href=\"#\">Free href=\"#\">Free Templates</a></li>\n",
            " <!-- href=\"#\">Free href=\"#\">Free Templates</a></li>\n",
            " <!-- href=\"#\">Free href=\"#\">Free Templates</a></li>\n",
            " <!-- href=\"#\">Free href=\"#\">Free Templates</a></li>\n",
            " <!-- href=\"#\">Free href=\"#\">Free Templates</a></li>\n",
            " <!-- href=\"#\">Free href=\"#\">Free Templates</a></li>\n",
            " <!-- href=\"#\">Free href=\"#\">Free Templates</a></li>\n",
            " <!-- href=\"#\">Free href=\"#\">Free Templates</a></li>\n",
            " <!-- href=\"#\">Free Templates</a></li>\n",
            " <!-- href=\"#\">Free href=\"#\">Free Templates</a></li>\n",
            " <!-- href=\"#\">Free href=\"#\">Free Templates</a></li>\n",
            " <!-- href=\"#\">Free href=\"#\">Free Templates</a></li>\n",
            " <!-- href=\"#\">Free href=\"#\">Free Templates</a></li>\n",
            " <!-- href=\"#\">Free href=\"#\">Free Templates</a></li>\n",
            " <li><a href=\"#\">Free Templates</a></li>\n",
            " <li><a href=\"#\">Free Templates</a></li>\n",
            " <li><a href=\"#\">Free Templates</a></li>\n",
            " <li><a href=\"#\">Free Templates</a></li>\n",
            " <li><a href=\"#\">Free Templates</a></li>\n",
            " <li><a href=\"#\">Free Templates</a></li>\n",
            " <li><a href=\"#\">Free Templates</a></li>\n",
            " <li><a href=\"#\">Free Templates</a></li>\n",
            " <li><a href=\"#\">Free Templates</a></li>\n",
            " <li><a href=\"#\">Free Templates</a></li>\n",
            " <!-- href=\"#\">Free Templates</a></li>\n",
            " <!-- href=\"#\">Free Templates</a></li>\n",
            " <!-- href=\"#\">Free Templates</a></li>\n",
            " <!-- href=\"#\">Free Templates</a></li>\n",
            " <!-- href=\"#\">Free href=\"#\">Free Templates</a></li>\n",
            " <!-- href=\"#\">Free href=\"#\">Free Templates</a></li>\n",
            " <!-- href=\"#\">Free href=\"#\">Free Templates</a></li>\n",
            " <!-- href=\"#\">Free href=\"#\">Free Templates</a></li>\n",
            " <!-- href=\"#\">Free href=\"#\">Free Templates</a></li>\n",
            " <!-- href=\"#\">Free href=\"#\">Free Templates</a></li>\n",
            " <!-- href=\"#\">Free href=\"#\">Free Templates</a></li>\n",
            " <!-- href=\"#\">Free href=\"#\">Free Templates</a></li>\n",
            " <!-- href=\"#\">Free href=\"#\">Free Templates</a></li>\n",
            " <!-- href=\"#\">Free Templates</a></li>\n",
            " <!-- href=\"#\">Free href=\"#\">Free Templates</a></li>\n",
            " <!-- href=\"#\">Free href=\"#\">Free Templates</a></li>\n",
            " <!-- href=\"#\">Free href=\"#\">Free Templates</a></li>\n",
            " <!-- href=\"#\">Free href=\"#\">Free Templates</a></li>\n",
            " <!-- href=\"#\">Free href=\"#\">Free Templates</a></li>\n",
            " <!-- href=\"#\">Free Templates</a></li>\n",
            " <!-- href=\"#\">Free Templates</a></li>\n",
            " <!-- href=\"#\">Free Templates</a></li>\n",
            " <!-- href=\"#\">Free Templates</a></li>\n",
            " <!-- href=\"#\">Free Templates</a></li>\n",
            " <!-- href=\"#\">Free Templates</a></li>\n",
            " <!-- href=\"#\">Free Templates</a></li>\n",
            " <!-- href=\"#\">Free Templates</a></li>\n",
            " <!-- href=\"#\">Free Templates</a></li>\n",
            " <!-- href=\"#\">Free Templates</a></li>\n",
            " <!-- href=\"#\">Free href=\"#\">Free Templates</a></li>\n",
            " <li><a href=\"#\">Free Templates</a></li>\n",
            " <li><a href=\"#\">Free Templates</a></li>\n",
            " <li><a href=\"#\">Free Templates</a></li>\n",
            " <!-- href=\"#\">Free Templates</a></li>\n",
            " <!-- href=\"#\">Free href=\"#\">Free Templates</a></li>\n",
            " <!-- href=\"#\">Free href=\"#\">Free Templates</a></li>\n",
            " <!-- href=\"#\">Free href=\"#\">Free Templates</a></li>\n",
            " <!-- href=\"#\">Free href=\"#\">Free Templates</a></li>\n",
            " <!-- href=\"#\">Free href=\"#\">Free Templates</a></li>\n",
            " <!-- href=\"#\">Free href=\"#\">Free Templates</a></li>\n",
            " <!-- href=\"#\">Free href=\"#\">Free Templates</a></li>\n",
            " <!-- href=\"#\">Free href=\"#\">Free Templates</a></li>\n",
            " <!-- href=\"#\">Free Templates</a></li>\n",
            " <!-- href=\"#\">Free href=\"#\">Free Templates</a></li>\n",
            " <!-- href=\"#\">Free href=\"#\">Free Templates</a></li>\n",
            " <!-- href=\"#\">Free href=\"#\">Free Templates</a></li>\n",
            " <!-- href=\"#\">Free href=\"#\">Free Templates</a></li>\n",
            " <!-- href=\"#\">Free href=\"#\">Free Templates</a></li>\n",
            " <!-- href=\"#\">Free href=\"#\">Free Templates</a></li>\n",
            " <li><a href=\"#\">Free Templates</a></li>\n",
            " <li><a href=\"#\">Free Templates</a></li>\n",
            " <li><a href=\"#\">Free Templates</a></li>\n",
            " <li><a href=\"#\">Free Templates</a></li>\n",
            " <li><a href=\"#\">Free Templates</a></li>\n",
            " <li><a href=\"#\">Free Templates</a></li>\n",
            " <li><a href=\"#\">Free Templates</a></li>\n",
            " <li><a href=\"#\">Free Templates</a></li>\n",
            " <li><a href=\"#\">Free Templates</a></li>\n",
            " <!-- href=\"#\">Free Templates</a></li>\n",
            " <!-- href=\"#\">Free Templates</a></li>\n",
            " <!-- href=\"#\">Free Templates</a></li>\n",
            " <!-- href=\"#\">Free Templates</a></li>\n",
            " <!-- href=\"#\">Free Templates</a></li>\n",
            " <!-- href=\"#\">Free href=\"#\">Free Templates</a></li>\n",
            " <!-- href=\"#\">Free href=\"#\">Free Templates</a></li>\n",
            " <!-- href=\"#\">Free href=\"#\">Free Templates</a></li>\n"
          ]
        },
        {
          "output_type": "error",
          "ename": "TypeError",
          "evalue": "ignored",
          "traceback": [
            "\u001b[0;31m---------------------------------------------------------------------------\u001b[0m",
            "\u001b[0;31mTypeError\u001b[0m                                 Traceback (most recent call last)",
            "\u001b[0;32m<ipython-input-12-a89fd19823ab>\u001b[0m in \u001b[0;36m<module>\u001b[0;34m()\u001b[0m\n\u001b[1;32m      8\u001b[0m \u001b[0;34m\u001b[0m\u001b[0m\n\u001b[1;32m      9\u001b[0m \u001b[0;32mwith\u001b[0m \u001b[0mopen\u001b[0m\u001b[0;34m(\u001b[0m\u001b[0;34m\"result.txt\"\u001b[0m\u001b[0;34m,\u001b[0m \u001b[0mmode\u001b[0m\u001b[0;34m=\u001b[0m\u001b[0;34m'w'\u001b[0m\u001b[0;34m)\u001b[0m \u001b[0;32mas\u001b[0m \u001b[0mf\u001b[0m\u001b[0;34m:\u001b[0m\u001b[0;34m\u001b[0m\u001b[0;34m\u001b[0m\u001b[0m\n\u001b[0;32m---> 10\u001b[0;31m     \u001b[0mf\u001b[0m\u001b[0;34m.\u001b[0m\u001b[0mwrite\u001b[0m\u001b[0;34m(\u001b[0m\u001b[0mret\u001b[0m\u001b[0;34m)\u001b[0m\u001b[0;34m\u001b[0m\u001b[0;34m\u001b[0m\u001b[0m\n\u001b[0m",
            "\u001b[0;31mTypeError\u001b[0m: write() argument must be str, not None"
          ]
        }
      ]
    },
    {
      "cell_type": "markdown",
      "metadata": {
        "id": "UcqSrnlLdlDn"
      },
      "source": [
        ""
      ]
    },
    {
      "cell_type": "code",
      "metadata": {
        "colab": {
          "base_uri": "https://localhost:8080/",
          "height": 172
        },
        "id": "QGP_zM4adlut",
        "outputId": "9f16ac0b-8b55-4a54-e1ff-ea26f69b933f"
      },
      "source": [
        "print(ret)"
      ],
      "execution_count": null,
      "outputs": [
        {
          "output_type": "error",
          "ename": "NameError",
          "evalue": "ignored",
          "traceback": [
            "\u001b[0;31m---------------------------------------------------------------------------\u001b[0m",
            "\u001b[0;31mNameError\u001b[0m                                 Traceback (most recent call last)",
            "\u001b[0;32m<ipython-input-12-8b7b6a28d905>\u001b[0m in \u001b[0;36m<module>\u001b[0;34m()\u001b[0m\n\u001b[0;32m----> 1\u001b[0;31m \u001b[0mprint\u001b[0m\u001b[0;34m(\u001b[0m\u001b[0mret\u001b[0m\u001b[0;34m)\u001b[0m\u001b[0;34m\u001b[0m\u001b[0;34m\u001b[0m\u001b[0m\n\u001b[0m",
            "\u001b[0;31mNameError\u001b[0m: name 'ret' is not defined"
          ]
        }
      ]
    },
    {
      "cell_type": "code",
      "metadata": {
        "colab": {
          "base_uri": "https://localhost:8080/"
        },
        "id": "7uJCF0KMhoec",
        "outputId": "a4189b5a-8ef9-445a-c64a-90845f2794d1"
      },
      "source": [
        "!git clone https://github.com/emilwallner/Screenshot-to-code-in-Keras.git"
      ],
      "execution_count": null,
      "outputs": [
        {
          "output_type": "stream",
          "name": "stdout",
          "text": [
            "Cloning into 'Screenshot-to-code-in-Keras'...\n",
            "remote: Enumerating objects: 4028, done.\u001b[K\n",
            "remote: Counting objects: 100% (6/6), done.\u001b[K\n",
            "remote: Compressing objects: 100% (6/6), done.\u001b[K\n",
            "remote: Total 4028 (delta 2), reused 0 (delta 0), pack-reused 4022\u001b[K\n",
            "Receiving objects: 100% (4028/4028), 50.42 MiB | 12.70 MiB/s, done.\n",
            "Resolving deltas: 100% (2033/2033), done.\n"
          ]
        }
      ]
    },
    {
      "cell_type": "code",
      "metadata": {
        "colab": {
          "base_uri": "https://localhost:8080/"
        },
        "id": "ITdRcASGhtbX",
        "outputId": "fcf6bee3-d622-4a82-ee82-c4f9f3173b99"
      },
      "source": [
        "%cd Screenshot-to-code-in-Keras\n"
      ],
      "execution_count": null,
      "outputs": [
        {
          "output_type": "stream",
          "name": "stdout",
          "text": [
            "/content/drive/My Drive/Colab Notebooks/HTML/Screenshot-to-code-in-Keras\n"
          ]
        }
      ]
    },
    {
      "cell_type": "code",
      "metadata": {
        "colab": {
          "base_uri": "https://localhost:8080/"
        },
        "id": "pjFrc7k-hxQJ",
        "outputId": "cc9fe8c9-5ec2-4526-f0ec-64d2d0805507"
      },
      "source": [
        "!floyd login"
      ],
      "execution_count": null,
      "outputs": [
        {
          "output_type": "stream",
          "name": "stdout",
          "text": [
            "/bin/bash: floyd: command not found\n"
          ]
        }
      ]
    }
  ]
}