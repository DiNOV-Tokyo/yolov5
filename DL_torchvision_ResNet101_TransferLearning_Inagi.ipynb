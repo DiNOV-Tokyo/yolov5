{
  "nbformat": 4,
  "nbformat_minor": 0,
  "metadata": {
    "colab": {
      "name": "DL_torchvision_ResNet101_TransferLearning_Inagi.ipynb",
      "provenance": [],
      "collapsed_sections": [],
      "authorship_tag": "ABX9TyMKdnsPi7FZI0hlTXrBZRAh",
      "include_colab_link": true
    },
    "kernelspec": {
      "name": "python3",
      "display_name": "Python 3"
    },
    "language_info": {
      "name": "python"
    },
    "accelerator": "GPU",
    "widgets": {
      "application/vnd.jupyter.widget-state+json": {
        "58d72a8b4ac440afa1a75b203166e155": {
          "model_module": "@jupyter-widgets/controls",
          "model_name": "HBoxModel",
          "model_module_version": "1.5.0",
          "state": {
            "_view_name": "HBoxView",
            "_dom_classes": [],
            "_model_name": "HBoxModel",
            "_view_module": "@jupyter-widgets/controls",
            "_model_module_version": "1.5.0",
            "_view_count": null,
            "_view_module_version": "1.5.0",
            "box_style": "",
            "layout": "IPY_MODEL_80548c6798224a34a6981e165ec98c43",
            "_model_module": "@jupyter-widgets/controls",
            "children": [
              "IPY_MODEL_5bd15c1feec74a1c90726a5496a06679",
              "IPY_MODEL_916f311cbbf042e0bf86f0c07484427e",
              "IPY_MODEL_a4587d844faf48ee828cef5e4186b8b4"
            ]
          }
        },
        "80548c6798224a34a6981e165ec98c43": {
          "model_module": "@jupyter-widgets/base",
          "model_name": "LayoutModel",
          "model_module_version": "1.2.0",
          "state": {
            "_view_name": "LayoutView",
            "grid_template_rows": null,
            "right": null,
            "justify_content": null,
            "_view_module": "@jupyter-widgets/base",
            "overflow": null,
            "_model_module_version": "1.2.0",
            "_view_count": null,
            "flex_flow": null,
            "width": null,
            "min_width": null,
            "border": null,
            "align_items": null,
            "bottom": null,
            "_model_module": "@jupyter-widgets/base",
            "top": null,
            "grid_column": null,
            "overflow_y": null,
            "overflow_x": null,
            "grid_auto_flow": null,
            "grid_area": null,
            "grid_template_columns": null,
            "flex": null,
            "_model_name": "LayoutModel",
            "justify_items": null,
            "grid_row": null,
            "max_height": null,
            "align_content": null,
            "visibility": null,
            "align_self": null,
            "height": null,
            "min_height": null,
            "padding": null,
            "grid_auto_rows": null,
            "grid_gap": null,
            "max_width": null,
            "order": null,
            "_view_module_version": "1.2.0",
            "grid_template_areas": null,
            "object_position": null,
            "object_fit": null,
            "grid_auto_columns": null,
            "margin": null,
            "display": null,
            "left": null
          }
        },
        "5bd15c1feec74a1c90726a5496a06679": {
          "model_module": "@jupyter-widgets/controls",
          "model_name": "HTMLModel",
          "model_module_version": "1.5.0",
          "state": {
            "_view_name": "HTMLView",
            "style": "IPY_MODEL_b2d5367158924978ad3786cc669574a8",
            "_dom_classes": [],
            "description": "",
            "_model_name": "HTMLModel",
            "placeholder": "​",
            "_view_module": "@jupyter-widgets/controls",
            "_model_module_version": "1.5.0",
            "value": "100%",
            "_view_count": null,
            "_view_module_version": "1.5.0",
            "description_tooltip": null,
            "_model_module": "@jupyter-widgets/controls",
            "layout": "IPY_MODEL_1960b55a9f344ceca3afa4652f02f7b2"
          }
        },
        "916f311cbbf042e0bf86f0c07484427e": {
          "model_module": "@jupyter-widgets/controls",
          "model_name": "FloatProgressModel",
          "model_module_version": "1.5.0",
          "state": {
            "_view_name": "ProgressView",
            "style": "IPY_MODEL_425fdd8377f94842be8f0e5bcc886263",
            "_dom_classes": [],
            "description": "",
            "_model_name": "FloatProgressModel",
            "bar_style": "success",
            "max": 178793939,
            "_view_module": "@jupyter-widgets/controls",
            "_model_module_version": "1.5.0",
            "value": 178793939,
            "_view_count": null,
            "_view_module_version": "1.5.0",
            "orientation": "horizontal",
            "min": 0,
            "description_tooltip": null,
            "_model_module": "@jupyter-widgets/controls",
            "layout": "IPY_MODEL_1c554181914346da9b75eeb2542a6836"
          }
        },
        "a4587d844faf48ee828cef5e4186b8b4": {
          "model_module": "@jupyter-widgets/controls",
          "model_name": "HTMLModel",
          "model_module_version": "1.5.0",
          "state": {
            "_view_name": "HTMLView",
            "style": "IPY_MODEL_fadcb1a85d2b4a318614db7b59446e66",
            "_dom_classes": [],
            "description": "",
            "_model_name": "HTMLModel",
            "placeholder": "​",
            "_view_module": "@jupyter-widgets/controls",
            "_model_module_version": "1.5.0",
            "value": " 171M/171M [00:01&lt;00:00, 96.3MB/s]",
            "_view_count": null,
            "_view_module_version": "1.5.0",
            "description_tooltip": null,
            "_model_module": "@jupyter-widgets/controls",
            "layout": "IPY_MODEL_7e6e9c59d23646738a71b4b439f7c297"
          }
        },
        "b2d5367158924978ad3786cc669574a8": {
          "model_module": "@jupyter-widgets/controls",
          "model_name": "DescriptionStyleModel",
          "model_module_version": "1.5.0",
          "state": {
            "_view_name": "StyleView",
            "_model_name": "DescriptionStyleModel",
            "description_width": "",
            "_view_module": "@jupyter-widgets/base",
            "_model_module_version": "1.5.0",
            "_view_count": null,
            "_view_module_version": "1.2.0",
            "_model_module": "@jupyter-widgets/controls"
          }
        },
        "1960b55a9f344ceca3afa4652f02f7b2": {
          "model_module": "@jupyter-widgets/base",
          "model_name": "LayoutModel",
          "model_module_version": "1.2.0",
          "state": {
            "_view_name": "LayoutView",
            "grid_template_rows": null,
            "right": null,
            "justify_content": null,
            "_view_module": "@jupyter-widgets/base",
            "overflow": null,
            "_model_module_version": "1.2.0",
            "_view_count": null,
            "flex_flow": null,
            "width": null,
            "min_width": null,
            "border": null,
            "align_items": null,
            "bottom": null,
            "_model_module": "@jupyter-widgets/base",
            "top": null,
            "grid_column": null,
            "overflow_y": null,
            "overflow_x": null,
            "grid_auto_flow": null,
            "grid_area": null,
            "grid_template_columns": null,
            "flex": null,
            "_model_name": "LayoutModel",
            "justify_items": null,
            "grid_row": null,
            "max_height": null,
            "align_content": null,
            "visibility": null,
            "align_self": null,
            "height": null,
            "min_height": null,
            "padding": null,
            "grid_auto_rows": null,
            "grid_gap": null,
            "max_width": null,
            "order": null,
            "_view_module_version": "1.2.0",
            "grid_template_areas": null,
            "object_position": null,
            "object_fit": null,
            "grid_auto_columns": null,
            "margin": null,
            "display": null,
            "left": null
          }
        },
        "425fdd8377f94842be8f0e5bcc886263": {
          "model_module": "@jupyter-widgets/controls",
          "model_name": "ProgressStyleModel",
          "model_module_version": "1.5.0",
          "state": {
            "_view_name": "StyleView",
            "_model_name": "ProgressStyleModel",
            "description_width": "",
            "_view_module": "@jupyter-widgets/base",
            "_model_module_version": "1.5.0",
            "_view_count": null,
            "_view_module_version": "1.2.0",
            "bar_color": null,
            "_model_module": "@jupyter-widgets/controls"
          }
        },
        "1c554181914346da9b75eeb2542a6836": {
          "model_module": "@jupyter-widgets/base",
          "model_name": "LayoutModel",
          "model_module_version": "1.2.0",
          "state": {
            "_view_name": "LayoutView",
            "grid_template_rows": null,
            "right": null,
            "justify_content": null,
            "_view_module": "@jupyter-widgets/base",
            "overflow": null,
            "_model_module_version": "1.2.0",
            "_view_count": null,
            "flex_flow": null,
            "width": null,
            "min_width": null,
            "border": null,
            "align_items": null,
            "bottom": null,
            "_model_module": "@jupyter-widgets/base",
            "top": null,
            "grid_column": null,
            "overflow_y": null,
            "overflow_x": null,
            "grid_auto_flow": null,
            "grid_area": null,
            "grid_template_columns": null,
            "flex": null,
            "_model_name": "LayoutModel",
            "justify_items": null,
            "grid_row": null,
            "max_height": null,
            "align_content": null,
            "visibility": null,
            "align_self": null,
            "height": null,
            "min_height": null,
            "padding": null,
            "grid_auto_rows": null,
            "grid_gap": null,
            "max_width": null,
            "order": null,
            "_view_module_version": "1.2.0",
            "grid_template_areas": null,
            "object_position": null,
            "object_fit": null,
            "grid_auto_columns": null,
            "margin": null,
            "display": null,
            "left": null
          }
        },
        "fadcb1a85d2b4a318614db7b59446e66": {
          "model_module": "@jupyter-widgets/controls",
          "model_name": "DescriptionStyleModel",
          "model_module_version": "1.5.0",
          "state": {
            "_view_name": "StyleView",
            "_model_name": "DescriptionStyleModel",
            "description_width": "",
            "_view_module": "@jupyter-widgets/base",
            "_model_module_version": "1.5.0",
            "_view_count": null,
            "_view_module_version": "1.2.0",
            "_model_module": "@jupyter-widgets/controls"
          }
        },
        "7e6e9c59d23646738a71b4b439f7c297": {
          "model_module": "@jupyter-widgets/base",
          "model_name": "LayoutModel",
          "model_module_version": "1.2.0",
          "state": {
            "_view_name": "LayoutView",
            "grid_template_rows": null,
            "right": null,
            "justify_content": null,
            "_view_module": "@jupyter-widgets/base",
            "overflow": null,
            "_model_module_version": "1.2.0",
            "_view_count": null,
            "flex_flow": null,
            "width": null,
            "min_width": null,
            "border": null,
            "align_items": null,
            "bottom": null,
            "_model_module": "@jupyter-widgets/base",
            "top": null,
            "grid_column": null,
            "overflow_y": null,
            "overflow_x": null,
            "grid_auto_flow": null,
            "grid_area": null,
            "grid_template_columns": null,
            "flex": null,
            "_model_name": "LayoutModel",
            "justify_items": null,
            "grid_row": null,
            "max_height": null,
            "align_content": null,
            "visibility": null,
            "align_self": null,
            "height": null,
            "min_height": null,
            "padding": null,
            "grid_auto_rows": null,
            "grid_gap": null,
            "max_width": null,
            "order": null,
            "_view_module_version": "1.2.0",
            "grid_template_areas": null,
            "object_position": null,
            "object_fit": null,
            "grid_auto_columns": null,
            "margin": null,
            "display": null,
            "left": null
          }
        }
      }
    }
  },
  "cells": [
    {
      "cell_type": "markdown",
      "metadata": {
        "id": "view-in-github",
        "colab_type": "text"
      },
      "source": [
        "<a href=\"https://colab.research.google.com/github/DiNOV-Tokyo/yolov5/blob/main/DL_torchvision_ResNet101_TransferLearning_Inagi.ipynb\" target=\"_parent\"><img src=\"https://colab.research.google.com/assets/colab-badge.svg\" alt=\"Open In Colab\"/></a>"
      ]
    },
    {
      "cell_type": "markdown",
      "metadata": {
        "id": "iwenB7-RhoCQ"
      },
      "source": [
        "# 1.ResNet101で転移学習・推論"
      ]
    },
    {
      "cell_type": "markdown",
      "metadata": {
        "id": "wKZWAeRLlM5b"
      },
      "source": [
        "参考にしたサイト# https://tetsumag.com/2021/01/11/ml7/\n",
        "\n"
      ]
    },
    {
      "cell_type": "markdown",
      "metadata": {
        "id": "N9zG3qfX5prR"
      },
      "source": [
        "## 1.1 Google Drive をマウント"
      ]
    },
    {
      "cell_type": "code",
      "metadata": {
        "id": "UWdKx_tgdpeB"
      },
      "source": [
        "!cd /home/developer/dev"
      ],
      "execution_count": null,
      "outputs": []
    },
    {
      "cell_type": "code",
      "metadata": {
        "id": "cza98P1Ed-1a"
      },
      "source": [
        "!mkdir test_dir"
      ],
      "execution_count": null,
      "outputs": []
    },
    {
      "cell_type": "code",
      "metadata": {
        "colab": {
          "base_uri": "https://localhost:8080/"
        },
        "id": "y7Y7OSEWgYze",
        "outputId": "44c6004f-5675-498e-caf7-127cadac747c"
      },
      "source": [
        "from google.colab import drive\n",
        "drive.mount('/content/drive')"
      ],
      "execution_count": 2,
      "outputs": [
        {
          "output_type": "stream",
          "name": "stdout",
          "text": [
            "Mounted at /content/drive\n"
          ]
        }
      ]
    },
    {
      "cell_type": "code",
      "metadata": {
        "colab": {
          "base_uri": "https://localhost:8080/"
        },
        "id": "57-xQXjlghOq",
        "outputId": "1cfc0795-a27d-402e-e78b-ab84b4ddb344"
      },
      "source": [
        "%cd /content/drive/My\\ Drive/Colab\\ Notebooks\n",
        "#%mkdir yolo_train\n",
        "%cd yolo_train"
      ],
      "execution_count": 3,
      "outputs": [
        {
          "output_type": "stream",
          "name": "stdout",
          "text": [
            "/content/drive/My Drive/Colab Notebooks\n",
            "/content/drive/My Drive/Colab Notebooks/yolo_train\n"
          ]
        }
      ]
    },
    {
      "cell_type": "markdown",
      "metadata": {
        "id": "ORQPyRiV5xCd"
      },
      "source": [
        "## 1.2 モジュール読み込み"
      ]
    },
    {
      "cell_type": "code",
      "metadata": {
        "id": "KlOZlrmgg3aI",
        "colab": {
          "base_uri": "https://localhost:8080/"
        },
        "outputId": "90f9228e-96ae-4636-f539-f179f773481d"
      },
      "source": [
        "import torch\n",
        "import torch.nn as nn\n",
        "import torch.optim as optim\n",
        "import torchvision\n",
        "from torchvision import datasets, models, transforms\n",
        "\n",
        "import numpy as np\n",
        "from tqdm import tqdm\n",
        "from PIL import Image\n",
        "\n",
        "print('Setup complete. Using torch %s %s' % (torch.__version__, torch.cuda.get_device_properties(0) if torch.cuda.is_available() else 'CPU'))"
      ],
      "execution_count": 1,
      "outputs": [
        {
          "output_type": "stream",
          "name": "stdout",
          "text": [
            "Setup complete. Using torch 1.9.0+cu102 _CudaDeviceProperties(name='Tesla K80', major=3, minor=7, total_memory=11441MB, multi_processor_count=13)\n"
          ]
        }
      ]
    },
    {
      "cell_type": "markdown",
      "metadata": {
        "id": "pZgwEfy-56mW"
      },
      "source": [
        "## 1.3 各種準備"
      ]
    },
    {
      "cell_type": "code",
      "metadata": {
        "id": "duqhLTNhg71w"
      },
      "source": [
        "# transformsを定義\n",
        "size = (224, 224)\n",
        "data_transforms = {\n",
        "    'train': transforms.Compose([\n",
        "        transforms.Resize(size),\n",
        "        transforms.ToTensor(),\n",
        "        transforms.Normalize([0.485, 0.456, 0.406], [0.229, 0.224, 0.225])\n",
        "    ]),\n",
        "    'val': transforms.Compose([\n",
        "        transforms.Resize(size),\n",
        "        transforms.ToTensor(),\n",
        "        transforms.Normalize([0.485, 0.456, 0.406], [0.229, 0.224, 0.225])\n",
        "    ]),\n",
        "}\n"
      ],
      "execution_count": 4,
      "outputs": []
    },
    {
      "cell_type": "code",
      "metadata": {
        "colab": {
          "base_uri": "https://localhost:8080/"
        },
        "id": "olz_gFYVk_Hz",
        "outputId": "38a1b974-8e98-4401-9b62-a2b4c28f0071"
      },
      "source": [
        "# datasetsを定義\n",
        "train_data_dir = 'dataset/train'\n",
        "val_data_dir = 'dataset/val'\n",
        "\n",
        "image_datasets = {\n",
        "    'train': torchvision.datasets.ImageFolder(train_data_dir, transform=data_transforms['train']),\n",
        "    'val': torchvision.datasets.ImageFolder(val_data_dir, transform=data_transforms['val'])\n",
        "}\n",
        "\n",
        "dataloaders = {\n",
        "    'train': torch.utils.data.DataLoader(image_datasets['train'], batch_size=10, shuffle=True),\n",
        "    'val': torch.utils.data.DataLoader(image_datasets['val'], batch_size=5)\n",
        "}\n",
        "\n",
        "dataset_sizes = {\n",
        "    'train': len(image_datasets['train']),\n",
        "    'val': len(image_datasets['val'])\n",
        "}\n",
        "\n",
        "class_names = image_datasets['train'].classes\n",
        "print('分類種類:', class_names)\n"
      ],
      "execution_count": 5,
      "outputs": [
        {
          "output_type": "stream",
          "name": "stdout",
          "text": [
            "分類種類: ['Cheetah', 'Jaguar', 'Leopard', 'Lion', 'Tiger', 'aoi-shrine', 'gym', 'monument', 'pump', 'shrine', 'stone', 'temple']\n"
          ]
        }
      ]
    },
    {
      "cell_type": "markdown",
      "metadata": {
        "id": "OLyyrXVG6U71"
      },
      "source": [
        "#### 1.4 モデルの調整"
      ]
    },
    {
      "cell_type": "code",
      "metadata": {
        "id": "HZmpyShVg_XJ",
        "colab": {
          "base_uri": "https://localhost:8080/",
          "height": 67,
          "referenced_widgets": [
            "58d72a8b4ac440afa1a75b203166e155",
            "80548c6798224a34a6981e165ec98c43",
            "5bd15c1feec74a1c90726a5496a06679",
            "916f311cbbf042e0bf86f0c07484427e",
            "a4587d844faf48ee828cef5e4186b8b4",
            "b2d5367158924978ad3786cc669574a8",
            "1960b55a9f344ceca3afa4652f02f7b2",
            "425fdd8377f94842be8f0e5bcc886263",
            "1c554181914346da9b75eeb2542a6836",
            "fadcb1a85d2b4a318614db7b59446e66",
            "7e6e9c59d23646738a71b4b439f7c297"
          ]
        },
        "outputId": "3d1fdf92-ad1c-42ca-e6b1-f74bf6537211"
      },
      "source": [
        "# モデルの調整\n",
        "\n",
        "# GPU/CPUが使えるかどうか確認\n",
        "device = torch.device(\"cuda:0\" if torch.cuda.is_available() else \"cpu\")\n",
        "\n",
        "# ResNet101の読み込み\n",
        "model = models.resnet101(pretrained=True)\n",
        "\n",
        "# パラメータの固定\n",
        "for param in model.parameters():\n",
        "    param.requires_grad = False\n",
        "\n",
        "# 最後の全結合層を固定しない＞ここだけ学習する\n",
        "last_layer = list(model.children())[-1]\n",
        "for param in last_layer.parameters():\n",
        "    param.requires_grad = True\n",
        "\n",
        "# 分類数を1000から2つに変更\n",
        "#num_ftrs = model.classifier[6].in_features\n",
        "num_ftrs = model.fc.in_features\n",
        "model.fc = torch.nn.Linear(num_ftrs, len(class_names))\n",
        "model = model.to(device)\n",
        "\n",
        "# loss関数、最適化関数の設定\n",
        "# lossを定義\n",
        "criterion = nn.CrossEntropyLoss()\n",
        "\n",
        "# 色々な最適化関数 lrが学習率 0.001 0.0001などで調整\n",
        "optimizer = optim.Adam(model.parameters(), lr=0.0001,)\n",
        "# optimizer = optim.SGD(model.parameters(), lr=0.001,)\n"
      ],
      "execution_count": 6,
      "outputs": [
        {
          "output_type": "stream",
          "name": "stderr",
          "text": [
            "Downloading: \"https://download.pytorch.org/models/resnet101-63fe2227.pth\" to /root/.cache/torch/hub/checkpoints/resnet101-63fe2227.pth\n"
          ]
        },
        {
          "output_type": "display_data",
          "data": {
            "application/vnd.jupyter.widget-view+json": {
              "model_id": "58d72a8b4ac440afa1a75b203166e155",
              "version_minor": 0,
              "version_major": 2
            },
            "text/plain": [
              "  0%|          | 0.00/171M [00:00<?, ?B/s]"
            ]
          },
          "metadata": {}
        }
      ]
    },
    {
      "cell_type": "markdown",
      "metadata": {
        "id": "ZYFO5rdP6hwY"
      },
      "source": [
        "## 1.5 学習処理関数"
      ]
    },
    {
      "cell_type": "code",
      "metadata": {
        "id": "Zxb9fEPq6gaV"
      },
      "source": [
        "# 学習処理\n",
        "def train(model, dataloader, otpimizer, criterion, num_epochs, device):\n",
        "    \"\"\"\n",
        "    model:学習モデル\n",
        "    dataloader:学習、評価データのdataloader\n",
        "    optimizer:最適化関数\n",
        "    crierion:ロス関数\n",
        "    num_epochs:学習回数\n",
        "    device:CPUかGPUか\n",
        "    \"\"\"\n",
        "    best_acc = 0.0\n",
        "    # 学習を繰り返す\n",
        "    for epoch in range(num_epochs):\n",
        "        # trainとvalを繰り返す\n",
        "        for phase in ['train', 'val']:\n",
        "            # モデルを学習モードか評価モードに切り替える\n",
        "            if phase == 'train':\n",
        "                model.train()\n",
        "            else:\n",
        "                model.eval()\n",
        "            \n",
        "            # 精度計算用\n",
        "            loss_sum = 0.0\n",
        "            acc_sum = 0.0\n",
        "            total = 0\n",
        "\n",
        "            # 進捗の表示\n",
        "            with tqdm(total=len(dataloaders[phase]),unit=\"batch\") as pbar:\n",
        "                pbar.set_description(f\"Epoch[{epoch}/{num_epochs}]({phase})\")\n",
        "                \n",
        "                # dataloadersからバッチサイズに応じてデータを取得\n",
        "                for inputs, labels in dataloaders[phase]:\n",
        "                    # 画像とラベルをGPU/CPUか切り替え\n",
        "                    inputs = inputs.to(device)\n",
        "                    labels = labels.to(device)\n",
        "\n",
        "                    # 予測\n",
        "                    outputs = model(inputs)\n",
        "                    _, preds = torch.max(outputs, 1)\n",
        "                    \n",
        "                    # ロス算出\n",
        "                    loss = criterion(outputs, labels)\n",
        "                    \n",
        "                    # 予測とラベルの差を使って学習 \n",
        "                    if phase == 'train':\n",
        "                        # ここは決まり文句\n",
        "                        optimizer.zero_grad()\n",
        "                        loss.backward()\n",
        "                        optimizer.step()\n",
        "\n",
        "                    # ロス、精度を算出\n",
        "                    total += inputs.size(0)\n",
        "                    loss_sum += loss.item() * inputs.size(0)\n",
        "                    acc_sum += torch.sum(preds == labels.data).item()\n",
        "                    \n",
        "                    # 進捗の表示\n",
        "                    pbar.set_postfix({\"loss\":loss_sum/float(total),\"accuracy\":float(acc_sum)/float(total)})\n",
        "                    pbar.update(1)\n",
        "\n",
        "            # 1エポックでのロス、精度を算出\n",
        "            epoch_loss = loss_sum / dataset_sizes[phase]\n",
        "            epoch_acc = acc_sum / dataset_sizes[phase]\n",
        "            \n",
        "            # 一番良い制度の時にモデルデータを保存\n",
        "            if phase == 'val' and epoch_acc > best_acc:\n",
        "                print(f\"save model epoch:{epoch} loss:{epoch_loss} acc:{epoch_acc}\")\n",
        "                torch.save(model, 'best_model_resnet101_tl20210906.pth')\n",
        "\n"
      ],
      "execution_count": 10,
      "outputs": []
    },
    {
      "cell_type": "markdown",
      "metadata": {
        "id": "sMfKokA06qdn"
      },
      "source": [
        "## 1.6 学習実行"
      ]
    },
    {
      "cell_type": "code",
      "metadata": {
        "colab": {
          "base_uri": "https://localhost:8080/"
        },
        "id": "ZZagbNFw6tuH",
        "outputId": "e96f178b-a2a7-4020-95c1-5c50be219f04"
      },
      "source": [
        "# 関数を実行\n",
        "##num_epochs = 10\n",
        "num_epochs = 15\n",
        "train(model, dataloaders, optimizer, criterion, num_epochs, device)\n"
      ],
      "execution_count": 11,
      "outputs": [
        {
          "output_type": "stream",
          "name": "stderr",
          "text": [
            "Epoch[0/15](train): 100%|██████████| 71/71 [02:53<00:00,  2.45s/batch, loss=2.19, accuracy=0.299]\n",
            "Epoch[0/15](val): 100%|██████████| 33/33 [00:42<00:00,  1.28s/batch, loss=1.75, accuracy=0.642]\n"
          ]
        },
        {
          "output_type": "stream",
          "name": "stdout",
          "text": [
            "save model epoch:0 loss:1.7480610392310403 acc:0.6424242424242425\n"
          ]
        },
        {
          "output_type": "stream",
          "name": "stderr",
          "text": [
            "Epoch[1/15](train): 100%|██████████| 71/71 [00:21<00:00,  3.34batch/s, loss=1.59, accuracy=0.774]\n",
            "Epoch[1/15](val): 100%|██████████| 33/33 [00:04<00:00,  6.73batch/s, loss=1.23, accuracy=0.927]\n"
          ]
        },
        {
          "output_type": "stream",
          "name": "stdout",
          "text": [
            "save model epoch:1 loss:1.2302987467158923 acc:0.9272727272727272\n"
          ]
        },
        {
          "output_type": "stream",
          "name": "stderr",
          "text": [
            "Epoch[2/15](train): 100%|██████████| 71/71 [00:21<00:00,  3.36batch/s, loss=1.21, accuracy=0.882]\n",
            "Epoch[2/15](val): 100%|██████████| 33/33 [00:04<00:00,  6.76batch/s, loss=0.874, accuracy=0.952]\n"
          ]
        },
        {
          "output_type": "stream",
          "name": "stdout",
          "text": [
            "save model epoch:2 loss:0.8737214821757693 acc:0.9515151515151515\n"
          ]
        },
        {
          "output_type": "stream",
          "name": "stderr",
          "text": [
            "Epoch[3/15](train): 100%|██████████| 71/71 [00:21<00:00,  3.38batch/s, loss=0.914, accuracy=0.945]\n",
            "Epoch[3/15](val): 100%|██████████| 33/33 [00:05<00:00,  6.56batch/s, loss=0.657, accuracy=0.964]\n"
          ]
        },
        {
          "output_type": "stream",
          "name": "stdout",
          "text": [
            "save model epoch:3 loss:0.656865021496108 acc:0.9636363636363636\n"
          ]
        },
        {
          "output_type": "stream",
          "name": "stderr",
          "text": [
            "Epoch[4/15](train): 100%|██████████| 71/71 [00:20<00:00,  3.38batch/s, loss=0.753, accuracy=0.953]\n",
            "Epoch[4/15](val): 100%|██████████| 33/33 [00:04<00:00,  6.73batch/s, loss=0.535, accuracy=0.952]\n"
          ]
        },
        {
          "output_type": "stream",
          "name": "stdout",
          "text": [
            "save model epoch:4 loss:0.535261331634088 acc:0.9515151515151515\n"
          ]
        },
        {
          "output_type": "stream",
          "name": "stderr",
          "text": [
            "Epoch[5/15](train): 100%|██████████| 71/71 [00:21<00:00,  3.38batch/s, loss=0.623, accuracy=0.957]\n",
            "Epoch[5/15](val): 100%|██████████| 33/33 [00:04<00:00,  6.76batch/s, loss=0.427, accuracy=0.964]\n"
          ]
        },
        {
          "output_type": "stream",
          "name": "stdout",
          "text": [
            "save model epoch:5 loss:0.4267761174476508 acc:0.9636363636363636\n"
          ]
        },
        {
          "output_type": "stream",
          "name": "stderr",
          "text": [
            "Epoch[6/15](train): 100%|██████████| 71/71 [00:20<00:00,  3.39batch/s, loss=0.511, accuracy=0.956]\n",
            "Epoch[6/15](val): 100%|██████████| 33/33 [00:04<00:00,  6.71batch/s, loss=0.365, accuracy=0.958]\n"
          ]
        },
        {
          "output_type": "stream",
          "name": "stdout",
          "text": [
            "save model epoch:6 loss:0.3646127105210767 acc:0.9575757575757575\n"
          ]
        },
        {
          "output_type": "stream",
          "name": "stderr",
          "text": [
            "Epoch[7/15](train): 100%|██████████| 71/71 [00:21<00:00,  3.38batch/s, loss=0.452, accuracy=0.965]\n",
            "Epoch[7/15](val): 100%|██████████| 33/33 [00:05<00:00,  6.53batch/s, loss=0.328, accuracy=0.964]\n"
          ]
        },
        {
          "output_type": "stream",
          "name": "stdout",
          "text": [
            "save model epoch:7 loss:0.32762837037444115 acc:0.9636363636363636\n"
          ]
        },
        {
          "output_type": "stream",
          "name": "stderr",
          "text": [
            "Epoch[8/15](train): 100%|██████████| 71/71 [00:20<00:00,  3.40batch/s, loss=0.425, accuracy=0.959]\n",
            "Epoch[8/15](val): 100%|██████████| 33/33 [00:05<00:00,  6.58batch/s, loss=0.296, accuracy=0.976]\n"
          ]
        },
        {
          "output_type": "stream",
          "name": "stdout",
          "text": [
            "save model epoch:8 loss:0.2955068656892488 acc:0.9757575757575757\n"
          ]
        },
        {
          "output_type": "stream",
          "name": "stderr",
          "text": [
            "Epoch[9/15](train): 100%|██████████| 71/71 [00:20<00:00,  3.39batch/s, loss=0.36, accuracy=0.972]\n",
            "Epoch[9/15](val): 100%|██████████| 33/33 [00:04<00:00,  6.67batch/s, loss=0.254, accuracy=0.97]\n"
          ]
        },
        {
          "output_type": "stream",
          "name": "stdout",
          "text": [
            "save model epoch:9 loss:0.2542094242843715 acc:0.9696969696969697\n"
          ]
        },
        {
          "output_type": "stream",
          "name": "stderr",
          "text": [
            "Epoch[10/15](train): 100%|██████████| 71/71 [00:20<00:00,  3.40batch/s, loss=0.342, accuracy=0.969]\n",
            "Epoch[10/15](val): 100%|██████████| 33/33 [00:04<00:00,  6.69batch/s, loss=0.228, accuracy=0.976]\n"
          ]
        },
        {
          "output_type": "stream",
          "name": "stdout",
          "text": [
            "save model epoch:10 loss:0.22783604388435683 acc:0.9757575757575757\n"
          ]
        },
        {
          "output_type": "stream",
          "name": "stderr",
          "text": [
            "Epoch[11/15](train): 100%|██████████| 71/71 [00:21<00:00,  3.38batch/s, loss=0.3, accuracy=0.969]\n",
            "Epoch[11/15](val): 100%|██████████| 33/33 [00:04<00:00,  6.73batch/s, loss=0.212, accuracy=0.97]\n"
          ]
        },
        {
          "output_type": "stream",
          "name": "stdout",
          "text": [
            "save model epoch:11 loss:0.21183528570514737 acc:0.9696969696969697\n"
          ]
        },
        {
          "output_type": "stream",
          "name": "stderr",
          "text": [
            "Epoch[12/15](train): 100%|██████████| 71/71 [00:21<00:00,  3.35batch/s, loss=0.271, accuracy=0.973]\n",
            "Epoch[12/15](val): 100%|██████████| 33/33 [00:04<00:00,  6.75batch/s, loss=0.212, accuracy=0.976]\n"
          ]
        },
        {
          "output_type": "stream",
          "name": "stdout",
          "text": [
            "save model epoch:12 loss:0.2122466525796688 acc:0.9757575757575757\n"
          ]
        },
        {
          "output_type": "stream",
          "name": "stderr",
          "text": [
            "Epoch[13/15](train): 100%|██████████| 71/71 [00:21<00:00,  3.37batch/s, loss=0.255, accuracy=0.969]\n",
            "Epoch[13/15](val): 100%|██████████| 33/33 [00:05<00:00,  6.58batch/s, loss=0.184, accuracy=0.976]\n"
          ]
        },
        {
          "output_type": "stream",
          "name": "stdout",
          "text": [
            "save model epoch:13 loss:0.18392676775428382 acc:0.9757575757575757\n"
          ]
        },
        {
          "output_type": "stream",
          "name": "stderr",
          "text": [
            "Epoch[14/15](train): 100%|██████████| 71/71 [00:20<00:00,  3.39batch/s, loss=0.232, accuracy=0.973]\n",
            "Epoch[14/15](val): 100%|██████████| 33/33 [00:04<00:00,  6.61batch/s, loss=0.193, accuracy=0.97]\n"
          ]
        },
        {
          "output_type": "stream",
          "name": "stdout",
          "text": [
            "save model epoch:14 loss:0.19280826018163652 acc:0.9696969696969697\n"
          ]
        }
      ]
    },
    {
      "cell_type": "markdown",
      "metadata": {
        "id": "3dlcZynr62FA"
      },
      "source": [
        "## 1.7 推論"
      ]
    },
    {
      "cell_type": "code",
      "metadata": {
        "colab": {
          "base_uri": "https://localhost:8080/",
          "height": 358
        },
        "id": "la1hsICI61bV",
        "outputId": "50048e08-ff75-4235-dd1b-79bbace0acdd"
      },
      "source": [
        "# テストデータで確認\n",
        "# 今回学習したモデルでテスト\n",
        "best_model = torch.load('best_model_resnet101_tl20210906.pth')\n",
        "\n",
        "# 対象画像\n",
        "filename = 'dataset/test.jpg'\n",
        "#filename = 'dataset/monument.JPG'\n",
        "#filename = 'dataset/pump.JPG'\n",
        "\n",
        "# 読み込み画像をリサイズやtensorなどの方に変換\n",
        "input_image = Image.open(filename)\n",
        "\n",
        "preprocess = transforms.Compose([\n",
        "    transforms.Resize(224),\n",
        "    transforms.ToTensor(),\n",
        "    transforms.Normalize(mean=[0.485, 0.456, 0.406], std=[0.229, 0.224, 0.225]),\n",
        "])\n",
        "input_tensor = preprocess(input_image)\n",
        "input_batch = input_tensor.unsqueeze(0)\n",
        "\n",
        "# GPU使える場合はGPUを使う\n",
        "if torch.cuda.is_available():\n",
        "    input_batch = input_batch.to('cuda')\n",
        "    best_model.to('cuda')\n",
        "\n",
        "# AIの判定\n",
        "with torch.no_grad():\n",
        "    output = best_model(input_batch)\n",
        "output = torch.nn.functional.softmax(output[0], dim=0)\n",
        "print(output.shape)\n",
        "\n",
        "# 出力結果から2種類のうちどれかを数値で取得\n",
        "output = output.to('cpu').detach().numpy().copy()\n",
        "ind = np.argmax(output)\n",
        "print(output)\n",
        "print(class_names[ind])\n",
        "\n",
        "%matplotlib inline\n",
        " \n",
        "import matplotlib.pyplot as plt\n",
        "import matplotlib.image as mpimg\n",
        "plt.imshow(mpimg.imread(filename),cmap=\"gray\")"
      ],
      "execution_count": 13,
      "outputs": [
        {
          "output_type": "stream",
          "name": "stdout",
          "text": [
            "torch.Size([12])\n",
            "[0.00321546 0.00363561 0.00400851 0.00229336 0.00306718 0.00734594\n",
            " 0.9064861  0.00319183 0.0256352  0.02316286 0.00217676 0.01578125]\n",
            "gym\n"
          ]
        },
        {
          "output_type": "execute_result",
          "data": {
            "text/plain": [
              "<matplotlib.image.AxesImage at 0x7f8c160e9a90>"
            ]
          },
          "metadata": {},
          "execution_count": 13
        },
        {
          "output_type": "display_data",
          "data": {
            "image/png": "[encoded data removed]",
            "text/plain": [
              "<Figure size 432x288 with 1 Axes>"
            ]
          },
          "metadata": {
            "needs_background": "light"
          }
        }
      ]
    }
  ]
}