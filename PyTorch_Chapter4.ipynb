{
  "nbformat": 4,
  "nbformat_minor": 0,
  "metadata": {
    "colab": {
      "name": "PyTorch_Chapter4.ipynb",
      "provenance": [],
      "collapsed_sections": [],
      "include_colab_link": true
    },
    "kernelspec": {
      "name": "python3",
      "display_name": "Python 3"
    },
    "accelerator": "GPU",
    "widgets": {
      "application/vnd.jupyter.widget-state+json": {
        "be998ebe9bf04c4ca094a4759aeab6ff": {
          "model_module": "@jupyter-widgets/controls",
          "model_name": "HBoxModel",
          "model_module_version": "1.5.0",
          "state": {
            "_view_name": "HBoxView",
            "_dom_classes": [],
            "_model_name": "HBoxModel",
            "_view_module": "@jupyter-widgets/controls",
            "_model_module_version": "1.5.0",
            "_view_count": null,
            "_view_module_version": "1.5.0",
            "box_style": "",
            "layout": "IPY_MODEL_e2ff5fadb9f54e59921e17de70ba3c90",
            "_model_module": "@jupyter-widgets/controls",
            "children": [
              "IPY_MODEL_cebc6d2890b848ca8427f26b04e6d5a1",
              "IPY_MODEL_c196b97b94ec47c695f33e39b2f9e953",
              "IPY_MODEL_abeb8fe372e6487aaacb569a85f3981d"
            ]
          }
        },
        "e2ff5fadb9f54e59921e17de70ba3c90": {
          "model_module": "@jupyter-widgets/base",
          "model_name": "LayoutModel",
          "model_module_version": "1.2.0",
          "state": {
            "_view_name": "LayoutView",
            "grid_template_rows": null,
            "right": null,
            "justify_content": null,
            "_view_module": "@jupyter-widgets/base",
            "overflow": null,
            "_model_module_version": "1.2.0",
            "_view_count": null,
            "flex_flow": null,
            "width": null,
            "min_width": null,
            "border": null,
            "align_items": null,
            "bottom": null,
            "_model_module": "@jupyter-widgets/base",
            "top": null,
            "grid_column": null,
            "overflow_y": null,
            "overflow_x": null,
            "grid_auto_flow": null,
            "grid_area": null,
            "grid_template_columns": null,
            "flex": null,
            "_model_name": "LayoutModel",
            "justify_items": null,
            "grid_row": null,
            "max_height": null,
            "align_content": null,
            "visibility": null,
            "align_self": null,
            "height": null,
            "min_height": null,
            "padding": null,
            "grid_auto_rows": null,
            "grid_gap": null,
            "max_width": null,
            "order": null,
            "_view_module_version": "1.2.0",
            "grid_template_areas": null,
            "object_position": null,
            "object_fit": null,
            "grid_auto_columns": null,
            "margin": null,
            "display": null,
            "left": null
          }
        },
        "cebc6d2890b848ca8427f26b04e6d5a1": {
          "model_module": "@jupyter-widgets/controls",
          "model_name": "HTMLModel",
          "model_module_version": "1.5.0",
          "state": {
            "_view_name": "HTMLView",
            "style": "IPY_MODEL_6a51955ef04942249e1d64d2a3ee6231",
            "_dom_classes": [],
            "description": "",
            "_model_name": "HTMLModel",
            "placeholder": "​",
            "_view_module": "@jupyter-widgets/controls",
            "_model_module_version": "1.5.0",
            "value": "100%",
            "_view_count": null,
            "_view_module_version": "1.5.0",
            "description_tooltip": null,
            "_model_module": "@jupyter-widgets/controls",
            "layout": "IPY_MODEL_74466aaedb8c4c9199bfae5ade246093"
          }
        },
        "c196b97b94ec47c695f33e39b2f9e953": {
          "model_module": "@jupyter-widgets/controls",
          "model_name": "FloatProgressModel",
          "model_module_version": "1.5.0",
          "state": {
            "_view_name": "ProgressView",
            "style": "IPY_MODEL_05d1e8ba458143cdac7029234540122b",
            "_dom_classes": [],
            "description": "",
            "_model_name": "FloatProgressModel",
            "bar_style": "success",
            "max": 46830571,
            "_view_module": "@jupyter-widgets/controls",
            "_model_module_version": "1.5.0",
            "value": 46830571,
            "_view_count": null,
            "_view_module_version": "1.5.0",
            "orientation": "horizontal",
            "min": 0,
            "description_tooltip": null,
            "_model_module": "@jupyter-widgets/controls",
            "layout": "IPY_MODEL_2b8becbd0bef47aabdfece61c23c1f39"
          }
        },
        "abeb8fe372e6487aaacb569a85f3981d": {
          "model_module": "@jupyter-widgets/controls",
          "model_name": "HTMLModel",
          "model_module_version": "1.5.0",
          "state": {
            "_view_name": "HTMLView",
            "style": "IPY_MODEL_9d2154e8030d4ac390bb2a6c480de8c3",
            "_dom_classes": [],
            "description": "",
            "_model_name": "HTMLModel",
            "placeholder": "​",
            "_view_module": "@jupyter-widgets/controls",
            "_model_module_version": "1.5.0",
            "value": " 44.7M/44.7M [00:00&lt;00:00, 101MB/s]",
            "_view_count": null,
            "_view_module_version": "1.5.0",
            "description_tooltip": null,
            "_model_module": "@jupyter-widgets/controls",
            "layout": "IPY_MODEL_3db7711ce75149529a61fbe796c18187"
          }
        },
        "6a51955ef04942249e1d64d2a3ee6231": {
          "model_module": "@jupyter-widgets/controls",
          "model_name": "DescriptionStyleModel",
          "model_module_version": "1.5.0",
          "state": {
            "_view_name": "StyleView",
            "_model_name": "DescriptionStyleModel",
            "description_width": "",
            "_view_module": "@jupyter-widgets/base",
            "_model_module_version": "1.5.0",
            "_view_count": null,
            "_view_module_version": "1.2.0",
            "_model_module": "@jupyter-widgets/controls"
          }
        },
        "74466aaedb8c4c9199bfae5ade246093": {
          "model_module": "@jupyter-widgets/base",
          "model_name": "LayoutModel",
          "model_module_version": "1.2.0",
          "state": {
            "_view_name": "LayoutView",
            "grid_template_rows": null,
            "right": null,
            "justify_content": null,
            "_view_module": "@jupyter-widgets/base",
            "overflow": null,
            "_model_module_version": "1.2.0",
            "_view_count": null,
            "flex_flow": null,
            "width": null,
            "min_width": null,
            "border": null,
            "align_items": null,
            "bottom": null,
            "_model_module": "@jupyter-widgets/base",
            "top": null,
            "grid_column": null,
            "overflow_y": null,
            "overflow_x": null,
            "grid_auto_flow": null,
            "grid_area": null,
            "grid_template_columns": null,
            "flex": null,
            "_model_name": "LayoutModel",
            "justify_items": null,
            "grid_row": null,
            "max_height": null,
            "align_content": null,
            "visibility": null,
            "align_self": null,
            "height": null,
            "min_height": null,
            "padding": null,
            "grid_auto_rows": null,
            "grid_gap": null,
            "max_width": null,
            "order": null,
            "_view_module_version": "1.2.0",
            "grid_template_areas": null,
            "object_position": null,
            "object_fit": null,
            "grid_auto_columns": null,
            "margin": null,
            "display": null,
            "left": null
          }
        },
        "05d1e8ba458143cdac7029234540122b": {
          "model_module": "@jupyter-widgets/controls",
          "model_name": "ProgressStyleModel",
          "model_module_version": "1.5.0",
          "state": {
            "_view_name": "StyleView",
            "_model_name": "ProgressStyleModel",
            "description_width": "",
            "_view_module": "@jupyter-widgets/base",
            "_model_module_version": "1.5.0",
            "_view_count": null,
            "_view_module_version": "1.2.0",
            "bar_color": null,
            "_model_module": "@jupyter-widgets/controls"
          }
        },
        "2b8becbd0bef47aabdfece61c23c1f39": {
          "model_module": "@jupyter-widgets/base",
          "model_name": "LayoutModel",
          "model_module_version": "1.2.0",
          "state": {
            "_view_name": "LayoutView",
            "grid_template_rows": null,
            "right": null,
            "justify_content": null,
            "_view_module": "@jupyter-widgets/base",
            "overflow": null,
            "_model_module_version": "1.2.0",
            "_view_count": null,
            "flex_flow": null,
            "width": null,
            "min_width": null,
            "border": null,
            "align_items": null,
            "bottom": null,
            "_model_module": "@jupyter-widgets/base",
            "top": null,
            "grid_column": null,
            "overflow_y": null,
            "overflow_x": null,
            "grid_auto_flow": null,
            "grid_area": null,
            "grid_template_columns": null,
            "flex": null,
            "_model_name": "LayoutModel",
            "justify_items": null,
            "grid_row": null,
            "max_height": null,
            "align_content": null,
            "visibility": null,
            "align_self": null,
            "height": null,
            "min_height": null,
            "padding": null,
            "grid_auto_rows": null,
            "grid_gap": null,
            "max_width": null,
            "order": null,
            "_view_module_version": "1.2.0",
            "grid_template_areas": null,
            "object_position": null,
            "object_fit": null,
            "grid_auto_columns": null,
            "margin": null,
            "display": null,
            "left": null
          }
        },
        "9d2154e8030d4ac390bb2a6c480de8c3": {
          "model_module": "@jupyter-widgets/controls",
          "model_name": "DescriptionStyleModel",
          "model_module_version": "1.5.0",
          "state": {
            "_view_name": "StyleView",
            "_model_name": "DescriptionStyleModel",
            "description_width": "",
            "_view_module": "@jupyter-widgets/base",
            "_model_module_version": "1.5.0",
            "_view_count": null,
            "_view_module_version": "1.2.0",
            "_model_module": "@jupyter-widgets/controls"
          }
        },
        "3db7711ce75149529a61fbe796c18187": {
          "model_module": "@jupyter-widgets/base",
          "model_name": "LayoutModel",
          "model_module_version": "1.2.0",
          "state": {
            "_view_name": "LayoutView",
            "grid_template_rows": null,
            "right": null,
            "justify_content": null,
            "_view_module": "@jupyter-widgets/base",
            "overflow": null,
            "_model_module_version": "1.2.0",
            "_view_count": null,
            "flex_flow": null,
            "width": null,
            "min_width": null,
            "border": null,
            "align_items": null,
            "bottom": null,
            "_model_module": "@jupyter-widgets/base",
            "top": null,
            "grid_column": null,
            "overflow_y": null,
            "overflow_x": null,
            "grid_auto_flow": null,
            "grid_area": null,
            "grid_template_columns": null,
            "flex": null,
            "_model_name": "LayoutModel",
            "justify_items": null,
            "grid_row": null,
            "max_height": null,
            "align_content": null,
            "visibility": null,
            "align_self": null,
            "height": null,
            "min_height": null,
            "padding": null,
            "grid_auto_rows": null,
            "grid_gap": null,
            "max_width": null,
            "order": null,
            "_view_module_version": "1.2.0",
            "grid_template_areas": null,
            "object_position": null,
            "object_fit": null,
            "grid_auto_columns": null,
            "margin": null,
            "display": null,
            "left": null
          }
        }
      }
    }
  },
  "cells": [
    {
      "cell_type": "markdown",
      "metadata": {
        "id": "view-in-github",
        "colab_type": "text"
      },
      "source": [
        "<a href=\"https://colab.research.google.com/github/DiNOV-Tokyo/yolov5/blob/main/PyTorch_Chapter4.ipynb\" target=\"_parent\"><img src=\"https://colab.research.google.com/assets/colab-badge.svg\" alt=\"Open In Colab\"/></a>"
      ]
    },
    {
      "cell_type": "markdown",
      "metadata": {
        "id": "zbYxdjYvOMzZ"
      },
      "source": [
        "Chapter4　画像処理と畳み込みニューラルネットワーク"
      ]
    },
    {
      "cell_type": "code",
      "metadata": {
        "id": "tPIfITcaBxSI"
      },
      "source": [
        "!pip3 install http://download.pytorch.org/whl/cu80/torch-0.4.0-cp36-cp36m-linux_x86_64.whl\n",
        "!pip3 install torchvision\n",
        "!pip3 install tqdm\n"
      ],
      "execution_count": null,
      "outputs": []
    },
    {
      "cell_type": "code",
      "metadata": {
        "id": "MqiWwutIClJE"
      },
      "source": [
        "import torch\n",
        "torch.tensor([1,2,3]).to(\"cuda:0\")"
      ],
      "execution_count": null,
      "outputs": []
    },
    {
      "cell_type": "code",
      "metadata": {
        "id": "8gZhfQJ6-XF2"
      },
      "source": [
        "import torch\n",
        "from torch import nn, optim\n",
        "from torch.utils.data import (Dataset, \n",
        "                              DataLoader,\n",
        "                              TensorDataset)\n",
        "import tqdm\n",
        "\n"
      ],
      "execution_count": null,
      "outputs": []
    },
    {
      "cell_type": "markdown",
      "metadata": {
        "id": "W_wkLwK5Kmu2"
      },
      "source": [
        "リスト4.1　Fashion-MNISTのデータからDataLoaderを作成（<your_path>は任意のディレクトリに変更）"
      ]
    },
    {
      "cell_type": "code",
      "metadata": {
        "colab": {
          "base_uri": "https://localhost:8080/"
        },
        "id": "slStAlEoK8OL",
        "outputId": "1d15f21e-f50f-46ef-877a-a07b40964837"
      },
      "source": [
        "!pwd"
      ],
      "execution_count": null,
      "outputs": [
        {
          "output_type": "stream",
          "name": "stdout",
          "text": [
            "/home/jovyan\r\n"
          ]
        }
      ]
    },
    {
      "cell_type": "code",
      "metadata": {
        "id": "TcqPEZSd-8d1",
        "colab": {
          "base_uri": "https://localhost:8080/"
        },
        "outputId": "bd89baff-33a3-47ba-facf-9068b706e180"
      },
      "source": [
        "from torchvision.datasets import FashionMNIST\n",
        "from torchvision import transforms\n",
        "\n",
        "# 訓練用のデータを取得\n",
        "# そのままだとPIL（Python Imaging Library）の画像形式で\n",
        "# Datasetを作ってしまうので、\n",
        "# transforms.ToTensorでTensorに変換する\n",
        "fashion_mnist_train = FashionMNIST(\"./FashionMNIST\", \n",
        "    train=True, download=False,\n",
        "    transform=transforms.ToTensor())\n",
        "# 検証用データの取得\n",
        "fashion_mnist_test = FashionMNIST(\"./FashionMNIST\",\n",
        "    train=False, download=False,\n",
        "    transform=transforms.ToTensor())\n",
        "\n",
        "# バッチサイズが128のDataLoaderをそれぞれ作成\n",
        "batch_size=128\n",
        "train_loader = DataLoader(fashion_mnist_train, \n",
        "                          batch_size=batch_size, shuffle=True)\n",
        "test_loader = DataLoader(fashion_mnist_test,\n",
        "                         batch_size=batch_size, shuffle=False)"
      ],
      "execution_count": null,
      "outputs": [
        {
          "output_type": "stream",
          "name": "stderr",
          "text": [
            "/opt/conda/lib/python3.9/site-packages/torchvision/datasets/mnist.py:498: UserWarning: The given NumPy array is not writeable, and PyTorch does not support non-writeable tensors. This means you can write to the underlying (supposedly non-writeable) NumPy array using the tensor. You may want to copy the array to protect its data or make it writeable before converting it to a tensor. This type of warning will be suppressed for the rest of this program. (Triggered internally at  /pytorch/torch/csrc/utils/tensor_numpy.cpp:180.)\n",
            "  return torch.from_numpy(parsed.astype(m[2], copy=False)).view(*s)\n"
          ]
        }
      ]
    },
    {
      "cell_type": "markdown",
      "metadata": {
        "id": "ZzK2zE0rLnGx"
      },
      "source": [
        "リスト4.2　2層の畳み込み層と2層のMLPをつなげたCNNを作成"
      ]
    },
    {
      "cell_type": "code",
      "metadata": {
        "colab": {
          "base_uri": "https://localhost:8080/"
        },
        "id": "eR9cWIeykScd",
        "outputId": "c73c7622-f5d5-49c0-c134-a530241e6053"
      },
      "source": [
        "!pip install ipywidgets"
      ],
      "execution_count": null,
      "outputs": [
        {
          "output_type": "stream",
          "name": "stdout",
          "text": [
            "Collecting ipywidgets\n",
            "  Downloading ipywidgets-7.6.4-py2.py3-none-any.whl (121 kB)\n",
            "\u001b[K     |████████████████████████████████| 121 kB 12.5 MB/s \n",
            "\u001b[?25hRequirement already satisfied: traitlets>=4.3.1 in /opt/conda/lib/python3.9/site-packages (from ipywidgets) (5.0.5)\n",
            "Requirement already satisfied: ipython>=4.0.0 in /opt/conda/lib/python3.9/site-packages (from ipywidgets) (7.26.0)\n",
            "Collecting jupyterlab-widgets>=1.0.0\n",
            "  Downloading jupyterlab_widgets-1.0.1-py3-none-any.whl (243 kB)\n",
            "\u001b[K     |████████████████████████████████| 243 kB 836 kB/s \n",
            "\u001b[?25hCollecting widgetsnbextension~=3.5.0\n",
            "  Downloading widgetsnbextension-3.5.1-py2.py3-none-any.whl (2.2 MB)\n",
            "\u001b[K     |████████████████████████████████| 2.2 MB 1.6 MB/s \n",
            "\u001b[?25hRequirement already satisfied: nbformat>=4.2.0 in /opt/conda/lib/python3.9/site-packages (from ipywidgets) (5.1.3)\n",
            "Requirement already satisfied: ipython-genutils~=0.2.0 in /opt/conda/lib/python3.9/site-packages (from ipywidgets) (0.2.0)\n",
            "Requirement already satisfied: ipykernel>=4.5.1 in /opt/conda/lib/python3.9/site-packages (from ipywidgets) (6.2.0)\n",
            "Requirement already satisfied: tornado<7.0,>=4.2 in /opt/conda/lib/python3.9/site-packages (from ipykernel>=4.5.1->ipywidgets) (6.1)\n",
            "Requirement already satisfied: jupyter-client<8.0 in /opt/conda/lib/python3.9/site-packages (from ipykernel>=4.5.1->ipywidgets) (7.0.1)\n",
            "Requirement already satisfied: debugpy<2.0,>=1.0.0 in /opt/conda/lib/python3.9/site-packages (from ipykernel>=4.5.1->ipywidgets) (1.4.1)\n",
            "Requirement already satisfied: matplotlib-inline<0.2.0,>=0.1.0 in /opt/conda/lib/python3.9/site-packages (from ipykernel>=4.5.1->ipywidgets) (0.1.2)\n",
            "Requirement already satisfied: pygments in /opt/conda/lib/python3.9/site-packages (from ipython>=4.0.0->ipywidgets) (2.10.0)\n",
            "Requirement already satisfied: pexpect>4.3 in /opt/conda/lib/python3.9/site-packages (from ipython>=4.0.0->ipywidgets) (4.8.0)\n",
            "Requirement already satisfied: jedi>=0.16 in /opt/conda/lib/python3.9/site-packages (from ipython>=4.0.0->ipywidgets) (0.18.0)\n",
            "Requirement already satisfied: prompt-toolkit!=3.0.0,!=3.0.1,<3.1.0,>=2.0.0 in /opt/conda/lib/python3.9/site-packages (from ipython>=4.0.0->ipywidgets) (3.0.20)\n",
            "Requirement already satisfied: decorator in /opt/conda/lib/python3.9/site-packages (from ipython>=4.0.0->ipywidgets) (5.0.9)\n",
            "Requirement already satisfied: backcall in /opt/conda/lib/python3.9/site-packages (from ipython>=4.0.0->ipywidgets) (0.2.0)\n",
            "Requirement already satisfied: pickleshare in /opt/conda/lib/python3.9/site-packages (from ipython>=4.0.0->ipywidgets) (0.7.5)\n",
            "Requirement already satisfied: setuptools>=18.5 in /opt/conda/lib/python3.9/site-packages (from ipython>=4.0.0->ipywidgets) (57.4.0)\n",
            "Requirement already satisfied: parso<0.9.0,>=0.8.0 in /opt/conda/lib/python3.9/site-packages (from jedi>=0.16->ipython>=4.0.0->ipywidgets) (0.8.2)\n",
            "Requirement already satisfied: pyzmq>=13 in /opt/conda/lib/python3.9/site-packages (from jupyter-client<8.0->ipykernel>=4.5.1->ipywidgets) (22.2.1)\n",
            "Requirement already satisfied: entrypoints in /opt/conda/lib/python3.9/site-packages (from jupyter-client<8.0->ipykernel>=4.5.1->ipywidgets) (0.3)\n",
            "Requirement already satisfied: nest-asyncio>=1.5 in /opt/conda/lib/python3.9/site-packages (from jupyter-client<8.0->ipykernel>=4.5.1->ipywidgets) (1.5.1)\n",
            "Requirement already satisfied: jupyter-core>=4.6.0 in /opt/conda/lib/python3.9/site-packages (from jupyter-client<8.0->ipykernel>=4.5.1->ipywidgets) (4.7.1)\n",
            "Requirement already satisfied: python-dateutil>=2.1 in /opt/conda/lib/python3.9/site-packages (from jupyter-client<8.0->ipykernel>=4.5.1->ipywidgets) (2.8.2)\n",
            "Requirement already satisfied: jsonschema!=2.5.0,>=2.4 in /opt/conda/lib/python3.9/site-packages (from nbformat>=4.2.0->ipywidgets) (3.2.0)\n",
            "Requirement already satisfied: attrs>=17.4.0 in /opt/conda/lib/python3.9/site-packages (from jsonschema!=2.5.0,>=2.4->nbformat>=4.2.0->ipywidgets) (21.2.0)\n",
            "Requirement already satisfied: pyrsistent>=0.14.0 in /opt/conda/lib/python3.9/site-packages (from jsonschema!=2.5.0,>=2.4->nbformat>=4.2.0->ipywidgets) (0.17.3)\n",
            "Requirement already satisfied: six>=1.11.0 in /opt/conda/lib/python3.9/site-packages (from jsonschema!=2.5.0,>=2.4->nbformat>=4.2.0->ipywidgets) (1.16.0)\n",
            "Requirement already satisfied: ptyprocess>=0.5 in /opt/conda/lib/python3.9/site-packages (from pexpect>4.3->ipython>=4.0.0->ipywidgets) (0.7.0)\n",
            "Requirement already satisfied: wcwidth in /opt/conda/lib/python3.9/site-packages (from prompt-toolkit!=3.0.0,!=3.0.1,<3.1.0,>=2.0.0->ipython>=4.0.0->ipywidgets) (0.2.5)\n",
            "Requirement already satisfied: notebook>=4.4.1 in /opt/conda/lib/python3.9/site-packages (from widgetsnbextension~=3.5.0->ipywidgets) (6.4.3)\n",
            "Requirement already satisfied: Send2Trash>=1.5.0 in /opt/conda/lib/python3.9/site-packages (from notebook>=4.4.1->widgetsnbextension~=3.5.0->ipywidgets) (1.8.0)\n",
            "Requirement already satisfied: terminado>=0.8.3 in /opt/conda/lib/python3.9/site-packages (from notebook>=4.4.1->widgetsnbextension~=3.5.0->ipywidgets) (0.11.1)\n",
            "Requirement already satisfied: jinja2 in /opt/conda/lib/python3.9/site-packages (from notebook>=4.4.1->widgetsnbextension~=3.5.0->ipywidgets) (3.0.1)\n",
            "Requirement already satisfied: argon2-cffi in /opt/conda/lib/python3.9/site-packages (from notebook>=4.4.1->widgetsnbextension~=3.5.0->ipywidgets) (20.1.0)\n",
            "Requirement already satisfied: prometheus-client in /opt/conda/lib/python3.9/site-packages (from notebook>=4.4.1->widgetsnbextension~=3.5.0->ipywidgets) (0.11.0)\n",
            "Requirement already satisfied: nbconvert in /opt/conda/lib/python3.9/site-packages (from notebook>=4.4.1->widgetsnbextension~=3.5.0->ipywidgets) (6.1.0)\n",
            "Requirement already satisfied: cffi>=1.0.0 in /opt/conda/lib/python3.9/site-packages (from argon2-cffi->notebook>=4.4.1->widgetsnbextension~=3.5.0->ipywidgets) (1.14.6)\n",
            "Requirement already satisfied: pycparser in /opt/conda/lib/python3.9/site-packages (from cffi>=1.0.0->argon2-cffi->notebook>=4.4.1->widgetsnbextension~=3.5.0->ipywidgets) (2.20)\n",
            "Requirement already satisfied: MarkupSafe>=2.0 in /opt/conda/lib/python3.9/site-packages (from jinja2->notebook>=4.4.1->widgetsnbextension~=3.5.0->ipywidgets) (2.0.1)\n",
            "Requirement already satisfied: bleach in /opt/conda/lib/python3.9/site-packages (from nbconvert->notebook>=4.4.1->widgetsnbextension~=3.5.0->ipywidgets) (4.1.0)\n",
            "Requirement already satisfied: testpath in /opt/conda/lib/python3.9/site-packages (from nbconvert->notebook>=4.4.1->widgetsnbextension~=3.5.0->ipywidgets) (0.5.0)\n",
            "Requirement already satisfied: jupyterlab-pygments in /opt/conda/lib/python3.9/site-packages (from nbconvert->notebook>=4.4.1->widgetsnbextension~=3.5.0->ipywidgets) (0.1.2)\n",
            "Requirement already satisfied: defusedxml in /opt/conda/lib/python3.9/site-packages (from nbconvert->notebook>=4.4.1->widgetsnbextension~=3.5.0->ipywidgets) (0.7.1)\n",
            "Requirement already satisfied: nbclient<0.6.0,>=0.5.0 in /opt/conda/lib/python3.9/site-packages (from nbconvert->notebook>=4.4.1->widgetsnbextension~=3.5.0->ipywidgets) (0.5.4)\n",
            "Requirement already satisfied: mistune<2,>=0.8.1 in /opt/conda/lib/python3.9/site-packages (from nbconvert->notebook>=4.4.1->widgetsnbextension~=3.5.0->ipywidgets) (0.8.4)\n",
            "Requirement already satisfied: pandocfilters>=1.4.1 in /opt/conda/lib/python3.9/site-packages (from nbconvert->notebook>=4.4.1->widgetsnbextension~=3.5.0->ipywidgets) (1.4.2)\n",
            "Requirement already satisfied: packaging in /opt/conda/lib/python3.9/site-packages (from bleach->nbconvert->notebook>=4.4.1->widgetsnbextension~=3.5.0->ipywidgets) (21.0)\n",
            "Requirement already satisfied: webencodings in /opt/conda/lib/python3.9/site-packages (from bleach->nbconvert->notebook>=4.4.1->widgetsnbextension~=3.5.0->ipywidgets) (0.5.1)\n",
            "Requirement already satisfied: pyparsing>=2.0.2 in /opt/conda/lib/python3.9/site-packages (from packaging->bleach->nbconvert->notebook>=4.4.1->widgetsnbextension~=3.5.0->ipywidgets) (2.4.7)\n",
            "Installing collected packages: widgetsnbextension, jupyterlab-widgets, ipywidgets\n",
            "Successfully installed ipywidgets-7.6.4 jupyterlab-widgets-1.0.1 widgetsnbextension-3.5.1\n"
          ]
        }
      ]
    },
    {
      "cell_type": "code",
      "metadata": {
        "id": "uk_TuP1EOLjS",
        "colab": {
          "base_uri": "https://localhost:8080/"
        },
        "outputId": "bab40927-383c-4218-a79d-122fb096ae2c"
      },
      "source": [
        "#  (N、C、H、W)形式のTensorを(N, C*H*W)に引き伸ばす層\n",
        "# 畳み込み層の出力をMLPに渡す際に必要\n",
        "class FlattenLayer(nn.Module):\n",
        "    def forward(self, x):\n",
        "        sizes = x.size()\n",
        "        return x.view(sizes[0], -1)\n",
        "\n",
        "# 5×5のカーネルを使用し最初に32個、次に64個のチャンネルを作成する\n",
        "# BatchNorm2dは画像形式用のBatch Normalization\n",
        "# Dropout2dは画像形式用のDropout\n",
        "# 最後にFlattenLayerを挟む\n",
        "conv_net = nn.Sequential(\n",
        "    nn.Conv2d(1, 32, 5),\n",
        "    nn.MaxPool2d(2),\n",
        "    nn.ReLU(),\n",
        "    nn.BatchNorm2d(32),\n",
        "    nn.Dropout2d(0.25),\n",
        "    nn.Conv2d(32, 64, 5),\n",
        "    nn.MaxPool2d(2),\n",
        "    nn.ReLU(),\n",
        "    nn.BatchNorm2d(64),\n",
        "    nn.Dropout2d(0.25),\n",
        "    FlattenLayer()\n",
        ")\n",
        "\n",
        "# 畳み込みによって最終的にどのようなサイズになっているかを、\n",
        "# 実際にダミーデータを入れてみて確認する\n",
        "test_input = torch.ones(1, 1, 28, 28)\n",
        "conv_output_size = conv_net(test_input).size()[-1]\n",
        "\n",
        "# 2層のMLP\n",
        "mlp = nn.Sequential(\n",
        "    nn.Linear(conv_output_size, 200),\n",
        "    nn.ReLU(),\n",
        "    nn.BatchNorm1d(200),\n",
        "    nn.Dropout(0.25),\n",
        "    nn.Linear(200, 10)\n",
        ")\n",
        "\n",
        "# 最終的なCNN\n",
        "net = nn.Sequential(\n",
        "    conv_net,\n",
        "    mlp\n",
        ")"
      ],
      "execution_count": null,
      "outputs": [
        {
          "output_type": "stream",
          "name": "stderr",
          "text": [
            "/opt/conda/lib/python3.9/site-packages/torch/nn/functional.py:718: UserWarning: Named tensors and all their associated APIs are an experimental feature and subject to change. Please do not use them for anything important until they are released as stable. (Triggered internally at  /pytorch/c10/core/TensorImpl.h:1156.)\n",
            "  return torch.max_pool2d(input, kernel_size, stride, padding, dilation, ceil_mode)\n"
          ]
        }
      ]
    },
    {
      "cell_type": "markdown",
      "metadata": {
        "id": "pOBu9DVFLq1Y"
      },
      "source": [
        "リスト4.3　評価と訓練のヘルパー関数を作成"
      ]
    },
    {
      "cell_type": "code",
      "metadata": {
        "id": "ETeREXcXOvky"
      },
      "source": [
        "# 評価のヘルパー関数\n",
        "def eval_net(net, data_loader, device=\"cpu\"):\n",
        "    # DropoutやBatchNormを無効化\n",
        "    net.eval()\n",
        "    ys = []\n",
        "    ypreds = []\n",
        "    for x, y in data_loader:\n",
        "        # toメソッドで計算を実行するデバイスに転送する\n",
        "        x = x.to(device)\n",
        "        y = y.to(device)\n",
        "        # 確率が最大のクラスを予測(リスト2.14参照)\n",
        "        # ここではforward（推論）の計算だけなので自動微分に\n",
        "        # 必要な処理はoffにして余計な計算を省く\n",
        "        with torch.no_grad():\n",
        "            _, y_pred = net(x).max(1)\n",
        "        ys.append(y)\n",
        "        ypreds.append(y_pred)\n",
        "            # ミニバッチごとの予測結果などを1つにまとめる\n",
        "    ys = torch.cat(ys)\n",
        "    ypreds = torch.cat(ypreds)\n",
        "    # 予測精度を計算\n",
        "    acc = (ys == ypreds).float().sum() / len(ys)\n",
        "    return acc.item()\n",
        "  \n",
        "# 訓練のヘルパー関数\n",
        "def train_net(net, train_loader, test_loader,\n",
        "              optimizer_cls=optim.Adam,\n",
        "              loss_fn=nn.CrossEntropyLoss(),\n",
        "              n_iter=10, device=\"cpu\"):\n",
        "    train_losses = []\n",
        "    train_acc = []\n",
        "    val_acc = []\n",
        "    optimizer = optimizer_cls(net.parameters())\n",
        "    for epoch in range(n_iter):\n",
        "        running_loss = 0.0\n",
        "        # ネットワークを訓練モードにする\n",
        "        net.train()\n",
        "        n = 0\n",
        "        n_acc = 0\n",
        "        # 非常に時間がかかるのでtqdmを使用してプログレスバーを出す\n",
        "        for i, (xx, yy) in tqdm.tqdm(enumerate(train_loader),\n",
        "            total=len(train_loader)):\n",
        "            xx = xx.to(device)\n",
        "            yy = yy.to(device)\n",
        "            h = net(xx)\n",
        "            loss = loss_fn(h, yy)\n",
        "            optimizer.zero_grad()\n",
        "            loss.backward()\n",
        "            optimizer.step()\n",
        "            running_loss += loss.item()\n",
        "            n += len(xx)\n",
        "            _, y_pred = h.max(1)\n",
        "            n_acc += (yy == y_pred).float().sum().item()\n",
        "        train_losses.append(running_loss / i)\n",
        "        # 訓練データの予測精度\n",
        "        train_acc.append(n_acc / n)\n",
        "        # 検証データの予測精度\n",
        "        val_acc.append(eval_net(net, test_loader, device))\n",
        "        # このepochでの結果を表示\n",
        "        print(epoch, train_losses[-1], train_acc[-1],\n",
        "              val_acc[-1], flush=True)\n",
        "        "
      ],
      "execution_count": null,
      "outputs": []
    },
    {
      "cell_type": "markdown",
      "metadata": {
        "id": "VYaPucmvL9D4"
      },
      "source": [
        "リスト4.4　全パラメータをGPUに転送して訓練を実行"
      ]
    },
    {
      "cell_type": "code",
      "metadata": {
        "id": "vgwqbNNJO-AS",
        "colab": {
          "base_uri": "https://localhost:8080/"
        },
        "outputId": "05c7b7dd-c2c7-456b-8b52-9234d860af02"
      },
      "source": [
        "# ネットワークの全パラメータをGPUに転送\n",
        "net.to(\"cuda:0\")\n",
        "# 訓練を実行\n",
        "train_net(net, train_loader, test_loader, n_iter=20, device=\"cuda:0\")"
      ],
      "execution_count": null,
      "outputs": [
        {
          "output_type": "stream",
          "name": "stderr",
          "text": [
            "100%|█████████████████████████████████████████████████████████████████████████████████████████████████████████████| 469/469 [00:06<00:00, 68.52it/s]\n"
          ]
        },
        {
          "output_type": "stream",
          "name": "stdout",
          "text": [
            "0 0.44512253003115326 0.8392 0.8804999589920044\n"
          ]
        },
        {
          "output_type": "stream",
          "name": "stderr",
          "text": [
            "100%|█████████████████████████████████████████████████████████████████████████████████████████████████████████████| 469/469 [00:06<00:00, 68.83it/s]\n"
          ]
        },
        {
          "output_type": "stream",
          "name": "stdout",
          "text": [
            "1 0.3215820555630912 0.88185 0.8920999765396118\n"
          ]
        },
        {
          "output_type": "stream",
          "name": "stderr",
          "text": [
            "100%|█████████████████████████████████████████████████████████████████████████████████████████████████████████████| 469/469 [00:06<00:00, 70.25it/s]\n"
          ]
        },
        {
          "output_type": "stream",
          "name": "stdout",
          "text": [
            "2 0.2863958210676399 0.8949166666666667 0.9030999541282654\n"
          ]
        },
        {
          "output_type": "stream",
          "name": "stderr",
          "text": [
            "100%|█████████████████████████████████████████████████████████████████████████████████████████████████████████████| 469/469 [00:06<00:00, 70.11it/s]\n"
          ]
        },
        {
          "output_type": "stream",
          "name": "stdout",
          "text": [
            "3 0.26204113337473994 0.9026166666666666 0.904699981212616\n"
          ]
        },
        {
          "output_type": "stream",
          "name": "stderr",
          "text": [
            "100%|█████████████████████████████████████████████████████████████████████████████████████████████████████████████| 469/469 [00:06<00:00, 70.45it/s]\n"
          ]
        },
        {
          "output_type": "stream",
          "name": "stdout",
          "text": [
            "4 0.24796674472208208 0.9091333333333333 0.9065999984741211\n"
          ]
        },
        {
          "output_type": "stream",
          "name": "stderr",
          "text": [
            "100%|█████████████████████████████████████████████████████████████████████████████████████████████████████████████| 469/469 [00:06<00:00, 69.63it/s]\n"
          ]
        },
        {
          "output_type": "stream",
          "name": "stdout",
          "text": [
            "5 0.23358191890466926 0.9133833333333333 0.9095999598503113\n"
          ]
        },
        {
          "output_type": "stream",
          "name": "stderr",
          "text": [
            "100%|█████████████████████████████████████████████████████████████████████████████████████████████████████████████| 469/469 [00:06<00:00, 68.71it/s]\n"
          ]
        },
        {
          "output_type": "stream",
          "name": "stdout",
          "text": [
            "6 0.22407863590006644 0.91775 0.9115999937057495\n"
          ]
        },
        {
          "output_type": "stream",
          "name": "stderr",
          "text": [
            "100%|█████████████████████████████████████████████████████████████████████████████████████████████████████████████| 469/469 [00:06<00:00, 68.94it/s]\n"
          ]
        },
        {
          "output_type": "stream",
          "name": "stdout",
          "text": [
            "7 0.2132333846937897 0.9213833333333333 0.9125999808311462\n"
          ]
        },
        {
          "output_type": "stream",
          "name": "stderr",
          "text": [
            "100%|█████████████████████████████████████████████████████████████████████████████████████████████████████████████| 469/469 [00:06<00:00, 68.70it/s]\n"
          ]
        },
        {
          "output_type": "stream",
          "name": "stdout",
          "text": [
            "8 0.2074839234447632 0.9228166666666666 0.9103999733924866\n"
          ]
        },
        {
          "output_type": "stream",
          "name": "stderr",
          "text": [
            "100%|█████████████████████████████████████████████████████████████████████████████████████████████████████████████| 469/469 [00:06<00:00, 69.07it/s]\n"
          ]
        },
        {
          "output_type": "stream",
          "name": "stdout",
          "text": [
            "9 0.19981306512704772 0.9249 0.9147999882698059\n"
          ]
        },
        {
          "output_type": "stream",
          "name": "stderr",
          "text": [
            "100%|█████████████████████████████████████████████████████████████████████████████████████████████████████████████| 469/469 [00:06<00:00, 69.07it/s]\n"
          ]
        },
        {
          "output_type": "stream",
          "name": "stdout",
          "text": [
            "10 0.19503884886701903 0.928 0.9146999716758728\n"
          ]
        },
        {
          "output_type": "stream",
          "name": "stderr",
          "text": [
            "100%|█████████████████████████████████████████████████████████████████████████████████████████████████████████████| 469/469 [00:06<00:00, 69.24it/s]\n"
          ]
        },
        {
          "output_type": "stream",
          "name": "stdout",
          "text": [
            "11 0.1882853113974516 0.9298333333333333 0.9175999760627747\n"
          ]
        },
        {
          "output_type": "stream",
          "name": "stderr",
          "text": [
            "100%|█████████████████████████████████████████████████████████████████████████████████████████████████████████████| 469/469 [00:06<00:00, 69.90it/s]\n"
          ]
        },
        {
          "output_type": "stream",
          "name": "stdout",
          "text": [
            "12 0.1803154238841982 0.9329 0.9181999564170837\n"
          ]
        },
        {
          "output_type": "stream",
          "name": "stderr",
          "text": [
            "100%|█████████████████████████████████████████████████████████████████████████████████████████████████████████████| 469/469 [00:06<00:00, 70.50it/s]\n"
          ]
        },
        {
          "output_type": "stream",
          "name": "stdout",
          "text": [
            "13 0.17589581212522382 0.9337833333333333 0.9186999797821045\n"
          ]
        },
        {
          "output_type": "stream",
          "name": "stderr",
          "text": [
            "100%|█████████████████████████████████████████████████████████████████████████████████████████████████████████████| 469/469 [00:06<00:00, 70.63it/s]\n"
          ]
        },
        {
          "output_type": "stream",
          "name": "stdout",
          "text": [
            "14 0.17289475746389127 0.9345666666666667 0.9187999963760376\n"
          ]
        },
        {
          "output_type": "stream",
          "name": "stderr",
          "text": [
            "100%|█████████████████████████████████████████████████████████████████████████████████████████████████████████████| 469/469 [00:06<00:00, 70.10it/s]\n"
          ]
        },
        {
          "output_type": "stream",
          "name": "stdout",
          "text": [
            "15 0.16894635098039085 0.9357166666666666 0.9101999998092651\n"
          ]
        },
        {
          "output_type": "stream",
          "name": "stderr",
          "text": [
            "100%|█████████████████████████████████████████████████████████████████████████████████████████████████████████████| 469/469 [00:06<00:00, 70.02it/s]\n"
          ]
        },
        {
          "output_type": "stream",
          "name": "stdout",
          "text": [
            "16 0.16620049367730433 0.9373 0.9210999608039856\n"
          ]
        },
        {
          "output_type": "stream",
          "name": "stderr",
          "text": [
            "100%|█████████████████████████████████████████████████████████████████████████████████████████████████████████████| 469/469 [00:06<00:00, 70.86it/s]\n"
          ]
        },
        {
          "output_type": "stream",
          "name": "stdout",
          "text": [
            "17 0.16207113572292858 0.9385333333333333 0.9208999872207642\n"
          ]
        },
        {
          "output_type": "stream",
          "name": "stderr",
          "text": [
            "100%|█████████████████████████████████████████████████████████████████████████████████████████████████████████████| 469/469 [00:06<00:00, 71.06it/s]\n"
          ]
        },
        {
          "output_type": "stream",
          "name": "stdout",
          "text": [
            "18 0.1546493203769255 0.9409333333333333 0.9202999472618103\n"
          ]
        },
        {
          "output_type": "stream",
          "name": "stderr",
          "text": [
            "100%|█████████████████████████████████████████████████████████████████████████████████████████████████████████████| 469/469 [00:06<00:00, 70.34it/s]\n"
          ]
        },
        {
          "output_type": "stream",
          "name": "stdout",
          "text": [
            "19 0.15471671549523744 0.9421166666666667 0.9199000000953674\n"
          ]
        }
      ]
    },
    {
      "cell_type": "markdown",
      "metadata": {
        "id": "1_5zA9uk7wSW"
      },
      "source": [
        "Colaboratory における圧縮ファイルの展開、ディレクトリの作成および移動"
      ]
    },
    {
      "cell_type": "code",
      "metadata": {
        "id": "JYe-nXP5XVZw",
        "colab": {
          "base_uri": "https://localhost:8080/"
        },
        "outputId": "0e073262-4ab6-47af-f79f-fe8226fe2513"
      },
      "source": [
        "!wget https://github.com/lucidfrontier45/PyTorch-Book/raw/master/data/taco_and_burrito.tar.gz\n",
        "!tar xf taco_and_burrito.tar.gz"
      ],
      "execution_count": null,
      "outputs": [
        {
          "output_type": "stream",
          "name": "stdout",
          "text": [
            "--2021-09-04 11:26:10--  https://github.com/lucidfrontier45/PyTorch-Book/raw/master/data/taco_and_burrito.tar.gz\n",
            "Resolving github.com (github.com)... 140.82.113.4\n",
            "Connecting to github.com (github.com)|140.82.113.4|:443... connected.\n",
            "HTTP request sent, awaiting response... 302 Found\n",
            "Location: https://raw.githubusercontent.com/lucidfrontier45/PyTorch-Book/master/data/taco_and_burrito.tar.gz [following]\n",
            "--2021-09-04 11:26:10--  https://raw.githubusercontent.com/lucidfrontier45/PyTorch-Book/master/data/taco_and_burrito.tar.gz\n",
            "Resolving raw.githubusercontent.com (raw.githubusercontent.com)... 185.199.108.133, 185.199.109.133, 185.199.110.133, ...\n",
            "Connecting to raw.githubusercontent.com (raw.githubusercontent.com)|185.199.108.133|:443... connected.\n",
            "HTTP request sent, awaiting response... 200 OK\n",
            "Length: 15292798 (15M) [application/octet-stream]\n",
            "Saving to: ‘taco_and_burrito.tar.gz’\n",
            "\n",
            "taco_and_burrito.ta 100%[===================>]  14.58M  --.-KB/s    in 0.1s    \n",
            "\n",
            "2021-09-04 11:26:11 (103 MB/s) - ‘taco_and_burrito.tar.gz’ saved [15292798/15292798]\n",
            "\n"
          ]
        }
      ]
    },
    {
      "cell_type": "code",
      "metadata": {
        "id": "R5nYkICSYg3w",
        "colab": {
          "base_uri": "https://localhost:8080/"
        },
        "outputId": "5fd228e5-153a-404d-c09b-2a2743676295"
      },
      "source": [
        "!tar -zxvf taco_and_burrito.tar.gz"
      ],
      "execution_count": null,
      "outputs": [
        {
          "output_type": "stream",
          "name": "stdout",
          "text": [
            "taco_and_burrito/\n",
            "taco_and_burrito/test/\n",
            "taco_and_burrito/test/burrito/\n",
            "taco_and_burrito/test/burrito/363.jpg\n",
            "taco_and_burrito/test/burrito/372.jpg\n",
            "taco_and_burrito/test/burrito/362.jpg\n",
            "taco_and_burrito/test/burrito/386.jpg\n",
            "taco_and_burrito/test/burrito/379.jpg\n",
            "taco_and_burrito/test/burrito/367.jpg\n",
            "taco_and_burrito/test/burrito/361.jpg\n",
            "taco_and_burrito/test/burrito/384.jpg\n",
            "taco_and_burrito/test/burrito/377.jpg\n",
            "taco_and_burrito/test/burrito/365.jpg\n",
            "taco_and_burrito/test/burrito/368.jpg\n",
            "taco_and_burrito/test/burrito/374.jpg\n",
            "taco_and_burrito/test/burrito/388.jpg\n",
            "taco_and_burrito/test/burrito/378.jpg\n",
            "taco_and_burrito/test/burrito/380.jpg\n",
            "taco_and_burrito/test/burrito/370.jpg\n",
            "taco_and_burrito/test/burrito/364.jpg\n",
            "taco_and_burrito/test/burrito/385.jpg\n",
            "taco_and_burrito/test/burrito/381.jpg\n",
            "taco_and_burrito/test/burrito/383.jpg\n",
            "taco_and_burrito/test/burrito/373.jpg\n",
            "taco_and_burrito/test/burrito/366.jpg\n",
            "taco_and_burrito/test/burrito/389.jpg\n",
            "taco_and_burrito/test/burrito/376.jpg\n",
            "taco_and_burrito/test/burrito/360.jpg\n",
            "taco_and_burrito/test/burrito/371.jpg\n",
            "taco_and_burrito/test/burrito/387.jpg\n",
            "taco_and_burrito/test/burrito/382.jpg\n",
            "taco_and_burrito/test/burrito/375.jpg\n",
            "taco_and_burrito/test/burrito/369.jpg\n",
            "taco_and_burrito/test/taco/\n",
            "taco_and_burrito/test/taco/363.jpg\n",
            "taco_and_burrito/test/taco/372.jpg\n",
            "taco_and_burrito/test/taco/362.jpg\n",
            "taco_and_burrito/test/taco/386.jpg\n",
            "taco_and_burrito/test/taco/379.jpg\n",
            "taco_and_burrito/test/taco/367.jpg\n",
            "taco_and_burrito/test/taco/361.jpg\n",
            "taco_and_burrito/test/taco/384.jpg\n",
            "taco_and_burrito/test/taco/377.jpg\n",
            "taco_and_burrito/test/taco/365.jpg\n",
            "taco_and_burrito/test/taco/368.jpg\n",
            "taco_and_burrito/test/taco/374.jpg\n",
            "taco_and_burrito/test/taco/388.jpg\n",
            "taco_and_burrito/test/taco/378.jpg\n",
            "taco_and_burrito/test/taco/390.jpg\n",
            "taco_and_burrito/test/taco/380.jpg\n",
            "taco_and_burrito/test/taco/370.jpg\n",
            "taco_and_burrito/test/taco/364.jpg\n",
            "taco_and_burrito/test/taco/385.jpg\n",
            "taco_and_burrito/test/taco/381.jpg\n",
            "taco_and_burrito/test/taco/383.jpg\n",
            "taco_and_burrito/test/taco/373.jpg\n",
            "taco_and_burrito/test/taco/366.jpg\n",
            "taco_and_burrito/test/taco/376.jpg\n",
            "taco_and_burrito/test/taco/360.jpg\n",
            "taco_and_burrito/test/taco/371.jpg\n",
            "taco_and_burrito/test/taco/387.jpg\n",
            "taco_and_burrito/test/taco/382.jpg\n",
            "taco_and_burrito/test/taco/375.jpg\n",
            "taco_and_burrito/test/taco/369.jpg\n",
            "taco_and_burrito/train/\n",
            "taco_and_burrito/train/burrito/\n",
            "taco_and_burrito/train/burrito/174.jpg\n",
            "taco_and_burrito/train/burrito/304.jpg\n",
            "taco_and_burrito/train/burrito/279.jpg\n",
            "taco_and_burrito/train/burrito/016.jpg\n",
            "taco_and_burrito/train/burrito/351.jpg\n",
            "taco_and_burrito/train/burrito/356.jpg\n",
            "taco_and_burrito/train/burrito/247.jpg\n",
            "taco_and_burrito/train/burrito/331.jpg\n",
            "taco_and_burrito/train/burrito/024.jpg\n",
            "taco_and_burrito/train/burrito/320.jpg\n",
            "taco_and_burrito/train/burrito/099.jpg\n",
            "taco_and_burrito/train/burrito/168.jpg\n",
            "taco_and_burrito/train/burrito/343.jpg\n",
            "taco_and_burrito/train/burrito/335.jpg\n",
            "taco_and_burrito/train/burrito/264.jpg\n",
            "taco_and_burrito/train/burrito/111.jpg\n",
            "taco_and_burrito/train/burrito/181.jpg\n",
            "taco_and_burrito/train/burrito/092.jpg\n",
            "taco_and_burrito/train/burrito/046.jpg\n",
            "taco_and_burrito/train/burrito/262.jpg\n",
            "taco_and_burrito/train/burrito/254.jpg\n",
            "taco_and_burrito/train/burrito/160.jpg\n",
            "taco_and_burrito/train/burrito/114.jpg\n",
            "taco_and_burrito/train/burrito/194.jpg\n",
            "taco_and_burrito/train/burrito/097.jpg\n",
            "taco_and_burrito/train/burrito/183.jpg\n",
            "taco_and_burrito/train/burrito/088.jpg\n",
            "taco_and_burrito/train/burrito/164.jpg\n",
            "taco_and_burrito/train/burrito/150.jpg\n",
            "taco_and_burrito/train/burrito/328.jpg\n",
            "taco_and_burrito/train/burrito/297.jpg\n",
            "taco_and_burrito/train/burrito/317.jpg\n",
            "taco_and_burrito/train/burrito/167.jpg\n",
            "taco_and_burrito/train/burrito/222.jpg\n",
            "taco_and_burrito/train/burrito/079.jpg\n",
            "taco_and_burrito/train/burrito/229.jpg\n",
            "taco_and_burrito/train/burrito/308.jpg\n",
            "taco_and_burrito/train/burrito/177.jpg\n",
            "taco_and_burrito/train/burrito/006.jpg\n",
            "taco_and_burrito/train/burrito/258.jpg\n",
            "taco_and_burrito/train/burrito/120.jpg\n",
            "taco_and_burrito/train/burrito/214.jpg\n",
            "taco_and_burrito/train/burrito/013.jpg\n",
            "taco_and_burrito/train/burrito/125.jpg\n",
            "taco_and_burrito/train/burrito/096.jpg\n",
            "taco_and_burrito/train/burrito/103.jpg\n",
            "taco_and_burrito/train/burrito/202.jpg\n",
            "taco_and_burrito/train/burrito/142.jpg\n",
            "taco_and_burrito/train/burrito/086.jpg\n",
            "taco_and_burrito/train/burrito/107.jpg\n",
            "taco_and_burrito/train/burrito/321.jpg\n",
            "taco_and_burrito/train/burrito/151.jpg\n",
            "taco_and_burrito/train/burrito/037.jpg\n",
            "taco_and_burrito/train/burrito/093.jpg\n",
            "taco_and_burrito/train/burrito/135.jpg\n",
            "taco_and_burrito/train/burrito/294.jpg\n",
            "taco_and_burrito/train/burrito/165.jpg\n",
            "taco_and_burrito/train/burrito/287.jpg\n",
            "taco_and_burrito/train/burrito/057.jpg\n",
            "taco_and_burrito/train/burrito/139.jpg\n",
            "taco_and_burrito/train/burrito/059.jpg\n",
            "taco_and_burrito/train/burrito/159.jpg\n",
            "taco_and_burrito/train/burrito/195.jpg\n",
            "taco_and_burrito/train/burrito/301.jpg\n",
            "taco_and_burrito/train/burrito/349.jpg\n",
            "taco_and_burrito/train/burrito/228.jpg\n",
            "taco_and_burrito/train/burrito/285.jpg\n",
            "taco_and_burrito/train/burrito/010.jpg\n",
            "taco_and_burrito/train/burrito/333.jpg\n",
            "taco_and_burrito/train/burrito/058.jpg\n",
            "taco_and_burrito/train/burrito/146.jpg\n",
            "taco_and_burrito/train/burrito/233.jpg\n",
            "taco_and_burrito/train/burrito/054.jpg\n",
            "taco_and_burrito/train/burrito/186.jpg\n",
            "taco_and_burrito/train/burrito/341.jpg\n",
            "taco_and_burrito/train/burrito/359.jpg\n",
            "taco_and_burrito/train/burrito/340.jpg\n",
            "taco_and_burrito/train/burrito/236.jpg\n",
            "taco_and_burrito/train/burrito/136.jpg\n",
            "taco_and_burrito/train/burrito/039.jpg\n",
            "taco_and_burrito/train/burrito/023.jpg\n",
            "taco_and_burrito/train/burrito/284.jpg\n",
            "taco_and_burrito/train/burrito/325.jpg\n",
            "taco_and_burrito/train/burrito/117.jpg\n",
            "taco_and_burrito/train/burrito/130.jpg\n",
            "taco_and_burrito/train/burrito/302.jpg\n",
            "taco_and_burrito/train/burrito/206.jpg\n",
            "taco_and_burrito/train/burrito/347.jpg\n",
            "taco_and_burrito/train/burrito/298.jpg\n",
            "taco_and_burrito/train/burrito/033.jpg\n",
            "taco_and_burrito/train/burrito/161.jpg\n",
            "taco_and_burrito/train/burrito/156.jpg\n",
            "taco_and_burrito/train/burrito/199.jpg\n",
            "taco_and_burrito/train/burrito/238.jpg\n",
            "taco_and_burrito/train/burrito/185.jpg\n",
            "taco_and_burrito/train/burrito/329.jpg\n",
            "taco_and_burrito/train/burrito/305.jpg\n",
            "taco_and_burrito/train/burrito/312.jpg\n",
            "taco_and_burrito/train/burrito/000.jpg\n",
            "taco_and_burrito/train/burrito/345.jpg\n",
            "taco_and_burrito/train/burrito/068.jpg\n",
            "taco_and_burrito/train/burrito/245.jpg\n",
            "taco_and_burrito/train/burrito/241.jpg\n",
            "taco_and_burrito/train/burrito/133.jpg\n",
            "taco_and_burrito/train/burrito/334.jpg\n",
            "taco_and_burrito/train/burrito/344.jpg\n",
            "taco_and_burrito/train/burrito/055.jpg\n",
            "taco_and_burrito/train/burrito/009.jpg\n",
            "taco_and_burrito/train/burrito/134.jpg\n",
            "taco_and_burrito/train/burrito/066.jpg\n",
            "taco_and_burrito/train/burrito/227.jpg\n",
            "taco_and_burrito/train/burrito/260.jpg\n",
            "taco_and_burrito/train/burrito/237.jpg\n",
            "taco_and_burrito/train/burrito/145.jpg\n",
            "taco_and_burrito/train/burrito/278.jpg\n",
            "taco_and_burrito/train/burrito/327.jpg\n",
            "taco_and_burrito/train/burrito/109.jpg\n",
            "taco_and_burrito/train/burrito/019.jpg\n",
            "taco_and_burrito/train/burrito/080.jpg\n",
            "taco_and_burrito/train/burrito/339.jpg\n",
            "taco_and_burrito/train/burrito/062.jpg\n",
            "taco_and_burrito/train/burrito/306.jpg\n",
            "taco_and_burrito/train/burrito/175.jpg\n",
            "taco_and_burrito/train/burrito/127.jpg\n",
            "taco_and_burrito/train/burrito/213.jpg\n",
            "taco_and_burrito/train/burrito/217.jpg\n",
            "taco_and_burrito/train/burrito/219.jpg\n",
            "taco_and_burrito/train/burrito/309.jpg\n",
            "taco_and_burrito/train/burrito/106.jpg\n",
            "taco_and_burrito/train/burrito/034.jpg\n",
            "taco_and_burrito/train/burrito/240.jpg\n",
            "taco_and_burrito/train/burrito/176.jpg\n",
            "taco_and_burrito/train/burrito/342.jpg\n",
            "taco_and_burrito/train/burrito/042.jpg\n",
            "taco_and_burrito/train/burrito/267.jpg\n",
            "taco_and_burrito/train/burrito/246.jpg\n",
            "taco_and_burrito/train/burrito/094.jpg\n",
            "taco_and_burrito/train/burrito/358.jpg\n",
            "taco_and_burrito/train/burrito/022.jpg\n",
            "taco_and_burrito/train/burrito/116.jpg\n",
            "taco_and_burrito/train/burrito/350.jpg\n",
            "taco_and_burrito/train/burrito/157.jpg\n",
            "taco_and_burrito/train/burrito/041.jpg\n",
            "taco_and_burrito/train/burrito/336.jpg\n",
            "taco_and_burrito/train/burrito/153.jpg\n",
            "taco_and_burrito/train/burrito/315.jpg\n",
            "taco_and_burrito/train/burrito/030.jpg\n",
            "taco_and_burrito/train/burrito/207.jpg\n",
            "taco_and_burrito/train/burrito/003.jpg\n",
            "taco_and_burrito/train/burrito/073.jpg\n",
            "taco_and_burrito/train/burrito/259.jpg\n",
            "taco_and_burrito/train/burrito/065.jpg\n",
            "taco_and_burrito/train/burrito/299.jpg\n",
            "taco_and_burrito/train/burrito/313.jpg\n",
            "taco_and_burrito/train/burrito/244.jpg\n",
            "taco_and_burrito/train/burrito/191.jpg\n",
            "taco_and_burrito/train/burrito/154.jpg\n",
            "taco_and_burrito/train/burrito/007.jpg\n",
            "taco_and_burrito/train/burrito/084.jpg\n",
            "taco_and_burrito/train/burrito/158.jpg\n",
            "taco_and_burrito/train/burrito/152.jpg\n",
            "taco_and_burrito/train/burrito/205.jpg\n",
            "taco_and_burrito/train/burrito/162.jpg\n",
            "taco_and_burrito/train/burrito/253.jpg\n",
            "taco_and_burrito/train/burrito/061.jpg\n",
            "taco_and_burrito/train/burrito/036.jpg\n",
            "taco_and_burrito/train/burrito/123.jpg\n",
            "taco_and_burrito/train/burrito/067.jpg\n",
            "taco_and_burrito/train/burrito/224.jpg\n",
            "taco_and_burrito/train/burrito/017.jpg\n",
            "taco_and_burrito/train/burrito/170.jpg\n",
            "taco_and_burrito/train/burrito/089.jpg\n",
            "taco_and_burrito/train/burrito/323.jpg\n",
            "taco_and_burrito/train/burrito/269.jpg\n",
            "taco_and_burrito/train/burrito/265.jpg\n",
            "taco_and_burrito/train/burrito/044.jpg\n",
            "taco_and_burrito/train/burrito/102.jpg\n",
            "taco_and_burrito/train/burrito/110.jpg\n",
            "taco_and_burrito/train/burrito/050.jpg\n",
            "taco_and_burrito/train/burrito/292.jpg\n",
            "taco_and_burrito/train/burrito/011.jpg\n",
            "taco_and_burrito/train/burrito/101.jpg\n",
            "taco_and_burrito/train/burrito/190.jpg\n",
            "taco_and_burrito/train/burrito/314.jpg\n",
            "taco_and_burrito/train/burrito/225.jpg\n",
            "taco_and_burrito/train/burrito/015.jpg\n",
            "taco_and_burrito/train/burrito/196.jpg\n",
            "taco_and_burrito/train/burrito/346.jpg\n",
            "taco_and_burrito/train/burrito/166.jpg\n",
            "taco_and_burrito/train/burrito/243.jpg\n",
            "taco_and_burrito/train/burrito/255.jpg\n",
            "taco_and_burrito/train/burrito/045.jpg\n",
            "taco_and_burrito/train/burrito/064.jpg\n",
            "taco_and_burrito/train/burrito/025.jpg\n",
            "taco_and_burrito/train/burrito/311.jpg\n",
            "taco_and_burrito/train/burrito/256.jpg\n",
            "taco_and_burrito/train/burrito/252.jpg\n",
            "taco_and_burrito/train/burrito/230.jpg\n",
            "taco_and_burrito/train/burrito/319.jpg\n",
            "taco_and_burrito/train/burrito/193.jpg\n",
            "taco_and_burrito/train/burrito/031.jpg\n",
            "taco_and_burrito/train/burrito/052.jpg\n",
            "taco_and_burrito/train/burrito/286.jpg\n",
            "taco_and_burrito/train/burrito/354.jpg\n",
            "taco_and_burrito/train/burrito/290.jpg\n",
            "taco_and_burrito/train/burrito/234.jpg\n",
            "taco_and_burrito/train/burrito/002.jpg\n",
            "taco_and_burrito/train/burrito/122.jpg\n",
            "taco_and_burrito/train/burrito/184.jpg\n",
            "taco_and_burrito/train/burrito/273.jpg\n",
            "taco_and_burrito/train/burrito/082.jpg\n",
            "taco_and_burrito/train/burrito/271.jpg\n",
            "taco_and_burrito/train/burrito/277.jpg\n",
            "taco_and_burrito/train/burrito/051.jpg\n",
            "taco_and_burrito/train/burrito/274.jpg\n",
            "taco_and_burrito/train/burrito/197.jpg\n",
            "taco_and_burrito/train/burrito/318.jpg\n",
            "taco_and_burrito/train/burrito/201.jpg\n",
            "taco_and_burrito/train/burrito/105.jpg\n",
            "taco_and_burrito/train/burrito/280.jpg\n",
            "taco_and_burrito/train/burrito/129.jpg\n",
            "taco_and_burrito/train/burrito/021.jpg\n",
            "taco_and_burrito/train/burrito/261.jpg\n",
            "taco_and_burrito/train/burrito/119.jpg\n",
            "taco_and_burrito/train/burrito/143.jpg\n",
            "taco_and_burrito/train/burrito/028.jpg\n",
            "taco_and_burrito/train/burrito/348.jpg\n",
            "taco_and_burrito/train/burrito/296.jpg\n",
            "taco_and_burrito/train/burrito/081.jpg\n",
            "taco_and_burrito/train/burrito/144.jpg\n",
            "taco_and_burrito/train/burrito/078.jpg\n",
            "taco_and_burrito/train/burrito/014.jpg\n",
            "taco_and_burrito/train/burrito/220.jpg\n",
            "taco_and_burrito/train/burrito/276.jpg\n",
            "taco_and_burrito/train/burrito/040.jpg\n",
            "taco_and_burrito/train/burrito/169.jpg\n",
            "taco_and_burrito/train/burrito/211.jpg\n",
            "taco_and_burrito/train/burrito/250.jpg\n",
            "taco_and_burrito/train/burrito/085.jpg\n",
            "taco_and_burrito/train/burrito/203.jpg\n",
            "taco_and_burrito/train/burrito/069.jpg\n",
            "taco_and_burrito/train/burrito/337.jpg\n",
            "taco_and_burrito/train/burrito/221.jpg\n",
            "taco_and_burrito/train/burrito/074.jpg\n",
            "taco_and_burrito/train/burrito/026.jpg\n",
            "taco_and_burrito/train/burrito/303.jpg\n",
            "taco_and_burrito/train/burrito/043.jpg\n",
            "taco_and_burrito/train/burrito/112.jpg\n",
            "taco_and_burrito/train/burrito/173.jpg\n",
            "taco_and_burrito/train/burrito/322.jpg\n",
            "taco_and_burrito/train/burrito/180.jpg\n",
            "taco_and_burrito/train/burrito/270.jpg\n",
            "taco_and_burrito/train/burrito/008.jpg\n",
            "taco_and_burrito/train/burrito/239.jpg\n",
            "taco_and_burrito/train/burrito/012.jpg\n",
            "taco_and_burrito/train/burrito/163.jpg\n",
            "taco_and_burrito/train/burrito/216.jpg\n",
            "taco_and_burrito/train/burrito/132.jpg\n",
            "taco_and_burrito/train/burrito/179.jpg\n",
            "taco_and_burrito/train/burrito/077.jpg\n",
            "taco_and_burrito/train/burrito/108.jpg\n",
            "taco_and_burrito/train/burrito/324.jpg\n",
            "taco_and_burrito/train/burrito/118.jpg\n",
            "taco_and_burrito/train/burrito/272.jpg\n",
            "taco_and_burrito/train/burrito/087.jpg\n",
            "taco_and_burrito/train/burrito/289.jpg\n",
            "taco_and_burrito/train/burrito/187.jpg\n",
            "taco_and_burrito/train/burrito/215.jpg\n",
            "taco_and_burrito/train/burrito/204.jpg\n",
            "taco_and_burrito/train/burrito/282.jpg\n",
            "taco_and_burrito/train/burrito/288.jpg\n",
            "taco_and_burrito/train/burrito/121.jpg\n",
            "taco_and_burrito/train/burrito/316.jpg\n",
            "taco_and_burrito/train/burrito/210.jpg\n",
            "taco_and_burrito/train/burrito/226.jpg\n",
            "taco_and_burrito/train/burrito/353.jpg\n",
            "taco_and_burrito/train/burrito/242.jpg\n",
            "taco_and_burrito/train/burrito/281.jpg\n",
            "taco_and_burrito/train/burrito/005.jpg\n",
            "taco_and_burrito/train/burrito/248.jpg\n",
            "taco_and_burrito/train/burrito/293.jpg\n",
            "taco_and_burrito/train/burrito/063.jpg\n",
            "taco_and_burrito/train/burrito/155.jpg\n",
            "taco_and_burrito/train/burrito/200.jpg\n",
            "taco_and_burrito/train/burrito/149.jpg\n",
            "taco_and_burrito/train/burrito/113.jpg\n",
            "taco_and_burrito/train/burrito/027.jpg\n",
            "taco_and_burrito/train/burrito/083.jpg\n",
            "taco_and_burrito/train/burrito/100.jpg\n",
            "taco_and_burrito/train/burrito/178.jpg\n",
            "taco_and_burrito/train/burrito/095.jpg\n",
            "taco_and_burrito/train/burrito/035.jpg\n",
            "taco_and_burrito/train/burrito/212.jpg\n",
            "taco_and_burrito/train/burrito/071.jpg\n",
            "taco_and_burrito/train/burrito/004.jpg\n",
            "taco_and_burrito/train/burrito/104.jpg\n",
            "taco_and_burrito/train/burrito/032.jpg\n",
            "taco_and_burrito/train/burrito/137.jpg\n",
            "taco_and_burrito/train/burrito/310.jpg\n",
            "taco_and_burrito/train/burrito/141.jpg\n",
            "taco_and_burrito/train/burrito/257.jpg\n",
            "taco_and_burrito/train/burrito/029.jpg\n",
            "taco_and_burrito/train/burrito/295.jpg\n",
            "taco_and_burrito/train/burrito/038.jpg\n",
            "taco_and_burrito/train/burrito/223.jpg\n",
            "taco_and_burrito/train/burrito/076.jpg\n",
            "taco_and_burrito/train/burrito/275.jpg\n",
            "taco_and_burrito/train/burrito/268.jpg\n",
            "taco_and_burrito/train/burrito/357.jpg\n",
            "taco_and_burrito/train/burrito/138.jpg\n",
            "taco_and_burrito/train/burrito/189.jpg\n",
            "taco_and_burrito/train/burrito/251.jpg\n",
            "taco_and_burrito/train/burrito/049.jpg\n",
            "taco_and_burrito/train/burrito/148.jpg\n",
            "taco_and_burrito/train/burrito/126.jpg\n",
            "taco_and_burrito/train/burrito/171.jpg\n",
            "taco_and_burrito/train/burrito/192.jpg\n",
            "taco_and_burrito/train/burrito/098.jpg\n",
            "taco_and_burrito/train/burrito/283.jpg\n",
            "taco_and_burrito/train/burrito/330.jpg\n",
            "taco_and_burrito/train/burrito/048.jpg\n",
            "taco_and_burrito/train/burrito/249.jpg\n",
            "taco_and_burrito/train/burrito/232.jpg\n",
            "taco_and_burrito/train/burrito/115.jpg\n",
            "taco_and_burrito/train/burrito/056.jpg\n",
            "taco_and_burrito/train/burrito/053.jpg\n",
            "taco_and_burrito/train/burrito/198.jpg\n",
            "taco_and_burrito/train/burrito/326.jpg\n",
            "taco_and_burrito/train/burrito/209.jpg\n",
            "taco_and_burrito/train/burrito/131.jpg\n",
            "taco_and_burrito/train/burrito/070.jpg\n",
            "taco_and_burrito/train/burrito/072.jpg\n",
            "taco_and_burrito/train/burrito/188.jpg\n",
            "taco_and_burrito/train/burrito/355.jpg\n",
            "taco_and_burrito/train/burrito/218.jpg\n",
            "taco_and_burrito/train/burrito/182.jpg\n",
            "taco_and_burrito/train/burrito/231.jpg\n",
            "taco_and_burrito/train/burrito/300.jpg\n",
            "taco_and_burrito/train/burrito/090.jpg\n",
            "taco_and_burrito/train/burrito/291.jpg\n",
            "taco_and_burrito/train/burrito/332.jpg\n",
            "taco_and_burrito/train/burrito/047.jpg\n",
            "taco_and_burrito/train/burrito/147.jpg\n",
            "taco_and_burrito/train/burrito/060.jpg\n",
            "taco_and_burrito/train/burrito/338.jpg\n",
            "taco_and_burrito/train/burrito/124.jpg\n",
            "taco_and_burrito/train/burrito/307.jpg\n",
            "taco_and_burrito/train/burrito/128.jpg\n",
            "taco_and_burrito/train/burrito/075.jpg\n",
            "taco_and_burrito/train/burrito/020.jpg\n",
            "taco_and_burrito/train/burrito/091.jpg\n",
            "taco_and_burrito/train/burrito/140.jpg\n",
            "taco_and_burrito/train/burrito/208.jpg\n",
            "taco_and_burrito/train/burrito/266.jpg\n",
            "taco_and_burrito/train/burrito/018.jpg\n",
            "taco_and_burrito/train/burrito/001.jpg\n",
            "taco_and_burrito/train/burrito/235.jpg\n",
            "taco_and_burrito/train/burrito/172.jpg\n",
            "taco_and_burrito/train/taco/\n",
            "taco_and_burrito/train/taco/174.jpg\n",
            "taco_and_burrito/train/taco/304.jpg\n",
            "taco_and_burrito/train/taco/279.jpg\n",
            "taco_and_burrito/train/taco/016.jpg\n",
            "taco_and_burrito/train/taco/351.jpg\n",
            "taco_and_burrito/train/taco/356.jpg\n",
            "taco_and_burrito/train/taco/247.jpg\n",
            "taco_and_burrito/train/taco/331.jpg\n",
            "taco_and_burrito/train/taco/024.jpg\n",
            "taco_and_burrito/train/taco/320.jpg\n",
            "taco_and_burrito/train/taco/099.jpg\n",
            "taco_and_burrito/train/taco/168.jpg\n",
            "taco_and_burrito/train/taco/343.jpg\n",
            "taco_and_burrito/train/taco/335.jpg\n",
            "taco_and_burrito/train/taco/264.jpg\n",
            "taco_and_burrito/train/taco/111.jpg\n",
            "taco_and_burrito/train/taco/181.jpg\n",
            "taco_and_burrito/train/taco/092.jpg\n",
            "taco_and_burrito/train/taco/046.jpg\n",
            "taco_and_burrito/train/taco/262.jpg\n",
            "taco_and_burrito/train/taco/254.jpg\n",
            "taco_and_burrito/train/taco/160.jpg\n",
            "taco_and_burrito/train/taco/114.jpg\n",
            "taco_and_burrito/train/taco/194.jpg\n",
            "taco_and_burrito/train/taco/097.jpg\n",
            "taco_and_burrito/train/taco/183.jpg\n",
            "taco_and_burrito/train/taco/088.jpg\n",
            "taco_and_burrito/train/taco/164.jpg\n",
            "taco_and_burrito/train/taco/150.jpg\n",
            "taco_and_burrito/train/taco/328.jpg\n",
            "taco_and_burrito/train/taco/297.jpg\n",
            "taco_and_burrito/train/taco/317.jpg\n",
            "taco_and_burrito/train/taco/167.jpg\n",
            "taco_and_burrito/train/taco/222.jpg\n",
            "taco_and_burrito/train/taco/079.jpg\n",
            "taco_and_burrito/train/taco/229.jpg\n",
            "taco_and_burrito/train/taco/308.jpg\n",
            "taco_and_burrito/train/taco/177.jpg\n",
            "taco_and_burrito/train/taco/006.jpg\n",
            "taco_and_burrito/train/taco/258.jpg\n",
            "taco_and_burrito/train/taco/120.jpg\n",
            "taco_and_burrito/train/taco/214.jpg\n",
            "taco_and_burrito/train/taco/013.jpg\n",
            "taco_and_burrito/train/taco/125.jpg\n",
            "taco_and_burrito/train/taco/096.jpg\n",
            "taco_and_burrito/train/taco/103.jpg\n",
            "taco_and_burrito/train/taco/202.jpg\n",
            "taco_and_burrito/train/taco/142.jpg\n",
            "taco_and_burrito/train/taco/086.jpg\n",
            "taco_and_burrito/train/taco/107.jpg\n",
            "taco_and_burrito/train/taco/321.jpg\n",
            "taco_and_burrito/train/taco/151.jpg\n",
            "taco_and_burrito/train/taco/037.jpg\n",
            "taco_and_burrito/train/taco/093.jpg\n",
            "taco_and_burrito/train/taco/135.jpg\n",
            "taco_and_burrito/train/taco/294.jpg\n",
            "taco_and_burrito/train/taco/165.jpg\n",
            "taco_and_burrito/train/taco/287.jpg\n",
            "taco_and_burrito/train/taco/057.jpg\n",
            "taco_and_burrito/train/taco/139.jpg\n",
            "taco_and_burrito/train/taco/059.jpg\n",
            "taco_and_burrito/train/taco/195.jpg\n",
            "taco_and_burrito/train/taco/301.jpg\n",
            "taco_and_burrito/train/taco/349.jpg\n",
            "taco_and_burrito/train/taco/228.jpg\n",
            "taco_and_burrito/train/taco/285.jpg\n",
            "taco_and_burrito/train/taco/010.jpg\n",
            "taco_and_burrito/train/taco/333.jpg\n",
            "taco_and_burrito/train/taco/058.jpg\n",
            "taco_and_burrito/train/taco/146.jpg\n",
            "taco_and_burrito/train/taco/233.jpg\n",
            "taco_and_burrito/train/taco/054.jpg\n",
            "taco_and_burrito/train/taco/186.jpg\n",
            "taco_and_burrito/train/taco/341.jpg\n",
            "taco_and_burrito/train/taco/359.jpg\n",
            "taco_and_burrito/train/taco/340.jpg\n",
            "taco_and_burrito/train/taco/236.jpg\n",
            "taco_and_burrito/train/taco/136.jpg\n",
            "taco_and_burrito/train/taco/039.jpg\n",
            "taco_and_burrito/train/taco/023.jpg\n",
            "taco_and_burrito/train/taco/284.jpg\n",
            "taco_and_burrito/train/taco/325.jpg\n",
            "taco_and_burrito/train/taco/117.jpg\n",
            "taco_and_burrito/train/taco/130.jpg\n",
            "taco_and_burrito/train/taco/302.jpg\n",
            "taco_and_burrito/train/taco/206.jpg\n",
            "taco_and_burrito/train/taco/347.jpg\n",
            "taco_and_burrito/train/taco/298.jpg\n",
            "taco_and_burrito/train/taco/033.jpg\n",
            "taco_and_burrito/train/taco/161.jpg\n",
            "taco_and_burrito/train/taco/156.jpg\n",
            "taco_and_burrito/train/taco/238.jpg\n",
            "taco_and_burrito/train/taco/185.jpg\n",
            "taco_and_burrito/train/taco/329.jpg\n",
            "taco_and_burrito/train/taco/305.jpg\n",
            "taco_and_burrito/train/taco/312.jpg\n",
            "taco_and_burrito/train/taco/000.jpg\n",
            "taco_and_burrito/train/taco/345.jpg\n",
            "taco_and_burrito/train/taco/068.jpg\n",
            "taco_and_burrito/train/taco/245.jpg\n",
            "taco_and_burrito/train/taco/263.jpg\n",
            "taco_and_burrito/train/taco/241.jpg\n",
            "taco_and_burrito/train/taco/133.jpg\n",
            "taco_and_burrito/train/taco/334.jpg\n",
            "taco_and_burrito/train/taco/344.jpg\n",
            "taco_and_burrito/train/taco/055.jpg\n",
            "taco_and_burrito/train/taco/009.jpg\n",
            "taco_and_burrito/train/taco/134.jpg\n",
            "taco_and_burrito/train/taco/066.jpg\n",
            "taco_and_burrito/train/taco/227.jpg\n",
            "taco_and_burrito/train/taco/260.jpg\n",
            "taco_and_burrito/train/taco/237.jpg\n",
            "taco_and_burrito/train/taco/145.jpg\n",
            "taco_and_burrito/train/taco/278.jpg\n",
            "taco_and_burrito/train/taco/327.jpg\n",
            "taco_and_burrito/train/taco/109.jpg\n",
            "taco_and_burrito/train/taco/019.jpg\n",
            "taco_and_burrito/train/taco/080.jpg\n",
            "taco_and_burrito/train/taco/339.jpg\n",
            "taco_and_burrito/train/taco/062.jpg\n",
            "taco_and_burrito/train/taco/306.jpg\n",
            "taco_and_burrito/train/taco/175.jpg\n",
            "taco_and_burrito/train/taco/127.jpg\n",
            "taco_and_burrito/train/taco/213.jpg\n",
            "taco_and_burrito/train/taco/217.jpg\n",
            "taco_and_burrito/train/taco/219.jpg\n",
            "taco_and_burrito/train/taco/309.jpg\n",
            "taco_and_burrito/train/taco/106.jpg\n",
            "taco_and_burrito/train/taco/034.jpg\n",
            "taco_and_burrito/train/taco/240.jpg\n",
            "taco_and_burrito/train/taco/176.jpg\n",
            "taco_and_burrito/train/taco/342.jpg\n",
            "taco_and_burrito/train/taco/042.jpg\n",
            "taco_and_burrito/train/taco/267.jpg\n",
            "taco_and_burrito/train/taco/246.jpg\n",
            "taco_and_burrito/train/taco/094.jpg\n",
            "taco_and_burrito/train/taco/358.jpg\n",
            "taco_and_burrito/train/taco/022.jpg\n",
            "taco_and_burrito/train/taco/116.jpg\n",
            "taco_and_burrito/train/taco/350.jpg\n",
            "taco_and_burrito/train/taco/157.jpg\n",
            "taco_and_burrito/train/taco/041.jpg\n",
            "taco_and_burrito/train/taco/336.jpg\n",
            "taco_and_burrito/train/taco/153.jpg\n",
            "taco_and_burrito/train/taco/315.jpg\n",
            "taco_and_burrito/train/taco/030.jpg\n",
            "taco_and_burrito/train/taco/207.jpg\n",
            "taco_and_burrito/train/taco/003.jpg\n",
            "taco_and_burrito/train/taco/073.jpg\n",
            "taco_and_burrito/train/taco/259.jpg\n",
            "taco_and_burrito/train/taco/065.jpg\n",
            "taco_and_burrito/train/taco/299.jpg\n",
            "taco_and_burrito/train/taco/313.jpg\n",
            "taco_and_burrito/train/taco/244.jpg\n",
            "taco_and_burrito/train/taco/154.jpg\n",
            "taco_and_burrito/train/taco/007.jpg\n",
            "taco_and_burrito/train/taco/084.jpg\n",
            "taco_and_burrito/train/taco/158.jpg\n",
            "taco_and_burrito/train/taco/152.jpg\n",
            "taco_and_burrito/train/taco/205.jpg\n",
            "taco_and_burrito/train/taco/162.jpg\n",
            "taco_and_burrito/train/taco/253.jpg\n",
            "taco_and_burrito/train/taco/061.jpg\n",
            "taco_and_burrito/train/taco/036.jpg\n",
            "taco_and_burrito/train/taco/123.jpg\n",
            "taco_and_burrito/train/taco/067.jpg\n",
            "taco_and_burrito/train/taco/224.jpg\n",
            "taco_and_burrito/train/taco/017.jpg\n",
            "taco_and_burrito/train/taco/170.jpg\n",
            "taco_and_burrito/train/taco/089.jpg\n",
            "taco_and_burrito/train/taco/323.jpg\n",
            "taco_and_burrito/train/taco/269.jpg\n",
            "taco_and_burrito/train/taco/265.jpg\n",
            "taco_and_burrito/train/taco/044.jpg\n",
            "taco_and_burrito/train/taco/102.jpg\n",
            "taco_and_burrito/train/taco/110.jpg\n",
            "taco_and_burrito/train/taco/050.jpg\n",
            "taco_and_burrito/train/taco/292.jpg\n",
            "taco_and_burrito/train/taco/011.jpg\n",
            "taco_and_burrito/train/taco/101.jpg\n",
            "taco_and_burrito/train/taco/190.jpg\n",
            "taco_and_burrito/train/taco/314.jpg\n",
            "taco_and_burrito/train/taco/225.jpg\n",
            "taco_and_burrito/train/taco/015.jpg\n",
            "taco_and_burrito/train/taco/196.jpg\n",
            "taco_and_burrito/train/taco/346.jpg\n",
            "taco_and_burrito/train/taco/166.jpg\n",
            "taco_and_burrito/train/taco/243.jpg\n",
            "taco_and_burrito/train/taco/255.jpg\n",
            "taco_and_burrito/train/taco/045.jpg\n",
            "taco_and_burrito/train/taco/064.jpg\n",
            "taco_and_burrito/train/taco/025.jpg\n",
            "taco_and_burrito/train/taco/311.jpg\n",
            "taco_and_burrito/train/taco/256.jpg\n",
            "taco_and_burrito/train/taco/252.jpg\n",
            "taco_and_burrito/train/taco/230.jpg\n",
            "taco_and_burrito/train/taco/319.jpg\n",
            "taco_and_burrito/train/taco/193.jpg\n",
            "taco_and_burrito/train/taco/031.jpg\n",
            "taco_and_burrito/train/taco/052.jpg\n",
            "taco_and_burrito/train/taco/286.jpg\n",
            "taco_and_burrito/train/taco/354.jpg\n",
            "taco_and_burrito/train/taco/290.jpg\n",
            "taco_and_burrito/train/taco/234.jpg\n",
            "taco_and_burrito/train/taco/002.jpg\n",
            "taco_and_burrito/train/taco/122.jpg\n",
            "taco_and_burrito/train/taco/184.jpg\n",
            "taco_and_burrito/train/taco/273.jpg\n",
            "taco_and_burrito/train/taco/082.jpg\n",
            "taco_and_burrito/train/taco/271.jpg\n",
            "taco_and_burrito/train/taco/277.jpg\n",
            "taco_and_burrito/train/taco/051.jpg\n",
            "taco_and_burrito/train/taco/274.jpg\n",
            "taco_and_burrito/train/taco/197.jpg\n",
            "taco_and_burrito/train/taco/318.jpg\n",
            "taco_and_burrito/train/taco/201.jpg\n",
            "taco_and_burrito/train/taco/105.jpg\n",
            "taco_and_burrito/train/taco/280.jpg\n",
            "taco_and_burrito/train/taco/129.jpg\n",
            "taco_and_burrito/train/taco/021.jpg\n",
            "taco_and_burrito/train/taco/261.jpg\n",
            "taco_and_burrito/train/taco/119.jpg\n",
            "taco_and_burrito/train/taco/143.jpg\n",
            "taco_and_burrito/train/taco/028.jpg\n",
            "taco_and_burrito/train/taco/348.jpg\n",
            "taco_and_burrito/train/taco/296.jpg\n",
            "taco_and_burrito/train/taco/081.jpg\n",
            "taco_and_burrito/train/taco/144.jpg\n",
            "taco_and_burrito/train/taco/078.jpg\n",
            "taco_and_burrito/train/taco/014.jpg\n",
            "taco_and_burrito/train/taco/220.jpg\n",
            "taco_and_burrito/train/taco/276.jpg\n",
            "taco_and_burrito/train/taco/040.jpg\n",
            "taco_and_burrito/train/taco/169.jpg\n",
            "taco_and_burrito/train/taco/211.jpg\n",
            "taco_and_burrito/train/taco/250.jpg\n",
            "taco_and_burrito/train/taco/085.jpg\n",
            "taco_and_burrito/train/taco/203.jpg\n",
            "taco_and_burrito/train/taco/069.jpg\n",
            "taco_and_burrito/train/taco/337.jpg\n",
            "taco_and_burrito/train/taco/221.jpg\n",
            "taco_and_burrito/train/taco/026.jpg\n",
            "taco_and_burrito/train/taco/303.jpg\n",
            "taco_and_burrito/train/taco/043.jpg\n",
            "taco_and_burrito/train/taco/112.jpg\n",
            "taco_and_burrito/train/taco/173.jpg\n",
            "taco_and_burrito/train/taco/322.jpg\n",
            "taco_and_burrito/train/taco/180.jpg\n",
            "taco_and_burrito/train/taco/270.jpg\n",
            "taco_and_burrito/train/taco/008.jpg\n",
            "taco_and_burrito/train/taco/239.jpg\n",
            "taco_and_burrito/train/taco/012.jpg\n",
            "taco_and_burrito/train/taco/163.jpg\n",
            "taco_and_burrito/train/taco/216.jpg\n",
            "taco_and_burrito/train/taco/132.jpg\n",
            "taco_and_burrito/train/taco/179.jpg\n",
            "taco_and_burrito/train/taco/077.jpg\n",
            "taco_and_burrito/train/taco/108.jpg\n",
            "taco_and_burrito/train/taco/324.jpg\n",
            "taco_and_burrito/train/taco/118.jpg\n",
            "taco_and_burrito/train/taco/272.jpg\n",
            "taco_and_burrito/train/taco/087.jpg\n",
            "taco_and_burrito/train/taco/289.jpg\n",
            "taco_and_burrito/train/taco/187.jpg\n",
            "taco_and_burrito/train/taco/215.jpg\n",
            "taco_and_burrito/train/taco/204.jpg\n",
            "taco_and_burrito/train/taco/282.jpg\n",
            "taco_and_burrito/train/taco/288.jpg\n",
            "taco_and_burrito/train/taco/121.jpg\n",
            "taco_and_burrito/train/taco/316.jpg\n",
            "taco_and_burrito/train/taco/352.jpg\n",
            "taco_and_burrito/train/taco/210.jpg\n",
            "taco_and_burrito/train/taco/226.jpg\n",
            "taco_and_burrito/train/taco/353.jpg\n",
            "taco_and_burrito/train/taco/242.jpg\n",
            "taco_and_burrito/train/taco/281.jpg\n",
            "taco_and_burrito/train/taco/005.jpg\n",
            "taco_and_burrito/train/taco/248.jpg\n",
            "taco_and_burrito/train/taco/293.jpg\n",
            "taco_and_burrito/train/taco/063.jpg\n",
            "taco_and_burrito/train/taco/155.jpg\n",
            "taco_and_burrito/train/taco/200.jpg\n",
            "taco_and_burrito/train/taco/149.jpg\n",
            "taco_and_burrito/train/taco/113.jpg\n",
            "taco_and_burrito/train/taco/027.jpg\n",
            "taco_and_burrito/train/taco/083.jpg\n",
            "taco_and_burrito/train/taco/100.jpg\n",
            "taco_and_burrito/train/taco/178.jpg\n",
            "taco_and_burrito/train/taco/095.jpg\n",
            "taco_and_burrito/train/taco/035.jpg\n",
            "taco_and_burrito/train/taco/212.jpg\n",
            "taco_and_burrito/train/taco/071.jpg\n",
            "taco_and_burrito/train/taco/004.jpg\n",
            "taco_and_burrito/train/taco/104.jpg\n",
            "taco_and_burrito/train/taco/032.jpg\n",
            "taco_and_burrito/train/taco/137.jpg\n",
            "taco_and_burrito/train/taco/310.jpg\n",
            "taco_and_burrito/train/taco/141.jpg\n",
            "taco_and_burrito/train/taco/257.jpg\n",
            "taco_and_burrito/train/taco/029.jpg\n",
            "taco_and_burrito/train/taco/295.jpg\n",
            "taco_and_burrito/train/taco/038.jpg\n",
            "taco_and_burrito/train/taco/076.jpg\n",
            "taco_and_burrito/train/taco/275.jpg\n",
            "taco_and_burrito/train/taco/268.jpg\n",
            "taco_and_burrito/train/taco/357.jpg\n",
            "taco_and_burrito/train/taco/138.jpg\n",
            "taco_and_burrito/train/taco/189.jpg\n",
            "taco_and_burrito/train/taco/251.jpg\n",
            "taco_and_burrito/train/taco/049.jpg\n",
            "taco_and_burrito/train/taco/148.jpg\n",
            "taco_and_burrito/train/taco/126.jpg\n",
            "taco_and_burrito/train/taco/171.jpg\n",
            "taco_and_burrito/train/taco/192.jpg\n",
            "taco_and_burrito/train/taco/098.jpg\n",
            "taco_and_burrito/train/taco/283.jpg\n",
            "taco_and_burrito/train/taco/330.jpg\n",
            "taco_and_burrito/train/taco/048.jpg\n",
            "taco_and_burrito/train/taco/249.jpg\n",
            "taco_and_burrito/train/taco/232.jpg\n",
            "taco_and_burrito/train/taco/115.jpg\n",
            "taco_and_burrito/train/taco/056.jpg\n",
            "taco_and_burrito/train/taco/053.jpg\n",
            "taco_and_burrito/train/taco/198.jpg\n",
            "taco_and_burrito/train/taco/326.jpg\n",
            "taco_and_burrito/train/taco/209.jpg\n",
            "taco_and_burrito/train/taco/131.jpg\n",
            "taco_and_burrito/train/taco/070.jpg\n",
            "taco_and_burrito/train/taco/072.jpg\n",
            "taco_and_burrito/train/taco/188.jpg\n",
            "taco_and_burrito/train/taco/355.jpg\n",
            "taco_and_burrito/train/taco/218.jpg\n",
            "taco_and_burrito/train/taco/182.jpg\n",
            "taco_and_burrito/train/taco/231.jpg\n",
            "taco_and_burrito/train/taco/090.jpg\n",
            "taco_and_burrito/train/taco/291.jpg\n",
            "taco_and_burrito/train/taco/332.jpg\n",
            "taco_and_burrito/train/taco/047.jpg\n",
            "taco_and_burrito/train/taco/147.jpg\n",
            "taco_and_burrito/train/taco/060.jpg\n",
            "taco_and_burrito/train/taco/338.jpg\n",
            "taco_and_burrito/train/taco/124.jpg\n",
            "taco_and_burrito/train/taco/307.jpg\n",
            "taco_and_burrito/train/taco/128.jpg\n",
            "taco_and_burrito/train/taco/075.jpg\n",
            "taco_and_burrito/train/taco/020.jpg\n",
            "taco_and_burrito/train/taco/091.jpg\n",
            "taco_and_burrito/train/taco/140.jpg\n",
            "taco_and_burrito/train/taco/208.jpg\n",
            "taco_and_burrito/train/taco/266.jpg\n",
            "taco_and_burrito/train/taco/018.jpg\n",
            "taco_and_burrito/train/taco/001.jpg\n",
            "taco_and_burrito/train/taco/235.jpg\n",
            "taco_and_burrito/train/taco/172.jpg\n"
          ]
        }
      ]
    },
    {
      "cell_type": "markdown",
      "metadata": {
        "id": "_0xHRM40Nas5"
      },
      "source": [
        "リスト4.5　DataLoaderを作成（<your_path>を変更している）"
      ]
    },
    {
      "cell_type": "code",
      "metadata": {
        "id": "0z8wXdTAZFYQ"
      },
      "source": [
        "from torchvision.datasets import ImageFolder\n",
        "from torchvision import transforms\n",
        "\n",
        "# ImageFolder関数を使用してDatasetを作成する\n",
        "train_imgs = ImageFolder(\n",
        "    \"taco_and_burrito/train/\",\n",
        "    transform=transforms.Compose([\n",
        "      transforms.RandomCrop(224),\n",
        "      transforms.ToTensor()]\n",
        "))\n",
        "test_imgs = ImageFolder(\n",
        "    \"taco_and_burrito/test/\",\n",
        "    transform=transforms.Compose([\n",
        "        transforms.CenterCrop(224),\n",
        "        transforms.ToTensor()]\n",
        "))\n",
        "\n",
        "# DataLoaderを作成\n",
        "train_loader = DataLoader(\n",
        "    train_imgs, batch_size=32, shuffle=True)\n",
        "test_loader = DataLoader(\n",
        "    test_imgs, batch_size=32, shuffle=False)"
      ],
      "execution_count": null,
      "outputs": []
    },
    {
      "cell_type": "markdown",
      "metadata": {
        "id": "DAuOWzl-N3FS"
      },
      "source": [
        "リスト4.6　クラス名とクラスインデクスの対応の確認"
      ]
    },
    {
      "cell_type": "code",
      "metadata": {
        "id": "JjFq2Hn0ZY4f",
        "colab": {
          "base_uri": "https://localhost:8080/"
        },
        "outputId": "49a93be4-fa93-4c64-ba3e-945736a54e42"
      },
      "source": [
        "print(train_imgs.classes)"
      ],
      "execution_count": null,
      "outputs": [
        {
          "output_type": "stream",
          "name": "stdout",
          "text": [
            "['burrito', 'taco']\n"
          ]
        }
      ]
    },
    {
      "cell_type": "code",
      "metadata": {
        "id": "xm9tYrOFZuMg",
        "colab": {
          "base_uri": "https://localhost:8080/"
        },
        "outputId": "5a3d877a-bc44-4b37-b2bd-61b617216ef5"
      },
      "source": [
        "print(train_imgs.class_to_idx)"
      ],
      "execution_count": null,
      "outputs": [
        {
          "output_type": "stream",
          "name": "stdout",
          "text": [
            "{'burrito': 0, 'taco': 1}\n"
          ]
        }
      ]
    },
    {
      "cell_type": "markdown",
      "metadata": {
        "id": "Rmp9aGmjN-Ri"
      },
      "source": [
        "リスト4.7　事前学習済み（Pre-trained）のモデルのロードと定義"
      ]
    },
    {
      "cell_type": "code",
      "metadata": {
        "id": "Ki3tvFMmZ16Q",
        "colab": {
          "base_uri": "https://localhost:8080/",
          "height": 67,
          "referenced_widgets": [
            "be998ebe9bf04c4ca094a4759aeab6ff",
            "e2ff5fadb9f54e59921e17de70ba3c90",
            "cebc6d2890b848ca8427f26b04e6d5a1",
            "c196b97b94ec47c695f33e39b2f9e953",
            "abeb8fe372e6487aaacb569a85f3981d",
            "6a51955ef04942249e1d64d2a3ee6231",
            "74466aaedb8c4c9199bfae5ade246093",
            "05d1e8ba458143cdac7029234540122b",
            "2b8becbd0bef47aabdfece61c23c1f39",
            "9d2154e8030d4ac390bb2a6c480de8c3",
            "3db7711ce75149529a61fbe796c18187"
          ]
        },
        "outputId": "4884142c-4da8-40ee-8b74-abd871b8940b"
      },
      "source": [
        "from torchvision import models\n",
        "\n",
        "# 事前学習済みのresnet18をロード\n",
        "net = models.resnet18(pretrained=True)\n",
        "\n",
        "# すべてのパラメータを微分対象外にする\n",
        "for p in net.parameters():\n",
        "    p.requires_grad=False\n",
        "    \n",
        "# 最後の線形層を付け替える\n",
        "fc_input_dim = net.fc.in_features\n",
        "net.fc = nn.Linear(fc_input_dim, 2)"
      ],
      "execution_count": null,
      "outputs": [
        {
          "output_type": "stream",
          "name": "stderr",
          "text": [
            "Downloading: \"https://download.pytorch.org/models/resnet18-f37072fd.pth\" to /root/.cache/torch/hub/checkpoints/resnet18-f37072fd.pth\n"
          ]
        },
        {
          "output_type": "display_data",
          "data": {
            "application/vnd.jupyter.widget-view+json": {
              "model_id": "be998ebe9bf04c4ca094a4759aeab6ff",
              "version_minor": 0,
              "version_major": 2
            },
            "text/plain": [
              "  0%|          | 0.00/44.7M [00:00<?, ?B/s]"
            ]
          },
          "metadata": {}
        }
      ]
    },
    {
      "cell_type": "markdown",
      "metadata": {
        "id": "zFQYkYilOTKD"
      },
      "source": [
        "リスト4.8　モデルの訓練関数の記述"
      ]
    },
    {
      "cell_type": "code",
      "metadata": {
        "id": "Hiy4BalMbUIO"
      },
      "source": [
        "def eval_net(net, data_loader, device=\"cpu\"):\n",
        "    # DropoutやBatchNormを無効化\n",
        "    net.eval()\n",
        "    ys = []\n",
        "    ypreds = []\n",
        "    for x, y in data_loader:\n",
        "        # toメソッドで計算を実行するデバイスに転送する\n",
        "        x = x.to(device)\n",
        "        y = y.to(device)\n",
        "        # 確率が最大のクラスを予測(リスト2.14参照)\n",
        "        # ここではforward（推論）の計算だけなので自動微分に\n",
        "        # 必要な処理はoffにして余計な計算を省く\n",
        "        with torch.no_grad():\n",
        "            _, y_pred = net(x).max(1)\n",
        "        ys.append(y)\n",
        "        ypreds.append(y_pred)\n",
        "    # ミニバッチごとの予測結果などを1つにまとめる\n",
        "    ys = torch.cat(ys)\n",
        "    ypreds = torch.cat(ypreds)\n",
        "    # 予測精度を計算\n",
        "    acc = (ys == ypreds).float().sum() / len(ys)\n",
        "    return acc.item()\n",
        "\n",
        "def train_net(net, train_loader, test_loader,\n",
        "              only_fc=True,\n",
        "              optimizer_cls=optim.Adam,\n",
        "              loss_fn=nn.CrossEntropyLoss(),\n",
        "              n_iter=10, device=\"cpu\"):\n",
        "    train_losses = []\n",
        "    train_acc = []\n",
        "    val_acc = []\n",
        "    if only_fc:\n",
        "        # 最後の線形層のパラメータのみを、\n",
        "        # optimizerに渡す\n",
        "        optimizer = optimizer_cls(net.fc.parameters())\n",
        "    else:\n",
        "        optimizer = optimizer_cls(net.parameters())\n",
        "    for epoch in range(n_iter):\n",
        "        running_loss = 0.0\n",
        "        # ネットワークを訓練モードにする\n",
        "        net.train()\n",
        "        n = 0\n",
        "        n_acc = 0\n",
        "        # 非常に時間がかかるのでtqdmを使用してプログレスバーを出す\n",
        "        for i, (xx, yy) in tqdm.tqdm(enumerate(train_loader),\n",
        "            total=len(train_loader)):\n",
        "            xx = xx.to(device)\n",
        "            yy = yy.to(device)\n",
        "            h = net(xx)\n",
        "            loss = loss_fn(h, yy)\n",
        "            optimizer.zero_grad()\n",
        "            loss.backward()\n",
        "            optimizer.step()\n",
        "            running_loss += loss.item()\n",
        "            n += len(xx)\n",
        "            _, y_pred = h.max(1)\n",
        "            n_acc += (yy == y_pred).float().sum().item()\n",
        "        train_losses.append(running_loss / i)\n",
        "        # 訓練データの予測精度\n",
        "        train_acc.append(n_acc / n)\n",
        "        # 検証データの予測精度\n",
        "        val_acc.append(eval_net(net, test_loader, device))\n",
        "        # このepochでの結果を表示\n",
        "        print(epoch, train_losses[-1], train_acc[-1],\n",
        "              val_acc[-1], flush=True)"
      ],
      "execution_count": null,
      "outputs": []
    },
    {
      "cell_type": "markdown",
      "metadata": {
        "id": "wUmqR7K6OZil"
      },
      "source": [
        "リスト4.9　全パラメータをGPUに転送して訓練を実行"
      ]
    },
    {
      "cell_type": "code",
      "metadata": {
        "id": "wq6a9HQTch__",
        "colab": {
          "base_uri": "https://localhost:8080/"
        },
        "outputId": "40b31633-ae08-409f-8ab9-a2114e896eed"
      },
      "source": [
        "# ネットワークの全パラメータをGPUに転送\n",
        "net.to(\"cuda:0\")\n",
        "\n",
        "# 訓練を実行\n",
        "train_net(net, train_loader, test_loader, n_iter=20, device=\"cuda:0\")"
      ],
      "execution_count": null,
      "outputs": [
        {
          "output_type": "stream",
          "name": "stderr",
          "text": [
            "\r  0%|          | 0/23 [00:00<?, ?it/s]/usr/local/lib/python3.7/dist-packages/torch/nn/functional.py:718: UserWarning: Named tensors and all their associated APIs are an experimental feature and subject to change. Please do not use them for anything important until they are released as stable. (Triggered internally at  /pytorch/c10/core/TensorImpl.h:1156.)\n",
            "  return torch.max_pool2d(input, kernel_size, stride, padding, dilation, ceil_mode)\n",
            "100%|██████████| 23/23 [00:04<00:00,  5.45it/s]\n"
          ]
        },
        {
          "output_type": "stream",
          "name": "stdout",
          "text": [
            "0 0.6962381465868517 0.5969101123595506 0.7833333611488342\n"
          ]
        },
        {
          "output_type": "stream",
          "name": "stderr",
          "text": [
            "100%|██████████| 23/23 [00:03<00:00,  5.86it/s]\n"
          ]
        },
        {
          "output_type": "stream",
          "name": "stdout",
          "text": [
            "1 0.5325466191226785 0.7556179775280899 0.8500000238418579\n"
          ]
        },
        {
          "output_type": "stream",
          "name": "stderr",
          "text": [
            "100%|██████████| 23/23 [00:03<00:00,  6.06it/s]\n"
          ]
        },
        {
          "output_type": "stream",
          "name": "stdout",
          "text": [
            "2 0.44941933859478345 0.8103932584269663 0.8333333730697632\n"
          ]
        },
        {
          "output_type": "stream",
          "name": "stderr",
          "text": [
            "100%|██████████| 23/23 [00:03<00:00,  6.07it/s]\n"
          ]
        },
        {
          "output_type": "stream",
          "name": "stdout",
          "text": [
            "3 0.4419420456344431 0.8314606741573034 0.8500000238418579\n"
          ]
        },
        {
          "output_type": "stream",
          "name": "stderr",
          "text": [
            "100%|██████████| 23/23 [00:03<00:00,  6.22it/s]\n"
          ]
        },
        {
          "output_type": "stream",
          "name": "stdout",
          "text": [
            "4 0.42117051915688947 0.8342696629213483 0.8666667342185974\n"
          ]
        },
        {
          "output_type": "stream",
          "name": "stderr",
          "text": [
            "100%|██████████| 23/23 [00:03<00:00,  6.29it/s]\n"
          ]
        },
        {
          "output_type": "stream",
          "name": "stdout",
          "text": [
            "5 0.4170862219550393 0.8286516853932584 0.8500000238418579\n"
          ]
        },
        {
          "output_type": "stream",
          "name": "stderr",
          "text": [
            "100%|██████████| 23/23 [00:03<00:00,  6.31it/s]\n"
          ]
        },
        {
          "output_type": "stream",
          "name": "stdout",
          "text": [
            "6 0.36120365221392026 0.8721910112359551 0.8166667222976685\n"
          ]
        },
        {
          "output_type": "stream",
          "name": "stderr",
          "text": [
            "100%|██████████| 23/23 [00:03<00:00,  6.50it/s]\n"
          ]
        },
        {
          "output_type": "stream",
          "name": "stdout",
          "text": [
            "7 0.3497591587630185 0.8764044943820225 0.8500000238418579\n"
          ]
        },
        {
          "output_type": "stream",
          "name": "stderr",
          "text": [
            "100%|██████████| 23/23 [00:03<00:00,  6.50it/s]\n"
          ]
        },
        {
          "output_type": "stream",
          "name": "stdout",
          "text": [
            "8 0.3574773113835942 0.8595505617977528 0.8500000238418579\n"
          ]
        },
        {
          "output_type": "stream",
          "name": "stderr",
          "text": [
            "100%|██████████| 23/23 [00:03<00:00,  6.65it/s]\n"
          ]
        },
        {
          "output_type": "stream",
          "name": "stdout",
          "text": [
            "9 0.3441563221541318 0.8679775280898876 0.7333333492279053\n"
          ]
        },
        {
          "output_type": "stream",
          "name": "stderr",
          "text": [
            "100%|██████████| 23/23 [00:03<00:00,  6.60it/s]\n"
          ]
        },
        {
          "output_type": "stream",
          "name": "stdout",
          "text": [
            "10 0.3755670806223696 0.8525280898876404 0.8666667342185974\n"
          ]
        },
        {
          "output_type": "stream",
          "name": "stderr",
          "text": [
            "100%|██████████| 23/23 [00:03<00:00,  6.66it/s]\n"
          ]
        },
        {
          "output_type": "stream",
          "name": "stdout",
          "text": [
            "11 0.3379109515385194 0.8595505617977528 0.8666667342185974\n"
          ]
        },
        {
          "output_type": "stream",
          "name": "stderr",
          "text": [
            "100%|██████████| 23/23 [00:03<00:00,  6.63it/s]\n"
          ]
        },
        {
          "output_type": "stream",
          "name": "stdout",
          "text": [
            "12 0.3406079641797326 0.8721910112359551 0.8666667342185974\n"
          ]
        },
        {
          "output_type": "stream",
          "name": "stderr",
          "text": [
            "100%|██████████| 23/23 [00:03<00:00,  6.46it/s]\n"
          ]
        },
        {
          "output_type": "stream",
          "name": "stdout",
          "text": [
            "13 0.32540619508786633 0.8735955056179775 0.8333333730697632\n"
          ]
        },
        {
          "output_type": "stream",
          "name": "stderr",
          "text": [
            "100%|██████████| 23/23 [00:03<00:00,  6.22it/s]\n"
          ]
        },
        {
          "output_type": "stream",
          "name": "stdout",
          "text": [
            "14 0.37341703609986737 0.8398876404494382 0.8833333849906921\n"
          ]
        },
        {
          "output_type": "stream",
          "name": "stderr",
          "text": [
            "100%|██████████| 23/23 [00:03<00:00,  6.22it/s]\n"
          ]
        },
        {
          "output_type": "stream",
          "name": "stdout",
          "text": [
            "15 0.32819497653029184 0.8792134831460674 0.8666667342185974\n"
          ]
        },
        {
          "output_type": "stream",
          "name": "stderr",
          "text": [
            "100%|██████████| 23/23 [00:03<00:00,  6.33it/s]\n"
          ]
        },
        {
          "output_type": "stream",
          "name": "stdout",
          "text": [
            "16 0.3229938887737014 0.8637640449438202 0.8666667342185974\n"
          ]
        },
        {
          "output_type": "stream",
          "name": "stderr",
          "text": [
            "100%|██████████| 23/23 [00:03<00:00,  6.34it/s]\n"
          ]
        },
        {
          "output_type": "stream",
          "name": "stdout",
          "text": [
            "17 0.31636354801329697 0.8707865168539326 0.8666667342185974\n"
          ]
        },
        {
          "output_type": "stream",
          "name": "stderr",
          "text": [
            "100%|██████████| 23/23 [00:03<00:00,  6.30it/s]\n"
          ]
        },
        {
          "output_type": "stream",
          "name": "stdout",
          "text": [
            "18 0.3169360926205462 0.8778089887640449 0.8833333849906921\n"
          ]
        },
        {
          "output_type": "stream",
          "name": "stderr",
          "text": [
            "100%|██████████| 23/23 [00:03<00:00,  6.50it/s]\n"
          ]
        },
        {
          "output_type": "stream",
          "name": "stdout",
          "text": [
            "19 0.3055296689271927 0.8932584269662921 0.8333333730697632\n"
          ]
        }
      ]
    },
    {
      "cell_type": "markdown",
      "metadata": {
        "id": "cCYU1Q1KQQBu"
      },
      "source": [
        "リスト4.10　入力をそのまま出力するダミーの層を作り、fcを置き換える"
      ]
    },
    {
      "cell_type": "code",
      "metadata": {
        "id": "_vT1cElbcvyv"
      },
      "source": [
        "class IdentityLayer(nn.Module):\n",
        "    def forward(self, x):\n",
        "        return x\n",
        "    \n",
        "net = models.resnet18(pretrained=True)\n",
        "for p in net.parameters():\n",
        "    p.requires_grad=False\n",
        "net.fc = IdentityLayer()"
      ],
      "execution_count": null,
      "outputs": []
    },
    {
      "cell_type": "markdown",
      "metadata": {
        "id": "5npRykYxQWB0"
      },
      "source": [
        "リスト4.11　筆者が作成したCNNモデルの実行"
      ]
    },
    {
      "cell_type": "code",
      "metadata": {
        "id": "Qupx3SbAhrfv"
      },
      "source": [
        "conv_net = nn.Sequential(\n",
        "    nn.Conv2d(3, 32, 5),\n",
        "    nn.MaxPool2d(2),\n",
        "    nn.ReLU(),\n",
        "    nn.BatchNorm2d(32),\n",
        "    nn.Conv2d(32, 64, 5),\n",
        "    nn.MaxPool2d(2),\n",
        "    nn.ReLU(),\n",
        "    nn.BatchNorm2d(64),\n",
        "    nn.Conv2d(64, 128, 5),\n",
        "    nn.MaxPool2d(2),\n",
        "    nn.ReLU(),\n",
        "    nn.BatchNorm2d(128),\n",
        "    FlattenLayer()\n",
        ")\n",
        "\n",
        "# 畳み込みによって最終的にどのようなサイズになっているかを、\n",
        "# 実際にデータを入れて確認する\n",
        "test_input = torch.ones(1, 3, 224, 224)\n",
        "conv_output_size = conv_net(test_input).size()[-1]\n",
        "\n",
        "# 最終的なCNN\n",
        "net = nn.Sequential(\n",
        "    conv_net,\n",
        "    nn.Linear(conv_output_size, 2)\n",
        ")\n",
        "\n",
        "# 訓練を実行\n",
        "train_net(net, train_loader, test_loader, n_iter=10,\n",
        "          only_fc=False)"
      ],
      "execution_count": null,
      "outputs": []
    },
    {
      "cell_type": "markdown",
      "metadata": {
        "id": "RR4VlalN7jsM"
      },
      "source": [
        "Colaboratory における圧縮ファイルの展開、ディレクトリの作成および移動"
      ]
    },
    {
      "cell_type": "code",
      "metadata": {
        "id": "hEC-pI4xPHly",
        "colab": {
          "base_uri": "https://localhost:8080/"
        },
        "outputId": "e12c9d16-690f-4fed-f426-61559d709e59"
      },
      "source": [
        "!wget http://vis-www.cs.umass.edu/lfw/lfw-deepfunneled.tgz\n",
        "!tar xf lfw-deepfunneled.tgz\n",
        "!mkdir lfw-deepfunneled/train\n",
        "!mkdir lfw-deepfunneled/test\n",
        "!mv lfw-deepfunneled/[A-S]* lfw-deepfunneled/train\n",
        "!mv lfw-deepfunneled/[U-Y]* lfw-deepfunneled/train\n",
        "!mv lfw-deepfunneled/[Z]* lfw-deepfunneled/test"
      ],
      "execution_count": 1,
      "outputs": [
        {
          "output_type": "stream",
          "name": "stdout",
          "text": [
            "--2021-09-05 00:26:27--  http://vis-www.cs.umass.edu/lfw/lfw-deepfunneled.tgz\n",
            "Resolving vis-www.cs.umass.edu (vis-www.cs.umass.edu)... 128.119.244.95\n",
            "Connecting to vis-www.cs.umass.edu (vis-www.cs.umass.edu)|128.119.244.95|:80... connected.\n",
            "HTTP request sent, awaiting response... 200 OK\n",
            "Length: 108761145 (104M) [application/x-gzip]\n",
            "Saving to: ‘lfw-deepfunneled.tgz’\n",
            "\n",
            "lfw-deepfunneled.tg 100%[===================>] 103.72M  49.0MB/s    in 2.1s    \n",
            "\n",
            "2021-09-05 00:26:29 (49.0 MB/s) - ‘lfw-deepfunneled.tgz’ saved [108761145/108761145]\n",
            "\n"
          ]
        }
      ]
    },
    {
      "cell_type": "code",
      "metadata": {
        "colab": {
          "base_uri": "https://localhost:8080/"
        },
        "id": "N291REFkwVJx",
        "outputId": "1b93eb35-5510-4fff-9d72-86290b0e2276"
      },
      "source": [
        "!rmdir -f lfw-deepfunneled"
      ],
      "execution_count": null,
      "outputs": [
        {
          "output_type": "stream",
          "name": "stdout",
          "text": [
            "rmdir: invalid option -- 'f'\n",
            "Try 'rmdir --help' for more information.\n"
          ]
        }
      ]
    },
    {
      "cell_type": "code",
      "metadata": {
        "id": "UAl1vgC1q0BW"
      },
      "source": [
        "#!mkdir lfw-deepfunneled/train\n",
        "!mkdir lfw-deepfunneled/test\n",
        "#!mv lfw-deepfunneled/[A-W]* lfw-deepfunneled/train\n",
        "!mv lfw-deepfunneled/[X-Z]* lfw-deepfunneled/test"
      ],
      "execution_count": null,
      "outputs": []
    },
    {
      "cell_type": "markdown",
      "metadata": {
        "id": "BI1MEPhDJ2w2"
      },
      "source": [
        "リスト4.12　32×32ピクセルの画像を128×128ピクセルに拡大する"
      ]
    },
    {
      "cell_type": "code",
      "metadata": {
        "id": "IKyWTGXSikTA"
      },
      "source": [
        "class DownSizedPairImageFolder(ImageFolder):\n",
        "    def __init__(self, root, transform=None, \n",
        "                 large_size=128, small_size=32, **kwds):\n",
        "        super().__init__(root, transform=transform, **kwds)\n",
        "        self.large_resizer = transforms.Resize(large_size)\n",
        "        self.small_resizer = transforms.Resize(small_size)\n",
        "        \n",
        "    def __getitem__(self, index):\n",
        "        path, _ = self.imgs[index]\n",
        "        img = self.loader(path)\n",
        "        \n",
        "        # 読み取った画像を128×128ピクセルと32×32ピクセルにリサイズする\n",
        "        large_img = self.large_resizer(img)\n",
        "        small_img = self.small_resizer(img)\n",
        "            \n",
        "        # その他の変換を適用する\n",
        "        if self.transform is not None:\n",
        "            large_img = self.transform(large_img)\n",
        "            small_img = self.transform(small_img)\n",
        "        \n",
        "        # 32ピクセルの画像と128ピクセルの画像を返す\n",
        "        return small_img, large_img"
      ],
      "execution_count": null,
      "outputs": []
    },
    {
      "cell_type": "markdown",
      "metadata": {
        "id": "tzYoPjpfJ8Mu"
      },
      "source": [
        "リスト4.13　訓練用と検証用のDataLoaderを作成（<your_path>を変更している）"
      ]
    },
    {
      "cell_type": "code",
      "metadata": {
        "colab": {
          "base_uri": "https://localhost:8080/"
        },
        "id": "0upCS2isn7xS",
        "outputId": "58cdc146-a081-4bd3-dbef-d23b040c176f"
      },
      "source": [
        "import os\n",
        "path = 'lfw-deepfunneled/train'\n",
        "i = 0\n",
        "for d, s, f in os.walk(path):\n",
        "    if \".jpg\" in f:\n",
        "      continue\n",
        "    else:\n",
        "      i = i + 1\n",
        "\n",
        "print(i)\n",
        "  #print('')\n",
        "  #print('── {}'.format(d))\n",
        "  #print(' └── {}'.format(s))\n",
        "  #print('   └── {}'.format(f))"
      ],
      "execution_count": null,
      "outputs": [
        {
          "output_type": "stream",
          "name": "stdout",
          "text": [
            "5673\n"
          ]
        }
      ]
    },
    {
      "cell_type": "code",
      "metadata": {
        "id": "V96PhAe7h_fu",
        "colab": {
          "base_uri": "https://localhost:8080/",
          "height": 392
        },
        "outputId": "f107a824-d130-4a9b-b384-cd564b3f7d57"
      },
      "source": [
        "test_data = DownSizedPairImageFolder(\n",
        "    \"lfw-deepfunneled/test\",\n",
        "    transform=transforms.ToTensor())\n",
        "\n",
        "train_data = DownSizedPairImageFolder(\n",
        "    \"lfw-deepfunneled/train\", \n",
        "    transform=transforms.ToTensor())\n",
        "\n",
        "batch_size = 32\n",
        "train_loader = DataLoader(train_data, batch_size=batch_size, \n",
        "                          shuffle=True, num_workers=4)\n",
        "test_loader = DataLoader(test_data, batch_size=batch_size,\n",
        "                         shuffle=False, num_workers=4)"
      ],
      "execution_count": null,
      "outputs": [
        {
          "output_type": "error",
          "ename": "FileNotFoundError",
          "evalue": "ignored",
          "traceback": [
            "\u001b[0;31m---------------------------------------------------------------------------\u001b[0m",
            "\u001b[0;31mFileNotFoundError\u001b[0m                         Traceback (most recent call last)",
            "\u001b[0;32m<ipython-input-47-dc462b6f520c>\u001b[0m in \u001b[0;36m<module>\u001b[0;34m()\u001b[0m\n\u001b[1;32m      5\u001b[0m train_data = DownSizedPairImageFolder(\n\u001b[1;32m      6\u001b[0m     \u001b[0;34m\"lfw-deepfunneled/train\"\u001b[0m\u001b[0;34m,\u001b[0m\u001b[0;34m\u001b[0m\u001b[0;34m\u001b[0m\u001b[0m\n\u001b[0;32m----> 7\u001b[0;31m     transform=transforms.ToTensor())\n\u001b[0m\u001b[1;32m      8\u001b[0m \u001b[0;34m\u001b[0m\u001b[0m\n\u001b[1;32m      9\u001b[0m \u001b[0mbatch_size\u001b[0m \u001b[0;34m=\u001b[0m \u001b[0;36m32\u001b[0m\u001b[0;34m\u001b[0m\u001b[0;34m\u001b[0m\u001b[0m\n",
            "\u001b[0;32m<ipython-input-12-ffa5f73b4dc8>\u001b[0m in \u001b[0;36m__init__\u001b[0;34m(self, root, transform, large_size, small_size, **kwds)\u001b[0m\n\u001b[1;32m      2\u001b[0m     def __init__(self, root, transform=None, \n\u001b[1;32m      3\u001b[0m                  large_size=128, small_size=32, **kwds):\n\u001b[0;32m----> 4\u001b[0;31m         \u001b[0msuper\u001b[0m\u001b[0;34m(\u001b[0m\u001b[0;34m)\u001b[0m\u001b[0;34m.\u001b[0m\u001b[0m__init__\u001b[0m\u001b[0;34m(\u001b[0m\u001b[0mroot\u001b[0m\u001b[0;34m,\u001b[0m \u001b[0mtransform\u001b[0m\u001b[0;34m=\u001b[0m\u001b[0mtransform\u001b[0m\u001b[0;34m,\u001b[0m \u001b[0;34m**\u001b[0m\u001b[0mkwds\u001b[0m\u001b[0;34m)\u001b[0m\u001b[0;34m\u001b[0m\u001b[0;34m\u001b[0m\u001b[0m\n\u001b[0m\u001b[1;32m      5\u001b[0m         \u001b[0mself\u001b[0m\u001b[0;34m.\u001b[0m\u001b[0mlarge_resizer\u001b[0m \u001b[0;34m=\u001b[0m \u001b[0mtransforms\u001b[0m\u001b[0;34m.\u001b[0m\u001b[0mResize\u001b[0m\u001b[0;34m(\u001b[0m\u001b[0mlarge_size\u001b[0m\u001b[0;34m)\u001b[0m\u001b[0;34m\u001b[0m\u001b[0;34m\u001b[0m\u001b[0m\n\u001b[1;32m      6\u001b[0m         \u001b[0mself\u001b[0m\u001b[0;34m.\u001b[0m\u001b[0msmall_resizer\u001b[0m \u001b[0;34m=\u001b[0m \u001b[0mtransforms\u001b[0m\u001b[0;34m.\u001b[0m\u001b[0mResize\u001b[0m\u001b[0;34m(\u001b[0m\u001b[0msmall_size\u001b[0m\u001b[0;34m)\u001b[0m\u001b[0;34m\u001b[0m\u001b[0;34m\u001b[0m\u001b[0m\n",
            "\u001b[0;32m/usr/local/lib/python3.7/dist-packages/torchvision/datasets/folder.py\u001b[0m in \u001b[0;36m__init__\u001b[0;34m(self, root, transform, target_transform, loader, is_valid_file)\u001b[0m\n\u001b[1;32m    311\u001b[0m                                           \u001b[0mtransform\u001b[0m\u001b[0;34m=\u001b[0m\u001b[0mtransform\u001b[0m\u001b[0;34m,\u001b[0m\u001b[0;34m\u001b[0m\u001b[0;34m\u001b[0m\u001b[0m\n\u001b[1;32m    312\u001b[0m                                           \u001b[0mtarget_transform\u001b[0m\u001b[0;34m=\u001b[0m\u001b[0mtarget_transform\u001b[0m\u001b[0;34m,\u001b[0m\u001b[0;34m\u001b[0m\u001b[0;34m\u001b[0m\u001b[0m\n\u001b[0;32m--> 313\u001b[0;31m                                           is_valid_file=is_valid_file)\n\u001b[0m\u001b[1;32m    314\u001b[0m         \u001b[0mself\u001b[0m\u001b[0;34m.\u001b[0m\u001b[0mimgs\u001b[0m \u001b[0;34m=\u001b[0m \u001b[0mself\u001b[0m\u001b[0;34m.\u001b[0m\u001b[0msamples\u001b[0m\u001b[0;34m\u001b[0m\u001b[0;34m\u001b[0m\u001b[0m\n",
            "\u001b[0;32m/usr/local/lib/python3.7/dist-packages/torchvision/datasets/folder.py\u001b[0m in \u001b[0;36m__init__\u001b[0;34m(self, root, loader, extensions, transform, target_transform, is_valid_file)\u001b[0m\n\u001b[1;32m    144\u001b[0m                                             target_transform=target_transform)\n\u001b[1;32m    145\u001b[0m         \u001b[0mclasses\u001b[0m\u001b[0;34m,\u001b[0m \u001b[0mclass_to_idx\u001b[0m \u001b[0;34m=\u001b[0m \u001b[0mself\u001b[0m\u001b[0;34m.\u001b[0m\u001b[0mfind_classes\u001b[0m\u001b[0;34m(\u001b[0m\u001b[0mself\u001b[0m\u001b[0;34m.\u001b[0m\u001b[0mroot\u001b[0m\u001b[0;34m)\u001b[0m\u001b[0;34m\u001b[0m\u001b[0;34m\u001b[0m\u001b[0m\n\u001b[0;32m--> 146\u001b[0;31m         \u001b[0msamples\u001b[0m \u001b[0;34m=\u001b[0m \u001b[0mself\u001b[0m\u001b[0;34m.\u001b[0m\u001b[0mmake_dataset\u001b[0m\u001b[0;34m(\u001b[0m\u001b[0mself\u001b[0m\u001b[0;34m.\u001b[0m\u001b[0mroot\u001b[0m\u001b[0;34m,\u001b[0m \u001b[0mclass_to_idx\u001b[0m\u001b[0;34m,\u001b[0m \u001b[0mextensions\u001b[0m\u001b[0;34m,\u001b[0m \u001b[0mis_valid_file\u001b[0m\u001b[0;34m)\u001b[0m\u001b[0;34m\u001b[0m\u001b[0;34m\u001b[0m\u001b[0m\n\u001b[0m\u001b[1;32m    147\u001b[0m \u001b[0;34m\u001b[0m\u001b[0m\n\u001b[1;32m    148\u001b[0m         \u001b[0mself\u001b[0m\u001b[0;34m.\u001b[0m\u001b[0mloader\u001b[0m \u001b[0;34m=\u001b[0m \u001b[0mloader\u001b[0m\u001b[0;34m\u001b[0m\u001b[0;34m\u001b[0m\u001b[0m\n",
            "\u001b[0;32m/usr/local/lib/python3.7/dist-packages/torchvision/datasets/folder.py\u001b[0m in \u001b[0;36mmake_dataset\u001b[0;34m(directory, class_to_idx, extensions, is_valid_file)\u001b[0m\n\u001b[1;32m    190\u001b[0m                 \u001b[0;34m\"The class_to_idx parameter cannot be None.\"\u001b[0m\u001b[0;34m\u001b[0m\u001b[0;34m\u001b[0m\u001b[0m\n\u001b[1;32m    191\u001b[0m             )\n\u001b[0;32m--> 192\u001b[0;31m         \u001b[0;32mreturn\u001b[0m \u001b[0mmake_dataset\u001b[0m\u001b[0;34m(\u001b[0m\u001b[0mdirectory\u001b[0m\u001b[0;34m,\u001b[0m \u001b[0mclass_to_idx\u001b[0m\u001b[0;34m,\u001b[0m \u001b[0mextensions\u001b[0m\u001b[0;34m=\u001b[0m\u001b[0mextensions\u001b[0m\u001b[0;34m,\u001b[0m \u001b[0mis_valid_file\u001b[0m\u001b[0;34m=\u001b[0m\u001b[0mis_valid_file\u001b[0m\u001b[0;34m)\u001b[0m\u001b[0;34m\u001b[0m\u001b[0;34m\u001b[0m\u001b[0m\n\u001b[0m\u001b[1;32m    193\u001b[0m \u001b[0;34m\u001b[0m\u001b[0m\n\u001b[1;32m    194\u001b[0m     \u001b[0;32mdef\u001b[0m \u001b[0mfind_classes\u001b[0m\u001b[0;34m(\u001b[0m\u001b[0mself\u001b[0m\u001b[0;34m,\u001b[0m \u001b[0mdirectory\u001b[0m\u001b[0;34m:\u001b[0m \u001b[0mstr\u001b[0m\u001b[0;34m)\u001b[0m \u001b[0;34m->\u001b[0m \u001b[0mTuple\u001b[0m\u001b[0;34m[\u001b[0m\u001b[0mList\u001b[0m\u001b[0;34m[\u001b[0m\u001b[0mstr\u001b[0m\u001b[0;34m]\u001b[0m\u001b[0;34m,\u001b[0m \u001b[0mDict\u001b[0m\u001b[0;34m[\u001b[0m\u001b[0mstr\u001b[0m\u001b[0;34m,\u001b[0m \u001b[0mint\u001b[0m\u001b[0;34m]\u001b[0m\u001b[0;34m]\u001b[0m\u001b[0;34m:\u001b[0m\u001b[0;34m\u001b[0m\u001b[0;34m\u001b[0m\u001b[0m\n",
            "\u001b[0;32m/usr/local/lib/python3.7/dist-packages/torchvision/datasets/folder.py\u001b[0m in \u001b[0;36mmake_dataset\u001b[0;34m(directory, class_to_idx, extensions, is_valid_file)\u001b[0m\n\u001b[1;32m    100\u001b[0m         \u001b[0;32mif\u001b[0m \u001b[0mextensions\u001b[0m \u001b[0;32mis\u001b[0m \u001b[0;32mnot\u001b[0m \u001b[0;32mNone\u001b[0m\u001b[0;34m:\u001b[0m\u001b[0;34m\u001b[0m\u001b[0;34m\u001b[0m\u001b[0m\n\u001b[1;32m    101\u001b[0m             \u001b[0mmsg\u001b[0m \u001b[0;34m+=\u001b[0m \u001b[0;34mf\"Supported extensions are: {', '.join(extensions)}\"\u001b[0m\u001b[0;34m\u001b[0m\u001b[0;34m\u001b[0m\u001b[0m\n\u001b[0;32m--> 102\u001b[0;31m         \u001b[0;32mraise\u001b[0m \u001b[0mFileNotFoundError\u001b[0m\u001b[0;34m(\u001b[0m\u001b[0mmsg\u001b[0m\u001b[0;34m)\u001b[0m\u001b[0;34m\u001b[0m\u001b[0;34m\u001b[0m\u001b[0m\n\u001b[0m\u001b[1;32m    103\u001b[0m \u001b[0;34m\u001b[0m\u001b[0m\n\u001b[1;32m    104\u001b[0m     \u001b[0;32mreturn\u001b[0m \u001b[0minstances\u001b[0m\u001b[0;34m\u001b[0m\u001b[0;34m\u001b[0m\u001b[0m\n",
            "\u001b[0;31mFileNotFoundError\u001b[0m: Found no valid file for the classes test. Supported extensions are: .jpg, .jpeg, .png, .ppm, .bmp, .pgm, .tif, .tiff, .webp"
          ]
        }
      ]
    },
    {
      "cell_type": "markdown",
      "metadata": {
        "id": "bdA7XWlOLMBP"
      },
      "source": [
        "リスト4.14　モデルの作成"
      ]
    },
    {
      "cell_type": "code",
      "metadata": {
        "id": "2arZPcFzFQEY"
      },
      "source": [
        "net = nn.Sequential(\n",
        "    nn.Conv2d(3, 256, 4,\n",
        "              stride=2, padding=1),\n",
        "    nn.ReLU(),\n",
        "    nn.BatchNorm2d(256),\n",
        "    nn.Conv2d(256, 512, 4,\n",
        "              stride=2, padding=1),\n",
        "    nn.ReLU(),\n",
        "    nn.BatchNorm2d(512),\n",
        "    nn.ConvTranspose2d(512, 256, 4,\n",
        "                       stride=2, padding=1),\n",
        "    nn.ReLU(),\n",
        "    nn.BatchNorm2d(256),\n",
        "    nn.ConvTranspose2d(256, 128, 4,\n",
        "                       stride=2, padding=1),\n",
        "    nn.ReLU(),\n",
        "    nn.BatchNorm2d(128),\n",
        "    nn.ConvTranspose2d(128, 64, 4,\n",
        "                       stride=2, padding=1),\n",
        "    nn.ReLU(),\n",
        "    nn.BatchNorm2d(64),\n",
        "    nn.ConvTranspose2d(64, 3, 4,\n",
        "                       stride=2, padding=1)\n",
        ")"
      ],
      "execution_count": null,
      "outputs": []
    },
    {
      "cell_type": "markdown",
      "metadata": {
        "id": "7-pAccxxLW5c"
      },
      "source": [
        "リスト4.15　PSNRの計算"
      ]
    },
    {
      "cell_type": "code",
      "metadata": {
        "id": "tmjrKNJzGkko"
      },
      "source": [
        "import math\n",
        "def psnr(mse, max_v=1.0):\n",
        "    return 10 * math.log10(max_v**2 / mse)\n",
        "  \n",
        "# 評価のヘルパー関数\n",
        "def eval_net(net, data_loader, device=\"cpu\"):\n",
        "  \n",
        "    # DropoutやBatchNormを無効化\n",
        "    net.eval()\n",
        "    ys = []\n",
        "    ypreds = []\n",
        "    for x, y in data_loader:\n",
        "        x = x.to(device)\n",
        "        y = y.to(device)\n",
        "        with torch.no_grad():\n",
        "            y_pred = net(x)\n",
        "        ys.append(y)\n",
        "        ypreds.append(y_pred)\n",
        "    \n",
        "    # ミニバッチごとの予測結果などを1つにまとめる\n",
        "    ys = torch.cat(ys)\n",
        "    ypreds = torch.cat(ypreds)\n",
        "    \n",
        "    # 予測精度(MSE)を計算\n",
        "    score = nn.functional.mse_loss(ypreds, ys).item()\n",
        "    return score\n",
        "\n",
        "# 訓練のヘルパー関数\n",
        "def train_net(net, train_loader, test_loader,\n",
        "              optimizer_cls=optim.Adam,\n",
        "              loss_fn=nn.MSELoss(),\n",
        "              n_iter=10, device=\"cpu\"):\n",
        "    train_losses = []\n",
        "    train_acc = []\n",
        "    val_acc = []\n",
        "    optimizer = optimizer_cls(net.parameters())\n",
        "    for epoch in range(n_iter):\n",
        "        running_loss = 0.0\n",
        "        \n",
        "        # ネットワークを訓練モードにする\n",
        "        net.train()\n",
        "        n = 0\n",
        "        score = 0\n",
        "        \n",
        "        # 非常に時間がかかるのでtqdmを\n",
        "        # 使用してプログレスバーを出す\n",
        "        for i, (xx, yy) in tqdm.tqdm(enumerate(train_loader),\n",
        "            total=len(train_loader)):\n",
        "            xx = xx.to(device)\n",
        "            yy = yy.to(device)\n",
        "            y_pred = net(xx)\n",
        "            loss = loss_fn(y_pred, yy)\n",
        "            optimizer.zero_grad()\n",
        "            loss.backward()\n",
        "            optimizer.step()\n",
        "            running_loss += loss.item()\n",
        "            n += len(xx)\n",
        "        train_losses.append(running_loss / len(train_loader))\n",
        "        \n",
        "        # 検証データの予測精度\n",
        "        val_acc.append(eval_net(net, test_loader, device))\n",
        "        \n",
        "        # このepochでの結果を表示\n",
        "        print(epoch, train_losses[-1], \n",
        "              psnr(train_losses[-1]), psnr(val_acc[-1]), flush=True)"
      ],
      "execution_count": null,
      "outputs": []
    },
    {
      "cell_type": "markdown",
      "metadata": {
        "id": "jc9GHSfDLuvs"
      },
      "source": [
        "リスト4.16　複数回の演算（10回）"
      ]
    },
    {
      "cell_type": "code",
      "metadata": {
        "id": "I-fYbpVaG5En",
        "colab": {
          "base_uri": "https://localhost:8080/"
        },
        "outputId": "212eff8a-eccd-449e-95f3-b0d3c78df3e8"
      },
      "source": [
        "net.to(\"cuda:0\")\n",
        "train_net(net, train_loader, test_loader, device=\"cuda:0\")"
      ],
      "execution_count": null,
      "outputs": [
        {
          "output_type": "stream",
          "name": "stderr",
          "text": [
            "/usr/local/lib/python3.7/dist-packages/torch/utils/data/dataloader.py:481: UserWarning: This DataLoader will create 4 worker processes in total. Our suggested max number of worker in current system is 2, which is smaller than what this DataLoader is going to create. Please be aware that excessive worker creation might get DataLoader running slow or even freeze, lower the worker number to avoid potential slowness/freeze if necessary.\n",
            "  cpuset_checked))\n",
            "100%|██████████| 6/6 [00:00<00:00,  6.31it/s]\n"
          ]
        },
        {
          "output_type": "stream",
          "name": "stdout",
          "text": [
            "0 1.0732399225234985 -0.3069681924513246 6.282751049507505\n"
          ]
        },
        {
          "output_type": "stream",
          "name": "stderr",
          "text": [
            "100%|██████████| 6/6 [00:00<00:00,  7.58it/s]\n"
          ]
        },
        {
          "output_type": "stream",
          "name": "stdout",
          "text": [
            "1 0.3000883062680562 5.227509276747934 6.46414097689548\n"
          ]
        },
        {
          "output_type": "stream",
          "name": "stderr",
          "text": [
            "100%|██████████| 6/6 [00:00<00:00,  7.42it/s]\n"
          ]
        },
        {
          "output_type": "stream",
          "name": "stdout",
          "text": [
            "2 0.2431973690787951 6.140411275931427 7.48119600251234\n"
          ]
        },
        {
          "output_type": "stream",
          "name": "stderr",
          "text": [
            "100%|██████████| 6/6 [00:00<00:00,  7.11it/s]\n"
          ]
        },
        {
          "output_type": "stream",
          "name": "stdout",
          "text": [
            "3 0.19139436880747476 7.180708441548752 8.067832251894364\n"
          ]
        },
        {
          "output_type": "stream",
          "name": "stderr",
          "text": [
            "100%|██████████| 6/6 [00:00<00:00,  7.19it/s]\n"
          ]
        },
        {
          "output_type": "stream",
          "name": "stdout",
          "text": [
            "4 0.20374139149983725 6.909207320510502 8.081694183553523\n"
          ]
        },
        {
          "output_type": "stream",
          "name": "stderr",
          "text": [
            "100%|██████████| 6/6 [00:00<00:00,  7.34it/s]\n"
          ]
        },
        {
          "output_type": "stream",
          "name": "stdout",
          "text": [
            "5 0.134622473269701 8.708824348941409 8.985924234323086\n"
          ]
        },
        {
          "output_type": "stream",
          "name": "stderr",
          "text": [
            "100%|██████████| 6/6 [00:00<00:00,  7.19it/s]\n"
          ]
        },
        {
          "output_type": "stream",
          "name": "stdout",
          "text": [
            "6 0.10467398663361867 9.801612348939365 9.995534960372225\n"
          ]
        },
        {
          "output_type": "stream",
          "name": "stderr",
          "text": [
            "100%|██████████| 6/6 [00:00<00:00,  7.35it/s]\n"
          ]
        },
        {
          "output_type": "stream",
          "name": "stdout",
          "text": [
            "7 0.08665092537800471 10.6222679493027 10.86833016589505\n"
          ]
        },
        {
          "output_type": "stream",
          "name": "stderr",
          "text": [
            "100%|██████████| 6/6 [00:00<00:00,  7.20it/s]\n"
          ]
        },
        {
          "output_type": "stream",
          "name": "stdout",
          "text": [
            "8 0.06321198803683122 11.992005507599057 12.081589259878637\n"
          ]
        },
        {
          "output_type": "stream",
          "name": "stderr",
          "text": [
            "100%|██████████| 6/6 [00:00<00:00,  7.55it/s]\n"
          ]
        },
        {
          "output_type": "stream",
          "name": "stdout",
          "text": [
            "9 0.045207615941762924 13.44788395213821 13.617414101843643\n"
          ]
        }
      ]
    },
    {
      "cell_type": "markdown",
      "metadata": {
        "id": "R8CseDWEOEz7"
      },
      "source": [
        "リスト4.17　画像を拡大してオリジナルと比較する"
      ]
    },
    {
      "cell_type": "code",
      "metadata": {
        "id": "yBFnNnMzG9NY",
        "colab": {
          "base_uri": "https://localhost:8080/"
        },
        "outputId": "f250574f-7be4-40d5-927b-c01c2aa17c54"
      },
      "source": [
        "from torchvision.utils import save_image\n",
        "\n",
        "# テストのデータセットからランダムに4つずつ取り出すDataLoader\n",
        "random_test_loader = DataLoader(test_data, batch_size=4, shuffle=True)\n",
        "\n",
        "# DataLoaderをPythonのイテレータに変換し、4つ例を取り出す\n",
        "it = iter(random_test_loader)\n",
        "x, y = next(it)\n",
        "\n",
        "# Bilinearで拡大\n",
        "bl_recon = torch.nn.functional.upsample(x, 128, mode=\"bilinear\", align_corners=True)\n",
        "\n",
        "# CNNで拡大\n",
        "yp = net(x.to(\"cuda:0\")).to(\"cpu\")\n",
        "\n",
        "# torch.catでオリジナル,Bilinear,CNNの画像を結合し\n",
        "# save_imageで画像ファイルに書き出し\n",
        "save_image(torch.cat([y, bl_recon, yp], 0), \"cnn_upscale.jpg\", nrow=4)"
      ],
      "execution_count": null,
      "outputs": [
        {
          "output_type": "stream",
          "name": "stderr",
          "text": [
            "/usr/local/lib/python3.7/dist-packages/torch/nn/functional.py:3487: UserWarning: nn.functional.upsample is deprecated. Use nn.functional.interpolate instead.\n",
            "  warnings.warn(\"nn.functional.upsample is deprecated. Use nn.functional.interpolate instead.\")\n"
          ]
        }
      ]
    },
    {
      "cell_type": "markdown",
      "metadata": {
        "id": "-FDFB9lVPhVi"
      },
      "source": [
        "生成ファイルの確認"
      ]
    },
    {
      "cell_type": "code",
      "metadata": {
        "id": "7JI_xl3RJ_gW"
      },
      "source": [
        "!ls"
      ],
      "execution_count": null,
      "outputs": []
    },
    {
      "cell_type": "markdown",
      "metadata": {
        "id": "LwIiGuKoPnf7"
      },
      "source": [
        "Colaboratory における画像の表示"
      ]
    },
    {
      "cell_type": "code",
      "metadata": {
        "id": "FgbOhjw5O5pU",
        "colab": {
          "base_uri": "https://localhost:8080/",
          "height": 409
        },
        "outputId": "31ffa37c-6d83-467a-f89c-fd0aae8303d5"
      },
      "source": [
        "from IPython.display import Image,display_jpeg\n",
        "display_jpeg(Image('cnn_upscale.jpg'))"
      ],
      "execution_count": null,
      "outputs": [
        {
          "output_type": "display_data",
          "data": {
            "image/jpeg": "[encoded data removed]"
          },
          "metadata": {}
        }
      ]
    },
    {
      "cell_type": "markdown",
      "metadata": {
        "id": "utuVlzjX9HGZ"
      },
      "source": [
        "Colaboratory における圧縮ファイルの展開、ディレクトリの作成および移動"
      ]
    },
    {
      "cell_type": "code",
      "metadata": {
        "id": "YjmZ65acHyvX"
      },
      "source": [
        "!wget http://www.robots.ox.ac.uk/~vgg/data/flowers/102/102flowers.tgz\n",
        "!tar xf 102flowers.tgz\n",
        "!mkdir oxford-102\n",
        "!mkdir oxford-102/jpg\n",
        "!mv jpg/*.jpg oxford-102/jpg"
      ],
      "execution_count": null,
      "outputs": []
    },
    {
      "cell_type": "markdown",
      "metadata": {
        "id": "gzR0IQWXOh2k"
      },
      "source": [
        "リスト4.18　DataLoaderの準備（<your_path>を変更している）"
      ]
    },
    {
      "cell_type": "code",
      "metadata": {
        "id": "XWYG2ifen1Wr"
      },
      "source": [
        "img_data = ImageFolder(\"oxford-102/\",\n",
        "    transform=transforms.Compose([\n",
        "        transforms.Resize(80),\n",
        "        transforms.CenterCrop(64),\n",
        "        transforms.ToTensor()\n",
        "]))\n",
        "\n",
        "batch_size = 64\n",
        "img_loader = DataLoader(img_data, batch_size=batch_size,\n",
        "                        shuffle=True)"
      ],
      "execution_count": null,
      "outputs": []
    },
    {
      "cell_type": "markdown",
      "metadata": {
        "id": "mgEOSvTKOxdO"
      },
      "source": [
        "リスト4.19　画像の生成モデルを組み立てる"
      ]
    },
    {
      "cell_type": "code",
      "metadata": {
        "id": "_bSgo88zoMSR"
      },
      "source": [
        "nz = 100\n",
        "ngf = 32\n",
        "\n",
        "class GNet(nn.Module):\n",
        "    def __init__(self):\n",
        "        super().__init__()\n",
        "        self.main = nn.Sequential(\n",
        "            nn.ConvTranspose2d(nz, ngf * 8, \n",
        "                               4, 1, 0, bias=False),\n",
        "            nn.BatchNorm2d(ngf * 8),\n",
        "            nn.ReLU(inplace=True),\n",
        "            nn.ConvTranspose2d(ngf * 8, ngf * 4,\n",
        "                               4, 2, 1, bias=False),\n",
        "            nn.BatchNorm2d(ngf * 4),\n",
        "            nn.ReLU(inplace=True),\n",
        "            nn.ConvTranspose2d(ngf * 4, ngf * 2,\n",
        "                               4, 2, 1, bias=False),\n",
        "            nn.BatchNorm2d(ngf * 2),\n",
        "            nn.ReLU(inplace=True),\n",
        "            nn.ConvTranspose2d(ngf * 2, ngf,\n",
        "                               4, 2, 1, bias=False),\n",
        "            nn.BatchNorm2d(ngf),\n",
        "            nn.ReLU(inplace=True),\n",
        "            nn.ConvTranspose2d(ngf, 3,\n",
        "                               4, 2, 1, bias=False),\n",
        "            nn.Tanh()\n",
        "        )\n",
        "\n",
        "    def forward(self, x):\n",
        "        out = self.main(x)\n",
        "        return out"
      ],
      "execution_count": null,
      "outputs": []
    },
    {
      "cell_type": "markdown",
      "metadata": {
        "id": "xrUFAsTGO1JG"
      },
      "source": [
        "リスト4.20　画像の識別モデルを組み立てる"
      ]
    },
    {
      "cell_type": "code",
      "metadata": {
        "id": "3M-lMEbapC3w"
      },
      "source": [
        "ndf = 32\n",
        "\n",
        "class DNet(nn.Module):\n",
        "    def __init__(self):\n",
        "        super().__init__()\n",
        "        self.main = nn.Sequential(\n",
        "            nn.Conv2d(3, ndf, 4, 2, 1, bias=False),\n",
        "            nn.LeakyReLU(0.2, inplace=True),\n",
        "            nn.Conv2d(ndf, ndf * 2, 4, 2, 1, bias=False),\n",
        "            nn.BatchNorm2d(ndf * 2),\n",
        "            nn.LeakyReLU(0.2, inplace=True),\n",
        "            nn.Conv2d(ndf * 2, ndf * 4, 4, 2, 1, bias=False),\n",
        "            nn.BatchNorm2d(ndf * 4),\n",
        "            nn.LeakyReLU(0.2, inplace=True),\n",
        "            nn.Conv2d(ndf * 4, ndf * 8, 4, 2, 1, bias=False),\n",
        "            nn.BatchNorm2d(ndf * 8),\n",
        "            nn.LeakyReLU(0.2, inplace=True),\n",
        "            nn.Conv2d(ndf * 8, 1, 4, 1, 0, bias=False),\n",
        "        )\n",
        "\n",
        "    def forward(self, x):\n",
        "        out = self.main(x)\n",
        "        return out.squeeze()"
      ],
      "execution_count": null,
      "outputs": []
    },
    {
      "cell_type": "markdown",
      "metadata": {
        "id": "UIVqFMkAPCHf"
      },
      "source": [
        "リスト4.21　訓練関数の作成"
      ]
    },
    {
      "cell_type": "code",
      "metadata": {
        "id": "PDinUT68pnWv"
      },
      "source": [
        "d = DNet().to(\"cuda:0\")\n",
        "g = GNet().to(\"cuda:0\")\n",
        "\n",
        "# Adamのパラメータは元論文の提案値\n",
        "opt_d = optim.Adam(d.parameters(),\n",
        "    lr=0.0002, betas=(0.5, 0.999))\n",
        "opt_g = optim.Adam(g.parameters(),\n",
        "    lr=0.0002, betas=(0.5, 0.999))\n",
        "\n",
        "# クロスエントロピーを計算するための補助変数など\n",
        "ones = torch.ones(batch_size).to(\"cuda:0\")\n",
        "zeros = torch.zeros(batch_size).to(\"cuda:0\")\n",
        "loss_f = nn.BCEWithLogitsLoss()\n",
        "\n",
        "# モニタリング用のz\n",
        "fixed_z = torch.randn(batch_size, nz, 1, 1).to(\"cuda:0\")"
      ],
      "execution_count": null,
      "outputs": []
    },
    {
      "cell_type": "markdown",
      "metadata": {
        "id": "p3sW5nczPG8Q"
      },
      "source": [
        "リスト4.22　訓練関数"
      ]
    },
    {
      "cell_type": "code",
      "metadata": {
        "id": "fV6AD1SvqLyg"
      },
      "source": [
        "from statistics import mean\n",
        "\n",
        "def train_dcgan(g, d, opt_g, opt_d, loader):\n",
        "    # 生成モデル、識別モデルの目的関数の追跡用の配列\n",
        "    log_loss_g = []\n",
        "    log_loss_d = []\n",
        "    for real_img, _ in tqdm.tqdm(loader):\n",
        "        batch_len = len(real_img)\n",
        "        \n",
        "         # 実際の画像をGPUにコピー\n",
        "        real_img = real_img.to(\"cuda:0\")\n",
        "        \n",
        "         # 偽画像を乱数と生成モデルから作る\n",
        "        z = torch.randn(batch_len, nz, 1, 1).to(\"cuda:0\")\n",
        "        fake_img = g(z)\n",
        "        \n",
        "        # 後で使用するので偽画像の値のみ取り出しておく\n",
        "        fake_img_tensor = fake_img.detach()\n",
        "        \n",
        "        # 偽画像に対する生成モデルの評価関数を計算する\n",
        "        out = d(fake_img)\n",
        "        loss_g = loss_f(out, ones[: batch_len])\n",
        "        log_loss_g.append(loss_g.item())\n",
        "        \n",
        "        # 計算グラフが生成モデルと識別モデルの両方に\n",
        "        # 依存しているので両者とも勾配をクリアしてから\n",
        "        # 微分の計算とパラメータ更新を行う\n",
        "        d.zero_grad(), g.zero_grad()\n",
        "        loss_g.backward()\n",
        "        opt_g.step()\n",
        "\n",
        "        # 実際の画像に対する識別モデルの評価関数を計算\n",
        "        real_out = d(real_img)\n",
        "        loss_d_real = loss_f(real_out, ones[: batch_len])\n",
        "        \n",
        "        # PyTorchでは同じTensorを含んだ計算グラフに対して\n",
        "        # 2回backwardを行うことができないので保存してあった\n",
        "        # Tensorを使用して無駄な計算を省く\n",
        "        fake_img = fake_img_tensor\n",
        "        \n",
        "        # 偽画像に対する識別モデルの評価関数の計算\n",
        "        fake_out = d(fake_img_tensor)\n",
        "        loss_d_fake = loss_f(fake_out, zeros[: batch_len])\n",
        "        \n",
        "        # 実偽の評価関数の合計値\n",
        "        loss_d = loss_d_real + loss_d_fake\n",
        "        log_loss_d.append(loss_d.item())\n",
        "        \n",
        "        # 識別モデルの微分計算とパラメータ更新\n",
        "        d.zero_grad(), g.zero_grad()\n",
        "        loss_d.backward()\n",
        "        opt_d.step()\n",
        "        \n",
        "    return mean(log_loss_g), mean(log_loss_d)"
      ],
      "execution_count": null,
      "outputs": []
    },
    {
      "cell_type": "markdown",
      "metadata": {
        "id": "kC8Kn21rP_vC"
      },
      "source": [
        "リスト4.23　DCGANの訓練（<your_path>を変更している）"
      ]
    },
    {
      "cell_type": "code",
      "metadata": {
        "id": "i5mxpchxqXFw"
      },
      "source": [
        "for epoch in range(300):\n",
        "    train_dcgan(g, d, opt_g, opt_d, img_loader)\n",
        "    # 10回の繰り返しごとに学習結果を保存する\n",
        "    if epoch % 10 == 0:\n",
        "        # パラメータの保存\n",
        "        torch.save(\n",
        "            g.state_dict(),\n",
        "            \"oxford-102/g_{:03d}.prm\".format(epoch),\n",
        "            pickle_protocol=4)\n",
        "        torch.save(\n",
        "            d.state_dict(),\n",
        "            \"oxford-102/d_{:03d}.prm\".format(epoch),\n",
        "            pickle_protocol=4)\n",
        "        # モニタリング用のzから生成した画像を保存\n",
        "        generated_img = g(fixed_z)\n",
        "        save_image(generated_img,\n",
        "                   \"oxford-102/{:03d}.jpg\".format(epoch))"
      ],
      "execution_count": null,
      "outputs": []
    },
    {
      "cell_type": "markdown",
      "metadata": {
        "id": "hmLMvL--QY_i"
      },
      "source": [
        "生成ファイルの確認"
      ]
    },
    {
      "cell_type": "code",
      "metadata": {
        "id": "aLGLd_hTWyBJ"
      },
      "source": [
        "!ls oxford-102/"
      ],
      "execution_count": null,
      "outputs": []
    },
    {
      "cell_type": "markdown",
      "metadata": {
        "id": "qrB0-bb1RKe2"
      },
      "source": [
        "Colaboratory における画像の表示"
      ]
    },
    {
      "cell_type": "code",
      "metadata": {
        "id": "gEtTL8t-XAwj"
      },
      "source": [
        "from IPython.display import Image,display_jpeg\n",
        "display_jpeg(Image('oxford-102/000.jpg'))"
      ],
      "execution_count": null,
      "outputs": []
    }
  ]
}