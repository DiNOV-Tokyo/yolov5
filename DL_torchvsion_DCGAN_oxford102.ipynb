{
  "nbformat": 4,
  "nbformat_minor": 0,
  "metadata": {
    "colab": {
      "name": "DL_torchvsion_DCGAN-oxford102.ipynb",
      "provenance": [],
      "collapsed_sections": [],
      "authorship_tag": "ABX9TyN47rOAzYM+R0lfwRTUwQD0",
      "include_colab_link": true
    },
    "kernelspec": {
      "name": "python3",
      "display_name": "Python 3"
    },
    "language_info": {
      "name": "python"
    },
    "accelerator": "GPU"
  },
  "cells": [
    {
      "cell_type": "markdown",
      "metadata": {
        "id": "view-in-github",
        "colab_type": "text"
      },
      "source": [
        "<a href=\"https://colab.research.google.com/github/DiNOV-Tokyo/yolov5/blob/main/DL_torchvsion_DCGAN_oxford102.ipynb\" target=\"_parent\"><img src=\"https://colab.research.google.com/assets/colab-badge.svg\" alt=\"Open In Colab\"/></a>"
      ]
    },
    {
      "cell_type": "markdown",
      "metadata": {
        "id": "wKZWAeRLlM5b"
      },
      "source": [
        "# 現場で使える！　PyTorchPyTorch開発入門\n"
      ]
    },
    {
      "cell_type": "markdown",
      "metadata": {
        "id": "S2B6jhvTt-9I"
      },
      "source": [
        "##翔泳社"
      ]
    },
    {
      "cell_type": "markdown",
      "metadata": {
        "id": "N9zG3qfX5prR"
      },
      "source": [
        "## 1.1 Google Drive をマウント"
      ]
    },
    {
      "cell_type": "code",
      "metadata": {
        "colab": {
          "base_uri": "https://localhost:8080/"
        },
        "id": "y7Y7OSEWgYze",
        "outputId": "f4b50c90-4b60-4eb8-8eeb-e0c3d3b5c72d"
      },
      "source": [
        "from google.colab import drive\n",
        "drive.mount('/content/drive')"
      ],
      "execution_count": 1,
      "outputs": [
        {
          "output_type": "stream",
          "name": "stdout",
          "text": [
            "Mounted at /content/drive\n"
          ]
        }
      ]
    },
    {
      "cell_type": "code",
      "metadata": {
        "colab": {
          "base_uri": "https://localhost:8080/"
        },
        "id": "57-xQXjlghOq",
        "outputId": "d283181d-8335-4296-a4db-3635d325ded3"
      },
      "source": [
        "%cd /content/drive/My\\ Drive/Colab\\ Notebooks\n",
        "#%mkdir yolo_train\n",
        "%cd yolo_train"
      ],
      "execution_count": 2,
      "outputs": [
        {
          "output_type": "stream",
          "name": "stdout",
          "text": [
            "/content/drive/My Drive/Colab Notebooks\n",
            "/content/drive/My Drive/Colab Notebooks/yolo_train\n"
          ]
        }
      ]
    },
    {
      "cell_type": "markdown",
      "metadata": {
        "id": "ORQPyRiV5xCd"
      },
      "source": [
        "## 1.2 モジュール読み込み"
      ]
    },
    {
      "cell_type": "code",
      "metadata": {
        "colab": {
          "base_uri": "https://localhost:8080/"
        },
        "id": "TvNlFt_fdBje",
        "outputId": "b3663abe-fb23-4adb-c7ec-1294ac48e89d"
      },
      "source": [
        "!pip install pytorch"
      ],
      "execution_count": null,
      "outputs": [
        {
          "output_type": "stream",
          "text": [
            "Collecting pytorch\n",
            "  Using cached pytorch-1.0.2.tar.gz (689 bytes)\n",
            "Building wheels for collected packages: pytorch\n",
            "  Building wheel for pytorch (setup.py) ... \u001b[?25lerror\n",
            "\u001b[31m  ERROR: Failed building wheel for pytorch\u001b[0m\n",
            "\u001b[?25h  Running setup.py clean for pytorch\n",
            "Failed to build pytorch\n",
            "Installing collected packages: pytorch\n",
            "    Running setup.py install for pytorch ... \u001b[?25l\u001b[?25herror\n",
            "\u001b[31mERROR: Command errored out with exit status 1: /usr/bin/python3 -u -c 'import io, os, sys, setuptools, tokenize; sys.argv[0] = '\"'\"'/tmp/pip-install-_ll0socw/pytorch_1d6f13c2ca1f4e309c9aa291eefb437e/setup.py'\"'\"'; __file__='\"'\"'/tmp/pip-install-_ll0socw/pytorch_1d6f13c2ca1f4e309c9aa291eefb437e/setup.py'\"'\"';f = getattr(tokenize, '\"'\"'open'\"'\"', open)(__file__) if os.path.exists(__file__) else io.StringIO('\"'\"'from setuptools import setup; setup()'\"'\"');code = f.read().replace('\"'\"'\\r\\n'\"'\"', '\"'\"'\\n'\"'\"');f.close();exec(compile(code, __file__, '\"'\"'exec'\"'\"'))' install --record /tmp/pip-record-16i90gxh/install-record.txt --single-version-externally-managed --compile --install-headers /usr/local/include/python3.7/pytorch Check the logs for full command output.\u001b[0m\n"
          ],
          "name": "stdout"
        }
      ]
    },
    {
      "cell_type": "code",
      "metadata": {
        "colab": {
          "base_uri": "https://localhost:8080/"
        },
        "id": "r9DpFd38ZRk4",
        "outputId": "2f7c7dbd-35e7-42ca-ef94-26dca241c235"
      },
      "source": [
        "!pwd"
      ],
      "execution_count": null,
      "outputs": [
        {
          "output_type": "stream",
          "text": [
            "/content\n"
          ],
          "name": "stdout"
        }
      ]
    },
    {
      "cell_type": "code",
      "metadata": {
        "id": "59KLpqqeXs9S",
        "colab": {
          "base_uri": "https://localhost:8080/"
        },
        "outputId": "aa29b4f3-6066-4ef4-d6e1-faac759244d6"
      },
      "source": [
        "import torch\n",
        "import torch.nn as nn\n",
        "import torch.optim as optim\n",
        "import torchvision\n",
        "from torchvision import datasets, models, transforms\n",
        "from torchvision.datasets import ImageFolder\n",
        "import time\n",
        "\n",
        "import numpy as np\n",
        "from tqdm import tqdm\n",
        "from PIL import Image\n",
        "import os\n",
        "import copy\n",
        "\n",
        "#from torch.utils.tensorboard import SummaryWriter\n",
        "from torch.utils.data import TensorDataset, DataLoader\n",
        "from torchvision.utils import save_image\n",
        "\n",
        "print(\"PyTorch Version: \",torch.__version__)\n",
        "print(\"Torchvision Version: \",torchvision.__version__)\n",
        "print('Setup complete. Using torch %s %s' % (torch.__version__, torch.cuda.get_device_properties(0) if torch.cuda.is_available() else 'CPU'))\n",
        "\n",
        "# GPU/CPUが使えるかどうか確認\n",
        "device = torch.device(\"cuda:0\" if torch.cuda.is_available() else \"cpu\")\n",
        "device"
      ],
      "execution_count": 3,
      "outputs": [
        {
          "output_type": "stream",
          "name": "stdout",
          "text": [
            "PyTorch Version:  1.9.0+cu102\n",
            "Torchvision Version:  0.10.0+cu102\n",
            "Setup complete. Using torch 1.9.0+cu102 _CudaDeviceProperties(name='Tesla K80', major=3, minor=7, total_memory=11441MB, multi_processor_count=13)\n"
          ]
        },
        {
          "output_type": "execute_result",
          "data": {
            "text/plain": [
              "device(type='cuda', index=0)"
            ]
          },
          "metadata": {},
          "execution_count": 3
        }
      ]
    },
    {
      "cell_type": "markdown",
      "metadata": {
        "id": "NJn3EnwA009g"
      },
      "source": [
        "##DCGANによる画像生成"
      ]
    },
    {
      "cell_type": "markdown",
      "metadata": {
        "id": "5uU-TTYRsVQf"
      },
      "source": [
        "Oxford 12 Flower Dataset"
      ]
    },
    {
      "cell_type": "code",
      "metadata": {
        "id": "wokqhqVF9OMA",
        "colab": {
          "base_uri": "https://localhost:8080/"
        },
        "outputId": "c7ea50a6-1af0-46a4-e216-8d83e9cdbca5"
      },
      "source": [
        "!wget http://www.robots.ox.ac.uk/~vgg/data/flowers/102/102flowers.tgz\n",
        "!tar xf 102flowers.tgz\n",
        "!mkdir oxford-102\n",
        "!mkdir oxford-102/jpg\n",
        "!mv jpg/*.jpg oxford-102/jpg"
      ],
      "execution_count": 4,
      "outputs": [
        {
          "output_type": "stream",
          "name": "stdout",
          "text": [
            "--2021-09-19 10:43:13--  http://www.robots.ox.ac.uk/~vgg/data/flowers/102/102flowers.tgz\n",
            "Resolving www.robots.ox.ac.uk (www.robots.ox.ac.uk)... 129.67.94.2\n",
            "Connecting to www.robots.ox.ac.uk (www.robots.ox.ac.uk)|129.67.94.2|:80... connected.\n",
            "HTTP request sent, awaiting response... 301 Moved Permanently\n",
            "Location: https://www.robots.ox.ac.uk/~vgg/data/flowers/102/102flowers.tgz [following]\n",
            "--2021-09-19 10:43:13--  https://www.robots.ox.ac.uk/~vgg/data/flowers/102/102flowers.tgz\n",
            "Connecting to www.robots.ox.ac.uk (www.robots.ox.ac.uk)|129.67.94.2|:443... connected.\n",
            "HTTP request sent, awaiting response... 200 OK\n",
            "Length: 344862509 (329M) [application/x-gzip]\n",
            "Saving to: ‘102flowers.tgz’\n",
            "\n",
            "102flowers.tgz      100%[===================>] 328.89M  23.2MB/s    in 16s     \n",
            "\n",
            "2021-09-19 10:43:29 (20.9 MB/s) - ‘102flowers.tgz’ saved [344862509/344862509]\n",
            "\n"
          ]
        }
      ]
    },
    {
      "cell_type": "code",
      "metadata": {
        "id": "bdKrcsyoMZdh"
      },
      "source": [
        "img_data = ImageFolder(\"oxford-102/\",\n",
        "    transform=transforms.Compose([\n",
        "        transforms.Resize(80),\n",
        "        transforms.CenterCrop(64),\n",
        "        transforms.ToTensor()\n",
        "]))\n",
        "\n",
        "batch_size = 64\n",
        "img_loader = DataLoader(img_data, batch_size=batch_size,\n",
        "                        shuffle=True)"
      ],
      "execution_count": 5,
      "outputs": []
    },
    {
      "cell_type": "markdown",
      "metadata": {
        "id": "mLoxW_v41BTo"
      },
      "source": [
        "画像生成モデル"
      ]
    },
    {
      "cell_type": "code",
      "metadata": {
        "id": "CKmGpCSbN2XY"
      },
      "source": [
        "nz = 100\n",
        "ngf = 32\n",
        "\n",
        "class GNet(nn.Module):\n",
        "    def __init__(self):\n",
        "        super().__init__()\n",
        "        self.main = nn.Sequential(\n",
        "            nn.ConvTranspose2d(nz, ngf * 8, \n",
        "                               4, 1, 0, bias=False),\n",
        "            nn.BatchNorm2d(ngf * 8),\n",
        "            nn.ReLU(inplace=True),\n",
        "            nn.ConvTranspose2d(ngf * 8, ngf * 4,\n",
        "                               4, 2, 1, bias=False),\n",
        "            nn.BatchNorm2d(ngf * 4),\n",
        "            nn.ReLU(inplace=True),\n",
        "            nn.ConvTranspose2d(ngf * 4, ngf * 2,\n",
        "                               4, 2, 1, bias=False),\n",
        "            nn.BatchNorm2d(ngf * 2),\n",
        "            nn.ReLU(inplace=True),\n",
        "            nn.ConvTranspose2d(ngf * 2, ngf,\n",
        "                               4, 2, 1, bias=False),\n",
        "            nn.BatchNorm2d(ngf),\n",
        "            nn.ReLU(inplace=True),\n",
        "            nn.ConvTranspose2d(ngf, 3,\n",
        "                               4, 2, 1, bias=False),\n",
        "            nn.Tanh()\n",
        "        )\n",
        "\n",
        "    def forward(self, x):\n",
        "        out = self.main(x)\n",
        "        return out"
      ],
      "execution_count": 6,
      "outputs": []
    },
    {
      "cell_type": "markdown",
      "metadata": {
        "id": "g-kcq8ep1P1S"
      },
      "source": [
        "識別モデル"
      ]
    },
    {
      "cell_type": "code",
      "metadata": {
        "id": "NA0fWeFDOuDn"
      },
      "source": [
        "ndf = 32\n",
        "\n",
        "class DNet(nn.Module):\n",
        "    def __init__(self):\n",
        "        super().__init__()\n",
        "        self.main = nn.Sequential(\n",
        "            nn.Conv2d(3, ndf, 4, 2, 1, bias=False),\n",
        "            nn.LeakyReLU(0.2, inplace=True),\n",
        "            nn.Conv2d(ndf, ndf * 2, 4, 2, 1, bias=False),\n",
        "            nn.BatchNorm2d(ndf * 2),\n",
        "            nn.LeakyReLU(0.2, inplace=True),\n",
        "            nn.Conv2d(ndf * 2, ndf * 4, 4, 2, 1, bias=False),\n",
        "            nn.BatchNorm2d(ndf * 4),\n",
        "            nn.LeakyReLU(0.2, inplace=True),\n",
        "            nn.Conv2d(ndf * 4, ndf * 8, 4, 2, 1, bias=False),\n",
        "            nn.BatchNorm2d(ndf * 8),\n",
        "            nn.LeakyReLU(0.2, inplace=True),\n",
        "            nn.Conv2d(ndf * 8, 1, 4, 1, 0, bias=False),\n",
        "        )\n",
        "\n",
        "    def forward(self, x):\n",
        "        out = self.main(x)\n",
        "        return out.squeeze()"
      ],
      "execution_count": 7,
      "outputs": []
    },
    {
      "cell_type": "markdown",
      "metadata": {
        "id": "pZgwEfy-56mW"
      },
      "source": [
        "訓練関数の作成"
      ]
    },
    {
      "cell_type": "code",
      "metadata": {
        "id": "JSRwX-mNBq52"
      },
      "source": [
        "d = DNet().to(\"cuda:0\")\n",
        "g = GNet().to(\"cuda:0\")\n",
        "\n",
        "# Adamのパラメータは元論文の提案値\n",
        "opt_d = optim.Adam(d.parameters(),\n",
        "    lr=0.0002, betas=(0.5, 0.999))\n",
        "opt_g = optim.Adam(g.parameters(),\n",
        "    lr=0.0002, betas=(0.5, 0.999))\n",
        "\n",
        "# クロスエントロピーを計算するための補助変数など\n",
        "ones = torch.ones(batch_size).to(\"cuda:0\")\n",
        "zeros = torch.zeros(batch_size).to(\"cuda:0\")\n",
        "loss_f = nn.BCEWithLogitsLoss()\n",
        "\n",
        "# モニタリング用のz\n",
        "fixed_z = torch.randn(batch_size, nz, 1, 1).to(\"cuda:0\")"
      ],
      "execution_count": 8,
      "outputs": []
    },
    {
      "cell_type": "code",
      "metadata": {
        "id": "Y863SNPPSQyd"
      },
      "source": [
        "from statistics import mean\n",
        "\n",
        "def train_dcgan(g, d, opt_g, opt_d, loader):\n",
        "    # 生成モデル、識別モデルの目的関数の追跡用の配列\n",
        "    log_loss_g = []\n",
        "    log_loss_d = []\n",
        "    for real_img, _ in tqdm(loader):\n",
        "        batch_len = len(real_img)\n",
        "        \n",
        "         # 実際の画像をGPUにコピー\n",
        "        real_img = real_img.to(\"cuda:0\")\n",
        "        \n",
        "         # 偽画像を乱数と生成モデルから作る\n",
        "        z = torch.randn(batch_len, nz, 1, 1).to(\"cuda:0\")\n",
        "        fake_img = g(z)\n",
        "        \n",
        "        # 後で使用するので偽画像の値のみ取り出しておく\n",
        "        fake_img_tensor = fake_img.detach()\n",
        "        \n",
        "        # 偽画像に対する生成モデルの評価関数を計算する\n",
        "        out = d(fake_img)\n",
        "        loss_g = loss_f(out, ones[: batch_len])\n",
        "        log_loss_g.append(loss_g.item())\n",
        "        \n",
        "        # 計算グラフが生成モデルと識別モデルの両方に\n",
        "        # 依存しているので両者とも勾配をクリアしてから\n",
        "        # 微分の計算とパラメータ更新を行う\n",
        "        d.zero_grad(), g.zero_grad()\n",
        "        loss_g.backward()\n",
        "        opt_g.step()\n",
        "\n",
        "        # 実際の画像に対する識別モデルの評価関数を計算\n",
        "        real_out = d(real_img)\n",
        "        loss_d_real = loss_f(real_out, ones[: batch_len])\n",
        "        \n",
        "        # PyTorchでは同じTensorを含んだ計算グラフに対して\n",
        "        # 2回backwardを行うことができないので保存してあった\n",
        "        # Tensorを使用して無駄な計算を省く\n",
        "        fake_img = fake_img_tensor\n",
        "        \n",
        "        # 偽画像に対する識別モデルの評価関数の計算\n",
        "        fake_out = d(fake_img_tensor)\n",
        "        loss_d_fake = loss_f(fake_out, zeros[: batch_len])\n",
        "        \n",
        "        # 実偽の評価関数の合計値\n",
        "        loss_d = loss_d_real + loss_d_fake\n",
        "        log_loss_d.append(loss_d.item())\n",
        "        \n",
        "        # 識別モデルの微分計算とパラメータ更新\n",
        "        d.zero_grad(), g.zero_grad()\n",
        "        loss_d.backward()\n",
        "        opt_d.step()\n",
        "        \n",
        "    return mean(log_loss_g), mean(log_loss_d)"
      ],
      "execution_count": 9,
      "outputs": []
    },
    {
      "cell_type": "markdown",
      "metadata": {
        "id": "vJblCcOpT1i2"
      },
      "source": [
        "訓練開始"
      ]
    },
    {
      "cell_type": "code",
      "metadata": {
        "id": "duqhLTNhg71w",
        "colab": {
          "base_uri": "https://localhost:8080/",
          "height": 421
        },
        "outputId": "5066d3f1-6776-41eb-c7d1-e431a1a4dc1d"
      },
      "source": [
        "import datetime\n",
        "\n",
        "for epoch in range(150):\n",
        "    train_dcgan(g, d, opt_g, opt_d, img_loader)\n",
        "    # 10回の繰り返しごとに学習結果を保存する\n",
        "    print(\"{} Epoch {}: \".format(datetime.datetime.now(), epoch))\n",
        "    if epoch % 10 == 0:\n",
        "        # パラメータの保存\n",
        "        torch.save(\n",
        "            g.state_dict(),\n",
        "            \"oxford-102/g_{:03d}.prm\".format(epoch),\n",
        "            pickle_protocol=4)\n",
        "        torch.save(\n",
        "            d.state_dict(),\n",
        "            \"oxford-102/d_{:03d}.prm\".format(epoch),\n",
        "            pickle_protocol=4)\n",
        "        # モニタリング用のzから生成した画像を保存\n",
        "        generated_img = g(fixed_z)\n",
        "        save_image(generated_img,\n",
        "                   \"oxford-102/{:03d}.jpg\".format(epoch))"
      ],
      "execution_count": 13,
      "outputs": [
        {
          "output_type": "stream",
          "name": "stderr",
          "text": [
            "100%|██████████| 128/128 [01:35<00:00,  1.33it/s]\n"
          ]
        },
        {
          "output_type": "stream",
          "name": "stdout",
          "text": [
            "2021-09-19 10:55:14.193407 Epoch 0: \n"
          ]
        },
        {
          "output_type": "stream",
          "name": "stderr",
          "text": [
            " 30%|██▉       | 38/128 [00:27<01:05,  1.38it/s]\n"
          ]
        },
        {
          "output_type": "error",
          "ename": "KeyboardInterrupt",
          "evalue": "ignored",
          "traceback": [
            "\u001b[0;31m---------------------------------------------------------------------------\u001b[0m",
            "\u001b[0;31mKeyboardInterrupt\u001b[0m                         Traceback (most recent call last)",
            "\u001b[0;32m<ipython-input-13-d4d9fee9d02f>\u001b[0m in \u001b[0;36m<module>\u001b[0;34m()\u001b[0m\n\u001b[1;32m      2\u001b[0m \u001b[0;34m\u001b[0m\u001b[0m\n\u001b[1;32m      3\u001b[0m \u001b[0;32mfor\u001b[0m \u001b[0mepoch\u001b[0m \u001b[0;32min\u001b[0m \u001b[0mrange\u001b[0m\u001b[0;34m(\u001b[0m\u001b[0;36m150\u001b[0m\u001b[0;34m)\u001b[0m\u001b[0;34m:\u001b[0m\u001b[0;34m\u001b[0m\u001b[0;34m\u001b[0m\u001b[0m\n\u001b[0;32m----> 4\u001b[0;31m     \u001b[0mtrain_dcgan\u001b[0m\u001b[0;34m(\u001b[0m\u001b[0mg\u001b[0m\u001b[0;34m,\u001b[0m \u001b[0md\u001b[0m\u001b[0;34m,\u001b[0m \u001b[0mopt_g\u001b[0m\u001b[0;34m,\u001b[0m \u001b[0mopt_d\u001b[0m\u001b[0;34m,\u001b[0m \u001b[0mimg_loader\u001b[0m\u001b[0;34m)\u001b[0m\u001b[0;34m\u001b[0m\u001b[0;34m\u001b[0m\u001b[0m\n\u001b[0m\u001b[1;32m      5\u001b[0m     \u001b[0;31m# 10回の繰り返しごとに学習結果を保存する\u001b[0m\u001b[0;34m\u001b[0m\u001b[0;34m\u001b[0m\u001b[0;34m\u001b[0m\u001b[0m\n\u001b[1;32m      6\u001b[0m     \u001b[0mprint\u001b[0m\u001b[0;34m(\u001b[0m\u001b[0;34m\"{} Epoch {}: \"\u001b[0m\u001b[0;34m.\u001b[0m\u001b[0mformat\u001b[0m\u001b[0;34m(\u001b[0m\u001b[0mdatetime\u001b[0m\u001b[0;34m.\u001b[0m\u001b[0mdatetime\u001b[0m\u001b[0;34m.\u001b[0m\u001b[0mnow\u001b[0m\u001b[0;34m(\u001b[0m\u001b[0;34m)\u001b[0m\u001b[0;34m,\u001b[0m \u001b[0mepoch\u001b[0m\u001b[0;34m)\u001b[0m\u001b[0;34m)\u001b[0m\u001b[0;34m\u001b[0m\u001b[0;34m\u001b[0m\u001b[0m\n",
            "\u001b[0;32m<ipython-input-9-a78df5e8c230>\u001b[0m in \u001b[0;36mtrain_dcgan\u001b[0;34m(g, d, opt_g, opt_d, loader)\u001b[0m\n\u001b[1;32m     45\u001b[0m         \u001b[0;31m# 実偽の評価関数の合計値\u001b[0m\u001b[0;34m\u001b[0m\u001b[0;34m\u001b[0m\u001b[0;34m\u001b[0m\u001b[0m\n\u001b[1;32m     46\u001b[0m         \u001b[0mloss_d\u001b[0m \u001b[0;34m=\u001b[0m \u001b[0mloss_d_real\u001b[0m \u001b[0;34m+\u001b[0m \u001b[0mloss_d_fake\u001b[0m\u001b[0;34m\u001b[0m\u001b[0;34m\u001b[0m\u001b[0m\n\u001b[0;32m---> 47\u001b[0;31m         \u001b[0mlog_loss_d\u001b[0m\u001b[0;34m.\u001b[0m\u001b[0mappend\u001b[0m\u001b[0;34m(\u001b[0m\u001b[0mloss_d\u001b[0m\u001b[0;34m.\u001b[0m\u001b[0mitem\u001b[0m\u001b[0;34m(\u001b[0m\u001b[0;34m)\u001b[0m\u001b[0;34m)\u001b[0m\u001b[0;34m\u001b[0m\u001b[0;34m\u001b[0m\u001b[0m\n\u001b[0m\u001b[1;32m     48\u001b[0m \u001b[0;34m\u001b[0m\u001b[0m\n\u001b[1;32m     49\u001b[0m         \u001b[0;31m# 識別モデルの微分計算とパラメータ更新\u001b[0m\u001b[0;34m\u001b[0m\u001b[0;34m\u001b[0m\u001b[0;34m\u001b[0m\u001b[0m\n",
            "\u001b[0;31mKeyboardInterrupt\u001b[0m: "
          ]
        }
      ]
    },
    {
      "cell_type": "markdown",
      "metadata": {
        "id": "oa1VV_4s1TvP"
      },
      "source": [
        "結果の表示"
      ]
    },
    {
      "cell_type": "code",
      "metadata": {
        "colab": {
          "base_uri": "https://localhost:8080/",
          "height": 547
        },
        "id": "ZZabf9c7K-lt",
        "outputId": "3b5f1fc6-fd33-412f-f0d1-57650d6241d6"
      },
      "source": [
        "from IPython.display import Image,display_jpeg\n",
        "display_jpeg(Image('oxford-102/150.jpg'))"
      ],
      "execution_count": null,
      "outputs": [
        {
          "output_type": "display_data",
          "data": {
            "image/jpeg": "[encoded data removed]"
          },
          "metadata": {}
        }
      ]
    },
    {
      "cell_type": "code",
      "metadata": {
        "colab": {
          "base_uri": "https://localhost:8080/"
        },
        "id": "9V3TBoqeQugS",
        "outputId": "128d7fbe-7f82-4390-97df-c9a1ad0d31ff"
      },
      "source": [
        "!ls -all"
      ],
      "execution_count": null,
      "outputs": [
        {
          "output_type": "stream",
          "name": "stdout",
          "text": [
            "total 337172\r\n",
            "drwsrwsr-x 1 jovyan users      4096 Sep  4 21:50 .\r\n",
            "drwxr-xr-x 1 root   root       4096 Sep  3 12:01 ..\r\n",
            "-rw-r--r-- 1 jovyan users 344862509 Feb 20  2009 102flowers.tgz\r\n",
            "-rw-rw-r-- 1 jovyan users       220 Feb 25  2020 .bash_logout\r\n",
            "-rw-rw-r-- 1 jovyan users      3823 Sep  3 12:01 .bashrc\r\n",
            "drwsrwsr-x 1 jovyan users      4096 Sep  5 00:01 .cache\r\n",
            "drwsrwsr-x 1 jovyan users      4096 Sep  3 12:02 .conda\r\n",
            "drwxr-sr-x 1 jovyan users      4096 Sep  4 01:04 FashionMNIST\r\n",
            "drwxr-sr-x 1 jovyan users      4096 Sep  4 00:53 .ipynb_checkpoints\r\n",
            "drwxr-sr-x 1 jovyan users      4096 Sep  4 00:53 .ipython\r\n",
            "drwxr-sr-x 2 jovyan users    274432 Sep  4 21:50 jpg\r\n",
            "drwsrws--- 1 jovyan users      4096 Sep  4 01:38 .jupyter\r\n",
            "drwxr-sr-x 1 jovyan users      4096 Sep  4 00:53 .local\r\n",
            "drwsrwsr-x 2 jovyan users      4096 Sep  3 12:02 .npm\r\n",
            "drwx--S--- 3 jovyan users      4096 Sep  4 01:11 .nv\r\n",
            "drwxr-sr-x 3 jovyan users      4096 Sep  4 23:47 oxford-102\r\n",
            "-rw-rw-r-- 1 jovyan users       807 Feb 25  2020 .profile\r\n",
            "-rw-r--r-- 1 jovyan users     33696 Sep  4 01:30 Untitled.ipynb\r\n",
            "-rw-rw-r-- 1 jovyan users       227 Sep  3 12:01 .wget-hsts\r\n",
            "drwsrwsr-x 2 jovyan users      4096 Sep  3 12:01 work\r\n"
          ]
        }
      ]
    }
  ]
}